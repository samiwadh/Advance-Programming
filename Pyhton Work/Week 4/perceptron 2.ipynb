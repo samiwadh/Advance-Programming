{
 "cells": [
  {
   "cell_type": "code",
   "execution_count": 26,
   "id": "22bee3a1",
   "metadata": {},
   "outputs": [
    {
     "data": {
      "text/plain": [
       "array([[-1.5486638 ,  1.54564042],\n",
       "       [ 1.91027938,  0.88540366],\n",
       "       [-0.69263669,  0.29104799],\n",
       "       [-0.75739222, -0.29570658],\n",
       "       [ 0.34205026, -1.40952828],\n",
       "       [-2.16900751,  1.89481518],\n",
       "       [ 1.09779077, -0.71423545],\n",
       "       [ 1.05130276, -0.43080299],\n",
       "       [ 0.86604592,  0.53792481],\n",
       "       [-0.81609863,  1.46668333],\n",
       "       [-0.85147535,  1.48477047],\n",
       "       [ 0.79161861, -0.92320087],\n",
       "       [-1.08510064, -0.37976442],\n",
       "       [-0.41774572, -0.47134906],\n",
       "       [-1.33569788,  0.86999599],\n",
       "       [ 1.27654615,  2.006175  ],\n",
       "       [-1.01069744, -1.37503737],\n",
       "       [ 0.14727389, -1.88827513],\n",
       "       [ 1.59820404,  3.20233237],\n",
       "       [ 0.94663309,  0.79680758],\n",
       "       [ 1.0946054 ,  1.35481859],\n",
       "       [-0.0282882 , -0.18530549],\n",
       "       [ 1.68655609,  0.35313276],\n",
       "       [ 2.47612628,  0.0909869 ],\n",
       "       [-1.49745836, -0.1524612 ],\n",
       "       [-0.57974819,  1.08953175],\n",
       "       [-1.79965692, -0.32668486],\n",
       "       [-1.48039138, -0.47982194],\n",
       "       [ 0.81896136,  0.32419687],\n",
       "       [ 0.56502921, -0.6088543 ],\n",
       "       [ 0.58392178,  1.15967258],\n",
       "       [-0.97677476, -1.73086565],\n",
       "       [-2.00261236,  1.16662968],\n",
       "       [-0.84208174, -2.09172799],\n",
       "       [ 0.98792799,  0.95537596],\n",
       "       [-2.39401424,  3.52786431],\n",
       "       [ 0.60168794, -0.47668892],\n",
       "       [ 1.14891126,  1.52331249],\n",
       "       [-1.69116774,  1.95601185],\n",
       "       [-2.13684048,  1.16064986],\n",
       "       [-2.03019469, -0.26562076],\n",
       "       [-0.05499795,  0.23646844],\n",
       "       [ 1.30586988,  2.11719587],\n",
       "       [ 0.87816131,  0.52781792],\n",
       "       [ 0.89066595,  0.60079996],\n",
       "       [ 0.63385123, -0.67393949],\n",
       "       [-0.48284924, -0.98815383],\n",
       "       [-1.12508723,  1.09356742],\n",
       "       [-1.97670639, -0.86914026],\n",
       "       [ 1.27949966,  2.02768709],\n",
       "       [ 0.08416893,  0.37666628],\n",
       "       [ 0.81888774, -1.69515989],\n",
       "       [ 1.51474094, -0.93216151],\n",
       "       [-0.25503643, -2.64500247],\n",
       "       [ 0.62630635, -1.65271292],\n",
       "       [-1.37824058, -1.00829703],\n",
       "       [ 1.39269243,  2.43865124],\n",
       "       [ 1.42985199, -2.38018455],\n",
       "       [ 0.10124819, -0.22845746],\n",
       "       [-0.45740462, -2.37807983],\n",
       "       [-0.77364079,  0.71459476],\n",
       "       [ 0.74421902, -0.51366939],\n",
       "       [ 0.74070862,  0.04724792],\n",
       "       [ 1.23156566,  1.84926297],\n",
       "       [ 0.69690873, -1.55309099],\n",
       "       [-0.64104106,  0.75075686],\n",
       "       [-0.08255804, -2.12204922],\n",
       "       [ 1.87153553, -2.28274763],\n",
       "       [ 0.84613655,  0.45471861],\n",
       "       [ 2.5475483 , -1.1124391 ],\n",
       "       [-1.53027664,  1.39536157],\n",
       "       [ 1.37242743,  2.34957664],\n",
       "       [-0.34236885, -1.94583075],\n",
       "       [ 0.95880756,  0.85806884],\n",
       "       [ 0.24904799,  0.59944155],\n",
       "       [ 1.61359925,  0.15350749],\n",
       "       [ 3.02936054, -0.16080191],\n",
       "       [ 1.1012827 ,  1.3745568 ],\n",
       "       [ 1.03994026,  1.14977978],\n",
       "       [-0.77761702,  1.51174537],\n",
       "       [ 0.96599049,  0.88717126],\n",
       "       [-0.96129803,  1.57062219],\n",
       "       [ 1.14456348, -0.78648681],\n",
       "       [ 0.76507956,  0.14660085],\n",
       "       [ 1.67893112, -2.02537201],\n",
       "       [-0.39323364, -1.38631243],\n",
       "       [ 1.20037773, -1.19779329],\n",
       "       [ 1.37536678, -0.51897359],\n",
       "       [ 0.35401531, -0.10253604],\n",
       "       [ 0.85669031,  0.47161255],\n",
       "       [-1.02818519, -2.31069511],\n",
       "       [-1.56310021,  1.6216785 ],\n",
       "       [ 0.16627724, -0.77194804],\n",
       "       [-1.90895795,  1.46709968],\n",
       "       [ 2.13519825, -0.26967892],\n",
       "       [ 0.85366879,  0.47362702],\n",
       "       [-1.0895213 ,  1.06740242],\n",
       "       [ 0.50142154, -0.82805375],\n",
       "       [ 1.54490485, -0.30139738],\n",
       "       [-0.31265672,  0.68352801],\n",
       "       [ 0.86081429,  0.48834618],\n",
       "       [ 2.28070114,  0.65528701],\n",
       "       [ 1.5713359 , -0.69486335],\n",
       "       [ 1.10145732,  1.33329573],\n",
       "       [ 0.617699  , -0.20018049],\n",
       "       [-1.05231392, -2.45596001],\n",
       "       [-1.0450657 , -0.36953042],\n",
       "       [ 1.28780768, -1.01945659],\n",
       "       [ 0.96444337,  0.86354771],\n",
       "       [-1.64143381,  0.58527477],\n",
       "       [ 1.26766281,  1.95887084],\n",
       "       [ 1.20182763,  1.74764645],\n",
       "       [-0.95494167,  0.71272891],\n",
       "       [-0.68853484, -0.90385718],\n",
       "       [-0.18736628,  0.77295824],\n",
       "       [-0.6086999 , -0.6705813 ],\n",
       "       [ 1.12690552,  1.46835648],\n",
       "       [-0.26030435, -0.09616937],\n",
       "       [ 1.63866078, -0.61885069],\n",
       "       [-0.27680447, -1.36588527],\n",
       "       [-2.22824732, -2.34545049],\n",
       "       [-0.40423916,  1.16186053],\n",
       "       [-0.96320651, -0.04962853],\n",
       "       [ 2.41897336, -0.44231545],\n",
       "       [ 0.99234961,  0.98999832],\n",
       "       [-0.50247657, -1.86093717],\n",
       "       [ 0.56361241, -0.9798729 ],\n",
       "       [ 1.40475718,  2.48742676],\n",
       "       [ 0.60791   , -0.41148418],\n",
       "       [ 0.97097023, -1.21763731],\n",
       "       [ 0.70864118, -0.04565604],\n",
       "       [ 0.94284172,  0.78350858],\n",
       "       [ 0.86444491,  0.47947866],\n",
       "       [-0.94986669, -0.57134681],\n",
       "       [ 0.75833952, -1.8475634 ],\n",
       "       [-1.74492443, -0.92883787],\n",
       "       [ 1.10128845,  1.38871932],\n",
       "       [ 1.30722624, -0.73768663],\n",
       "       [-1.78418812, -0.81358997],\n",
       "       [ 0.65812778, -0.24801966],\n",
       "       [-0.94623041,  0.20819197],\n",
       "       [ 1.00703413,  1.04815979],\n",
       "       [-1.87298178, -1.34936411],\n",
       "       [ 0.46041096, -0.99248997],\n",
       "       [-1.8507825 , -1.31818901],\n",
       "       [-1.59864108,  1.06238692],\n",
       "       [-0.28798705,  1.00218812],\n",
       "       [ 0.45733014, -1.85740355],\n",
       "       [-0.20547894,  1.30875075],\n",
       "       [ 0.8271912 ,  0.39427052],\n",
       "       [-1.03092275,  1.16930104],\n",
       "       [ 2.60208624,  0.91177056],\n",
       "       [ 1.83256868, -1.67722365],\n",
       "       [ 1.2531477 ,  0.20592854],\n",
       "       [-1.77222067,  0.39400886],\n",
       "       [-0.91769353, -1.79416995],\n",
       "       [ 0.0527601 , -0.35824113],\n",
       "       [-1.31969979,  1.1980599 ],\n",
       "       [ 1.33448195,  2.22376142],\n",
       "       [-1.62452168,  1.02641486],\n",
       "       [-2.09229136,  1.28618507],\n",
       "       [ 0.90039501,  0.63516556],\n",
       "       [-0.48004582, -1.79253478],\n",
       "       [-0.20875507, -0.6155965 ],\n",
       "       [-1.69999019, -0.58732407],\n",
       "       [ 1.14008118,  1.53820292],\n",
       "       [ 0.59355656, -1.39332243],\n",
       "       [ 1.13042328, -0.79646956],\n",
       "       [-2.33434564,  2.88450533],\n",
       "       [ 0.71492134, -0.04629463],\n",
       "       [ 0.91554235, -0.96010595],\n",
       "       [ 1.32747713,  2.19591276],\n",
       "       [-2.17631127, -0.58870901],\n",
       "       [ 1.2916815 , -1.07893493],\n",
       "       [ 0.68835995, -0.12765007],\n",
       "       [ 1.11582882, -0.4675771 ],\n",
       "       [-0.85069094, -0.95243162],\n",
       "       [ 0.13550562, -0.48965454],\n",
       "       [ 0.61788417, -0.88977492],\n",
       "       [ 0.32097059,  0.69143201],\n",
       "       [ 0.87431619,  0.5444458 ],\n",
       "       [-0.42710671,  0.39382867],\n",
       "       [-1.97462884, -1.3976946 ],\n",
       "       [ 0.43930573, -0.38867198],\n",
       "       [-0.26124189, -0.15702614],\n",
       "       [ 1.58082977, -0.09437488],\n",
       "       [ 0.20752797, -2.57538413],\n",
       "       [-0.02723969, -2.73587577],\n",
       "       [ 0.63374033, -0.55530003],\n",
       "       [ 1.13694627,  1.49261456],\n",
       "       [-0.57745826,  0.45077239],\n",
       "       [-1.32378066,  0.86983591],\n",
       "       [ 2.29155553, -0.5435183 ],\n",
       "       [-1.18880381,  0.7595817 ],\n",
       "       [-0.99807025, -0.62279152],\n",
       "       [-1.40021826,  0.60996885],\n",
       "       [ 0.75624268, -1.53514634],\n",
       "       [-1.09039571, -0.47537583],\n",
       "       [-0.45049525, -1.47101066],\n",
       "       [ 0.08247882, -0.03819895]])"
      ]
     },
     "execution_count": 26,
     "metadata": {},
     "output_type": "execute_result"
    }
   ],
   "source": [
    "import numpy as np\n",
    "import pandas as pd\n",
    "import matplotlib.pyplot as plt\n",
    "from sklearn.datasets import make_classification\n",
    "x, y = make_classification(n_samples=200, n_features=2,n_classes=2, n_informative=2, n_redundant=0,)\n",
    "x"
   ]
  },
  {
   "cell_type": "code",
   "execution_count": 27,
   "id": "fbabecd5",
   "metadata": {},
   "outputs": [
    {
     "data": {
      "text/plain": [
       "(200, 2)"
      ]
     },
     "execution_count": 27,
     "metadata": {},
     "output_type": "execute_result"
    }
   ],
   "source": [
    "x.shape"
   ]
  },
  {
   "cell_type": "code",
   "execution_count": 28,
   "id": "2bb03486",
   "metadata": {},
   "outputs": [
    {
     "data": {
      "text/plain": [
       "array([1.20182763, 1.74764645])"
      ]
     },
     "execution_count": 28,
     "metadata": {},
     "output_type": "execute_result"
    }
   ],
   "source": [
    "x[111]"
   ]
  },
  {
   "cell_type": "code",
   "execution_count": 29,
   "id": "694e1cd1",
   "metadata": {},
   "outputs": [
    {
     "data": {
      "text/plain": [
       "array([0, 1, 0, 0, 1, 0, 1, 1, 1, 0, 0, 1, 0, 0, 0, 1, 0, 1, 1, 1, 1, 0,\n",
       "       1, 1, 0, 0, 0, 0, 1, 1, 0, 0, 0, 0, 1, 0, 1, 1, 0, 0, 0, 0, 1, 1,\n",
       "       1, 0, 0, 0, 0, 1, 0, 1, 1, 1, 1, 0, 1, 1, 0, 0, 0, 0, 1, 1, 1, 0,\n",
       "       0, 0, 1, 0, 0, 1, 0, 1, 0, 1, 1, 1, 1, 0, 1, 0, 1, 1, 1, 0, 0, 1,\n",
       "       0, 1, 0, 0, 1, 0, 1, 1, 0, 1, 1, 0, 1, 1, 1, 1, 1, 0, 0, 1, 1, 0,\n",
       "       1, 1, 0, 0, 0, 0, 1, 0, 1, 0, 0, 0, 0, 1, 1, 0, 0, 1, 0, 1, 1, 1,\n",
       "       1, 0, 1, 0, 1, 1, 0, 1, 0, 1, 0, 1, 0, 0, 0, 1, 0, 1, 0, 1, 1, 1,\n",
       "       0, 1, 0, 0, 1, 0, 0, 1, 0, 1, 0, 1, 1, 1, 0, 1, 1, 1, 0, 1, 1, 1,\n",
       "       0, 0, 1, 0, 1, 0, 0, 0, 0, 1, 1, 0, 1, 1, 0, 0, 1, 0, 0, 0, 1, 0,\n",
       "       0, 0])"
      ]
     },
     "execution_count": 29,
     "metadata": {},
     "output_type": "execute_result"
    }
   ],
   "source": [
    "y"
   ]
  },
  {
   "cell_type": "code",
   "execution_count": 30,
   "id": "665b7181",
   "metadata": {},
   "outputs": [
    {
     "data": {
      "image/png": "[encoded data removed]",
      "text/plain": [
       "<Figure size 720x432 with 1 Axes>"
      ]
     },
     "metadata": {
      "needs_background": "light"
     },
     "output_type": "display_data"
    }
   ],
   "source": [
    "plt.figure(figsize=(10,6))\n",
    "plt.scatter(x[:,0],x[:,1],c=y,cmap='winter',s=200)\n",
    "plt.show()\n"
   ]
  },
  {
   "cell_type": "code",
   "execution_count": 32,
   "id": "2de61c2c",
   "metadata": {},
   "outputs": [],
   "source": [
    "# Return weights and Intercept\n",
    "def perceptron(x,y):\n",
    "\n",
    "    X = np.insert(x,0,1,axis=1)\n",
    "    weights = np.ones(x.shape[1])\n",
    "    lr = 0.1\n",
    "\n",
    "    for i in range(1000):\n",
    "        j = np.random.randint(0,200)\n",
    "        y_hat = step(np.dot(x[j],weights))\n",
    "        weights = weights + lr*(y[j]-y_hat)*x[j]\n",
    "\n",
    "    return weights[0],weights[1:]"
   ]
  },
  {
   "cell_type": "code",
   "execution_count": 33,
   "id": "a3698faf",
   "metadata": {},
   "outputs": [
    {
     "data": {
      "text/plain": [
       "array([[ 1.        , -1.5486638 ,  1.54564042],\n",
       "       [ 1.        ,  1.91027938,  0.88540366],\n",
       "       [ 1.        , -0.69263669,  0.29104799],\n",
       "       [ 1.        , -0.75739222, -0.29570658],\n",
       "       [ 1.        ,  0.34205026, -1.40952828],\n",
       "       [ 1.        , -2.16900751,  1.89481518],\n",
       "       [ 1.        ,  1.09779077, -0.71423545],\n",
       "       [ 1.        ,  1.05130276, -0.43080299],\n",
       "       [ 1.        ,  0.86604592,  0.53792481],\n",
       "       [ 1.        , -0.81609863,  1.46668333],\n",
       "       [ 1.        , -0.85147535,  1.48477047],\n",
       "       [ 1.        ,  0.79161861, -0.92320087],\n",
       "       [ 1.        , -1.08510064, -0.37976442],\n",
       "       [ 1.        , -0.41774572, -0.47134906],\n",
       "       [ 1.        , -1.33569788,  0.86999599],\n",
       "       [ 1.        ,  1.27654615,  2.006175  ],\n",
       "       [ 1.        , -1.01069744, -1.37503737],\n",
       "       [ 1.        ,  0.14727389, -1.88827513],\n",
       "       [ 1.        ,  1.59820404,  3.20233237],\n",
       "       [ 1.        ,  0.94663309,  0.79680758],\n",
       "       [ 1.        ,  1.0946054 ,  1.35481859],\n",
       "       [ 1.        , -0.0282882 , -0.18530549],\n",
       "       [ 1.        ,  1.68655609,  0.35313276],\n",
       "       [ 1.        ,  2.47612628,  0.0909869 ],\n",
       "       [ 1.        , -1.49745836, -0.1524612 ],\n",
       "       [ 1.        , -0.57974819,  1.08953175],\n",
       "       [ 1.        , -1.79965692, -0.32668486],\n",
       "       [ 1.        , -1.48039138, -0.47982194],\n",
       "       [ 1.        ,  0.81896136,  0.32419687],\n",
       "       [ 1.        ,  0.56502921, -0.6088543 ],\n",
       "       [ 1.        ,  0.58392178,  1.15967258],\n",
       "       [ 1.        , -0.97677476, -1.73086565],\n",
       "       [ 1.        , -2.00261236,  1.16662968],\n",
       "       [ 1.        , -0.84208174, -2.09172799],\n",
       "       [ 1.        ,  0.98792799,  0.95537596],\n",
       "       [ 1.        , -2.39401424,  3.52786431],\n",
       "       [ 1.        ,  0.60168794, -0.47668892],\n",
       "       [ 1.        ,  1.14891126,  1.52331249],\n",
       "       [ 1.        , -1.69116774,  1.95601185],\n",
       "       [ 1.        , -2.13684048,  1.16064986],\n",
       "       [ 1.        , -2.03019469, -0.26562076],\n",
       "       [ 1.        , -0.05499795,  0.23646844],\n",
       "       [ 1.        ,  1.30586988,  2.11719587],\n",
       "       [ 1.        ,  0.87816131,  0.52781792],\n",
       "       [ 1.        ,  0.89066595,  0.60079996],\n",
       "       [ 1.        ,  0.63385123, -0.67393949],\n",
       "       [ 1.        , -0.48284924, -0.98815383],\n",
       "       [ 1.        , -1.12508723,  1.09356742],\n",
       "       [ 1.        , -1.97670639, -0.86914026],\n",
       "       [ 1.        ,  1.27949966,  2.02768709],\n",
       "       [ 1.        ,  0.08416893,  0.37666628],\n",
       "       [ 1.        ,  0.81888774, -1.69515989],\n",
       "       [ 1.        ,  1.51474094, -0.93216151],\n",
       "       [ 1.        , -0.25503643, -2.64500247],\n",
       "       [ 1.        ,  0.62630635, -1.65271292],\n",
       "       [ 1.        , -1.37824058, -1.00829703],\n",
       "       [ 1.        ,  1.39269243,  2.43865124],\n",
       "       [ 1.        ,  1.42985199, -2.38018455],\n",
       "       [ 1.        ,  0.10124819, -0.22845746],\n",
       "       [ 1.        , -0.45740462, -2.37807983],\n",
       "       [ 1.        , -0.77364079,  0.71459476],\n",
       "       [ 1.        ,  0.74421902, -0.51366939],\n",
       "       [ 1.        ,  0.74070862,  0.04724792],\n",
       "       [ 1.        ,  1.23156566,  1.84926297],\n",
       "       [ 1.        ,  0.69690873, -1.55309099],\n",
       "       [ 1.        , -0.64104106,  0.75075686],\n",
       "       [ 1.        , -0.08255804, -2.12204922],\n",
       "       [ 1.        ,  1.87153553, -2.28274763],\n",
       "       [ 1.        ,  0.84613655,  0.45471861],\n",
       "       [ 1.        ,  2.5475483 , -1.1124391 ],\n",
       "       [ 1.        , -1.53027664,  1.39536157],\n",
       "       [ 1.        ,  1.37242743,  2.34957664],\n",
       "       [ 1.        , -0.34236885, -1.94583075],\n",
       "       [ 1.        ,  0.95880756,  0.85806884],\n",
       "       [ 1.        ,  0.24904799,  0.59944155],\n",
       "       [ 1.        ,  1.61359925,  0.15350749],\n",
       "       [ 1.        ,  3.02936054, -0.16080191],\n",
       "       [ 1.        ,  1.1012827 ,  1.3745568 ],\n",
       "       [ 1.        ,  1.03994026,  1.14977978],\n",
       "       [ 1.        , -0.77761702,  1.51174537],\n",
       "       [ 1.        ,  0.96599049,  0.88717126],\n",
       "       [ 1.        , -0.96129803,  1.57062219],\n",
       "       [ 1.        ,  1.14456348, -0.78648681],\n",
       "       [ 1.        ,  0.76507956,  0.14660085],\n",
       "       [ 1.        ,  1.67893112, -2.02537201],\n",
       "       [ 1.        , -0.39323364, -1.38631243],\n",
       "       [ 1.        ,  1.20037773, -1.19779329],\n",
       "       [ 1.        ,  1.37536678, -0.51897359],\n",
       "       [ 1.        ,  0.35401531, -0.10253604],\n",
       "       [ 1.        ,  0.85669031,  0.47161255],\n",
       "       [ 1.        , -1.02818519, -2.31069511],\n",
       "       [ 1.        , -1.56310021,  1.6216785 ],\n",
       "       [ 1.        ,  0.16627724, -0.77194804],\n",
       "       [ 1.        , -1.90895795,  1.46709968],\n",
       "       [ 1.        ,  2.13519825, -0.26967892],\n",
       "       [ 1.        ,  0.85366879,  0.47362702],\n",
       "       [ 1.        , -1.0895213 ,  1.06740242],\n",
       "       [ 1.        ,  0.50142154, -0.82805375],\n",
       "       [ 1.        ,  1.54490485, -0.30139738],\n",
       "       [ 1.        , -0.31265672,  0.68352801],\n",
       "       [ 1.        ,  0.86081429,  0.48834618],\n",
       "       [ 1.        ,  2.28070114,  0.65528701],\n",
       "       [ 1.        ,  1.5713359 , -0.69486335],\n",
       "       [ 1.        ,  1.10145732,  1.33329573],\n",
       "       [ 1.        ,  0.617699  , -0.20018049],\n",
       "       [ 1.        , -1.05231392, -2.45596001],\n",
       "       [ 1.        , -1.0450657 , -0.36953042],\n",
       "       [ 1.        ,  1.28780768, -1.01945659],\n",
       "       [ 1.        ,  0.96444337,  0.86354771],\n",
       "       [ 1.        , -1.64143381,  0.58527477],\n",
       "       [ 1.        ,  1.26766281,  1.95887084],\n",
       "       [ 1.        ,  1.20182763,  1.74764645],\n",
       "       [ 1.        , -0.95494167,  0.71272891],\n",
       "       [ 1.        , -0.68853484, -0.90385718],\n",
       "       [ 1.        , -0.18736628,  0.77295824],\n",
       "       [ 1.        , -0.6086999 , -0.6705813 ],\n",
       "       [ 1.        ,  1.12690552,  1.46835648],\n",
       "       [ 1.        , -0.26030435, -0.09616937],\n",
       "       [ 1.        ,  1.63866078, -0.61885069],\n",
       "       [ 1.        , -0.27680447, -1.36588527],\n",
       "       [ 1.        , -2.22824732, -2.34545049],\n",
       "       [ 1.        , -0.40423916,  1.16186053],\n",
       "       [ 1.        , -0.96320651, -0.04962853],\n",
       "       [ 1.        ,  2.41897336, -0.44231545],\n",
       "       [ 1.        ,  0.99234961,  0.98999832],\n",
       "       [ 1.        , -0.50247657, -1.86093717],\n",
       "       [ 1.        ,  0.56361241, -0.9798729 ],\n",
       "       [ 1.        ,  1.40475718,  2.48742676],\n",
       "       [ 1.        ,  0.60791   , -0.41148418],\n",
       "       [ 1.        ,  0.97097023, -1.21763731],\n",
       "       [ 1.        ,  0.70864118, -0.04565604],\n",
       "       [ 1.        ,  0.94284172,  0.78350858],\n",
       "       [ 1.        ,  0.86444491,  0.47947866],\n",
       "       [ 1.        , -0.94986669, -0.57134681],\n",
       "       [ 1.        ,  0.75833952, -1.8475634 ],\n",
       "       [ 1.        , -1.74492443, -0.92883787],\n",
       "       [ 1.        ,  1.10128845,  1.38871932],\n",
       "       [ 1.        ,  1.30722624, -0.73768663],\n",
       "       [ 1.        , -1.78418812, -0.81358997],\n",
       "       [ 1.        ,  0.65812778, -0.24801966],\n",
       "       [ 1.        , -0.94623041,  0.20819197],\n",
       "       [ 1.        ,  1.00703413,  1.04815979],\n",
       "       [ 1.        , -1.87298178, -1.34936411],\n",
       "       [ 1.        ,  0.46041096, -0.99248997],\n",
       "       [ 1.        , -1.8507825 , -1.31818901],\n",
       "       [ 1.        , -1.59864108,  1.06238692],\n",
       "       [ 1.        , -0.28798705,  1.00218812],\n",
       "       [ 1.        ,  0.45733014, -1.85740355],\n",
       "       [ 1.        , -0.20547894,  1.30875075],\n",
       "       [ 1.        ,  0.8271912 ,  0.39427052],\n",
       "       [ 1.        , -1.03092275,  1.16930104],\n",
       "       [ 1.        ,  2.60208624,  0.91177056],\n",
       "       [ 1.        ,  1.83256868, -1.67722365],\n",
       "       [ 1.        ,  1.2531477 ,  0.20592854],\n",
       "       [ 1.        , -1.77222067,  0.39400886],\n",
       "       [ 1.        , -0.91769353, -1.79416995],\n",
       "       [ 1.        ,  0.0527601 , -0.35824113],\n",
       "       [ 1.        , -1.31969979,  1.1980599 ],\n",
       "       [ 1.        ,  1.33448195,  2.22376142],\n",
       "       [ 1.        , -1.62452168,  1.02641486],\n",
       "       [ 1.        , -2.09229136,  1.28618507],\n",
       "       [ 1.        ,  0.90039501,  0.63516556],\n",
       "       [ 1.        , -0.48004582, -1.79253478],\n",
       "       [ 1.        , -0.20875507, -0.6155965 ],\n",
       "       [ 1.        , -1.69999019, -0.58732407],\n",
       "       [ 1.        ,  1.14008118,  1.53820292],\n",
       "       [ 1.        ,  0.59355656, -1.39332243],\n",
       "       [ 1.        ,  1.13042328, -0.79646956],\n",
       "       [ 1.        , -2.33434564,  2.88450533],\n",
       "       [ 1.        ,  0.71492134, -0.04629463],\n",
       "       [ 1.        ,  0.91554235, -0.96010595],\n",
       "       [ 1.        ,  1.32747713,  2.19591276],\n",
       "       [ 1.        , -2.17631127, -0.58870901],\n",
       "       [ 1.        ,  1.2916815 , -1.07893493],\n",
       "       [ 1.        ,  0.68835995, -0.12765007],\n",
       "       [ 1.        ,  1.11582882, -0.4675771 ],\n",
       "       [ 1.        , -0.85069094, -0.95243162],\n",
       "       [ 1.        ,  0.13550562, -0.48965454],\n",
       "       [ 1.        ,  0.61788417, -0.88977492],\n",
       "       [ 1.        ,  0.32097059,  0.69143201],\n",
       "       [ 1.        ,  0.87431619,  0.5444458 ],\n",
       "       [ 1.        , -0.42710671,  0.39382867],\n",
       "       [ 1.        , -1.97462884, -1.3976946 ],\n",
       "       [ 1.        ,  0.43930573, -0.38867198],\n",
       "       [ 1.        , -0.26124189, -0.15702614],\n",
       "       [ 1.        ,  1.58082977, -0.09437488],\n",
       "       [ 1.        ,  0.20752797, -2.57538413],\n",
       "       [ 1.        , -0.02723969, -2.73587577],\n",
       "       [ 1.        ,  0.63374033, -0.55530003],\n",
       "       [ 1.        ,  1.13694627,  1.49261456],\n",
       "       [ 1.        , -0.57745826,  0.45077239],\n",
       "       [ 1.        , -1.32378066,  0.86983591],\n",
       "       [ 1.        ,  2.29155553, -0.5435183 ],\n",
       "       [ 1.        , -1.18880381,  0.7595817 ],\n",
       "       [ 1.        , -0.99807025, -0.62279152],\n",
       "       [ 1.        , -1.40021826,  0.60996885],\n",
       "       [ 1.        ,  0.75624268, -1.53514634],\n",
       "       [ 1.        , -1.09039571, -0.47537583],\n",
       "       [ 1.        , -0.45049525, -1.47101066],\n",
       "       [ 1.        ,  0.08247882, -0.03819895]])"
      ]
     },
     "execution_count": 33,
     "metadata": {},
     "output_type": "execute_result"
    }
   ],
   "source": [
    "# Adding Bias to your data\n",
    "np.insert(x,0,1,axis=1)\n",
    "     "
   ]
  },
  {
   "cell_type": "code",
   "execution_count": 9,
   "id": "fa8e7a98",
   "metadata": {},
   "outputs": [
    {
     "data": {
      "text/plain": [
       "array([1., 1., 1.])"
      ]
     },
     "execution_count": 9,
     "metadata": {},
     "output_type": "execute_result"
    }
   ],
   "source": [
    "# Create weights array for x inputs np.ones(X.shape[1])\n",
    "np.ones(3)"
   ]
  },
  {
   "cell_type": "code",
   "execution_count": 11,
   "id": "1e5ae544",
   "metadata": {},
   "outputs": [
    {
     "data": {
      "text/plain": [
       "92"
      ]
     },
     "execution_count": 11,
     "metadata": {},
     "output_type": "execute_result"
    }
   ],
   "source": [
    "# select random input from 1 to 100 in each iteration\n",
    "np.random.randint(0,200)"
   ]
  },
  {
   "cell_type": "code",
   "execution_count": 12,
   "id": "8638fdcc",
   "metadata": {},
   "outputs": [
    {
     "ename": "ValueError",
     "evalue": "shapes (2,) and (3,) not aligned: 2 (dim 0) != 3 (dim 0)",
     "output_type": "error",
     "traceback": [
      "\u001b[1;31m---------------------------------------------------------------------------\u001b[0m",
      "\u001b[1;31mValueError\u001b[0m                                Traceback (most recent call last)",
      "\u001b[1;32m~\\AppData\\Local\\Temp/ipykernel_4760/779129906.py\u001b[0m in \u001b[0;36m<module>\u001b[1;34m\u001b[0m\n\u001b[1;32m----> 1\u001b[1;33m \u001b[0mnp\u001b[0m\u001b[1;33m.\u001b[0m\u001b[0mdot\u001b[0m\u001b[1;33m(\u001b[0m\u001b[0mX\u001b[0m\u001b[1;33m[\u001b[0m\u001b[1;36m84\u001b[0m\u001b[1;33m]\u001b[0m\u001b[1;33m,\u001b[0m\u001b[1;33m[\u001b[0m\u001b[1;36m1\u001b[0m\u001b[1;33m,\u001b[0m\u001b[1;36m1\u001b[0m\u001b[1;33m,\u001b[0m\u001b[1;36m1\u001b[0m\u001b[1;33m]\u001b[0m\u001b[1;33m)\u001b[0m\u001b[1;33m\u001b[0m\u001b[1;33m\u001b[0m\u001b[0m\n\u001b[0m",
      "\u001b[1;32m<__array_function__ internals>\u001b[0m in \u001b[0;36mdot\u001b[1;34m(*args, **kwargs)\u001b[0m\n",
      "\u001b[1;31mValueError\u001b[0m: shapes (2,) and (3,) not aligned: 2 (dim 0) != 3 (dim 0)"
     ]
    }
   ],
   "source": [
    "np.dot(X[84],[1,1,1])"
   ]
  },
  {
   "cell_type": "code",
   "execution_count": 13,
   "id": "34f461e4",
   "metadata": {},
   "outputs": [
    {
     "data": {
      "text/plain": [
       "array([ 1.        ,  1.62297524, -1.26222091])"
      ]
     },
     "execution_count": 13,
     "metadata": {},
     "output_type": "execute_result"
    }
   ],
   "source": [
    "np.insert(X[84],0,1)"
   ]
  },
  {
   "cell_type": "code",
   "execution_count": 14,
   "id": "709e1e2a",
   "metadata": {},
   "outputs": [
    {
     "data": {
      "text/plain": [
       "1.3607543354859772"
      ]
     },
     "execution_count": 14,
     "metadata": {},
     "output_type": "execute_result"
    }
   ],
   "source": [
    "np.dot(np.insert(X[84],0,1),[1,1,1])"
   ]
  },
  {
   "cell_type": "code",
   "execution_count": 15,
   "id": "9b93fb4f",
   "metadata": {},
   "outputs": [],
   "source": [
    "\n",
    "def step(z):\n",
    "    return 1 if z>0 else 0"
   ]
  },
  {
   "cell_type": "code",
   "execution_count": 16,
   "id": "f1546782",
   "metadata": {},
   "outputs": [
    {
     "data": {
      "text/plain": [
       "0"
      ]
     },
     "execution_count": 16,
     "metadata": {},
     "output_type": "execute_result"
    }
   ],
   "source": [
    "step(-1.1743466649289587)\n"
   ]
  },
  {
   "cell_type": "code",
   "execution_count": 18,
   "id": "f3b2c70b",
   "metadata": {},
   "outputs": [
    {
     "data": {
      "text/plain": [
       "1"
      ]
     },
     "execution_count": 18,
     "metadata": {},
     "output_type": "execute_result"
    }
   ],
   "source": [
    "y[100]"
   ]
  },
  {
   "cell_type": "code",
   "execution_count": 19,
   "id": "295d7b4e",
   "metadata": {},
   "outputs": [],
   "source": [
    "intercept_,coef_ = perceptron(X,y)\n"
   ]
  },
  {
   "cell_type": "code",
   "execution_count": 20,
   "id": "bb0c404e",
   "metadata": {},
   "outputs": [
    {
     "name": "stdout",
     "output_type": "stream",
     "text": [
      "[-0.12421864 -0.06324847]\n",
      "1.3877787807814457e-16\n"
     ]
    }
   ],
   "source": [
    "\n",
    "print(coef_)\n",
    "print(intercept_)\n",
    "     "
   ]
  },
  {
   "cell_type": "code",
   "execution_count": null,
   "id": "c54dfe49",
   "metadata": {},
   "outputs": [],
   "source": [
    "# it a formula of "
   ]
  },
  {
   "cell_type": "code",
   "execution_count": 21,
   "id": "b66055d9",
   "metadata": {},
   "outputs": [],
   "source": [
    "m = -(coef_[0]/coef_[1])\n",
    "b = -(intercept_/coef_[1])"
   ]
  },
  {
   "cell_type": "code",
   "execution_count": 22,
   "id": "d1a54408",
   "metadata": {},
   "outputs": [
    {
     "data": {
      "text/plain": [
       "-1.9639786744992096"
      ]
     },
     "execution_count": 22,
     "metadata": {},
     "output_type": "execute_result"
    }
   ],
   "source": [
    "m"
   ]
  },
  {
   "cell_type": "code",
   "execution_count": 23,
   "id": "fee9d637",
   "metadata": {},
   "outputs": [
    {
     "data": {
      "text/plain": [
       "2.194169766104025e-15"
      ]
     },
     "execution_count": 23,
     "metadata": {},
     "output_type": "execute_result"
    }
   ],
   "source": [
    "b"
   ]
  },
  {
   "cell_type": "code",
   "execution_count": 24,
   "id": "213ae8d1",
   "metadata": {},
   "outputs": [],
   "source": [
    "x_input = np.linspace(-3,3,100)\n",
    "y_input = m*x_input + b"
   ]
  },
  {
   "cell_type": "code",
   "execution_count": 25,
   "id": "d20c1166",
   "metadata": {},
   "outputs": [
    {
     "data": {
      "text/plain": [
       "(-3.0, 2.0)"
      ]
     },
     "execution_count": 25,
     "metadata": {},
     "output_type": "execute_result"
    },
    {
     "data": {
      "image/png": "[encoded data removed]",
      "text/plain": [
       "<Figure size 720x432 with 1 Axes>"
      ]
     },
     "metadata": {
      "needs_background": "light"
     },
     "output_type": "display_data"
    }
   ],
   "source": [
    "plt.figure(figsize=(10,6))\n",
    "plt.plot(x_input,y_input,color='red',linewidth=3)\n",
    "plt.scatter(X[:,0],X[:,1],c=y,cmap='winter',s=100)\n",
    "plt.ylim(-3,2)"
   ]
  },
  {
   "cell_type": "code",
   "execution_count": null,
   "id": "24175b91",
   "metadata": {},
   "outputs": [],
   "source": []
  }
 ],
 "metadata": {
  "kernelspec": {
   "display_name": "Python 3 (ipykernel)",
   "language": "python",
   "name": "python3"
  },
  "language_info": {
   "codemirror_mode": {
    "name": "ipython",
    "version": 3
   },
   "file_extension": ".py",
   "mimetype": "text/x-python",
   "name": "python",
   "nbconvert_exporter": "python",
   "pygments_lexer": "ipython3",
   "version": "3.9.7"
  }
 },
 "nbformat": 4,
 "nbformat_minor": 5
}
