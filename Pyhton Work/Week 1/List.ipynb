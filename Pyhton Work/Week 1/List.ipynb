{
 "cells": [
  {
   "cell_type": "code",
   "execution_count": 2,
   "metadata": {
    "collapsed": false
   },
   "outputs": [
    {
     "name": "stdout",
     "output_type": "stream",
     "text": [
      "Hello Sami\n"
     ]
    }
   ],
   "source": [
    "# Question 1  print function \n",
    "print(\"Hello Sami\")\n"
   ]
  },
  {
   "cell_type": "code",
   "execution_count": 1,
   "metadata": {
    "collapsed": false
   },
   "outputs": [
    {
     "name": "stdout",
     "output_type": "stream",
     "text": [
      "11\n"
     ]
    }
   ],
   "source": [
    "# Question 2  print two variable and sum\n",
    "\n",
    "number_1 = 5\n",
    "number_2 = 6\n",
    "sum = number_1 + number_2\n",
    "print(sum)"
   ]
  },
  {
   "cell_type": "code",
   "execution_count": 3,
   "metadata": {
    "collapsed": false
   },
   "outputs": [
    {
     "name": "stdout",
     "output_type": "stream",
     "text": [
      "6\n"
     ]
    }
   ],
   "source": [
    "# Question 3  print two variable and subtract\n",
    "\n",
    "number_1 = 12\n",
    "number_2 = 6\n",
    "subtract = number_1 - number_2\n",
    "print(subtract)"
   ]
  },
  {
   "cell_type": "code",
   "execution_count": 2,
   "metadata": {
    "collapsed": false
   },
   "outputs": [
    {
     "name": "stdout",
     "output_type": "stream",
     "text": [
      "30\n"
     ]
    }
   ],
   "source": [
    "# Question 4  print two variable and multiplication\n",
    "\n",
    "number_1 = 10\n",
    "number_2 = 3\n",
    "multiplication = number_1 * number_2\n",
    "print(multiplication )"
   ]
  },
  {
   "cell_type": "code",
   "execution_count": 5,
   "metadata": {
    "collapsed": false
   },
   "outputs": [
    {
     "name": "stdout",
     "output_type": "stream",
     "text": [
      "10\n"
     ]
    }
   ],
   "source": [
    "# Question 5  print two variable and division\n",
    "\n",
    "number_1 = 30\n",
    "number_2 = 3\n",
    "division = number_1 / number_2\n",
    "print(int(division ))"
   ]
  },
  {
   "cell_type": "code",
   "execution_count": 6,
   "metadata": {
    "collapsed": false
   },
   "outputs": [
    {
     "name": "stdin",
     "output_type": "stream",
     "text": [
      "Enter the number  101\n",
      "Enter the number  10\n"
     ]
    },
    {
     "name": "stdout",
     "output_type": "stream",
     "text": [
      "111\n"
     ]
    }
   ],
   "source": [
    "# Question 6  user INPUT \n",
    "\n",
    "num_1 = int(input('Enter the number '))\n",
    "num_2 = int(input('Enter the number '))\n",
    "sum = num_1 + num_2\n",
    "print(sum)\n"
   ]
  },
  {
   "cell_type": "raw",
   "metadata": {},
   "source": [
    "# Question 7  \n",
    "\n",
    "--------------------------\n",
    "            My Profile \n",
    "--------------------------\n",
    "Name : \n",
    "Course Name :\n",
    "Institute Name :\n",
    "Gender :\n",
    "Age : \n",
    "Department :\n",
    "--------------------------\n",
    "            My Profile \n",
    "--------------------------\n",
    "Create A Marksheet which Take 5 Course Marks as an input From a user.\n",
    "Calculate Obtained Marks\n",
    "Calculate Package\n",
    "\n",
    "    \n"
   ]
  },
  {
   "cell_type": "code",
   "execution_count": 29,
   "metadata": {
    "collapsed": false
   },
   "outputs": [
    {
     "name": "stdin",
     "output_type": "stream",
     "text": [
      "Enter The Name : samiwadho\n",
      "Enter The Course Name : computer science\n",
      "Enter The Institute Name : Software\n",
      "Enter The Gender : male\n",
      "Enter The Age : 23\n",
      "Enter The Department : I T\n",
      "Enter The Marks 67\n",
      "Enter The Marks 87\n",
      "Enter The Marks 67\n",
      "Enter The Marks 86\n",
      "Enter The Marks 86\n"
     ]
    },
    {
     "name": "stdout",
     "output_type": "stream",
     "text": [
      "393\n",
      "Pers : 78.60000000000001\n"
     ]
    }
   ],
   "source": [
    "Name = input(\"Enter The Name :\") \n",
    "Course_Name = input(\"Enter The Course Name :\")\n",
    "Institute_Name = input(\"Enter The Institute Name :\")\n",
    "Gender = input(\"Enter The Gender :\")\n",
    "Age = int(input(\"Enter The Age :\"))\n",
    "Department =input(\"Enter The Department :\")\n",
    "\n",
    "\n",
    "\n",
    "English = int(input('Enter The Marks'))\n",
    "Math = int(input('Enter The Marks'))\n",
    "Urdu =int(input('Enter The Marks'))\n",
    "Pakistan_Study = int(input('Enter The Marks'))\n",
    "Sindhi = int(input('Enter The Marks'))\n",
    "\n",
    "\n",
    "Obtain_marks = (English + Math + Urdu + Pakistan_Study + Sindhi)\n",
    "Total_Marks = 500\n",
    "\n",
    "print(Obtain_marks)\n",
    "Pers =(Obtain_marks / Total_Marks)*100\n",
    "print('Pers :',Pers)"
   ]
  },
  {
   "cell_type": "code",
   "execution_count": 30,
   "metadata": {
    "collapsed": false
   },
   "outputs": [
    {
     "name": "stdout",
     "output_type": "stream",
     "text": [
      "=====================\n",
      "\t My Profile\n",
      "=====================\n",
      "Name : samiwadho\n",
      "Course_Name  computer science\n",
      "Institute_Name : Software\n",
      "Gender : male\n",
      "Age : 23\n",
      "Department : I T\n",
      "=====================\n",
      "\t Marksheet\n",
      "=====================\n",
      "Marks Obtained in : 67\n",
      "Marks Obtained in : 87\n",
      "Marks Obtained in : 67\n",
      "Marks Obtained in : 86\n",
      "Marks Obtained in : 86\n",
      "Marks Obtained in : 393\n",
      "Marks Obtained in : 500\n",
      "Marks Obtained in : 78.60000000000001\n"
     ]
    }
   ],
   "source": [
    "\n",
    "print('=====================')\n",
    "print('\\t My Profile')\n",
    "print('=====================')\n",
    "print(\"Name :\",Name )\n",
    "print(\"Course_Name \",Course_Name)\n",
    "print(\"Institute_Name :\",Institute_Name )\n",
    "print(\"Gender :\",Gender )\n",
    "print(\"Age :\" ,Age)\n",
    "print(\"Department :\",Department)\n",
    "\n",
    "\n",
    "print('=====================')\n",
    "print('\\t Marksheet')\n",
    "print('=====================')\n",
    "print(\"Marks Obtained in :\",English)\n",
    "print(\"Marks Obtained in :\",Math)\n",
    "print(\"Marks Obtained in :\",Urdu)\n",
    "print(\"Marks Obtained in :\",Pakistan_Study)\n",
    "print(\"Marks Obtained in :\",Sindhi)\n",
    "\n",
    "print(\"Marks Obtained in :\",Obtain_marks)\n",
    "print(\"Marks Obtained in :\",Total_Marks)\n",
    "print(\"Marks Obtained in :\",Pers)\n",
    "\n"
   ]
  },
  {
   "cell_type": "code",
   "execution_count": null,
   "metadata": {
    "collapsed": true
   },
   "outputs": [],
   "source": [
    "# Question 8 calculate Area and Cicumfernece"
   ]
  },
  {
   "cell_type": "code",
   "execution_count": 1,
   "metadata": {
    "collapsed": false
   },
   "outputs": [
    {
     "name": "stdin",
     "output_type": "stream",
     "text": [
      "enter the value 2\n"
     ]
    },
    {
     "name": "stdout",
     "output_type": "stream",
     "text": [
      "area of circle = 12.6\n"
     ]
    }
   ],
   "source": [
    "pi = 3.15\n",
    "radius = int(input(\"enter the value\"))\n",
    "area = pi*radius**2\n",
    "\n",
    "# **2 it mean it is square \n",
    "# **3 it mean it is qubic \n",
    "# **2 it mean it is forth \n",
    "print(\"area of circle =\", area)\n"
   ]
  },
  {
   "cell_type": "code",
   "execution_count": 3,
   "metadata": {
    "collapsed": false
   },
   "outputs": [
    {
     "name": "stdin",
     "output_type": "stream",
     "text": [
      "enter the value 3\n"
     ]
    },
    {
     "name": "stdout",
     "output_type": "stream",
     "text": [
      "Cicumfernece of circle = 18.9\n"
     ]
    }
   ],
   "source": [
    "pi = 3.15\n",
    "radius = int(input(\"enter the value\"))\n",
    "Cicumfernece  = 2*pi*radius\n",
    "print(\"Cicumfernece of circle =\", Cicumfernece)\n"
   ]
  },
  {
   "cell_type": "markdown",
   "metadata": {},
   "source": [
    "# list"
   ]
  },
  {
   "cell_type": "code",
   "execution_count": 13,
   "metadata": {
    "collapsed": false
   },
   "outputs": [
    {
     "data": {
      "text/plain": [
       "'karachi'"
      ]
     },
     "execution_count": 13,
     "metadata": {},
     "output_type": "execute_result"
    }
   ],
   "source": [
    "# Question 9 create a list\n",
    "cities = [ 'larkana','karachi','Sukker']\n",
    "cities[1]"
   ]
  },
  {
   "cell_type": "code",
   "execution_count": 14,
   "metadata": {
    "collapsed": false
   },
   "outputs": [
    {
     "data": {
      "text/plain": [
       "['larkana', 'karachi', 'Sukker', 'Lahore']"
      ]
     },
     "execution_count": 14,
     "metadata": {},
     "output_type": "execute_result"
    }
   ],
   "source": [
    "cities.append('Lahore')\n",
    "cities"
   ]
  },
  {
   "cell_type": "code",
   "execution_count": 15,
   "metadata": {
    "collapsed": true
   },
   "outputs": [],
   "source": [
    "cities.insert(1,'Kamber')"
   ]
  },
  {
   "cell_type": "code",
   "execution_count": 16,
   "metadata": {
    "collapsed": false
   },
   "outputs": [
    {
     "data": {
      "text/plain": [
       "['larkana', 'Kamber', 'karachi', 'Sukker', 'Lahore']"
      ]
     },
     "execution_count": 16,
     "metadata": {},
     "output_type": "execute_result"
    }
   ],
   "source": [
    "cities"
   ]
  },
  {
   "cell_type": "code",
   "execution_count": 17,
   "metadata": {
    "collapsed": false
   },
   "outputs": [
    {
     "data": {
      "text/plain": [
       "'Lahore'"
      ]
     },
     "execution_count": 17,
     "metadata": {},
     "output_type": "execute_result"
    }
   ],
   "source": [
    "cities.pop()"
   ]
  },
  {
   "cell_type": "code",
   "execution_count": 18,
   "metadata": {
    "collapsed": false
   },
   "outputs": [
    {
     "data": {
      "text/plain": [
       "['larkana', 'Kamber', 'karachi', 'Sukker']"
      ]
     },
     "execution_count": 18,
     "metadata": {},
     "output_type": "execute_result"
    }
   ],
   "source": [
    "cities"
   ]
  },
  {
   "cell_type": "code",
   "execution_count": 19,
   "metadata": {
    "collapsed": true
   },
   "outputs": [],
   "source": [
    "cities.remove('larkana')"
   ]
  },
  {
   "cell_type": "code",
   "execution_count": 20,
   "metadata": {
    "collapsed": false
   },
   "outputs": [
    {
     "data": {
      "text/plain": [
       "['Kamber', 'karachi', 'Sukker']"
      ]
     },
     "execution_count": 20,
     "metadata": {},
     "output_type": "execute_result"
    }
   ],
   "source": [
    "cities"
   ]
  },
  {
   "cell_type": "code",
   "execution_count": 21,
   "metadata": {
    "collapsed": false
   },
   "outputs": [
    {
     "data": {
      "text/plain": [
       "'Sukker'"
      ]
     },
     "execution_count": 21,
     "metadata": {},
     "output_type": "execute_result"
    }
   ],
   "source": [
    "cities = ( 'larkana','karachi','Sukker')\n",
    "cities[2]"
   ]
  },
  {
   "cell_type": "code",
   "execution_count": 22,
   "metadata": {
    "collapsed": true
   },
   "outputs": [],
   "source": [
    "Countries = { 'Pakistan ', 'China' , 'India','Iran'}"
   ]
  },
  {
   "cell_type": "code",
   "execution_count": 23,
   "metadata": {
    "collapsed": false
   },
   "outputs": [
    {
     "data": {
      "text/plain": [
       "{'China', 'India', 'Iran', 'Pakistan '}"
      ]
     },
     "execution_count": 23,
     "metadata": {},
     "output_type": "execute_result"
    }
   ],
   "source": [
    "Countries"
   ]
  },
  {
   "cell_type": "code",
   "execution_count": null,
   "metadata": {
    "collapsed": true
   },
   "outputs": [],
   "source": []
  }
 ],
 "metadata": {
  "anaconda-cloud": {},
  "kernelspec": {
   "display_name": "Python [ABC]",
   "language": "python",
   "name": "Python [ABC]"
  },
  "language_info": {
   "codemirror_mode": {
    "name": "ipython",
    "version": 3
   },
   "file_extension": ".py",
   "mimetype": "text/x-python",
   "name": "python",
   "nbconvert_exporter": "python",
   "pygments_lexer": "ipython3",
   "version": "3.5.4"
  }
 },
 "nbformat": 4,
 "nbformat_minor": 5
}
