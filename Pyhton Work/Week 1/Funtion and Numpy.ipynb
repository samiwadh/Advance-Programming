{
 "cells": [
  {
   "cell_type": "code",
   "execution_count": 2,
   "id": "1c7abe10",
   "metadata": {},
   "outputs": [
    {
     "name": "stdout",
     "output_type": "stream",
     "text": [
      "60\n"
     ]
    }
   ],
   "source": [
    "addition = lambda a:a+10 \n",
    "print(addition(50))"
   ]
  },
  {
   "cell_type": "code",
   "execution_count": 3,
   "id": "cc7cdce6",
   "metadata": {},
   "outputs": [
    {
     "name": "stdout",
     "output_type": "stream",
     "text": [
      "168\n"
     ]
    }
   ],
   "source": [
    "product = lambda a,b : a * b \n",
    "print(product(12,14))"
   ]
  },
  {
   "cell_type": "code",
   "execution_count": 5,
   "id": "eb1743d3",
   "metadata": {},
   "outputs": [
    {
     "name": "stdout",
     "output_type": "stream",
     "text": [
      "4\n"
     ]
    }
   ],
   "source": [
    "divion = lambda a,b : a / b \n",
    "print(int(divion(12,3)))"
   ]
  },
  {
   "cell_type": "code",
   "execution_count": 7,
   "id": "8b1da84f",
   "metadata": {},
   "outputs": [
    {
     "ename": "SyntaxError",
     "evalue": "invalid syntax (2531882541.py, line 1)",
     "output_type": "error",
     "traceback": [
      "\u001b[1;36m  Cell \u001b[1;32mIn[7], line 1\u001b[1;36m\u001b[0m\n\u001b[1;33m    res = (lamdba *args : sum(args))\u001b[0m\n\u001b[1;37m                        ^\u001b[0m\n\u001b[1;31mSyntaxError\u001b[0m\u001b[1;31m:\u001b[0m invalid syntax\n"
     ]
    }
   ],
   "source": [
    "res = (lamdba *args : sum(args))\n",
    "res = (2,3,4 ,5,6,7,8)"
   ]
  },
  {
   "cell_type": "code",
   "execution_count": 12,
   "id": "1c78f5c5",
   "metadata": {},
   "outputs": [
    {
     "name": "stdout",
     "output_type": "stream",
     "text": [
      "[True, False, False, True, False]\n"
     ]
    }
   ],
   "source": [
    "def starts_with_a(s): # s is parameter\n",
    "    return s[0]== \"A\"\n",
    "fruit = [\"Apple\",\"Banana\", \"Pear\", \"Apricot\",\"Orange\"]\n",
    "map_object = map(starts_with_a,fruit)\n",
    "print(list(map_object))"
   ]
  },
  {
   "cell_type": "code",
   "execution_count": 28,
   "id": "c4ffd644",
   "metadata": {},
   "outputs": [
    {
     "name": "stdout",
     "output_type": "stream",
     "text": [
      "['Apple', 'Apricot']\n"
     ]
    }
   ],
   "source": [
    "def starts_with_a(S):\n",
    "    return S[0]==\"A\"\n",
    "fruit = [\"Apple\",\"Banana\", \"Pear\", \"Apricot\",\"Orange\"]\n",
    "filter_object = filter(starts_with_a,fruit)\n",
    "print(list(filter_object))"
   ]
  },
  {
   "cell_type": "code",
   "execution_count": 69,
   "id": "985c578f",
   "metadata": {},
   "outputs": [
    {
     "ename": "TypeError",
     "evalue": "<lambda>() takes 1 positional argument but 2 were given",
     "output_type": "error",
     "traceback": [
      "\u001b[1;31m---------------------------------------------------------------------------\u001b[0m",
      "\u001b[1;31mTypeError\u001b[0m                                 Traceback (most recent call last)",
      "Cell \u001b[1;32mIn[69], line 6\u001b[0m\n\u001b[0;32m      3\u001b[0m     \u001b[38;5;28;01mreturn\u001b[39;00m S[\u001b[38;5;241m0\u001b[39m]\u001b[38;5;241m==\u001b[39m\u001b[38;5;124m\"\u001b[39m\u001b[38;5;124mA\u001b[39m\u001b[38;5;124m\"\u001b[39m\n\u001b[0;32m      4\u001b[0m fruit \u001b[38;5;241m=\u001b[39m [\u001b[38;5;124m\"\u001b[39m\u001b[38;5;124mApple\u001b[39m\u001b[38;5;124m\"\u001b[39m,\u001b[38;5;124m\"\u001b[39m\u001b[38;5;124mBanana\u001b[39m\u001b[38;5;124m\"\u001b[39m, \u001b[38;5;124m\"\u001b[39m\u001b[38;5;124mPear\u001b[39m\u001b[38;5;124m\"\u001b[39m, \u001b[38;5;124m\"\u001b[39m\u001b[38;5;124mApricot\u001b[39m\u001b[38;5;124m\"\u001b[39m,\u001b[38;5;124m\"\u001b[39m\u001b[38;5;124mOrange\u001b[39m\u001b[38;5;124m\"\u001b[39m]\n\u001b[1;32m----> 6\u001b[0m \u001b[38;5;28mprint\u001b[39m(\u001b[38;5;28mlist\u001b[39m(reduce(\u001b[38;5;28;01mlambda\u001b[39;00m S:S[\u001b[38;5;241m0\u001b[39m]\u001b[38;5;241m==\u001b[39m\u001b[38;5;124m'\u001b[39m\u001b[38;5;124mA\u001b[39m\u001b[38;5;124m'\u001b[39m,fruit)))\n",
      "\u001b[1;31mTypeError\u001b[0m: <lambda>() takes 1 positional argument but 2 were given"
     ]
    }
   ],
   "source": [
    "from functools import reduce\n",
    "def starts_with_a(S):\n",
    "    return S[0]==\"A\"\n",
    "fruit = [\"Apple\",\"Banana\", \"Pear\", \"Apricot\",\"Orange\"]\n",
    "print(list(reduce(lambda S:S[0]=='A',fruit)))"
   ]
  },
  {
   "cell_type": "code",
   "execution_count": 21,
   "id": "290a8e87",
   "metadata": {},
   "outputs": [
    {
     "name": "stdout",
     "output_type": "stream",
     "text": [
      "name = Abdul Sami\n",
      "surname = Wadho\n"
     ]
    }
   ],
   "source": [
    "def information(name,surname):\n",
    "    print('name =',name)\n",
    "    print('surname =',surname)\n",
    "\n",
    "information('Abdul Sami', 'Wadho')"
   ]
  },
  {
   "cell_type": "code",
   "execution_count": 37,
   "id": "30d146d5",
   "metadata": {},
   "outputs": [
    {
     "name": "stdout",
     "output_type": "stream",
     "text": [
      "16\n",
      "With an initial value: 26\n"
     ]
    }
   ],
   "source": [
    "from functools import reduce\n",
    "\n",
    "list = [2, 4, 7, 3]\n",
    "print(reduce(lambda x, y: x + y, list))\n",
    "print(\"With an initial value: \" + str(reduce(lambda x, y: x + y, list, 10)))"
   ]
  }
 ],
 "metadata": {
  "kernelspec": {
   "display_name": "Python 3 (ipykernel)",
   "language": "python",
   "name": "python3"
  },
  "language_info": {
   "codemirror_mode": {
    "name": "ipython",
    "version": 3
   },
   "file_extension": ".py",
   "mimetype": "text/x-python",
   "name": "python",
   "nbconvert_exporter": "python",
   "pygments_lexer": "ipython3",
   "version": "3.11.3"
  }
 },
 "nbformat": 4,
 "nbformat_minor": 5
}
