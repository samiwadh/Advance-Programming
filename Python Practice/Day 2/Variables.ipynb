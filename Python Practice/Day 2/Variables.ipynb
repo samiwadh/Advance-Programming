{
 "cells": [
  {
   "cell_type": "raw",
   "id": "b1041730-4209-47c3-b2e5-48c5587cc48e",
   "metadata": {},
   "source": [
    "Exercises: Level 1\n",
    "Inside 30DaysOfPython create a folder called day_2. Inside this folder create a file named variables.py\n",
    "Write a python comment saying 'Day 2: 30 Days of python programming'\n",
    "Declare a first name variable and assign a value to it\n",
    "Declare a last name variable and assign a value to it\n",
    "Declare a full name variable and assign a value to it\n",
    "Declare a country variable and assign a value to it\n",
    "Declare a city variable and assign a value to it\n",
    "Declare an age variable and assign a value to it\n",
    "Declare a year variable and assign a value to it\n",
    "Declare a variable is_married and assign a value to it\n",
    "Declare a variable is_true and assign a value to it\n",
    "Declare a variable is_light_on and assign a value to it\n",
    "Declare multiple variable on one line"
   ]
  },
  {
   "cell_type": "code",
   "execution_count": 1,
   "id": "a6cb0800-a18a-447d-8ee9-64f7ea0b5700",
   "metadata": {},
   "outputs": [],
   "source": [
    "# 'Day 2: 30 Days of python Programming'"
   ]
  },
  {
   "cell_type": "code",
   "execution_count": 18,
   "id": "90336de8-ab0c-46bf-ab81-8f1d87b0b183",
   "metadata": {},
   "outputs": [
    {
     "name": "stdout",
     "output_type": "stream",
     "text": [
      "First_name Abdul Sami\n"
     ]
    }
   ],
   "source": [
    "First_name = 'Abdul Sami'\n",
    "print('First_name',First_name)"
   ]
  },
  {
   "cell_type": "code",
   "execution_count": 17,
   "id": "297178b7-5e4e-4a17-82c8-6844c4b5dc46",
   "metadata": {},
   "outputs": [
    {
     "name": "stdout",
     "output_type": "stream",
     "text": [
      "Last_name =  Wadho\n"
     ]
    }
   ],
   "source": [
    "Last_name = \"Wadho\"\n",
    "print('Last_name = ',Last_name)"
   ]
  },
  {
   "cell_type": "code",
   "execution_count": 16,
   "id": "53f64b73-a6e7-4d95-b35a-313a42c6f1b0",
   "metadata": {},
   "outputs": [
    {
     "name": "stdout",
     "output_type": "stream",
     "text": [
      "Full_name Abdul Sami Wadho\n"
     ]
    }
   ],
   "source": [
    "Full_name = 'Abdul Sami Wadho'\n",
    "print('Full_name',Full_name)"
   ]
  },
  {
   "cell_type": "code",
   "execution_count": 11,
   "id": "da7635b2-787d-4e63-8831-e99c7b8af9c7",
   "metadata": {},
   "outputs": [
    {
     "name": "stdout",
     "output_type": "stream",
     "text": [
      "Country = Pakistan\n"
     ]
    }
   ],
   "source": [
    "Country = 'Pakistan'\n",
    "print('Country =',Country)"
   ]
  },
  {
   "cell_type": "code",
   "execution_count": 13,
   "id": "3578334e-dbe9-47a0-a7a9-df071b3f2d3d",
   "metadata": {},
   "outputs": [
    {
     "name": "stdout",
     "output_type": "stream",
     "text": [
      "City = Karachi\n"
     ]
    }
   ],
   "source": [
    "City = 'Karachi'\n",
    "print('City =' ,  City)"
   ]
  },
  {
   "cell_type": "code",
   "execution_count": 14,
   "id": "a6fcdd5d-3db9-4c89-a348-9900878c6622",
   "metadata": {},
   "outputs": [
    {
     "name": "stdout",
     "output_type": "stream",
     "text": [
      "Age = 22\n"
     ]
    }
   ],
   "source": [
    "Age = 22\n",
    "print('Age =',Age)"
   ]
  },
  {
   "cell_type": "code",
   "execution_count": 15,
   "id": "5321ff4a-7cba-459e-9e29-018792e418f9",
   "metadata": {},
   "outputs": [
    {
     "name": "stdout",
     "output_type": "stream",
     "text": [
      "year  = 2024\n"
     ]
    }
   ],
   "source": [
    "year = 2024\n",
    "print('year  =',year)"
   ]
  },
  {
   "cell_type": "code",
   "execution_count": 19,
   "id": "57539bd8-69fb-4648-96fc-2a464090c425",
   "metadata": {},
   "outputs": [
    {
     "name": "stdout",
     "output_type": "stream",
     "text": [
      "is_married = single\n"
     ]
    }
   ],
   "source": [
    "is_married = 'single'\n",
    "print('is_married =',is_married)"
   ]
  },
  {
   "cell_type": "code",
   "execution_count": 20,
   "id": "db342de7-3bb5-4ebc-aa41-b68a7cfb0faf",
   "metadata": {},
   "outputs": [
    {
     "name": "stdout",
     "output_type": "stream",
     "text": [
      "is_true yes\n"
     ]
    }
   ],
   "source": [
    "is_true ='yes'\n",
    "print('is_true',is_true)"
   ]
  },
  {
   "cell_type": "code",
   "execution_count": 22,
   "id": "8cbd61fd-ed64-4db4-bd55-2d8cc66e8d61",
   "metadata": {},
   "outputs": [
    {
     "name": "stdout",
     "output_type": "stream",
     "text": [
      "is_light_on =  No\n"
     ]
    }
   ],
   "source": [
    "is_light_on = 'No'\n",
    "print('is_light_on = ',is_light_on)"
   ]
  },
  {
   "cell_type": "code",
   "execution_count": 25,
   "id": "4ad3e77d-852c-473d-a0b1-0e12c1748b2c",
   "metadata": {},
   "outputs": [
    {
     "name": "stdout",
     "output_type": "stream",
     "text": [
      "First_name Abdul Sami\n",
      "Last_name Wadho\n",
      "Full_name Abdul Sami Wadho\n",
      "Country = Pakistan\n",
      "City = Karachi\n",
      "Age = 22\n",
      "year  = 2024\n",
      "is_married = single\n",
      "is_true yes\n",
      "is_light_on =  No\n"
     ]
    }
   ],
   "source": [
    "First_name = 'Abdul Sami'\n",
    "Last_name = 'Wadho'\n",
    "Full_name = 'Abdul Sami Wadho'\n",
    "Country = 'Pakistan'\n",
    "City = 'Karachi'\n",
    "Age = 22\n",
    "year = 2024\n",
    "is_married = 'single'\n",
    "is_true ='yes'\n",
    "is_light_on = 'No'\n",
    "\n",
    "\n",
    "print('First_name =',First_name)\n",
    "print('Last_name =',Last_name)\n",
    "print('Full_name =',Full_name)\n",
    "print('Country =',Country)\n",
    "print('City =' ,  City)\n",
    "print('Age =',Age)\n",
    "print('year  =',year)\n",
    "print('is_married =',is_married)\n",
    "print('is_true',is_true)\n",
    "print('is_light_on = ',is_light_on)"
   ]
  },
  {
   "cell_type": "raw",
   "id": "e6e34b71-2eb9-4351-a6ae-799d1634779d",
   "metadata": {},
   "source": [
    "             Exercises: Level 2\n",
    "\n",
    "1. Check the data type of all your variables using type() built-in function\n",
    "2. Using the _len()_ built-in function, find the length of your first name\n",
    "3. Compare the length of your first name and your last name\n",
    "4. Declare 5 as num_one and 4 as num_two\n",
    "    1. Add num_one and num_two and assign the value to a variable total\n",
    "    2. Subtract num_two from num_one and assign the value to a variable diff\n",
    "    3. Multiply num_two and num_one and assign the value to a variable product\n",
    "    4. Divide num_one by num_two and assign the value to a variable division\n",
    "    5. Use modulus division to find num_two divided by num_one and assign the value to a variable remainder\n",
    "    6. Calculate num_one to the power of num_two and assign the value to a variable exp\n",
    "    7. Find floor division of num_one by num_two and assign the value to a variable floor_division\n",
    "5. The radius of a circle is 30 meters.\n",
    "    1. Calculate the area of a circle and assign the value to a variable name of _area_of_circle_\n",
    "    2. Calculate the circumference of a circle and assign the value to a variable name of _circum_of_circle_\n",
    "    3. Take radius as user input and calculate the area.\n",
    "6. Use the built-in input function to get first name, last name, country and age from a user and store the value to their corresponding variable names\n",
    "7. Run help('keywords') in Python shell or in your file to check for the Python reserved words or keywords"
   ]
  },
  {
   "cell_type": "code",
   "execution_count": 27,
   "id": "b92cba15-8a4e-4f6e-9b65-271a7edc2c71",
   "metadata": {},
   "outputs": [
    {
     "name": "stdout",
     "output_type": "stream",
     "text": [
      "First_name = <class 'str'>\n",
      "Last_name = <class 'str'>\n",
      "Full_name = <class 'str'>\n",
      "Country = <class 'str'>\n",
      "City = <class 'str'>\n",
      "Age = <class 'int'>\n",
      "year  = <class 'int'>\n",
      "is_married = <class 'str'>\n",
      "is_true <class 'str'>\n",
      "is_light_on =  <class 'str'>\n"
     ]
    }
   ],
   "source": [
    "# 1. Check the data type of all your variables using type() built-in function\n",
    "\n",
    "print('First_name =',type(First_name))\n",
    "print('Last_name =',type(Last_name))\n",
    "print('Full_name =',type(Full_name))\n",
    "print('Country =',type(Country))\n",
    "print('City =' ,  type(City))\n",
    "print('Age =',type(Age))\n",
    "print('year  =',type(year))\n",
    "print('is_married =',type(is_married))\n",
    "print('is_true',type(is_true))\n",
    "print('is_light_on = ',type(is_light_on))"
   ]
  },
  {
   "cell_type": "code",
   "execution_count": 28,
   "id": "04ad8d5c-511c-412f-bcf3-f158ee0c5b50",
   "metadata": {},
   "outputs": [
    {
     "data": {
      "text/plain": [
       "10"
      ]
     },
     "execution_count": 28,
     "metadata": {},
     "output_type": "execute_result"
    }
   ],
   "source": [
    "# 2. Using the _len()_ built-in function, find the length of your first name\n",
    "len(First_name)"
   ]
  },
  {
   "cell_type": "code",
   "execution_count": 37,
   "id": "14805feb-0f79-4138-8331-388ff5acd717",
   "metadata": {},
   "outputs": [
    {
     "name": "stdout",
     "output_type": "stream",
     "text": [
      "First_name = 10\n",
      "Last_name = 5\n"
     ]
    }
   ],
   "source": [
    "# 3. Compare the length of your first name and your last name\n",
    "print('First_name =',len(First_name) )\n",
    "print('Last_name =',len(Last_name) )\n"
   ]
  },
  {
   "cell_type": "code",
   "execution_count": 40,
   "id": "a2f1d913-6d9f-4994-bd28-05b230eb660b",
   "metadata": {},
   "outputs": [
    {
     "name": "stdout",
     "output_type": "stream",
     "text": [
      "num_one = 5\n",
      "num_two = 4\n"
     ]
    }
   ],
   "source": [
    "# 4. Declare 5 as num_one and 4 as num_two\n",
    "num_one = 5\n",
    "num_two = 4\n",
    "print('num_one =', num_one)\n",
    "print('num_two =' ,num_two)"
   ]
  },
  {
   "cell_type": "code",
   "execution_count": 42,
   "id": "f5a588c8-cd0b-45ee-83dc-0ad1b2b83ef6",
   "metadata": {},
   "outputs": [
    {
     "name": "stdout",
     "output_type": "stream",
     "text": [
      "total = 9\n"
     ]
    }
   ],
   "source": [
    "# i. Add num_one and num_two and assign the value to a variable total\n",
    "total = num_one + num_two\n",
    "print('total =',total)"
   ]
  },
  {
   "cell_type": "code",
   "execution_count": 43,
   "id": "dd843091-47f5-41f4-ae64-f7892e8bb244",
   "metadata": {},
   "outputs": [
    {
     "name": "stdout",
     "output_type": "stream",
     "text": [
      "diff = -1\n"
     ]
    }
   ],
   "source": [
    "# ii. Subtract num_two from num_one and assign the value to a variable diff\n",
    "\n",
    "diff = num_two - num_one\n",
    "print('diff =', diff)\n"
   ]
  },
  {
   "cell_type": "code",
   "execution_count": 44,
   "id": "25e1ab93-fdd0-4b11-9550-44086853e01d",
   "metadata": {},
   "outputs": [
    {
     "name": "stdout",
     "output_type": "stream",
     "text": [
      "Product =  20\n"
     ]
    }
   ],
   "source": [
    "# iii. Multiply num_two and num_one and assign the value to a variable product\n",
    "product = num_two * num_one\n",
    "print('Product = ', product)"
   ]
  },
  {
   "cell_type": "code",
   "execution_count": 49,
   "id": "7915b897-dee5-44d9-ad8a-e34bd2c4c49f",
   "metadata": {},
   "outputs": [
    {
     "name": "stdout",
     "output_type": "stream",
     "text": [
      "Divide =  1.0\n"
     ]
    }
   ],
   "source": [
    "# iv. Divide num_one by num_two and assign the value to a variable division\n",
    "\n",
    "Divide = num_two / num_two\n",
    "print('Divide = ',Divide)"
   ]
  },
  {
   "cell_type": "code",
   "execution_count": null,
   "id": "370220a0-ce6b-43b1-92f2-dba0fbc7797d",
   "metadata": {},
   "outputs": [],
   "source": [
    "# v. Use modulus division to find num_two divided by num_one and assign the value to a variable remainder"
   ]
  },
  {
   "cell_type": "code",
   "execution_count": 50,
   "id": "8cecdfec-48e9-4921-95b9-9ad19ed53746",
   "metadata": {},
   "outputs": [
    {
     "name": "stdout",
     "output_type": "stream",
     "text": [
      "remainder = 4\n"
     ]
    }
   ],
   "source": [
    "remainder = num_two % num_one\n",
    "print('remainder =' , remainder)"
   ]
  },
  {
   "cell_type": "code",
   "execution_count": 55,
   "id": "05d976d3-f413-4806-b135-e52122dec7e2",
   "metadata": {},
   "outputs": [
    {
     "name": "stdout",
     "output_type": "stream",
     "text": [
      "exp =  625\n"
     ]
    }
   ],
   "source": [
    "# vi. Calculate num_one to the power of num_two and assign the value to a variable exp\n",
    "exp =   num_one ** num_two\n",
    "print( 'exp = ',exp)"
   ]
  },
  {
   "cell_type": "code",
   "execution_count": 56,
   "id": "9363b708-48ca-4d9a-b2cb-2b09c10e72d8",
   "metadata": {},
   "outputs": [
    {
     "name": "stdout",
     "output_type": "stream",
     "text": [
      "floor_division 1\n"
     ]
    }
   ],
   "source": [
    "# vii. Find floor division of num_one by num_two and assign the value to a variable floor_division\n",
    "floor_division = num_one // num_two\n",
    "print('floor_division =',floor_division)"
   ]
  },
  {
   "cell_type": "code",
   "execution_count": 60,
   "id": "62f707d6-982b-4b56-b008-135304defeba",
   "metadata": {},
   "outputs": [],
   "source": [
    "# 5. The radius of a circle is 30 meters.\n"
   ]
  },
  {
   "cell_type": "code",
   "execution_count": 64,
   "id": "ebab66c5-02ae-4ab1-a436-1c13b0755d0b",
   "metadata": {},
   "outputs": [
    {
     "name": "stdout",
     "output_type": "stream",
     "text": [
      "_area_of_circle_ =  808889954861003.4\n"
     ]
    }
   ],
   "source": [
    "# i. Calculate the area of a circle and assign the value to a variable name of _area_of_circle_\n",
    "pi = 3.14\n",
    "r = 30\n",
    "_area_of_circle_ = pi*r**2\n",
    "print('_area_of_circle_ = ',_area_of_circle_)"
   ]
  },
  {
   "cell_type": "code",
   "execution_count": 65,
   "id": "63e777dc-9fb1-413e-9757-1d073d32b910",
   "metadata": {},
   "outputs": [
    {
     "name": "stdout",
     "output_type": "stream",
     "text": [
      "Circle =  188.4\n"
     ]
    }
   ],
   "source": [
    "# ii. Calculate the circumference of a circle and assign the value to a variable name of _circum_of_circle_\n",
    "pi = 3.14\n",
    "r = 30\n",
    "_area_of_circle_ = 2*pi*r\n",
    "print('Circle = ',circle)"
   ]
  },
  {
   "cell_type": "code",
   "execution_count": 69,
   "id": "73c2b3f4-3447-40f6-8ed6-dee19c175aa8",
   "metadata": {},
   "outputs": [
    {
     "name": "stdin",
     "output_type": "stream",
     "text": [
      "radius 16\n"
     ]
    },
    {
     "name": "stdout",
     "output_type": "stream",
     "text": [
      "area =  803.84\n"
     ]
    }
   ],
   "source": [
    "# iii. Take radius as user input and calculate the area.\n",
    "radius = int(input('radius'))\n",
    "area  = pi*radius**2\n",
    "print('area = ',area)"
   ]
  },
  {
   "cell_type": "code",
   "execution_count": 75,
   "id": "a13e89c6-8467-4a94-a65a-fe5bf3bc832f",
   "metadata": {},
   "outputs": [
    {
     "name": "stdin",
     "output_type": "stream",
     "text": [
      "First_name sa\n",
      "Last_name s\n",
      "Full_name s\n",
      "Country s\n",
      "City s\n"
     ]
    },
    {
     "name": "stdout",
     "output_type": "stream",
     "text": [
      "\n",
      "First_name = sa\n",
      "Last_name = s\n",
      "Full_name = s\n",
      "Country = s\n",
      "City = s\n"
     ]
    }
   ],
   "source": [
    "# 6. Use the built-in input function to get first name, last name, country and age from a user and store the value to their corresponding variable names\n",
    "\n",
    "First_name = input('First_name')\n",
    "Last_name = input('Last_name')\n",
    "Full_name = input('Full_name')\n",
    "Country = input('Country')\n",
    "City = input('City')\n",
    "\n",
    "\n",
    "\n",
    "print('\\nFirst_name =',First_name)\n",
    "print('Last_name =',Last_name)\n",
    "print('Full_name =',Full_name)\n",
    "print('Country =',Country)\n",
    "print('City =' ,  City)"
   ]
  },
  {
   "cell_type": "code",
   "execution_count": 77,
   "id": "3fd0b593-3a16-4428-b184-aba770e2b709",
   "metadata": {},
   "outputs": [
    {
     "name": "stdout",
     "output_type": "stream",
     "text": [
      "\n",
      "Here is a list of the Python keywords.  Enter any keyword to get more help.\n",
      "\n",
      "False               class               from                or\n",
      "None                continue            global              pass\n",
      "True                def                 if                  raise\n",
      "and                 del                 import              return\n",
      "as                  elif                in                  try\n",
      "assert              else                is                  while\n",
      "async               except              lambda              with\n",
      "await               finally             nonlocal            yield\n",
      "break               for                 not                 \n",
      "\n"
     ]
    }
   ],
   "source": [
    "# 7. Run help('keywords') in Python shell or in your file to check for the Python reserved words or keywords\n",
    "\n",
    "help('keywords') \n",
    "\n",
    "#The help('keywords') command in Python provides a list of all the reserved words or keywords in the Python language. "
   ]
  },
  {
   "cell_type": "code",
   "execution_count": null,
   "id": "6450eb11-ba56-46ac-97db-8d1714d50b03",
   "metadata": {},
   "outputs": [],
   "source": []
  }
 ],
 "metadata": {
  "kernelspec": {
   "display_name": "Python 3 (ipykernel)",
   "language": "python",
   "name": "python3"
  },
  "language_info": {
   "codemirror_mode": {
    "name": "ipython",
    "version": 3
   },
   "file_extension": ".py",
   "mimetype": "text/x-python",
   "name": "python",
   "nbconvert_exporter": "python",
   "pygments_lexer": "ipython3",
   "version": "3.11.7"
  }
 },
 "nbformat": 4,
 "nbformat_minor": 5
}
