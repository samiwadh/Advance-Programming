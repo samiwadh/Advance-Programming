{
 "cells": [
  {
   "cell_type": "code",
   "execution_count": 3,
   "id": "eaa21a61-531f-4c00-9524-a73c1b978203",
   "metadata": {},
   "outputs": [],
   "source": [
    "import numpy as np"
   ]
  },
  {
   "cell_type": "code",
   "execution_count": 4,
   "id": "63cf8c67-806d-40b6-ab6c-acfb9310460b",
   "metadata": {},
   "outputs": [],
   "source": [
    "python_list = range(1000000) # list from 0 to 100000000"
   ]
  },
  {
   "cell_type": "code",
   "execution_count": 5,
   "id": "7f809c26-599a-4bb8-8235-11637c9a1fd5",
   "metadata": {},
   "outputs": [
    {
     "data": {
      "text/plain": [
       "range(0, 1000000)"
      ]
     },
     "execution_count": 5,
     "metadata": {},
     "output_type": "execute_result"
    }
   ],
   "source": [
    "python_list"
   ]
  },
  {
   "cell_type": "code",
   "execution_count": 6,
   "id": "456450ac-613a-4ba1-a9ea-820a74bffde0",
   "metadata": {},
   "outputs": [],
   "source": [
    "numpy_array  = np.arange(1000000)"
   ]
  },
  {
   "cell_type": "code",
   "execution_count": 7,
   "id": "44f5963f-304f-400e-90ae-15c84abb1610",
   "metadata": {},
   "outputs": [
    {
     "data": {
      "text/plain": [
       "array([     0,      1,      2, ..., 999997, 999998, 999999])"
      ]
     },
     "execution_count": 7,
     "metadata": {},
     "output_type": "execute_result"
    }
   ],
   "source": [
    "numpy_array "
   ]
  },
  {
   "cell_type": "code",
   "execution_count": 8,
   "id": "bb2a20f6-1b12-4f0a-8b10-1d2e8f14bf0b",
   "metadata": {},
   "outputs": [],
   "source": [
    "# range return list and arange return array"
   ]
  },
  {
   "cell_type": "markdown",
   "id": "22bdc6b7-3c90-4688-99a1-c90e24e7c1c9",
   "metadata": {},
   "source": [
    "### two mehtod to do this work 1st this programme and second is comprehension \n",
    "### we work on comprehension method "
   ]
  },
  {
   "cell_type": "code",
   "execution_count": 9,
   "id": "b32cc2e4-0167-4915-8457-a6daa25f19cc",
   "metadata": {},
   "outputs": [],
   "source": [
    "results = []\n",
    "for i in python_list :\n",
    "    results.append(i*5)\n",
    "    "
   ]
  },
  {
   "cell_type": "code",
   "execution_count": 10,
   "id": "751f2899-ec6a-4eba-b6f8-3cb3ae0b175a",
   "metadata": {},
   "outputs": [],
   "source": [
    "#multiply a list with 5,1000 times using List comprehension"
   ]
  },
  {
   "cell_type": "code",
   "execution_count": 11,
   "id": "f5ea1100-bcc3-4909-9383-0e3e8050bd18",
   "metadata": {},
   "outputs": [
    {
     "name": "stdout",
     "output_type": "stream",
     "text": [
      "CPU times: user 3 µs, sys: 1 µs, total: 4 µs\n",
      "Wall time: 5.48 µs\n"
     ]
    }
   ],
   "source": [
    "%time"
   ]
  },
  {
   "cell_type": "code",
   "execution_count": 12,
   "id": "801fe8ca-6682-4955-9d1f-5c7b269620b4",
   "metadata": {},
   "outputs": [
    {
     "name": "stdout",
     "output_type": "stream",
     "text": [
      "CPU times: user 40.7 s, sys: 552 ms, total: 41.2 s\n",
      "Wall time: 41.3 s\n"
     ]
    }
   ],
   "source": [
    "%time for i in range(1000): results = [i*5 for i in python_list] "
   ]
  },
  {
   "cell_type": "code",
   "execution_count": 13,
   "id": "5d4d34db-7814-4579-97ba-a82fd4afd0aa",
   "metadata": {},
   "outputs": [
    {
     "data": {
      "text/plain": [
       "array([      0,       5,      10, ..., 4999985, 4999990, 4999995])"
      ]
     },
     "execution_count": 13,
     "metadata": {},
     "output_type": "execute_result"
    }
   ],
   "source": [
    "numpy_array * 5"
   ]
  },
  {
   "cell_type": "markdown",
   "id": "53304798-774a-45c0-8d0f-b74504715e79",
   "metadata": {},
   "source": [
    "# if we want to watch how much time it take we use\"%timeit\"\n",
    "# or \"%time\""
   ]
  },
  {
   "cell_type": "code",
   "execution_count": 14,
   "id": "f69216bf-7702-402f-9688-70bd06b67ceb",
   "metadata": {},
   "outputs": [
    {
     "name": "stdout",
     "output_type": "stream",
     "text": [
      "CPU times: user 342 µs, sys: 3.94 ms, total: 4.28 ms\n",
      "Wall time: 3.43 ms\n"
     ]
    },
    {
     "data": {
      "text/plain": [
       "array([      0,       5,      10, ..., 4999985, 4999990, 4999995])"
      ]
     },
     "execution_count": 14,
     "metadata": {},
     "output_type": "execute_result"
    }
   ],
   "source": [
    "%time numpy_array*5"
   ]
  },
  {
   "cell_type": "code",
   "execution_count": 15,
   "id": "f128dc3b-6820-4c04-9d58-7aaf6363a0bd",
   "metadata": {},
   "outputs": [
    {
     "name": "stdout",
     "output_type": "stream",
     "text": [
      "1.13 ms ± 50.1 µs per loop (mean ± std. dev. of 7 runs, 1,000 loops each)\n"
     ]
    }
   ],
   "source": [
    "%timeit numpy_array * 5 "
   ]
  },
  {
   "cell_type": "code",
   "execution_count": 16,
   "id": "4ae62f1a-cd6a-4f77-bc86-d02f733cd66c",
   "metadata": {},
   "outputs": [
    {
     "name": "stdout",
     "output_type": "stream",
     "text": [
      "CPU times: user 1.33 s, sys: 4.03 ms, total: 1.33 s\n",
      "Wall time: 1.33 s\n"
     ]
    }
   ],
   "source": [
    "%time for i in range(1000): result = numpy_array * 5  #it multi 1 by 1 till 1000 time"
   ]
  },
  {
   "cell_type": "markdown",
   "id": "29782d57-7c61-49f4-bd34-0f4429538d5d",
   "metadata": {},
   "source": [
    "# now as we can see that it only take 1,4 sec to compile same qustion as we do in list\n",
    "# Summary the qustion is compare numpy array and python list\n",
    "# the above code are explaining that is diffenent in below same thing we did for explain you"
   ]
  },
  {
   "cell_type": "code",
   "execution_count": 17,
   "id": "4f1d7223-bc52-4180-8e47-9d19788c6ce0",
   "metadata": {},
   "outputs": [
    {
     "name": "stdout",
     "output_type": "stream",
     "text": [
      "CPU times: user 2 µs, sys: 0 ns, total: 2 µs\n",
      "Wall time: 3.58 µs\n"
     ]
    },
    {
     "data": {
      "text/plain": [
       "range(0, 1000000)"
      ]
     },
     "execution_count": 17,
     "metadata": {},
     "output_type": "execute_result"
    }
   ],
   "source": [
    "%time python_list"
   ]
  },
  {
   "cell_type": "code",
   "execution_count": 18,
   "id": "a261bf06-c2b9-468b-8120-64d5317c0560",
   "metadata": {},
   "outputs": [
    {
     "name": "stdout",
     "output_type": "stream",
     "text": [
      "CPU times: user 1e+03 ns, sys: 0 ns, total: 1e+03 ns\n",
      "Wall time: 3.1 µs\n"
     ]
    },
    {
     "data": {
      "text/plain": [
       "array([     0,      1,      2, ..., 999997, 999998, 999999])"
      ]
     },
     "execution_count": 18,
     "metadata": {},
     "output_type": "execute_result"
    }
   ],
   "source": [
    "%time numpy_array"
   ]
  },
  {
   "cell_type": "markdown",
   "id": "97ea8460-ff9d-4822-aa76-c7833cb38283",
   "metadata": {},
   "source": [
    "# Numpy array creation Methods\n",
    "### np.array(): convert input data to an ndarray\n",
    "### np.zeros(): produces arrays of 0s\n",
    "### np.ones(): produces arrays of 1s\n",
    "### np.empty(): create new arrays by allocating new memory, but do not populate with any values\n",
    "### np.arange(): like the built-in range but returns an ndarray instead of a list"
   ]
  },
  {
   "cell_type": "code",
   "execution_count": 19,
   "id": "77fc31bd-b6b4-498c-95e1-da5d7eed8d1b",
   "metadata": {},
   "outputs": [
    {
     "data": {
      "text/plain": [
       "array([0., 0., 0., 0., 0., 0., 0., 0., 0., 0.])"
      ]
     },
     "execution_count": 19,
     "metadata": {},
     "output_type": "execute_result"
    }
   ],
   "source": [
    "np.zeros(10)"
   ]
  },
  {
   "cell_type": "code",
   "execution_count": 20,
   "id": "9513ddf5-6f67-4c09-aeef-bcecfd683e9e",
   "metadata": {},
   "outputs": [
    {
     "data": {
      "text/plain": [
       "array([0., 0., 0., 0., 0., 0., 0., 0., 0., 0.])"
      ]
     },
     "execution_count": 20,
     "metadata": {},
     "output_type": "execute_result"
    }
   ],
   "source": [
    "one_d_array = np.zeros((10))\n",
    "one_d_array"
   ]
  },
  {
   "cell_type": "code",
   "execution_count": 21,
   "id": "07cd223b-6430-4555-a681-c4de4768e11e",
   "metadata": {},
   "outputs": [
    {
     "data": {
      "text/plain": [
       "array([5., 5., 5., 5., 5., 5., 5., 5., 5., 5.])"
      ]
     },
     "execution_count": 21,
     "metadata": {},
     "output_type": "execute_result"
    }
   ],
   "source": [
    "x = one_d_array + 5\n",
    "x"
   ]
  },
  {
   "cell_type": "code",
   "execution_count": 22,
   "id": "3cab92e6-9fbc-4e41-8183-fb1b02a6f6f8",
   "metadata": {},
   "outputs": [
    {
     "data": {
      "text/plain": [
       "array([1., 1., 1., 1., 1., 1., 1., 1., 1., 1.])"
      ]
     },
     "execution_count": 22,
     "metadata": {},
     "output_type": "execute_result"
    }
   ],
   "source": [
    "one_d_array =np.ones(10)\n",
    "one_d_array"
   ]
  },
  {
   "cell_type": "code",
   "execution_count": 23,
   "id": "2fed4a98-fb1e-4083-a369-866efedcd417",
   "metadata": {},
   "outputs": [
    {
     "data": {
      "text/plain": [
       "array([3., 3., 3., 3., 3., 3., 3., 3., 3., 3.])"
      ]
     },
     "execution_count": 23,
     "metadata": {},
     "output_type": "execute_result"
    }
   ],
   "source": [
    "y = one_d_array*3\n",
    "y"
   ]
  },
  {
   "cell_type": "code",
   "execution_count": 24,
   "id": "2f26a254-163e-48b2-9417-9167b6450090",
   "metadata": {},
   "outputs": [],
   "source": [
    " # print 1 to 10 number throught numpuy\n",
    "x = np.arange(1,10)"
   ]
  },
  {
   "cell_type": "code",
   "execution_count": 25,
   "id": "7c356c61-5e71-4e16-b9f7-3d8e7dba01d2",
   "metadata": {},
   "outputs": [
    {
     "data": {
      "text/plain": [
       "array([1, 2, 3, 4, 5, 6, 7, 8, 9])"
      ]
     },
     "execution_count": 25,
     "metadata": {},
     "output_type": "execute_result"
    }
   ],
   "source": [
    "x"
   ]
  },
  {
   "cell_type": "code",
   "execution_count": 26,
   "id": "f6ff7f4a-9536-4666-8d01-1065c63474c0",
   "metadata": {},
   "outputs": [
    {
     "data": {
      "text/plain": [
       "array([[0., 0., 0., 0., 0.],\n",
       "       [0., 0., 0., 0., 0.],\n",
       "       [0., 0., 0., 0., 0.],\n",
       "       [0., 0., 0., 0., 0.],\n",
       "       [0., 0., 0., 0., 0.],\n",
       "       [0., 0., 0., 0., 0.],\n",
       "       [0., 0., 0., 0., 0.],\n",
       "       [0., 0., 0., 0., 0.],\n",
       "       [0., 0., 0., 0., 0.],\n",
       "       [0., 0., 0., 0., 0.]])"
      ]
     },
     "execution_count": 26,
     "metadata": {},
     "output_type": "execute_result"
    }
   ],
   "source": [
    "            #shape of array \n",
    "        #In 2d 5 is column 10 is row\n",
    "np.zeros((10,5))     "
   ]
  },
  {
   "cell_type": "code",
   "execution_count": 27,
   "id": "483a5eb0-c293-4b68-b95f-149e802b0cdd",
   "metadata": {},
   "outputs": [
    {
     "data": {
      "text/plain": [
       "array([[0., 0., 0., 0., 0.],\n",
       "       [0., 0., 0., 0., 0.],\n",
       "       [0., 0., 0., 0., 0.],\n",
       "       [0., 0., 0., 0., 0.],\n",
       "       [0., 0., 0., 0., 0.]])"
      ]
     },
     "execution_count": 27,
     "metadata": {},
     "output_type": "execute_result"
    }
   ],
   "source": [
    "y= np.zeros((5,5))\n",
    "y"
   ]
  },
  {
   "cell_type": "code",
   "execution_count": 28,
   "id": "6461ed47-a338-46e0-9c41-01da4b070bb4",
   "metadata": {},
   "outputs": [
    {
     "data": {
      "text/plain": [
       "array([[[0., 0.],\n",
       "        [0., 0.],\n",
       "        [0., 0.],\n",
       "        [0., 0.],\n",
       "        [0., 0.]],\n",
       "\n",
       "       [[0., 0.],\n",
       "        [0., 0.],\n",
       "        [0., 0.],\n",
       "        [0., 0.],\n",
       "        [0., 0.]],\n",
       "\n",
       "       [[0., 0.],\n",
       "        [0., 0.],\n",
       "        [0., 0.],\n",
       "        [0., 0.],\n",
       "        [0., 0.]],\n",
       "\n",
       "       [[0., 0.],\n",
       "        [0., 0.],\n",
       "        [0., 0.],\n",
       "        [0., 0.],\n",
       "        [0., 0.]]])"
      ]
     },
     "execution_count": 28,
     "metadata": {},
     "output_type": "execute_result"
    }
   ],
   "source": [
    "#In 3d 4 is depths 2 is column 5 is row \n",
    "np.zeros((4,5,2))"
   ]
  },
  {
   "cell_type": "code",
   "execution_count": 29,
   "id": "3c54b7de-2ef0-4263-94b4-393fa129964f",
   "metadata": {},
   "outputs": [
    {
     "data": {
      "text/plain": [
       "array([[[[0., 0., 0., 0., 0., 0.],\n",
       "         [0., 0., 0., 0., 0., 0.]],\n",
       "\n",
       "        [[0., 0., 0., 0., 0., 0.],\n",
       "         [0., 0., 0., 0., 0., 0.]],\n",
       "\n",
       "        [[0., 0., 0., 0., 0., 0.],\n",
       "         [0., 0., 0., 0., 0., 0.]],\n",
       "\n",
       "        [[0., 0., 0., 0., 0., 0.],\n",
       "         [0., 0., 0., 0., 0., 0.]],\n",
       "\n",
       "        [[0., 0., 0., 0., 0., 0.],\n",
       "         [0., 0., 0., 0., 0., 0.]]],\n",
       "\n",
       "\n",
       "       [[[0., 0., 0., 0., 0., 0.],\n",
       "         [0., 0., 0., 0., 0., 0.]],\n",
       "\n",
       "        [[0., 0., 0., 0., 0., 0.],\n",
       "         [0., 0., 0., 0., 0., 0.]],\n",
       "\n",
       "        [[0., 0., 0., 0., 0., 0.],\n",
       "         [0., 0., 0., 0., 0., 0.]],\n",
       "\n",
       "        [[0., 0., 0., 0., 0., 0.],\n",
       "         [0., 0., 0., 0., 0., 0.]],\n",
       "\n",
       "        [[0., 0., 0., 0., 0., 0.],\n",
       "         [0., 0., 0., 0., 0., 0.]]],\n",
       "\n",
       "\n",
       "       [[[0., 0., 0., 0., 0., 0.],\n",
       "         [0., 0., 0., 0., 0., 0.]],\n",
       "\n",
       "        [[0., 0., 0., 0., 0., 0.],\n",
       "         [0., 0., 0., 0., 0., 0.]],\n",
       "\n",
       "        [[0., 0., 0., 0., 0., 0.],\n",
       "         [0., 0., 0., 0., 0., 0.]],\n",
       "\n",
       "        [[0., 0., 0., 0., 0., 0.],\n",
       "         [0., 0., 0., 0., 0., 0.]],\n",
       "\n",
       "        [[0., 0., 0., 0., 0., 0.],\n",
       "         [0., 0., 0., 0., 0., 0.]]],\n",
       "\n",
       "\n",
       "       [[[0., 0., 0., 0., 0., 0.],\n",
       "         [0., 0., 0., 0., 0., 0.]],\n",
       "\n",
       "        [[0., 0., 0., 0., 0., 0.],\n",
       "         [0., 0., 0., 0., 0., 0.]],\n",
       "\n",
       "        [[0., 0., 0., 0., 0., 0.],\n",
       "         [0., 0., 0., 0., 0., 0.]],\n",
       "\n",
       "        [[0., 0., 0., 0., 0., 0.],\n",
       "         [0., 0., 0., 0., 0., 0.]],\n",
       "\n",
       "        [[0., 0., 0., 0., 0., 0.],\n",
       "         [0., 0., 0., 0., 0., 0.]]]])"
      ]
     },
     "execution_count": 29,
     "metadata": {},
     "output_type": "execute_result"
    }
   ],
   "source": [
    "                                    # 4d\n",
    "     #In 4d 4 is depths 2 is column 5 is row 2 6 is unknow\n",
    "x=np.zeros((4,5,2,6))  #\"\"\"(4,5,2,6)<-- this is tuple\"\"\"\n",
    "x"
   ]
  },
  {
   "cell_type": "code",
   "execution_count": 30,
   "id": "630a85bb-a5c4-44d7-ab58-dc94554f8ca7",
   "metadata": {},
   "outputs": [
    {
     "data": {
      "text/plain": [
       "(4, 5, 2, 6)"
      ]
     },
     "execution_count": 30,
     "metadata": {},
     "output_type": "execute_result"
    }
   ],
   "source": [
    "                    #shape: a tuple indicating the size of each dimension\n",
    "                # it show previous dimesion used \n",
    "x.shape"
   ]
  },
  {
   "cell_type": "code",
   "execution_count": 31,
   "id": "bb512337-52ec-4149-8b42-6c39589fa3cf",
   "metadata": {},
   "outputs": [
    {
     "data": {
      "text/plain": [
       "(5, 5)"
      ]
     },
     "execution_count": 31,
     "metadata": {},
     "output_type": "execute_result"
    }
   ],
   "source": [
    "y.shape"
   ]
  },
  {
   "cell_type": "code",
   "execution_count": 32,
   "id": "9244b7e8-d212-4e6f-9268-e45310871c7f",
   "metadata": {},
   "outputs": [],
   "source": [
    "            # Arrary of user define by list "
   ]
  },
  {
   "cell_type": "code",
   "execution_count": 33,
   "id": "8f5e2667-51fd-47b7-9d3e-b632f9c21e5b",
   "metadata": {},
   "outputs": [
    {
     "data": {
      "text/plain": [
       "(12,)"
      ]
     },
     "execution_count": 33,
     "metadata": {},
     "output_type": "execute_result"
    }
   ],
   "source": [
    "        # now tell me which dimension is it\n",
    "x = np.array([1,2,3,4,5,6,7,8,9,10,11,12])\n",
    "x.shape"
   ]
  },
  {
   "cell_type": "code",
   "execution_count": 34,
   "id": "b9ec712e-56c6-42d3-a763-75c31d341f47",
   "metadata": {},
   "outputs": [
    {
     "data": {
      "text/plain": [
       "(8,)"
      ]
     },
     "execution_count": 34,
     "metadata": {},
     "output_type": "execute_result"
    }
   ],
   "source": [
    "y = np.array([1,2,3,4,5,6,67,7])\n",
    "y.shape"
   ]
  },
  {
   "cell_type": "code",
   "execution_count": 35,
   "id": "bc1758b8-ced9-4e60-a222-97849349c720",
   "metadata": {},
   "outputs": [
    {
     "data": {
      "text/plain": [
       "array([[ 1,  2,  3,  4],\n",
       "       [ 5,  6,  7,  8],\n",
       "       [ 9, 10, 11, 12]])"
      ]
     },
     "execution_count": 35,
     "metadata": {},
     "output_type": "execute_result"
    }
   ],
   "source": [
    "x.reshape(3,4)"
   ]
  },
  {
   "cell_type": "code",
   "execution_count": 36,
   "id": "91faebbe-0304-4ad1-9d1b-bb5291115b8b",
   "metadata": {},
   "outputs": [
    {
     "data": {
      "text/plain": [
       "array([[ 1,  2,  3,  4],\n",
       "       [ 5,  6, 67,  7]])"
      ]
     },
     "execution_count": 36,
     "metadata": {},
     "output_type": "execute_result"
    }
   ],
   "source": [
    "y=y.reshape(2,4)\n",
    "y"
   ]
  },
  {
   "cell_type": "code",
   "execution_count": 37,
   "id": "419a072b-f7f6-4811-b118-58265afd67c8",
   "metadata": {},
   "outputs": [
    {
     "data": {
      "text/plain": [
       "array([[[ 1,  2],\n",
       "        [ 3,  4],\n",
       "        [ 5,  6]],\n",
       "\n",
       "       [[ 7,  8],\n",
       "        [ 9, 10],\n",
       "        [11, 12]]])"
      ]
     },
     "execution_count": 37,
     "metadata": {},
     "output_type": "execute_result"
    }
   ],
   "source": [
    "t= x.reshape((2,3,2))\n",
    "t"
   ]
  },
  {
   "cell_type": "code",
   "execution_count": 38,
   "id": "686b020b-df40-4fcc-9810-1b66173d7f1a",
   "metadata": {},
   "outputs": [
    {
     "data": {
      "text/plain": [
       "(2, 3, 2)"
      ]
     },
     "execution_count": 38,
     "metadata": {},
     "output_type": "execute_result"
    }
   ],
   "source": [
    "# now i want to find out what is shape of t \n",
    "t.shape"
   ]
  },
  {
   "cell_type": "code",
   "execution_count": 39,
   "id": "19fa02a7-a6fc-43d1-8611-03199c6d816a",
   "metadata": {},
   "outputs": [
    {
     "data": {
      "text/plain": [
       "3"
      ]
     },
     "execution_count": 39,
     "metadata": {},
     "output_type": "execute_result"
    }
   ],
   "source": [
    "#ndim: the number of dimensions of the array\n",
    "t.ndim"
   ]
  },
  {
   "cell_type": "code",
   "execution_count": 40,
   "id": "dcd6ee3d-302f-4607-b3b6-f36dc416e412",
   "metadata": {},
   "outputs": [
    {
     "data": {
      "text/plain": [
       "1"
      ]
     },
     "execution_count": 40,
     "metadata": {},
     "output_type": "execute_result"
    }
   ],
   "source": [
    "x.ndim"
   ]
  },
  {
   "cell_type": "code",
   "execution_count": 41,
   "id": "69610237-51a1-4c3e-a7fe-395ec8ae074e",
   "metadata": {},
   "outputs": [
    {
     "data": {
      "text/plain": [
       "2"
      ]
     },
     "execution_count": 41,
     "metadata": {},
     "output_type": "execute_result"
    }
   ],
   "source": [
    "y.ndim"
   ]
  },
  {
   "cell_type": "code",
   "execution_count": 42,
   "id": "e7c9649b-4b59-42d5-a820-40805bd3fe1f",
   "metadata": {},
   "outputs": [],
   "source": [
    "# Accessing individual elemts of array |"
   ]
  },
  {
   "cell_type": "code",
   "execution_count": 43,
   "id": "e656c4ff-f206-482c-8f5a-ebca476fdc01",
   "metadata": {},
   "outputs": [
    {
     "data": {
      "text/plain": [
       "3"
      ]
     },
     "execution_count": 43,
     "metadata": {},
     "output_type": "execute_result"
    }
   ],
   "source": [
    "y[0,2] # it give us 3 bcz we told hime givr me that number which is on 2 index here are we #array([[ 1,  2,  3,  4],"
   ]
  },
  {
   "cell_type": "code",
   "execution_count": 44,
   "id": "9ed1a7c4-ddfc-409f-ab78-646bbc07cb15",
   "metadata": {},
   "outputs": [
    {
     "data": {
      "text/plain": [
       "array([[ 1,  2,  3,  4],\n",
       "       [ 5,  6, 67,  7]])"
      ]
     },
     "execution_count": 44,
     "metadata": {},
     "output_type": "execute_result"
    }
   ],
   "source": [
    "y[0:2]"
   ]
  },
  {
   "cell_type": "code",
   "execution_count": 45,
   "id": "6309f1cb-cfbc-4329-b76f-6a2e1e5ff296",
   "metadata": {},
   "outputs": [
    {
     "data": {
      "text/plain": [
       "array([[[ 1,  2,  3],\n",
       "        [ 4,  5,  6]],\n",
       "\n",
       "       [[ 7,  8,  9],\n",
       "        [10, 11, 12]]])"
      ]
     },
     "execution_count": 45,
     "metadata": {},
     "output_type": "execute_result"
    }
   ],
   "source": [
    "arr7 =np.array([[[1,2,3],[4,5,6]],[[7,8,9],[10,11,12]]])\n",
    "arr7"
   ]
  },
  {
   "cell_type": "code",
   "execution_count": 46,
   "id": "e241baba-d00c-44de-b791-3edfeea0ca27",
   "metadata": {},
   "outputs": [
    {
     "data": {
      "text/plain": [
       "(2, 2, 3)"
      ]
     },
     "execution_count": 46,
     "metadata": {},
     "output_type": "execute_result"
    }
   ],
   "source": [
    "arr7.shape # total number 2 , total pair 2 total column 3\n"
   ]
  },
  {
   "cell_type": "code",
   "execution_count": 47,
   "id": "18a74df9-8b8a-4028-85f7-3d655f60dfe2",
   "metadata": {},
   "outputs": [
    {
     "data": {
      "text/plain": [
       "12"
      ]
     },
     "execution_count": 47,
     "metadata": {},
     "output_type": "execute_result"
    }
   ],
   "source": [
    "arr7.size# total number of element \n"
   ]
  },
  {
   "cell_type": "code",
   "execution_count": 48,
   "id": "a6a06984-fef5-442a-84e8-c565a30cebdc",
   "metadata": {},
   "outputs": [
    {
     "data": {
      "text/plain": [
       "8"
      ]
     },
     "execution_count": 48,
     "metadata": {},
     "output_type": "execute_result"
    }
   ],
   "source": [
    "arr7.itemsize # total number of row "
   ]
  },
  {
   "cell_type": "code",
   "execution_count": 49,
   "id": "91434496-5026-40be-8471-c5dfc332fc68",
   "metadata": {},
   "outputs": [
    {
     "data": {
      "text/plain": [
       "array([[[ 1.,  2.,  3.],\n",
       "        [ 4.,  5.,  6.]],\n",
       "\n",
       "       [[ 7.,  8.,  9.],\n",
       "        [10., 11., 12.]]])"
      ]
     },
     "execution_count": 49,
     "metadata": {},
     "output_type": "execute_result"
    }
   ],
   "source": [
    "arr7.astype('float') #convert the datatype\n"
   ]
  },
  {
   "cell_type": "code",
   "execution_count": 50,
   "id": "7531f1e4-43e2-4211-b124-de8027dda70c",
   "metadata": {},
   "outputs": [],
   "source": [
    "x=np.empty(2)"
   ]
  },
  {
   "cell_type": "code",
   "execution_count": 51,
   "id": "bf5948c7-1475-4680-a011-b2a965ddf8dd",
   "metadata": {},
   "outputs": [
    {
     "data": {
      "text/plain": [
       "array([-2.00000000e+000,  1.72693856e-315])"
      ]
     },
     "execution_count": 51,
     "metadata": {},
     "output_type": "execute_result"
    }
   ],
   "source": [
    "x"
   ]
  },
  {
   "cell_type": "code",
   "execution_count": 52,
   "id": "ba8d3842-8974-433d-974b-d74365e53d9f",
   "metadata": {},
   "outputs": [],
   "source": [
    "x = np.array([1,2,3,4,5,6,7,8,9,10,11,12])\n",
    "y = x.reshape(4,3)"
   ]
  },
  {
   "cell_type": "code",
   "execution_count": 55,
   "id": "e23616cd-cb16-43a1-957e-d25002053197",
   "metadata": {},
   "outputs": [
    {
     "data": {
      "text/plain": [
       "8"
      ]
     },
     "execution_count": 55,
     "metadata": {},
     "output_type": "execute_result"
    }
   ],
   "source": [
    "y.itemsize"
   ]
  },
  {
   "cell_type": "code",
   "execution_count": 56,
   "id": "4de0f8a8-5922-4207-a911-089b46169da8",
   "metadata": {},
   "outputs": [
    {
     "data": {
      "text/plain": [
       "12"
      ]
     },
     "execution_count": 56,
     "metadata": {},
     "output_type": "execute_result"
    }
   ],
   "source": [
    "y.size"
   ]
  },
  {
   "cell_type": "code",
   "execution_count": 57,
   "id": "db619f11-8de6-439a-95cb-6a4506b61291",
   "metadata": {},
   "outputs": [
    {
     "data": {
      "text/plain": [
       "dtype('int64')"
      ]
     },
     "execution_count": 57,
     "metadata": {},
     "output_type": "execute_result"
    }
   ],
   "source": [
    "y.dtype"
   ]
  },
  {
   "cell_type": "code",
   "execution_count": 58,
   "id": "34a1a083-6b1d-4108-b2ac-a70a30671b15",
   "metadata": {},
   "outputs": [
    {
     "data": {
      "text/plain": [
       "array([[ 1.,  2.,  3.],\n",
       "       [ 4.,  5.,  6.],\n",
       "       [ 7.,  8.,  9.],\n",
       "       [10., 11., 12.]])"
      ]
     },
     "execution_count": 58,
     "metadata": {},
     "output_type": "execute_result"
    }
   ],
   "source": [
    "y.astype('float')"
   ]
  },
  {
   "cell_type": "code",
   "execution_count": 65,
   "id": "ebe84798-3f53-4410-8845-6e1d1802a98b",
   "metadata": {},
   "outputs": [
    {
     "data": {
      "text/plain": [
       "array([[[ 1,  2,  3],\n",
       "        [ 4,  5,  6]],\n",
       "\n",
       "       [[ 7,  8,  9],\n",
       "        [10, 11, 12]]])"
      ]
     },
     "execution_count": 65,
     "metadata": {},
     "output_type": "execute_result"
    }
   ],
   "source": [
    "z = x.reshape(2,2,3)\n",
    "z"
   ]
  },
  {
   "cell_type": "code",
   "execution_count": 67,
   "id": "20eab99d-f92c-4077-a231-b19e649e563b",
   "metadata": {},
   "outputs": [
    {
     "data": {
      "text/plain": [
       "array([[ 4,  5,  6],\n",
       "       [10, 11, 12]])"
      ]
     },
     "execution_count": 67,
     "metadata": {},
     "output_type": "execute_result"
    }
   ],
   "source": [
    "z[0:3,1]"
   ]
  },
  {
   "cell_type": "code",
   "execution_count": 72,
   "id": "ddd3feb5-e070-41ac-b4ed-7c8c5c28d978",
   "metadata": {},
   "outputs": [
    {
     "data": {
      "text/plain": [
       "(8,)"
      ]
     },
     "execution_count": 72,
     "metadata": {},
     "output_type": "execute_result"
    }
   ],
   "source": [
    "x = np.array([1,2,3,6,7,8,9,12])\n",
    "x\n",
    "        # now tell me which dimension is it\n",
    "x.shape"
   ]
  },
  {
   "cell_type": "code",
   "execution_count": 74,
   "id": "c7f6f2d9-e5e4-4340-bf81-b61193457edd",
   "metadata": {},
   "outputs": [
    {
     "data": {
      "text/plain": [
       "array([[ 1,  2],\n",
       "       [ 3,  6],\n",
       "       [ 7,  8],\n",
       "       [ 9, 12]])"
      ]
     },
     "execution_count": 74,
     "metadata": {},
     "output_type": "execute_result"
    }
   ],
   "source": [
    "# Slicing : start ,end , step \n",
    "y = x.reshape(4,2)\n",
    "y"
   ]
  },
  {
   "cell_type": "code",
   "execution_count": 75,
   "id": "0987dddd-9007-4ec5-bd19-cfe17c2c989b",
   "metadata": {},
   "outputs": [
    {
     "data": {
      "text/plain": [
       "array([[1, 2],\n",
       "       [3, 6],\n",
       "       [7, 8]])"
      ]
     },
     "execution_count": 75,
     "metadata": {},
     "output_type": "execute_result"
    }
   ],
   "source": [
    "y[0:3]  \n"
   ]
  },
  {
   "cell_type": "code",
   "execution_count": 76,
   "id": "551c2a7f-44a1-413b-9b9d-e2ef97f97022",
   "metadata": {},
   "outputs": [
    {
     "data": {
      "text/plain": [
       "array([2, 6, 8])"
      ]
     },
     "execution_count": 76,
     "metadata": {},
     "output_type": "execute_result"
    }
   ],
   "source": [
    "y[0:3,1]    # here 0 is first index which is [1,2],then :3 third row but as we know in slicking\n",
    "            # third is exclued therefore 3 is consider as [7,8] , then 1 here is column it \n",
    "            # mean take number from 0 till three row but only column number one value which is \n",
    "            # [2,6,8]"
   ]
  },
  {
   "cell_type": "code",
   "execution_count": 84,
   "id": "d8addd8c-5be0-4f81-988d-d3af31c7ddb4",
   "metadata": {},
   "outputs": [
    {
     "data": {
      "text/plain": [
       "array([[1, 2],\n",
       "       [7, 8]])"
      ]
     },
     "execution_count": 84,
     "metadata": {},
     "output_type": "execute_result"
    }
   ],
   "source": [
    "y[::2]   # if we want to silining only row which will be an alternative like it \n",
    "        # ignore [3,6,9,12] print "
   ]
  },
  {
   "cell_type": "code",
   "execution_count": 85,
   "id": "c7c7c94e-a5e4-4722-b0df-aa36cd2e418e",
   "metadata": {},
   "outputs": [
    {
     "data": {
      "text/plain": [
       "array([[ 1,  2],\n",
       "       [ 3,  6],\n",
       "       [ 7,  8],\n",
       "       [ 9, 12]])"
      ]
     },
     "execution_count": 85,
     "metadata": {},
     "output_type": "execute_result"
    }
   ],
   "source": [
    "y"
   ]
  },
  {
   "cell_type": "code",
   "execution_count": 86,
   "id": "f768e5f4-fa3c-4c78-a861-1043d4de94a2",
   "metadata": {},
   "outputs": [
    {
     "data": {
      "text/plain": [
       "array([1, 3, 7, 9])"
      ]
     },
     "execution_count": 86,
     "metadata": {},
     "output_type": "execute_result"
    }
   ],
   "source": [
    "y[::,0] # this is column vise rows we want 0, or 1 column because we have small data \n"
   ]
  },
  {
   "cell_type": "code",
   "execution_count": 87,
   "id": "d9cf97fb-0a14-4cbf-a790-9b48973def35",
   "metadata": {},
   "outputs": [
    {
     "data": {
      "text/plain": [
       "array([ 1,  2,  3,  6,  7,  8,  9, 12])"
      ]
     },
     "execution_count": 87,
     "metadata": {},
     "output_type": "execute_result"
    }
   ],
   "source": [
    "x"
   ]
  },
  {
   "cell_type": "markdown",
   "id": "26fe4d31-ff7b-4c55-809f-98ac4a063911",
   "metadata": {},
   "source": [
    "# now we want fancy indexing\n"
   ]
  },
  {
   "cell_type": "code",
   "execution_count": 94,
   "id": "86af1a5a-f82d-4d28-b050-83da2788158b",
   "metadata": {},
   "outputs": [
    {
     "data": {
      "text/plain": [
       "array([ 7,  2,  6,  8, 12])"
      ]
     },
     "execution_count": 94,
     "metadata": {},
     "output_type": "execute_result"
    }
   ],
   "source": [
    "x[[4,1,3,5,7]] #fancy indexing allows us to use an array of indices to access multiple array elements at once"
   ]
  },
  {
   "cell_type": "markdown",
   "id": "e1110e8c-cfbf-472b-b898-f4834a438426",
   "metadata": {},
   "source": [
    "# vectorized Operations"
   ]
  },
  {
   "cell_type": "code",
   "execution_count": 98,
   "id": "2cc81478-0a3c-4ea6-8f5c-730a1d4ddaf1",
   "metadata": {},
   "outputs": [
    {
     "data": {
      "text/plain": [
       "array([ 3,  8, 10, 15])"
      ]
     },
     "execution_count": 98,
     "metadata": {},
     "output_type": "execute_result"
    }
   ],
   "source": [
    "import numpy as np\n",
    "x = np.array([1,3,4,7])\n",
    "y = np.array([2,5,6,8])\n",
    "x+y"
   ]
  },
  {
   "cell_type": "code",
   "execution_count": 99,
   "id": "e29173a7-e10e-4921-b1c2-fefb0aca4114",
   "metadata": {},
   "outputs": [
    {
     "data": {
      "text/plain": [
       "array([-1, -2, -2, -1])"
      ]
     },
     "execution_count": 99,
     "metadata": {},
     "output_type": "execute_result"
    }
   ],
   "source": [
    "x-y"
   ]
  },
  {
   "cell_type": "code",
   "execution_count": 100,
   "id": "e07bb74c-a8bb-4248-bc58-d57a9d598bd0",
   "metadata": {},
   "outputs": [
    {
     "data": {
      "text/plain": [
       "array([0.5       , 0.6       , 0.66666667, 0.875     ])"
      ]
     },
     "execution_count": 100,
     "metadata": {},
     "output_type": "execute_result"
    }
   ],
   "source": [
    "x/y"
   ]
  },
  {
   "cell_type": "code",
   "execution_count": 101,
   "id": "dbaefc3b-e33a-490f-9875-ca66afb4b802",
   "metadata": {},
   "outputs": [
    {
     "data": {
      "text/plain": [
       "array([ 2, 15, 24, 56])"
      ]
     },
     "execution_count": 101,
     "metadata": {},
     "output_type": "execute_result"
    }
   ],
   "source": [
    "x*y"
   ]
  },
  {
   "cell_type": "code",
   "execution_count": 102,
   "id": "4a2a028d-fdd5-459e-8670-91c66fbaf978",
   "metadata": {},
   "outputs": [
    {
     "data": {
      "text/plain": [
       "array([1, 3, 4, 7])"
      ]
     },
     "execution_count": 102,
     "metadata": {},
     "output_type": "execute_result"
    }
   ],
   "source": [
    "x%y"
   ]
  },
  {
   "cell_type": "code",
   "execution_count": 103,
   "id": "73b06065-01e2-499d-88db-2212bbfe8911",
   "metadata": {},
   "outputs": [
    {
     "data": {
      "text/plain": [
       "array([  6,  45,  72, 168])"
      ]
     },
     "execution_count": 103,
     "metadata": {},
     "output_type": "execute_result"
    }
   ],
   "source": [
    "x * y *3"
   ]
  },
  {
   "cell_type": "markdown",
   "id": "219835b1-302f-4670-9f91-40d20fb1436f",
   "metadata": {},
   "source": [
    "# Shape Pratice\n",
    "### (1)\n",
    "### 00000\n",
    "### 11111\n",
    "### 11111\n",
    "### 11111\n",
    "### 00000"
   ]
  },
  {
   "cell_type": "code",
   "execution_count": 127,
   "id": "537c654a-79a2-4e4f-b495-4449e3bd9081",
   "metadata": {},
   "outputs": [
    {
     "data": {
      "text/plain": [
       "array([[1, 1, 1, 1, 1],\n",
       "       [1, 1, 1, 1, 1],\n",
       "       [1, 1, 1, 1, 1],\n",
       "       [1, 1, 1, 1, 1],\n",
       "       [1, 1, 1, 1, 1]])"
      ]
     },
     "execution_count": 127,
     "metadata": {},
     "output_type": "execute_result"
    }
   ],
   "source": [
    "x = np.ones((5,5))\n",
    "x.astype('int')"
   ]
  },
  {
   "cell_type": "code",
   "execution_count": 128,
   "id": "11ae37a0-4d57-4ad8-99f4-a803ec33967a",
   "metadata": {},
   "outputs": [],
   "source": [
    "x[0]=0\n",
    "x[4] =0"
   ]
  },
  {
   "cell_type": "code",
   "execution_count": 129,
   "id": "1fc189bf-7778-44c3-9347-6f658a5f3d48",
   "metadata": {},
   "outputs": [
    {
     "data": {
      "text/plain": [
       "array([[0., 0., 0., 0., 0.],\n",
       "       [1., 1., 1., 1., 1.],\n",
       "       [1., 1., 1., 1., 1.],\n",
       "       [1., 1., 1., 1., 1.],\n",
       "       [0., 0., 0., 0., 0.]])"
      ]
     },
     "execution_count": 129,
     "metadata": {},
     "output_type": "execute_result"
    }
   ],
   "source": [
    "x"
   ]
  },
  {
   "cell_type": "markdown",
   "id": "758e70a6-7d47-47f0-a087-795bf02b9c58",
   "metadata": {},
   "source": [
    "# (2)\n",
    "### 00000\n",
    "### 01110\n",
    "### 01110\n",
    "### 01110\n",
    "### 00000"
   ]
  },
  {
   "cell_type": "code",
   "execution_count": 130,
   "id": "0cfafa21-4f49-4c4a-b717-51245067a141",
   "metadata": {},
   "outputs": [
    {
     "data": {
      "text/plain": [
       "array([[0., 0., 0., 0., 0.],\n",
       "       [1., 1., 1., 1., 1.],\n",
       "       [1., 1., 1., 1., 1.],\n",
       "       [1., 1., 1., 1., 1.],\n",
       "       [0., 0., 0., 0., 0.]])"
      ]
     },
     "execution_count": 130,
     "metadata": {},
     "output_type": "execute_result"
    }
   ],
   "source": [
    "x"
   ]
  },
  {
   "cell_type": "code",
   "execution_count": 140,
   "id": "7141aed1-93ed-4b25-850c-eaf8f781201d",
   "metadata": {},
   "outputs": [
    {
     "data": {
      "text/plain": [
       "array([[0, 0, 0, 0, 0],\n",
       "       [0, 0, 0, 0, 0],\n",
       "       [0, 0, 0, 0, 0],\n",
       "       [0, 0, 0, 0, 0],\n",
       "       [0, 0, 0, 0, 0]])"
      ]
     },
     "execution_count": 140,
     "metadata": {},
     "output_type": "execute_result"
    }
   ],
   "source": [
    "y = np.zeros((5,5))\n",
    "y.astype('int')"
   ]
  },
  {
   "cell_type": "code",
   "execution_count": 142,
   "id": "42df51cf-f540-49d3-aaa7-0865638df073",
   "metadata": {},
   "outputs": [
    {
     "data": {
      "text/plain": [
       "array([[0., 0., 0., 0., 0.],\n",
       "       [0., 1., 1., 1., 0.],\n",
       "       [0., 1., 1., 1., 0.],\n",
       "       [0., 1., 1., 1., 0.],\n",
       "       [0., 0., 0., 0., 0.]])"
      ]
     },
     "execution_count": 142,
     "metadata": {},
     "output_type": "execute_result"
    }
   ],
   "source": [
    "y[1:4,1:4] = 1\n",
    "y"
   ]
  },
  {
   "cell_type": "code",
   "execution_count": null,
   "id": "9225317a-7832-4848-800e-47a8d2b3b64e",
   "metadata": {},
   "outputs": [],
   "source": []
  }
 ],
 "metadata": {
  "kernelspec": {
   "display_name": "Python 3 (ipykernel)",
   "language": "python",
   "name": "python3"
  },
  "language_info": {
   "codemirror_mode": {
    "name": "ipython",
    "version": 3
   },
   "file_extension": ".py",
   "mimetype": "text/x-python",
   "name": "python",
   "nbconvert_exporter": "python",
   "pygments_lexer": "ipython3",
   "version": "3.11.7"
  }
 },
 "nbformat": 4,
 "nbformat_minor": 5
}
