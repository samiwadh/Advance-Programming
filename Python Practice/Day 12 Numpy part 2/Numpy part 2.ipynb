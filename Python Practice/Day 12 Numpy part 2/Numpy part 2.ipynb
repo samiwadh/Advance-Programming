{
 "cells": [
  {
   "cell_type": "code",
   "execution_count": 5,
   "id": "521b7e1f-cf4b-4e40-bd98-de62085672d0",
   "metadata": {},
   "outputs": [],
   "source": [
    "import numpy as np \n",
    "arr1 = np.zeros((2,10))"
   ]
  },
  {
   "cell_type": "code",
   "execution_count": 6,
   "id": "bda976f0-7ca6-4a2e-a3ea-969186e436ca",
   "metadata": {},
   "outputs": [
    {
     "data": {
      "text/plain": [
       "array([[0., 0., 0., 0., 0., 0., 0., 0., 0., 0.],\n",
       "       [0., 0., 0., 0., 0., 0., 0., 0., 0., 0.]])"
      ]
     },
     "execution_count": 6,
     "metadata": {},
     "output_type": "execute_result"
    }
   ],
   "source": [
    "arr1"
   ]
  },
  {
   "cell_type": "code",
   "execution_count": 9,
   "id": "cf2f4b2e-95d8-47f7-8b0d-8355e887c8b2",
   "metadata": {},
   "outputs": [
    {
     "data": {
      "text/plain": [
       "array([[13., 13., 13., 13., 13., 13., 13., 13., 13., 13.],\n",
       "       [13., 13., 13., 13., 13., 13., 13., 13., 13., 13.]])"
      ]
     },
     "execution_count": 9,
     "metadata": {},
     "output_type": "execute_result"
    }
   ],
   "source": [
    "x = arr1 +13\n",
    "x"
   ]
  },
  {
   "cell_type": "code",
   "execution_count": 10,
   "id": "b611248c-0c4e-4c36-9034-1a4c07e56ee1",
   "metadata": {},
   "outputs": [
    {
     "data": {
      "text/plain": [
       "array([[1., 1., 1., 1., 1., 1., 1., 1., 1., 1.],\n",
       "       [1., 1., 1., 1., 1., 1., 1., 1., 1., 1.]])"
      ]
     },
     "execution_count": 10,
     "metadata": {},
     "output_type": "execute_result"
    }
   ],
   "source": [
    "arr2 = np.ones((2,10))\n",
    "arr2\n"
   ]
  },
  {
   "cell_type": "code",
   "execution_count": 11,
   "id": "1a69065b-5671-4be0-852e-3997843aa5a7",
   "metadata": {},
   "outputs": [
    {
     "data": {
      "text/plain": [
       "array([[1., 1., 1., 1., 1., 1., 1., 1., 1., 1.],\n",
       "       [1., 1., 1., 1., 1., 1., 1., 1., 1., 1.]])"
      ]
     },
     "execution_count": 11,
     "metadata": {},
     "output_type": "execute_result"
    }
   ],
   "source": [
    "y = arr2\n",
    "y"
   ]
  },
  {
   "cell_type": "code",
   "execution_count": 14,
   "id": "75a739f3-cc8d-484e-8fa1-0ae9665c6a92",
   "metadata": {},
   "outputs": [
    {
     "data": {
      "text/plain": [
       "array([[1., 1., 1., 1., 1., 1., 1., 1., 1., 1.],\n",
       "       [1., 1., 1., 1., 1., 1., 1., 1., 1., 1.]])"
      ]
     },
     "execution_count": 14,
     "metadata": {},
     "output_type": "execute_result"
    }
   ],
   "source": [
    "arr3 = arr1 + arr2 \n",
    "arr3"
   ]
  },
  {
   "cell_type": "code",
   "execution_count": 15,
   "id": "14c2e0d2-a526-4923-af96-7a85606af397",
   "metadata": {},
   "outputs": [
    {
     "data": {
      "text/plain": [
       "array([[14, 14, 14, 14, 14, 14, 14, 14, 14, 14],\n",
       "       [14, 14, 14, 14, 14, 14, 14, 14, 14, 14]])"
      ]
     },
     "execution_count": 15,
     "metadata": {},
     "output_type": "execute_result"
    }
   ],
   "source": [
    "z = x + y\n",
    "z.astype('int')"
   ]
  },
  {
   "cell_type": "code",
   "execution_count": 16,
   "id": "46613561-bb73-482d-9007-ef754347cc7f",
   "metadata": {},
   "outputs": [],
   "source": [
    "arr3 = arr1 * arr2 + 3 "
   ]
  },
  {
   "cell_type": "code",
   "execution_count": 17,
   "id": "6144a7f4-79d7-4a38-9d0b-d99bba16f820",
   "metadata": {},
   "outputs": [
    {
     "data": {
      "text/plain": [
       "array([[3., 3., 3., 3., 3., 3., 3., 3., 3., 3.],\n",
       "       [3., 3., 3., 3., 3., 3., 3., 3., 3., 3.]])"
      ]
     },
     "execution_count": 17,
     "metadata": {},
     "output_type": "execute_result"
    }
   ],
   "source": [
    "arr3"
   ]
  },
  {
   "cell_type": "markdown",
   "id": "a1773b5b-d49e-4b33-a220-a36deb78691c",
   "metadata": {},
   "source": [
    "# Note\n",
    "# np.where "
   ]
  },
  {
   "cell_type": "code",
   "execution_count": 20,
   "id": "7f7d99c2-c49e-456b-aa6a-5febfb3359af",
   "metadata": {},
   "outputs": [
    {
     "data": {
      "text/plain": [
       "array(['fail', 'fail', 'pass', 'pass', 'pass', 'pass'], dtype='<U4')"
      ]
     },
     "execution_count": 20,
     "metadata": {},
     "output_type": "execute_result"
    }
   ],
   "source": [
    "marks = np.array([34,56,78,99,67,89])\n",
    "np.where(marks>60,'pass','fail')\n"
   ]
  },
  {
   "cell_type": "code",
   "execution_count": 25,
   "id": "b3f766ab-130c-402b-8e66-94134b9a027e",
   "metadata": {},
   "outputs": [
    {
     "data": {
      "text/plain": [
       "array([10, 20, 30, 15, 25, 50, 40, 25])"
      ]
     },
     "execution_count": 25,
     "metadata": {},
     "output_type": "execute_result"
    }
   ],
   "source": [
    "salary  = np.array( [ 10,20,30,15,25,50,40,25])\n",
    "salary"
   ]
  },
  {
   "cell_type": "code",
   "execution_count": 26,
   "id": "7b147224-95e4-4d99-b208-7053517a5e7d",
   "metadata": {},
   "outputs": [
    {
     "data": {
      "text/plain": [
       "array(['min salary', 'min salary', 'top salary', 'min salary',\n",
       "       'min salary', 'top salary', 'top salary', 'min salary'],\n",
       "      dtype='<U10')"
      ]
     },
     "execution_count": 26,
     "metadata": {},
     "output_type": "execute_result"
    }
   ],
   "source": [
    "np.where(salary>25,\"top salary\" ,'min salary')"
   ]
  },
  {
   "cell_type": "code",
   "execution_count": 28,
   "id": "9d43cda5-ff17-4baa-83c1-b2edcf6cefba",
   "metadata": {},
   "outputs": [],
   "source": [
    "incresment_salary = np.where(salary < 40, salary*1.1,salary*1.05)"
   ]
  },
  {
   "cell_type": "code",
   "execution_count": 29,
   "id": "440493de-48c4-4bfe-9df9-9c6e2ede0ae1",
   "metadata": {},
   "outputs": [
    {
     "data": {
      "text/plain": [
       "array([11. , 22. , 33. , 16.5, 27.5, 52.5, 42. , 27.5])"
      ]
     },
     "execution_count": 29,
     "metadata": {},
     "output_type": "execute_result"
    }
   ],
   "source": [
    "incresment_salary"
   ]
  },
  {
   "cell_type": "code",
   "execution_count": 30,
   "id": "2eafdb2f-7ca7-448e-8be5-cf3172e486f5",
   "metadata": {},
   "outputs": [],
   "source": [
    " ################### OR"
   ]
  },
  {
   "cell_type": "code",
   "execution_count": 31,
   "id": "8fde90a9-7d98-452c-af76-35466c347e6e",
   "metadata": {},
   "outputs": [
    {
     "data": {
      "text/plain": [
       "array([ 10000,   8000,   5000,  15000,  20000, 250000,  18000])"
      ]
     },
     "execution_count": 31,
     "metadata": {},
     "output_type": "execute_result"
    }
   ],
   "source": [
    "salary = np.array([10000,8000,5000,15000,20000,250000,18000])\n",
    "salary"
   ]
  },
  {
   "cell_type": "code",
   "execution_count": 32,
   "id": "936a02b9-6c37-4bc5-a1de-61595d16385d",
   "metadata": {},
   "outputs": [],
   "source": [
    "increment_salary = np.where(salary < 20000, salary*1.1,salary*1.05)"
   ]
  },
  {
   "cell_type": "code",
   "execution_count": 33,
   "id": "9e25a78f-4898-4792-bb06-3703e4437cb0",
   "metadata": {},
   "outputs": [
    {
     "data": {
      "text/plain": [
       "array([ 11000.,   8800.,   5500.,  16500.,  21000., 262500.,  19800.])"
      ]
     },
     "execution_count": 33,
     "metadata": {},
     "output_type": "execute_result"
    }
   ],
   "source": [
    "increment_salary"
   ]
  },
  {
   "cell_type": "code",
   "execution_count": 35,
   "id": "96ac057f-ecd3-4807-9738-18f1e4a25de2",
   "metadata": {},
   "outputs": [
    {
     "data": {
      "text/plain": [
       "dtype('float64')"
      ]
     },
     "execution_count": 35,
     "metadata": {},
     "output_type": "execute_result"
    }
   ],
   "source": [
    "increment_salary.dtype"
   ]
  },
  {
   "cell_type": "code",
   "execution_count": 36,
   "id": "b9fcc793-2623-4955-94e3-962822e58d7d",
   "metadata": {},
   "outputs": [
    {
     "data": {
      "text/plain": [
       "array([ 11000,   8800,   5500,  16500,  21000, 262500,  19800])"
      ]
     },
     "execution_count": 36,
     "metadata": {},
     "output_type": "execute_result"
    }
   ],
   "source": [
    "increment_salary.astype('int')"
   ]
  },
  {
   "cell_type": "code",
   "execution_count": 46,
   "id": "4115aa98-16c1-4a4e-8cdc-092daabb4f45",
   "metadata": {},
   "outputs": [
    {
     "data": {
      "text/plain": [
       "array([[  1,   2,   3,   4,   5,   6,   7,   8,   9,  10],\n",
       "       [ 11,  12,  13,  14,  15,  16,  17,  18,  19,  20],\n",
       "       [ 21,  22,  23,  24,  25,  26,  27,  28,  29,  30],\n",
       "       [ 31,  32,  33,  34,  35,  36,  37,  38,  39,  40],\n",
       "       [ 41,  42,  43,  44,  45,  46,  47,  48,  49,  50],\n",
       "       [ 51,  52,  53,  54,  55,  56,  57,  58,  59,  60],\n",
       "       [ 61,  62,  63,  64,  65,  66,  67,  68,  69,  70],\n",
       "       [ 71,  72,  73,  74,  75,  76,  77,  78,  79,  80],\n",
       "       [ 81,  82,  83,  84,  85,  86,  87,  88,  89,  90],\n",
       "       [ 91,  92,  93,  94,  95,  96,  97,  98,  99, 100]])"
      ]
     },
     "execution_count": 46,
     "metadata": {},
     "output_type": "execute_result"
    }
   ],
   "source": [
    "import numpy as np \n",
    "arr = np.arange(1,101).reshape(10,10)\n",
    "arr"
   ]
  },
  {
   "cell_type": "markdown",
   "id": "cc39475e-1ed0-4e65-acd2-c89867af1a94",
   "metadata": {},
   "source": [
    "# Note 2\n",
    "# T is transpose In transpose row convert in columns\n",
    "### there are two method of find tranpse\n",
    "### 1. arr.T and\n",
    "### 2. arr.transpose() it is very importance topic we used it in matrix"
   ]
  },
  {
   "cell_type": "code",
   "execution_count": 63,
   "id": "29cf3b01-c901-4b4f-aaa4-30113bd937bd",
   "metadata": {},
   "outputs": [
    {
     "data": {
      "text/plain": [
       "array([[  1,  11,  21,  31,  41,  51,  61,  71,  81,  91],\n",
       "       [  2,  12,  22,  32,  42,  52,  62,  72,  82,  92],\n",
       "       [  3,  13,  23,  33,  43,  53,  63,  73,  83,  93],\n",
       "       [  4,  14,  24,  34,  44,  54,  64,  74,  84,  94],\n",
       "       [  5,  15,  25,  35,  45,  55,  65,  75,  85,  95],\n",
       "       [  6,  16,  26,  36,  46,  56,  66,  76,  86,  96],\n",
       "       [  7,  17,  27,  37,  47,  57,  67,  77,  87,  97],\n",
       "       [  8,  18,  28,  38,  48,  58,  68,  78,  88,  98],\n",
       "       [  9,  19,  29,  39,  49,  59,  69,  79,  89,  99],\n",
       "       [ 10,  20,  30,  40,  50,  60,  70,  80,  90, 100]])"
      ]
     },
     "execution_count": 63,
     "metadata": {},
     "output_type": "execute_result"
    }
   ],
   "source": [
    "arr.transpose() # row convert in columns and columns convert in rows\n"
   ]
  },
  {
   "cell_type": "code",
   "execution_count": 64,
   "id": "99836e75-68b9-479f-b74a-5f603ae9ccc3",
   "metadata": {},
   "outputs": [
    {
     "data": {
      "text/plain": [
       "array([[  1,   2,   3,   4,   5,   6,   7,   8,   9,  10],\n",
       "       [ 11,  12,  13,  14,  15,  16,  17,  18,  19,  20],\n",
       "       [ 21,  22,  23,  24,  25,  26,  27,  28,  29,  30],\n",
       "       [ 31,  32,  33,  34,  35,  36,  37,  38,  39,  40],\n",
       "       [ 41,  42,  43,  44,  45,  46,  47,  48,  49,  50],\n",
       "       [ 51,  52,  53,  54,  55,  56,  57,  58,  59,  60],\n",
       "       [ 61,  62,  63,  64,  65,  66,  67,  68,  69,  70],\n",
       "       [ 71,  72,  73,  74,  75,  76,  77,  78,  79,  80],\n",
       "       [ 81,  82,  83,  84,  85,  86,  87,  88,  89,  90],\n",
       "       [ 91,  92,  93,  94,  95,  96,  97,  98,  99, 100]])"
      ]
     },
     "execution_count": 64,
     "metadata": {},
     "output_type": "execute_result"
    }
   ],
   "source": [
    "arr "
   ]
  },
  {
   "cell_type": "code",
   "execution_count": 62,
   "id": "b858a87b-e7d6-44c4-96ba-a80456372a5d",
   "metadata": {},
   "outputs": [
    {
     "data": {
      "text/plain": [
       "array([[ 0,  1,  2,  3],\n",
       "       [ 4,  5,  6,  7],\n",
       "       [ 8,  9, 10, 11]])"
      ]
     },
     "execution_count": 62,
     "metadata": {},
     "output_type": "execute_result"
    }
   ],
   "source": [
    "arr2 = np.arange(0,12)\n",
    "arr3 = arr2.reshape(3,4)\n",
    "arr3"
   ]
  },
  {
   "cell_type": "code",
   "execution_count": 60,
   "id": "49c8d333-d318-4b2c-9a63-914d2f563ae9",
   "metadata": {},
   "outputs": [
    {
     "data": {
      "text/plain": [
       "array([[ 0,  4,  8],\n",
       "       [ 1,  5,  9],\n",
       "       [ 2,  6, 10],\n",
       "       [ 3,  7, 11]])"
      ]
     },
     "execution_count": 60,
     "metadata": {},
     "output_type": "execute_result"
    }
   ],
   "source": [
    "arr3.T"
   ]
  },
  {
   "cell_type": "markdown",
   "id": "20423f41-6d05-4d28-a776-22c956e924df",
   "metadata": {},
   "source": [
    "# Note 3\n",
    "### Now We are going to find of mean of any array through using \"Mean Function \"\n",
    "### formula of mean m = sum of the terms / number of terms"
   ]
  },
  {
   "cell_type": "code",
   "execution_count": 65,
   "id": "34a6957b-67c2-4a2f-bd97-55b90348a4d1",
   "metadata": {},
   "outputs": [
    {
     "data": {
      "text/plain": [
       "50.5"
      ]
     },
     "execution_count": 65,
     "metadata": {},
     "output_type": "execute_result"
    }
   ],
   "source": [
    "arr = np.arange(1,101)\n",
    "arr.mean()"
   ]
  },
  {
   "cell_type": "code",
   "execution_count": 68,
   "id": "def0ebdd-85fa-4f20-aae7-7d1a7202661f",
   "metadata": {},
   "outputs": [
    {
     "data": {
      "text/plain": [
       "array([  1,   2,   3,   4,   5,   6,   7,   8,   9,  10,  11,  12,  13,\n",
       "        14,  15,  16,  17,  18,  19,  20,  21,  22,  23,  24,  25,  26,\n",
       "        27,  28,  29,  30,  31,  32,  33,  34,  35,  36,  37,  38,  39,\n",
       "        40,  41,  42,  43,  44,  45,  46,  47,  48,  49,  50,  51,  52,\n",
       "        53,  54,  55,  56,  57,  58,  59,  60,  61,  62,  63,  64,  65,\n",
       "        66,  67,  68,  69,  70,  71,  72,  73,  74,  75,  76,  77,  78,\n",
       "        79,  80,  81,  82,  83,  84,  85,  86,  87,  88,  89,  90,  91,\n",
       "        92,  93,  94,  95,  96,  97,  98,  99, 100])"
      ]
     },
     "execution_count": 68,
     "metadata": {},
     "output_type": "execute_result"
    }
   ],
   "source": [
    "arr"
   ]
  },
  {
   "cell_type": "code",
   "execution_count": 69,
   "id": "780912ee-5a7f-47e5-bb47-86543e08eed8",
   "metadata": {},
   "outputs": [
    {
     "data": {
      "text/plain": [
       "6.0"
      ]
     },
     "execution_count": 69,
     "metadata": {},
     "output_type": "execute_result"
    }
   ],
   "source": [
    "arr2  =  np.array([2,3,4,5,6,7,8,9,10])\n",
    "arr2.mean()"
   ]
  },
  {
   "cell_type": "code",
   "execution_count": 72,
   "id": "6377744b-1455-4f64-9667-181be071a441",
   "metadata": {},
   "outputs": [
    {
     "data": {
      "text/plain": [
       "(100,)"
      ]
     },
     "execution_count": 72,
     "metadata": {},
     "output_type": "execute_result"
    }
   ],
   "source": [
    "arr.shape"
   ]
  },
  {
   "cell_type": "markdown",
   "id": "27e33ac9-e84c-42a0-94ee-670c0b26cf60",
   "metadata": {},
   "source": [
    "# cumsum() function is used when we want to compute the cumulative sum of array elements over a given axis\n"
   ]
  },
  {
   "cell_type": "code",
   "execution_count": 75,
   "id": "1d7d10fb-d850-447a-a030-2e3247a39134",
   "metadata": {},
   "outputs": [],
   "source": [
    "arr = np.array([1,3,4,5,8])"
   ]
  },
  {
   "cell_type": "code",
   "execution_count": 76,
   "id": "883d1cbe-47bc-4fcb-a662-da41d6a195df",
   "metadata": {},
   "outputs": [
    {
     "data": {
      "text/plain": [
       "array([ 1,  4,  8, 13, 21])"
      ]
     },
     "execution_count": 76,
     "metadata": {},
     "output_type": "execute_result"
    }
   ],
   "source": [
    "arr.cumsum() # it work like our arr is [1,3,4,5,8] now this will add put the 1 after one\n",
    "            # it goes to to add 1+3 =4 , 4 which was answer of previs value will be add to next number \n",
    "            # like 4+4 = 8 , so on 8 will be add to 5 which which our base arr now 5+8 = 13 then now the\n",
    "            # 13 answer will be added in the 8 . which will be 13+8 =21 "
   ]
  },
  {
   "cell_type": "code",
   "execution_count": 77,
   "id": "eaf82326-2617-4a86-b802-8a3502f5aece",
   "metadata": {},
   "outputs": [
    {
     "data": {
      "text/plain": [
       "array([  1,   3,  12,  60, 480])"
      ]
     },
     "execution_count": 77,
     "metadata": {},
     "output_type": "execute_result"
    }
   ],
   "source": [
    "arr. cumprod() \n",
    "#It seems like there might be a typo in your question, and you might be referring \n",
    "#to \"cumulative product\" in NumPy. If so, you can use the numpy.\n",
    "#cumprod() function to calculate the cumulative product of elements in an array. "
   ]
  },
  {
   "cell_type": "markdown",
   "id": "f15c8abd-2984-42ed-9c87-1802bb081c70",
   "metadata": {},
   "source": [
    "# Note 4\n",
    "### 1. Function: A standalone block of code that performs a task and can be called by name.\n",
    "### 2. Method: A function associated with a specific object or class, called on instances of that class.\n",
    "### 3 Procedure Vs. Function\n",
    "### 4. Procedure doesn't return any value\n",
    "### 5. Function returns a value\n",
    "\n",
    "# Note 5\n",
    "### method for boolen arrays\n",
    "### 1. sum(): counting True values in a boolean array\n",
    "### 2. any(): tests whether one or more values in an array is True\n",
    "### 3. all(): checks if every value is True"
   ]
  },
  {
   "cell_type": "code",
   "execution_count": 7,
   "id": "c6e9fb47-c048-4868-adeb-038ae1c34b79",
   "metadata": {},
   "outputs": [],
   "source": [
    "import numpy as np\n",
    "gender = np.array(['Male','Female','Male','Male','Female','Female'])\n"
   ]
  },
  {
   "cell_type": "code",
   "execution_count": 8,
   "id": "7689adf2-83af-4e95-9dde-c75fa45261c2",
   "metadata": {},
   "outputs": [
    {
     "data": {
      "text/plain": [
       "array(['Male', 'Male', 'Male'], dtype='<U6')"
      ]
     },
     "execution_count": 8,
     "metadata": {},
     "output_type": "execute_result"
    }
   ],
   "source": [
    "gender  [gender == 'Male']\n"
   ]
  },
  {
   "cell_type": "code",
   "execution_count": 9,
   "id": "af40d0af-c570-42cc-8e22-6804e76b7408",
   "metadata": {},
   "outputs": [
    {
     "data": {
      "text/plain": [
       "array([ True, False,  True,  True, False, False])"
      ]
     },
     "execution_count": 9,
     "metadata": {},
     "output_type": "execute_result"
    }
   ],
   "source": [
    "# for finding where where male take place we use\n",
    "arr = gender == 'Male'\n",
    "arr"
   ]
  },
  {
   "cell_type": "code",
   "execution_count": 10,
   "id": "94b10291-ebde-480b-8cf1-1742eda036b4",
   "metadata": {},
   "outputs": [
    {
     "data": {
      "text/plain": [
       "3"
      ]
     },
     "execution_count": 10,
     "metadata": {},
     "output_type": "execute_result"
    }
   ],
   "source": [
    "arr.sum()"
   ]
  },
  {
   "cell_type": "code",
   "execution_count": 11,
   "id": "b7dbfeab-8161-4852-94ce-25e4d2ba251c",
   "metadata": {},
   "outputs": [
    {
     "data": {
      "text/plain": [
       "array([ True, False,  True,  True, False, False])"
      ]
     },
     "execution_count": 11,
     "metadata": {},
     "output_type": "execute_result"
    }
   ],
   "source": [
    "arr"
   ]
  },
  {
   "cell_type": "code",
   "execution_count": 12,
   "id": "2f37a1bb-99dd-4129-8d9b-eee4ea00678b",
   "metadata": {},
   "outputs": [
    {
     "data": {
      "text/plain": [
       "False"
      ]
     },
     "execution_count": 12,
     "metadata": {},
     "output_type": "execute_result"
    }
   ],
   "source": [
    "arr.all()"
   ]
  },
  {
   "cell_type": "code",
   "execution_count": 13,
   "id": "9288548b-674e-41c4-81a4-8da0e8aa1132",
   "metadata": {},
   "outputs": [
    {
     "data": {
      "text/plain": [
       "True"
      ]
     },
     "execution_count": 13,
     "metadata": {},
     "output_type": "execute_result"
    }
   ],
   "source": [
    "arr.any() "
   ]
  },
  {
   "cell_type": "code",
   "execution_count": 14,
   "id": "0e510b4b-178e-4031-9d18-ce0017affb95",
   "metadata": {},
   "outputs": [],
   "source": [
    "arr = np.array([2,4,10,20,16])\n"
   ]
  },
  {
   "cell_type": "code",
   "execution_count": 15,
   "id": "8e9d4991-9500-4522-89b0-124b4fd88f21",
   "metadata": {},
   "outputs": [],
   "source": [
    "x = (arr%2 == 0) # findin reminder if the value reminder is 0 then print true\n"
   ]
  },
  {
   "cell_type": "code",
   "execution_count": 16,
   "id": "c63eb3d2-a64e-46c4-8501-6374cfd01b1c",
   "metadata": {},
   "outputs": [
    {
     "data": {
      "text/plain": [
       "array([ True,  True,  True,  True,  True])"
      ]
     },
     "execution_count": 16,
     "metadata": {},
     "output_type": "execute_result"
    }
   ],
   "source": [
    "x"
   ]
  },
  {
   "cell_type": "markdown",
   "id": "c75f3646-46cf-4587-8eed-7e87fb1cd0a2",
   "metadata": {},
   "source": [
    "# NOTE 6\n",
    "### Universal quantifier\n",
    "### Existential quantifier\n",
    "### 1. Universal Quantifier (∀):\n",
    "### Use all() to check if a condition holds for every element in an iterable.\n",
    "### Example: all(x > 0 for x in numbers).\n",
    "### 2. Existential Quantifier (∃):\n",
    "### Use any() to check if there exists an element in an iterable that satisfies a ### condition.\n",
    "### Example: any(x > 0 for x in numbers)."
   ]
  },
  {
   "cell_type": "code",
   "execution_count": 17,
   "id": "60be92de-a67f-47db-a04e-56b026c6dbfa",
   "metadata": {},
   "outputs": [],
   "source": [
    "arr.sort()  # inplace # WE USED SORTING FOR TIME SERIES"
   ]
  },
  {
   "cell_type": "code",
   "execution_count": 18,
   "id": "8dd047ed-04ba-4f5b-9429-7a2da6b33874",
   "metadata": {},
   "outputs": [
    {
     "data": {
      "text/plain": [
       "array([ 2,  4, 10, 16, 20])"
      ]
     },
     "execution_count": 18,
     "metadata": {},
     "output_type": "execute_result"
    }
   ],
   "source": [
    "arr"
   ]
  },
  {
   "cell_type": "code",
   "execution_count": 19,
   "id": "74f8eb7f-211b-4bd8-852b-4031176e2ec0",
   "metadata": {},
   "outputs": [
    {
     "data": {
      "text/plain": [
       "array([20, 16, 10,  4,  2])"
      ]
     },
     "execution_count": 19,
     "metadata": {},
     "output_type": "execute_result"
    }
   ],
   "source": [
    "arr[::-1] # inverse"
   ]
  },
  {
   "cell_type": "code",
   "execution_count": 26,
   "id": "5f98db7c-3225-4364-a748-f1c9a409862d",
   "metadata": {},
   "outputs": [],
   "source": [
    "arr = np.array([1,2,4,1,6,2,2,2,2,]) # for finding duplicate  "
   ]
  },
  {
   "cell_type": "code",
   "execution_count": 27,
   "id": "d029e2a3-ed06-4955-a35a-43d3071016a8",
   "metadata": {},
   "outputs": [
    {
     "data": {
      "text/plain": [
       "array([1, 2, 4, 1, 6, 2, 2, 2, 2])"
      ]
     },
     "execution_count": 27,
     "metadata": {},
     "output_type": "execute_result"
    }
   ],
   "source": [
    "arr"
   ]
  },
  {
   "cell_type": "code",
   "execution_count": 28,
   "id": "0cb5e765-1858-4577-a977-544d33bf0b43",
   "metadata": {},
   "outputs": [
    {
     "data": {
      "text/plain": [
       "array([1, 2, 4, 6])"
      ]
     },
     "execution_count": 28,
     "metadata": {},
     "output_type": "execute_result"
    }
   ],
   "source": [
    "uniq = np.unique(arr)# for finding duplicate \n",
    "uniq"
   ]
  },
  {
   "cell_type": "code",
   "execution_count": 30,
   "id": "58965444-ff2f-4adb-81ce-d3e91ef8d325",
   "metadata": {},
   "outputs": [],
   "source": [
    "np.save('data',uniq) # saving the file"
   ]
  },
  {
   "cell_type": "code",
   "execution_count": 32,
   "id": "31600661-cfed-40f8-b435-e489f52c29c6",
   "metadata": {},
   "outputs": [
    {
     "data": {
      "text/plain": [
       "array([1, 2, 4, 6])"
      ]
     },
     "execution_count": 32,
     "metadata": {},
     "output_type": "execute_result"
    }
   ],
   "source": [
    "contant =np.load('data.npy') # loading that save file \n",
    "contant"
   ]
  },
  {
   "cell_type": "code",
   "execution_count": 33,
   "id": "585c231e-4967-40e0-8c2c-60d612bb4b8b",
   "metadata": {},
   "outputs": [],
   "source": [
    "#Saving multiple arrays\n"
   ]
  },
  {
   "cell_type": "code",
   "execution_count": 39,
   "id": "2e40f3ea-2a9c-4571-8270-fce0ff85e017",
   "metadata": {},
   "outputs": [
    {
     "data": {
      "text/plain": [
       "array([[  1,   2,   3,   4,   5,   6,   7,   8,   9,  10],\n",
       "       [ 11,  12,  13,  14,  15,  16,  17,  18,  19,  20],\n",
       "       [ 21,  22,  23,  24,  25,  26,  27,  28,  29,  30],\n",
       "       [ 31,  32,  33,  34,  35,  36,  37,  38,  39,  40],\n",
       "       [ 41,  42,  43,  44,  45,  46,  47,  48,  49,  50],\n",
       "       [ 51,  52,  53,  54,  55,  56,  57,  58,  59,  60],\n",
       "       [ 61,  62,  63,  64,  65,  66,  67,  68,  69,  70],\n",
       "       [ 71,  72,  73,  74,  75,  76,  77,  78,  79,  80],\n",
       "       [ 81,  82,  83,  84,  85,  86,  87,  88,  89,  90],\n",
       "       [ 91,  92,  93,  94,  95,  96,  97,  98,  99, 100]])"
      ]
     },
     "execution_count": 39,
     "metadata": {},
     "output_type": "execute_result"
    }
   ],
   "source": [
    "import numpy as np\n",
    "arr = np.arange(1,101).reshape((10,10))\n",
    "arr"
   ]
  },
  {
   "cell_type": "code",
   "execution_count": 43,
   "id": "0a9c44f7-730e-4f47-9338-e19c35eeadcc",
   "metadata": {},
   "outputs": [
    {
     "data": {
      "text/plain": [
       "array([  1,  12,  23,  34,  45,  56,  67,  78,  89, 100])"
      ]
     },
     "execution_count": 43,
     "metadata": {},
     "output_type": "execute_result"
    }
   ],
   "source": [
    "arr.diagonal() # it give us those diagonal value "
   ]
  },
  {
   "cell_type": "code",
   "execution_count": 46,
   "id": "df0524aa-34f5-4a07-bb62-86ab5ec79752",
   "metadata": {},
   "outputs": [
    {
     "data": {
      "text/plain": [
       "505"
      ]
     },
     "execution_count": 46,
     "metadata": {},
     "output_type": "execute_result"
    }
   ],
   "source": [
    "arr.trace()"
   ]
  },
  {
   "cell_type": "markdown",
   "id": "c1a8738f-4f01-42e8-9f84-e88d429484fd",
   "metadata": {},
   "source": [
    " # Difference between ravel and flatten\n",
    " ### Flatten always produces a one-dimensional copy, whereas ravel attempts to provide a one-dimensional view of the original matrix. Be cautious since altering the returned matrix from ravel may make changes to the original matrix. Modifying the content of the array created by flatten has no effect on the original array"
   ]
  },
  {
   "cell_type": "code",
   "execution_count": 47,
   "id": "934d63cf-935a-4834-aae8-e499659dd087",
   "metadata": {},
   "outputs": [
    {
     "name": "stdout",
     "output_type": "stream",
     "text": [
      "Original array:\n",
      "  [[1 2 3 4]\n",
      " [3 1 4 2]]\n",
      "\n",
      "Flatten array using flatten:  [1 2 3 4 3 1 4 2]\n"
     ]
    }
   ],
   "source": [
    "\n",
    "import numpy as np\n",
    " \n",
    "# Create a numpy array\n",
    "a = np.array([(1,2,3,4),(3,1,4,2)])\n",
    " \n",
    "# Let's print the array a\n",
    "print (\"Original array:\\n \", a)\n",
    " \n",
    "# Convert nd array to 1D array\n",
    "c = a.flatten()\n",
    " \n",
    "# Flatten passes copy of\n",
    "# original array to 'c'\n",
    "print (\"\\nFlatten array using flatten: \", c)"
   ]
  },
  {
   "cell_type": "code",
   "execution_count": 48,
   "id": "a9957766-6a55-417b-8123-e601ebae00c2",
   "metadata": {},
   "outputs": [
    {
     "name": "stdout",
     "output_type": "stream",
     "text": [
      "Original array:\n",
      "  [[1 2 3 4]\n",
      " [3 1 4 2]]\n",
      "\n",
      "Flatten array using ravel:  [1 2 3 4 3 1 4 2]\n"
     ]
    }
   ],
   "source": [
    "import numpy as np\n",
    " \n",
    "# Create a numpy array\n",
    "a = np.array([(1,2,3,4),(3,1,4,2)])\n",
    " \n",
    "# Let's print the array a\n",
    "print (\"Original array:\\n \", a)\n",
    " \n",
    "ra = np.ravel(a)\n",
    "print (\"\\nFlatten array using ravel: \", ra)"
   ]
  },
  {
   "cell_type": "code",
   "execution_count": null,
   "id": "19bfea2f-efd1-427b-b575-e1970993511d",
   "metadata": {},
   "outputs": [],
   "source": []
  }
 ],
 "metadata": {
  "kernelspec": {
   "display_name": "Python 3 (ipykernel)",
   "language": "python",
   "name": "python3"
  },
  "language_info": {
   "codemirror_mode": {
    "name": "ipython",
    "version": 3
   },
   "file_extension": ".py",
   "mimetype": "text/x-python",
   "name": "python",
   "nbconvert_exporter": "python",
   "pygments_lexer": "ipython3",
   "version": "3.11.7"
  }
 },
 "nbformat": 4,
 "nbformat_minor": 5
}
