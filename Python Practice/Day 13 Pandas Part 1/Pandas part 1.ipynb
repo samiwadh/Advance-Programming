{
 "cells": [
  {
   "cell_type": "markdown",
   "id": "eac1bdd3-65ed-4448-b88c-c58e08390a1b",
   "metadata": {
    "jp-MarkdownHeadingCollapsed": true
   },
   "source": [
    "#  Note 1\n",
    "# What is Pandas\n",
    "### What is Pandas? Pandas is a Python library used for working with data sets. It has functions for analyzing, cleaning, exploring, and manipulating data. The name \"Pandas\" has a reference to both \"Panel Data\", and \"Python Data Analysis\" and was created by Wes McKinney in 2008."
   ]
  },
  {
   "cell_type": "markdown",
   "id": "957ccfea-7de2-4fe8-9cad-e6f860ef10e6",
   "metadata": {},
   "source": [
    "# The Python list can be either homogeneous or heterogeneous. Homogeneous means that it only contains a single type of data. A heterogeneous structure on the other hand, involves different file types being concatenated in the list\n",
    "\n",
    "\n",
    "# Python Pandas Series\n",
    "### The Pandas Series can be defined as a one-dimensional array that is capable of storing various data types. We can easily convert the list, tuple, and dictionary into series using \"series' method. The row labels of series are called the index. A Series cannot contain multiple columns. It has the following parameter:\n",
    "\n",
    "### data: It can be any list, dictionary, or scalar value.\n",
    "### index: The value of the index should be unique and hashable. It must be of the same length as data. If we do not pass any index, default np.arrange(n) will be used.\n",
    "### dtype: It refers to the data type of series.\n",
    "### copy: It is used for copying the data.\n",
    "# Creating a Series:\n",
    "### We can create a Series in two ways:\n",
    "### Create an empty Series\n",
    "### Create a Series using inputs"
   ]
  },
  {
   "cell_type": "code",
   "execution_count": 1,
   "id": "7e84a39d-9c6e-4edf-b6e7-acb44061a7b1",
   "metadata": {},
   "outputs": [],
   "source": [
    "import pandas as pd"
   ]
  },
  {
   "cell_type": "code",
   "execution_count": 2,
   "id": "d5c649c8-e452-44b6-807a-a0e12cde8714",
   "metadata": {},
   "outputs": [],
   "source": [
    "#Two types of datastructures in pandas=\n",
    "# Series - A series of data (1 dimensional)\n",
    "# DataFrames - Tabular data (2 dimensional)\n",
    "# Panel 3d"
   ]
  },
  {
   "cell_type": "code",
   "execution_count": 3,
   "id": "f41cf27a-3a98-4631-8263-11c1e68237da",
   "metadata": {},
   "outputs": [
    {
     "data": {
      "text/plain": [
       "0    10\n",
       "1    20\n",
       "2    30\n",
       "dtype: int64"
      ]
     },
     "execution_count": 3,
     "metadata": {},
     "output_type": "execute_result"
    }
   ],
   "source": [
    "marks = pd.Series([10,20,30])# 0,1,2 the value are on these indexing \n",
    "marks"
   ]
  },
  {
   "cell_type": "code",
   "execution_count": 4,
   "id": "987663b7-ca04-43c8-94fb-3c94c05b5495",
   "metadata": {},
   "outputs": [
    {
     "data": {
      "text/plain": [
       "30"
      ]
     },
     "execution_count": 4,
     "metadata": {},
     "output_type": "execute_result"
    }
   ],
   "source": [
    "#for find particular value throught indexing\n",
    "marks[2]"
   ]
  },
  {
   "cell_type": "code",
   "execution_count": 5,
   "id": "0f1acb86-1f89-4bb1-9fb2-e9ad99bff224",
   "metadata": {},
   "outputs": [
    {
     "data": {
      "text/plain": [
       "20"
      ]
     },
     "execution_count": 5,
     "metadata": {},
     "output_type": "execute_result"
    }
   ],
   "source": [
    "marks[1]"
   ]
  },
  {
   "cell_type": "markdown",
   "id": "eabd6a97-aa0d-4bbf-8df3-2b1fb2ee682c",
   "metadata": {},
   "source": [
    "# Note 2\n",
    "### specifying custom indexes we can;t change index datatype\n",
    "### [ ] ----> Indexing\n",
    "### () ---> funtial ki list ka lea use hotya ha"
   ]
  },
  {
   "cell_type": "code",
   "execution_count": 6,
   "id": "08d6868c-a7d6-42f5-b3b6-8929b95cb647",
   "metadata": {},
   "outputs": [
    {
     "data": {
      "text/plain": [
       "Ali       45.0\n",
       "Ahmed     23.0\n",
       "Razque    23.0\n",
       "Ahmed     32.0\n",
       "dtype: float64"
      ]
     },
     "execution_count": 6,
     "metadata": {},
     "output_type": "execute_result"
    }
   ],
   "source": [
    "age =pd.Series([45,23,23,32],index = ['Ali','Ahmed','Razque','Ahmed'],dtype='float')\n",
    "age"
   ]
  },
  {
   "cell_type": "code",
   "execution_count": 8,
   "id": "cdee1a3d-9118-44bc-bb70-1efb9b5c8363",
   "metadata": {},
   "outputs": [
    {
     "data": {
      "text/plain": [
       "Ali       Sami\n",
       "Ahmed     23.0\n",
       "Razque    23.0\n",
       "Ahmed     32.0\n",
       "dtype: object"
      ]
     },
     "execution_count": 8,
     "metadata": {},
     "output_type": "execute_result"
    }
   ],
   "source": [
    "age['Ali']='Sami'\n",
    "age"
   ]
  },
  {
   "cell_type": "code",
   "execution_count": 9,
   "id": "7b4ae436-339e-4653-aee9-d863610155c1",
   "metadata": {},
   "outputs": [],
   "source": [
    "age['Sami']='AS'"
   ]
  },
  {
   "cell_type": "code",
   "execution_count": 10,
   "id": "4a6448c0-849c-48b7-bd27-792bb4379412",
   "metadata": {},
   "outputs": [
    {
     "data": {
      "text/plain": [
       "Ali       Sami\n",
       "Ahmed     23.0\n",
       "Razque    23.0\n",
       "Ahmed     32.0\n",
       "Sami        AS\n",
       "dtype: object"
      ]
     },
     "execution_count": 10,
     "metadata": {},
     "output_type": "execute_result"
    }
   ],
   "source": [
    "age"
   ]
  },
  {
   "cell_type": "code",
   "execution_count": 11,
   "id": "9dec5f3b-2af4-4e38-ac88-9bc933578e87",
   "metadata": {},
   "outputs": [
    {
     "data": {
      "text/plain": [
       "Ali         43\n",
       "Ahmed     23.0\n",
       "Razque    23.0\n",
       "Ahmed     32.0\n",
       "Sami        AS\n",
       "dtype: object"
      ]
     },
     "execution_count": 11,
     "metadata": {},
     "output_type": "execute_result"
    }
   ],
   "source": [
    "age['Ali']=43\n",
    "age"
   ]
  },
  {
   "cell_type": "code",
   "execution_count": 12,
   "id": "5b25772d-6fbd-4db9-b4c5-6d7f0ab955fc",
   "metadata": {},
   "outputs": [
    {
     "data": {
      "text/plain": [
       "Ali       45.0\n",
       "Ahmed     56.0\n",
       "Razque    76.0\n",
       "Ahmed     78.0\n",
       "Sami      89.0\n",
       "dtype: float64"
      ]
     },
     "execution_count": 12,
     "metadata": {},
     "output_type": "execute_result"
    }
   ],
   "source": [
    "import pandas as pd\n",
    "age1 =pd.Series([45,56,76,78,89],index = ['Ali','Ahmed','Razque','Ahmed','Sami'],dtype='float')\n",
    "age1"
   ]
  },
  {
   "cell_type": "code",
   "execution_count": 13,
   "id": "5e5e3c64-970d-44b6-ad0b-a4f095c2bc90",
   "metadata": {},
   "outputs": [
    {
     "data": {
      "text/plain": [
       "Razque    76.0\n",
       "Ahmed     78.0\n",
       "Sami      89.0\n",
       "dtype: float64"
      ]
     },
     "execution_count": 13,
     "metadata": {},
     "output_type": "execute_result"
    }
   ],
   "source": [
    "age1[age1>70]\n",
    "#filtering data in a series"
   ]
  },
  {
   "cell_type": "code",
   "execution_count": 14,
   "id": "bf1e86be-935e-45bd-a9a8-b8d93ef118db",
   "metadata": {},
   "outputs": [
    {
     "data": {
      "text/plain": [
       "Ahmed    78.0\n",
       "Sami     89.0\n",
       "dtype: float64"
      ]
     },
     "execution_count": 14,
     "metadata": {},
     "output_type": "execute_result"
    }
   ],
   "source": [
    "age1[age1>=78]#filtering data in a series"
   ]
  },
  {
   "cell_type": "code",
   "execution_count": 15,
   "id": "f0915e44-0a4c-4aac-af40-c18f4b7528e2",
   "metadata": {},
   "outputs": [
    {
     "data": {
      "text/plain": [
       "Sami     89.0\n",
       "Ahmed    56.0\n",
       "Ahmed    78.0\n",
       "Ali      45.0\n",
       "dtype: float64"
      ]
     },
     "execution_count": 15,
     "metadata": {},
     "output_type": "execute_result"
    }
   ],
   "source": [
    "age1[['Sami','Ahmed','Ali']] # Fancy index"
   ]
  },
  {
   "cell_type": "code",
   "execution_count": 16,
   "id": "cbb136ac-04fa-4bfb-b6a2-ce9fbf8f2bc0",
   "metadata": {},
   "outputs": [
    {
     "data": {
      "text/plain": [
       "ali      34\n",
       "lucky    34\n",
       "nawaz    23\n",
       "dtype: int64"
      ]
     },
     "execution_count": 16,
     "metadata": {},
     "output_type": "execute_result"
    }
   ],
   "source": [
    "# Creating series for dictornary \n",
    "info = pd.Series({\n",
    "    'ali' : 34,\n",
    "    'lucky' : 34,\n",
    "    'nawaz' : 23\n",
    "    \n",
    "})\n",
    "info"
   ]
  },
  {
   "cell_type": "code",
   "execution_count": 17,
   "id": "c76fae5b-bfaa-4858-a129-c9d65cd18e14",
   "metadata": {},
   "outputs": [
    {
     "data": {
      "text/plain": [
       "ahmed    34.0\n",
       "ALi      12.0\n",
       "Sabir    34.0\n",
       "Sami      NaN\n",
       "dtype: float64"
      ]
     },
     "execution_count": 17,
     "metadata": {},
     "output_type": "execute_result"
    }
   ],
   "source": [
    "import pandas as pd\n",
    "age = pd.Series({\n",
    "    'ahmed'   : 34,\n",
    "    'ALi'   : 12,\n",
    "    'Sabir'   : 34,\n",
    "    'Sami'   : None\n",
    "})\n",
    "age"
   ]
  },
  {
   "cell_type": "code",
   "execution_count": 18,
   "id": "17030fe8-503c-443e-82a5-421c7b64ae82",
   "metadata": {},
   "outputs": [
    {
     "data": {
      "text/plain": [
       "34.0"
      ]
     },
     "execution_count": 18,
     "metadata": {},
     "output_type": "execute_result"
    }
   ],
   "source": [
    "age['ahmed']"
   ]
  },
  {
   "cell_type": "code",
   "execution_count": 19,
   "id": "465f07da-e8fa-46fb-87a8-5e472dc0ba61",
   "metadata": {},
   "outputs": [
    {
     "data": {
      "text/plain": [
       "ahmed    False\n",
       "ALi      False\n",
       "Sabir    False\n",
       "Sami      True\n",
       "dtype: bool"
      ]
     },
     "execution_count": 19,
     "metadata": {},
     "output_type": "execute_result"
    }
   ],
   "source": [
    "pd.isnull(age)"
   ]
  },
  {
   "cell_type": "code",
   "execution_count": 20,
   "id": "e156590e-dfc5-4cc0-93c1-2c200be250d8",
   "metadata": {},
   "outputs": [
    {
     "data": {
      "text/plain": [
       "ahmed     True\n",
       "ALi       True\n",
       "Sabir     True\n",
       "Sami     False\n",
       "dtype: bool"
      ]
     },
     "execution_count": 20,
     "metadata": {},
     "output_type": "execute_result"
    }
   ],
   "source": [
    "pd.notnull(age)"
   ]
  },
  {
   "cell_type": "code",
   "execution_count": 21,
   "id": "ae775011-5500-4165-a9e7-49f65c8a383e",
   "metadata": {},
   "outputs": [
    {
     "data": {
      "text/plain": [
       "26.666666666666668"
      ]
     },
     "execution_count": 21,
     "metadata": {},
     "output_type": "execute_result"
    }
   ],
   "source": [
    "age.mean()"
   ]
  },
  {
   "cell_type": "code",
   "execution_count": 22,
   "id": "ac950ff2-d3ae-436f-9fae-8bf1cc517200",
   "metadata": {},
   "outputs": [
    {
     "data": {
      "text/plain": [
       "1     sami\n",
       "2    sajid\n",
       "dtype: object"
      ]
     },
     "execution_count": 22,
     "metadata": {},
     "output_type": "execute_result"
    }
   ],
   "source": [
    "age =pd.Series(['sami','sajid'],index=[1,2])\n",
    "age"
   ]
  },
  {
   "cell_type": "code",
   "execution_count": 23,
   "id": "2ff88fab-4909-4cc7-a8e5-c077320a76c9",
   "metadata": {},
   "outputs": [
    {
     "data": {
      "text/plain": [
       "'sajid'"
      ]
     },
     "execution_count": 23,
     "metadata": {},
     "output_type": "execute_result"
    }
   ],
   "source": [
    "age[2]"
   ]
  },
  {
   "cell_type": "code",
   "execution_count": 24,
   "id": "36789f2f-3bb9-43ca-9181-89e533b4eaf5",
   "metadata": {},
   "outputs": [
    {
     "data": {
      "text/plain": [
       "1     sami\n",
       "2    sajid\n",
       "dtype: object"
      ]
     },
     "metadata": {},
     "output_type": "display_data"
    }
   ],
   "source": [
    "display(age)"
   ]
  },
  {
   "cell_type": "code",
   "execution_count": 25,
   "id": "c4b05f56-1306-458c-b083-17e457e8c36e",
   "metadata": {},
   "outputs": [
    {
     "data": {
      "text/plain": [
       "Ali       45.0\n",
       "Ahmed     56.0\n",
       "Razque    76.0\n",
       "Ahmed     78.0\n",
       "Sami      89.0\n",
       "dtype: float64"
      ]
     },
     "metadata": {},
     "output_type": "display_data"
    }
   ],
   "source": [
    "display(age1)"
   ]
  },
  {
   "cell_type": "code",
   "execution_count": 26,
   "id": "01c0b857-89a0-47c4-be67-6f9f3bc9536d",
   "metadata": {},
   "outputs": [
    {
     "data": {
      "text/plain": [
       "1         NaN\n",
       "2         NaN\n",
       "Ahmed     NaN\n",
       "Ahmed     NaN\n",
       "Ali       NaN\n",
       "Razque    NaN\n",
       "Sami      NaN\n",
       "dtype: object"
      ]
     },
     "execution_count": 26,
     "metadata": {},
     "output_type": "execute_result"
    }
   ],
   "source": [
    "a=age + age1\n",
    "a"
   ]
  },
  {
   "cell_type": "code",
   "execution_count": 27,
   "id": "4363078d-c801-4a6a-9cd2-4f27f70cb34f",
   "metadata": {},
   "outputs": [
    {
     "data": {
      "text/plain": [
       "1         NaN\n",
       "2         NaN\n",
       "Ahmed     NaN\n",
       "Ahmed     NaN\n",
       "Ali       NaN\n",
       "Razque    NaN\n",
       "Sami      NaN\n",
       "dtype: object"
      ]
     },
     "metadata": {},
     "output_type": "display_data"
    }
   ],
   "source": [
    "display(a)"
   ]
  },
  {
   "cell_type": "markdown",
   "id": "305cb5b6-f5b8-46bd-99a3-4e7feb2d1e5f",
   "metadata": {},
   "source": [
    "# Dataframes: Tabular data\n",
    "### pd.DataFrame - Create a dataframe"
   ]
  },
  {
   "cell_type": "code",
   "execution_count": 28,
   "id": "206a636f-1e21-4e9f-b5ea-20126640e4dc",
   "metadata": {},
   "outputs": [
    {
     "data": {
      "text/html": [
       "<div>\n",
       "<style scoped>\n",
       "    .dataframe tbody tr th:only-of-type {\n",
       "        vertical-align: middle;\n",
       "    }\n",
       "\n",
       "    .dataframe tbody tr th {\n",
       "        vertical-align: top;\n",
       "    }\n",
       "\n",
       "    .dataframe thead th {\n",
       "        text-align: right;\n",
       "    }\n",
       "</style>\n",
       "<table border=\"1\" class=\"dataframe\">\n",
       "  <thead>\n",
       "    <tr style=\"text-align: right;\">\n",
       "      <th></th>\n",
       "      <th>name</th>\n",
       "      <th>age</th>\n",
       "      <th>gpa</th>\n",
       "      <th>address</th>\n",
       "    </tr>\n",
       "  </thead>\n",
       "  <tbody>\n",
       "    <tr>\n",
       "      <th>0</th>\n",
       "      <td>sami</td>\n",
       "      <td>32</td>\n",
       "      <td>2.23</td>\n",
       "      <td>Karachi</td>\n",
       "    </tr>\n",
       "    <tr>\n",
       "      <th>1</th>\n",
       "      <td>kashi</td>\n",
       "      <td>43</td>\n",
       "      <td>3.23</td>\n",
       "      <td>Larkana</td>\n",
       "    </tr>\n",
       "    <tr>\n",
       "      <th>2</th>\n",
       "      <td>ahmend</td>\n",
       "      <td>34</td>\n",
       "      <td>3.34</td>\n",
       "      <td>Kamber</td>\n",
       "    </tr>\n",
       "  </tbody>\n",
       "</table>\n",
       "</div>"
      ],
      "text/plain": [
       "     name  age   gpa  address\n",
       "0    sami   32  2.23  Karachi\n",
       "1   kashi   43  3.23  Larkana\n",
       "2  ahmend   34  3.34   Kamber"
      ]
     },
     "execution_count": 28,
     "metadata": {},
     "output_type": "execute_result"
    }
   ],
   "source": [
    "student = pd.DataFrame({\n",
    "    'name' : ['sami','kashi','ahmend'],\n",
    "    'age'  : [ 32,43,34],\n",
    "    'gpa'  : [2.23,3.23,3.34],\n",
    "    'address':['Karachi','Larkana','Kamber']\n",
    "})\n",
    "student\n",
    "#Keys will be columns"
   ]
  },
  {
   "cell_type": "code",
   "execution_count": 29,
   "id": "47725598-f383-4012-8985-714304f8c49c",
   "metadata": {},
   "outputs": [],
   "source": [
    "student['caste']=['wadho','hakro','khan'] # create new column in dataframe at dictornary"
   ]
  },
  {
   "cell_type": "code",
   "execution_count": 30,
   "id": "8713b5ee-e516-48af-9353-7b19efaa0c22",
   "metadata": {},
   "outputs": [
    {
     "data": {
      "text/html": [
       "<div>\n",
       "<style scoped>\n",
       "    .dataframe tbody tr th:only-of-type {\n",
       "        vertical-align: middle;\n",
       "    }\n",
       "\n",
       "    .dataframe tbody tr th {\n",
       "        vertical-align: top;\n",
       "    }\n",
       "\n",
       "    .dataframe thead th {\n",
       "        text-align: right;\n",
       "    }\n",
       "</style>\n",
       "<table border=\"1\" class=\"dataframe\">\n",
       "  <thead>\n",
       "    <tr style=\"text-align: right;\">\n",
       "      <th></th>\n",
       "      <th>name</th>\n",
       "      <th>age</th>\n",
       "      <th>gpa</th>\n",
       "      <th>address</th>\n",
       "      <th>caste</th>\n",
       "    </tr>\n",
       "  </thead>\n",
       "  <tbody>\n",
       "    <tr>\n",
       "      <th>0</th>\n",
       "      <td>sami</td>\n",
       "      <td>32</td>\n",
       "      <td>2.23</td>\n",
       "      <td>Karachi</td>\n",
       "      <td>wadho</td>\n",
       "    </tr>\n",
       "    <tr>\n",
       "      <th>1</th>\n",
       "      <td>kashi</td>\n",
       "      <td>43</td>\n",
       "      <td>3.23</td>\n",
       "      <td>Larkana</td>\n",
       "      <td>hakro</td>\n",
       "    </tr>\n",
       "    <tr>\n",
       "      <th>2</th>\n",
       "      <td>ahmend</td>\n",
       "      <td>34</td>\n",
       "      <td>3.34</td>\n",
       "      <td>Kamber</td>\n",
       "      <td>khan</td>\n",
       "    </tr>\n",
       "  </tbody>\n",
       "</table>\n",
       "</div>"
      ],
      "text/plain": [
       "     name  age   gpa  address  caste\n",
       "0    sami   32  2.23  Karachi  wadho\n",
       "1   kashi   43  3.23  Larkana  hakro\n",
       "2  ahmend   34  3.34   Kamber   khan"
      ]
     },
     "execution_count": 30,
     "metadata": {},
     "output_type": "execute_result"
    }
   ],
   "source": [
    "student"
   ]
  },
  {
   "cell_type": "code",
   "execution_count": 31,
   "id": "4cb816b5-a17a-46e3-ae15-21a79dd513d9",
   "metadata": {},
   "outputs": [
    {
     "data": {
      "text/plain": [
       "Index(['name', 'age', 'gpa', 'address', 'caste'], dtype='object')"
      ]
     },
     "execution_count": 31,
     "metadata": {},
     "output_type": "execute_result"
    }
   ],
   "source": [
    "student.columns"
   ]
  },
  {
   "cell_type": "code",
   "execution_count": 32,
   "id": "e1a9f873-8bae-4cbc-9e29-3ba2d4d6a9f1",
   "metadata": {},
   "outputs": [
    {
     "data": {
      "text/plain": [
       "0      sami\n",
       "1     kashi\n",
       "2    ahmend\n",
       "Name: name, dtype: object"
      ]
     },
     "execution_count": 32,
     "metadata": {},
     "output_type": "execute_result"
    }
   ],
   "source": [
    "student['name']# it show us data in series becasue we ask one value it mean it show us data in 1d look below we ask him show us two data name , caste it show us 2d which is dataframe"
   ]
  },
  {
   "cell_type": "code",
   "execution_count": 33,
   "id": "130b66a8-8749-4f60-bfd4-5a9c81e9184d",
   "metadata": {},
   "outputs": [
    {
     "data": {
      "text/html": [
       "<div>\n",
       "<style scoped>\n",
       "    .dataframe tbody tr th:only-of-type {\n",
       "        vertical-align: middle;\n",
       "    }\n",
       "\n",
       "    .dataframe tbody tr th {\n",
       "        vertical-align: top;\n",
       "    }\n",
       "\n",
       "    .dataframe thead th {\n",
       "        text-align: right;\n",
       "    }\n",
       "</style>\n",
       "<table border=\"1\" class=\"dataframe\">\n",
       "  <thead>\n",
       "    <tr style=\"text-align: right;\">\n",
       "      <th></th>\n",
       "      <th>name</th>\n",
       "      <th>caste</th>\n",
       "    </tr>\n",
       "  </thead>\n",
       "  <tbody>\n",
       "    <tr>\n",
       "      <th>0</th>\n",
       "      <td>sami</td>\n",
       "      <td>wadho</td>\n",
       "    </tr>\n",
       "    <tr>\n",
       "      <th>1</th>\n",
       "      <td>kashi</td>\n",
       "      <td>hakro</td>\n",
       "    </tr>\n",
       "    <tr>\n",
       "      <th>2</th>\n",
       "      <td>ahmend</td>\n",
       "      <td>khan</td>\n",
       "    </tr>\n",
       "  </tbody>\n",
       "</table>\n",
       "</div>"
      ],
      "text/plain": [
       "     name  caste\n",
       "0    sami  wadho\n",
       "1   kashi  hakro\n",
       "2  ahmend   khan"
      ]
     },
     "execution_count": 33,
     "metadata": {},
     "output_type": "execute_result"
    }
   ],
   "source": [
    "student[['name','caste']]"
   ]
  },
  {
   "cell_type": "code",
   "execution_count": 34,
   "id": "ad242e2e-d59d-4370-8366-89b574788e56",
   "metadata": {},
   "outputs": [
    {
     "data": {
      "text/html": [
       "<div>\n",
       "<style scoped>\n",
       "    .dataframe tbody tr th:only-of-type {\n",
       "        vertical-align: middle;\n",
       "    }\n",
       "\n",
       "    .dataframe tbody tr th {\n",
       "        vertical-align: top;\n",
       "    }\n",
       "\n",
       "    .dataframe thead th {\n",
       "        text-align: right;\n",
       "    }\n",
       "</style>\n",
       "<table border=\"1\" class=\"dataframe\">\n",
       "  <thead>\n",
       "    <tr style=\"text-align: right;\">\n",
       "      <th></th>\n",
       "      <th>name</th>\n",
       "      <th>age</th>\n",
       "      <th>gpa</th>\n",
       "      <th>address</th>\n",
       "      <th>caste</th>\n",
       "    </tr>\n",
       "  </thead>\n",
       "  <tbody>\n",
       "    <tr>\n",
       "      <th>1</th>\n",
       "      <td>kashi</td>\n",
       "      <td>43</td>\n",
       "      <td>3.23</td>\n",
       "      <td>Larkana</td>\n",
       "      <td>hakro</td>\n",
       "    </tr>\n",
       "    <tr>\n",
       "      <th>2</th>\n",
       "      <td>ahmend</td>\n",
       "      <td>34</td>\n",
       "      <td>3.34</td>\n",
       "      <td>Kamber</td>\n",
       "      <td>khan</td>\n",
       "    </tr>\n",
       "  </tbody>\n",
       "</table>\n",
       "</div>"
      ],
      "text/plain": [
       "     name  age   gpa  address  caste\n",
       "1   kashi   43  3.23  Larkana  hakro\n",
       "2  ahmend   34  3.34   Kamber   khan"
      ]
     },
     "execution_count": 34,
     "metadata": {},
     "output_type": "execute_result"
    }
   ],
   "source": [
    "student[student['gpa']>3.00]"
   ]
  },
  {
   "cell_type": "code",
   "execution_count": 36,
   "id": "5d91fe7f-14c1-4a95-ad78-ad04246af181",
   "metadata": {},
   "outputs": [],
   "source": [
    "## student[student[['name'],'gpa']>3.00]"
   ]
  },
  {
   "cell_type": "code",
   "execution_count": 37,
   "id": "25166792-88d3-4155-bb44-d87240ac2b9c",
   "metadata": {},
   "outputs": [
    {
     "data": {
      "text/plain": [
       "0    32\n",
       "1    43\n",
       "2    34\n",
       "Name: age, dtype: int64"
      ]
     },
     "execution_count": 37,
     "metadata": {},
     "output_type": "execute_result"
    }
   ],
   "source": [
    "student.age"
   ]
  },
  {
   "cell_type": "code",
   "execution_count": 38,
   "id": "aa775941-a3e5-4bf9-9702-7898bf60ff0c",
   "metadata": {},
   "outputs": [],
   "source": [
    " #using numpy function to specify values and adding new column which is semester by numpy\n",
    "import numpy as np \n",
    "student['semester']=np.arange(1,4)"
   ]
  },
  {
   "cell_type": "code",
   "execution_count": 39,
   "id": "4f9097a3-5e3f-4764-a3c4-0a314e3ca393",
   "metadata": {},
   "outputs": [
    {
     "data": {
      "text/html": [
       "<div>\n",
       "<style scoped>\n",
       "    .dataframe tbody tr th:only-of-type {\n",
       "        vertical-align: middle;\n",
       "    }\n",
       "\n",
       "    .dataframe tbody tr th {\n",
       "        vertical-align: top;\n",
       "    }\n",
       "\n",
       "    .dataframe thead th {\n",
       "        text-align: right;\n",
       "    }\n",
       "</style>\n",
       "<table border=\"1\" class=\"dataframe\">\n",
       "  <thead>\n",
       "    <tr style=\"text-align: right;\">\n",
       "      <th></th>\n",
       "      <th>name</th>\n",
       "      <th>age</th>\n",
       "      <th>gpa</th>\n",
       "      <th>address</th>\n",
       "      <th>caste</th>\n",
       "      <th>semester</th>\n",
       "    </tr>\n",
       "  </thead>\n",
       "  <tbody>\n",
       "    <tr>\n",
       "      <th>0</th>\n",
       "      <td>sami</td>\n",
       "      <td>32</td>\n",
       "      <td>2.23</td>\n",
       "      <td>Karachi</td>\n",
       "      <td>wadho</td>\n",
       "      <td>1</td>\n",
       "    </tr>\n",
       "    <tr>\n",
       "      <th>1</th>\n",
       "      <td>kashi</td>\n",
       "      <td>43</td>\n",
       "      <td>3.23</td>\n",
       "      <td>Larkana</td>\n",
       "      <td>hakro</td>\n",
       "      <td>2</td>\n",
       "    </tr>\n",
       "    <tr>\n",
       "      <th>2</th>\n",
       "      <td>ahmend</td>\n",
       "      <td>34</td>\n",
       "      <td>3.34</td>\n",
       "      <td>Kamber</td>\n",
       "      <td>khan</td>\n",
       "      <td>3</td>\n",
       "    </tr>\n",
       "  </tbody>\n",
       "</table>\n",
       "</div>"
      ],
      "text/plain": [
       "     name  age   gpa  address  caste  semester\n",
       "0    sami   32  2.23  Karachi  wadho         1\n",
       "1   kashi   43  3.23  Larkana  hakro         2\n",
       "2  ahmend   34  3.34   Kamber   khan         3"
      ]
     },
     "execution_count": 39,
     "metadata": {},
     "output_type": "execute_result"
    }
   ],
   "source": [
    "student"
   ]
  },
  {
   "cell_type": "code",
   "execution_count": 53,
   "id": "87467123-fc29-43fc-ba4f-423a8f5dae41",
   "metadata": {},
   "outputs": [],
   "source": [
    "student['index']=[1,2,3]"
   ]
  },
  {
   "cell_type": "code",
   "execution_count": 56,
   "id": "ba509d5b-0bc2-4101-b25c-5f640aea9262",
   "metadata": {},
   "outputs": [],
   "source": [
    "student[4]=[1,2,3]"
   ]
  },
  {
   "cell_type": "code",
   "execution_count": 57,
   "id": "30e77d83-7676-4d2e-9c4f-4d031cbb898a",
   "metadata": {},
   "outputs": [],
   "source": [
    "# now rename the index like here we take the student data it has 3 data\n",
    "# therefore\n",
    "new_index=['S1','S2','S3']\n",
    "student.index = new_index"
   ]
  },
  {
   "cell_type": "code",
   "execution_count": 58,
   "id": "9e035204-75dd-4564-9618-49559932288e",
   "metadata": {},
   "outputs": [
    {
     "data": {
      "text/html": [
       "<div>\n",
       "<style scoped>\n",
       "    .dataframe tbody tr th:only-of-type {\n",
       "        vertical-align: middle;\n",
       "    }\n",
       "\n",
       "    .dataframe tbody tr th {\n",
       "        vertical-align: top;\n",
       "    }\n",
       "\n",
       "    .dataframe thead th {\n",
       "        text-align: right;\n",
       "    }\n",
       "</style>\n",
       "<table border=\"1\" class=\"dataframe\">\n",
       "  <thead>\n",
       "    <tr style=\"text-align: right;\">\n",
       "      <th></th>\n",
       "      <th>name</th>\n",
       "      <th>age</th>\n",
       "      <th>gpa</th>\n",
       "      <th>address</th>\n",
       "      <th>caste</th>\n",
       "      <th>semester</th>\n",
       "      <th>index</th>\n",
       "      <th>4</th>\n",
       "    </tr>\n",
       "  </thead>\n",
       "  <tbody>\n",
       "    <tr>\n",
       "      <th>S1</th>\n",
       "      <td>sami</td>\n",
       "      <td>32</td>\n",
       "      <td>2.23</td>\n",
       "      <td>Karachi</td>\n",
       "      <td>wadho</td>\n",
       "      <td>1</td>\n",
       "      <td>1</td>\n",
       "      <td>1</td>\n",
       "    </tr>\n",
       "    <tr>\n",
       "      <th>S2</th>\n",
       "      <td>kashi</td>\n",
       "      <td>43</td>\n",
       "      <td>3.23</td>\n",
       "      <td>Larkana</td>\n",
       "      <td>hakro</td>\n",
       "      <td>2</td>\n",
       "      <td>2</td>\n",
       "      <td>2</td>\n",
       "    </tr>\n",
       "    <tr>\n",
       "      <th>S3</th>\n",
       "      <td>ahmend</td>\n",
       "      <td>34</td>\n",
       "      <td>3.34</td>\n",
       "      <td>Kamber</td>\n",
       "      <td>khan</td>\n",
       "      <td>3</td>\n",
       "      <td>3</td>\n",
       "      <td>3</td>\n",
       "    </tr>\n",
       "  </tbody>\n",
       "</table>\n",
       "</div>"
      ],
      "text/plain": [
       "      name  age   gpa  address  caste  semester  index  4\n",
       "S1    sami   32  2.23  Karachi  wadho         1      1  1\n",
       "S2   kashi   43  3.23  Larkana  hakro         2      2  2\n",
       "S3  ahmend   34  3.34   Kamber   khan         3      3  3"
      ]
     },
     "execution_count": 58,
     "metadata": {},
     "output_type": "execute_result"
    }
   ],
   "source": [
    "student"
   ]
  },
  {
   "cell_type": "code",
   "execution_count": 59,
   "id": "ea98149e-1d53-4091-83e9-d15d91901c38",
   "metadata": {},
   "outputs": [
    {
     "data": {
      "text/html": [
       "<div>\n",
       "<style scoped>\n",
       "    .dataframe tbody tr th:only-of-type {\n",
       "        vertical-align: middle;\n",
       "    }\n",
       "\n",
       "    .dataframe tbody tr th {\n",
       "        vertical-align: top;\n",
       "    }\n",
       "\n",
       "    .dataframe thead th {\n",
       "        text-align: right;\n",
       "    }\n",
       "</style>\n",
       "<table border=\"1\" class=\"dataframe\">\n",
       "  <thead>\n",
       "    <tr style=\"text-align: right;\">\n",
       "      <th></th>\n",
       "      <th>names</th>\n",
       "      <th>qualification</th>\n",
       "    </tr>\n",
       "  </thead>\n",
       "  <tbody>\n",
       "    <tr>\n",
       "      <th>d1</th>\n",
       "      <td>Asad</td>\n",
       "      <td>PhD</td>\n",
       "    </tr>\n",
       "    <tr>\n",
       "      <th>d2</th>\n",
       "      <td>Rahim</td>\n",
       "      <td>MS</td>\n",
       "    </tr>\n",
       "  </tbody>\n",
       "</table>\n",
       "</div>"
      ],
      "text/plain": [
       "    names qualification\n",
       "d1   Asad           PhD\n",
       "d2  Rahim            MS"
      ]
     },
     "execution_count": 59,
     "metadata": {},
     "output_type": "execute_result"
    }
   ],
   "source": [
    "# in up work we did the rename the index which is already created \n",
    "# now we are going to give index we we create the record\n",
    "\n",
    "doctors = pd.DataFrame({\n",
    "    'names':['Asad','Rahim'],\n",
    "    'qualification':['PhD','MS']\n",
    "},index=['d1','d2'])\n",
    "\n",
    "doctors"
   ]
  },
  {
   "cell_type": "code",
   "execution_count": 60,
   "id": "67ac1061-0d09-48a6-ac33-c0d05333f3f3",
   "metadata": {},
   "outputs": [
    {
     "data": {
      "text/html": [
       "<div>\n",
       "<style scoped>\n",
       "    .dataframe tbody tr th:only-of-type {\n",
       "        vertical-align: middle;\n",
       "    }\n",
       "\n",
       "    .dataframe tbody tr th {\n",
       "        vertical-align: top;\n",
       "    }\n",
       "\n",
       "    .dataframe thead th {\n",
       "        text-align: right;\n",
       "    }\n",
       "</style>\n",
       "<table border=\"1\" class=\"dataframe\">\n",
       "  <thead>\n",
       "    <tr style=\"text-align: right;\">\n",
       "      <th></th>\n",
       "      <th>names</th>\n",
       "      <th>qualification</th>\n",
       "      <th>address</th>\n",
       "    </tr>\n",
       "  </thead>\n",
       "  <tbody>\n",
       "    <tr>\n",
       "      <th>d1</th>\n",
       "      <td>Asad</td>\n",
       "      <td>PhD</td>\n",
       "      <td>Karachi</td>\n",
       "    </tr>\n",
       "    <tr>\n",
       "      <th>d2</th>\n",
       "      <td>Rahim</td>\n",
       "      <td>MS</td>\n",
       "      <td>Lohare</td>\n",
       "    </tr>\n",
       "  </tbody>\n",
       "</table>\n",
       "</div>"
      ],
      "text/plain": [
       "    names qualification  address\n",
       "d1   Asad           PhD  Karachi\n",
       "d2  Rahim            MS   Lohare"
      ]
     },
     "execution_count": 60,
     "metadata": {},
     "output_type": "execute_result"
    }
   ],
   "source": [
    "doctors['address']=['Karachi','Lohare']\n",
    "doctors"
   ]
  },
  {
   "cell_type": "code",
   "execution_count": 61,
   "id": "e8c4d279-a1dd-40db-8fe4-19140acf9281",
   "metadata": {},
   "outputs": [
    {
     "data": {
      "text/plain": [
       "names               Asad\n",
       "qualification        PhD\n",
       "address          Karachi\n",
       "Name: d1, dtype: object"
      ]
     },
     "execution_count": 61,
     "metadata": {},
     "output_type": "execute_result"
    }
   ],
   "source": [
    "doctors.loc['d1'] #Accessing row-wise data using index\n",
    "#loc and iloc"
   ]
  },
  {
   "cell_type": "code",
   "execution_count": 62,
   "id": "ce0acb17-95c6-482a-a658-ebf227b3a47f",
   "metadata": {},
   "outputs": [
    {
     "data": {
      "text/plain": [
       "names               Asad\n",
       "qualification        PhD\n",
       "address          Karachi\n",
       "Name: d1, dtype: object"
      ]
     },
     "execution_count": 62,
     "metadata": {},
     "output_type": "execute_result"
    }
   ],
   "source": [
    "doctors.iloc[0] #Accessing row-wise data using index location\n"
   ]
  },
  {
   "cell_type": "code",
   "execution_count": 63,
   "id": "6923acb5-cd57-4d6f-a658-78c51d95e981",
   "metadata": {},
   "outputs": [
    {
     "data": {
      "text/plain": [
       "names             Rahim\n",
       "qualification        MS\n",
       "address          Lohare\n",
       "Name: d2, dtype: object"
      ]
     },
     "execution_count": 63,
     "metadata": {},
     "output_type": "execute_result"
    }
   ],
   "source": [
    "doctors.iloc[1]\n"
   ]
  },
  {
   "cell_type": "code",
   "execution_count": 64,
   "id": "f0fe82be-629b-4fd8-970f-18f37046bf7a",
   "metadata": {},
   "outputs": [
    {
     "data": {
      "text/html": [
       "<div>\n",
       "<style scoped>\n",
       "    .dataframe tbody tr th:only-of-type {\n",
       "        vertical-align: middle;\n",
       "    }\n",
       "\n",
       "    .dataframe tbody tr th {\n",
       "        vertical-align: top;\n",
       "    }\n",
       "\n",
       "    .dataframe thead th {\n",
       "        text-align: right;\n",
       "    }\n",
       "</style>\n",
       "<table border=\"1\" class=\"dataframe\">\n",
       "  <thead>\n",
       "    <tr style=\"text-align: right;\">\n",
       "      <th></th>\n",
       "      <th>names</th>\n",
       "      <th>qualification</th>\n",
       "      <th>address</th>\n",
       "    </tr>\n",
       "  </thead>\n",
       "  <tbody>\n",
       "    <tr>\n",
       "      <th>d1</th>\n",
       "      <td>Asad</td>\n",
       "      <td>PhD</td>\n",
       "      <td>Karachi</td>\n",
       "    </tr>\n",
       "    <tr>\n",
       "      <th>d2</th>\n",
       "      <td>Rahim</td>\n",
       "      <td>MS</td>\n",
       "      <td>Lohare</td>\n",
       "    </tr>\n",
       "  </tbody>\n",
       "</table>\n",
       "</div>"
      ],
      "text/plain": [
       "    names qualification  address\n",
       "d1   Asad           PhD  Karachi\n",
       "d2  Rahim            MS   Lohare"
      ]
     },
     "execution_count": 64,
     "metadata": {},
     "output_type": "execute_result"
    }
   ],
   "source": [
    "doctors"
   ]
  },
  {
   "cell_type": "code",
   "execution_count": 65,
   "id": "33d0e90a-2230-4590-86a0-0d5dcdfba703",
   "metadata": {},
   "outputs": [
    {
     "data": {
      "text/html": [
       "<div>\n",
       "<style scoped>\n",
       "    .dataframe tbody tr th:only-of-type {\n",
       "        vertical-align: middle;\n",
       "    }\n",
       "\n",
       "    .dataframe tbody tr th {\n",
       "        vertical-align: top;\n",
       "    }\n",
       "\n",
       "    .dataframe thead th {\n",
       "        text-align: right;\n",
       "    }\n",
       "</style>\n",
       "<table border=\"1\" class=\"dataframe\">\n",
       "  <thead>\n",
       "    <tr style=\"text-align: right;\">\n",
       "      <th></th>\n",
       "      <th>name</th>\n",
       "      <th>age</th>\n",
       "      <th>gpa</th>\n",
       "      <th>address</th>\n",
       "      <th>caste</th>\n",
       "      <th>semester</th>\n",
       "      <th>index</th>\n",
       "      <th>4</th>\n",
       "    </tr>\n",
       "  </thead>\n",
       "  <tbody>\n",
       "    <tr>\n",
       "      <th>S1</th>\n",
       "      <td>sami</td>\n",
       "      <td>32</td>\n",
       "      <td>2.23</td>\n",
       "      <td>Karachi</td>\n",
       "      <td>wadho</td>\n",
       "      <td>1</td>\n",
       "      <td>1</td>\n",
       "      <td>1</td>\n",
       "    </tr>\n",
       "    <tr>\n",
       "      <th>S2</th>\n",
       "      <td>kashi</td>\n",
       "      <td>43</td>\n",
       "      <td>3.23</td>\n",
       "      <td>Larkana</td>\n",
       "      <td>hakro</td>\n",
       "      <td>2</td>\n",
       "      <td>2</td>\n",
       "      <td>2</td>\n",
       "    </tr>\n",
       "    <tr>\n",
       "      <th>S3</th>\n",
       "      <td>ahmend</td>\n",
       "      <td>34</td>\n",
       "      <td>3.34</td>\n",
       "      <td>Kamber</td>\n",
       "      <td>khan</td>\n",
       "      <td>3</td>\n",
       "      <td>3</td>\n",
       "      <td>3</td>\n",
       "    </tr>\n",
       "  </tbody>\n",
       "</table>\n",
       "</div>"
      ],
      "text/plain": [
       "      name  age   gpa  address  caste  semester  index  4\n",
       "S1    sami   32  2.23  Karachi  wadho         1      1  1\n",
       "S2   kashi   43  3.23  Larkana  hakro         2      2  2\n",
       "S3  ahmend   34  3.34   Kamber   khan         3      3  3"
      ]
     },
     "execution_count": 65,
     "metadata": {},
     "output_type": "execute_result"
    }
   ],
   "source": [
    "student"
   ]
  },
  {
   "cell_type": "code",
   "execution_count": 66,
   "id": "67b05bb9-971c-45f4-8529-da833f9cf105",
   "metadata": {},
   "outputs": [
    {
     "data": {
      "text/html": [
       "<div>\n",
       "<style scoped>\n",
       "    .dataframe tbody tr th:only-of-type {\n",
       "        vertical-align: middle;\n",
       "    }\n",
       "\n",
       "    .dataframe tbody tr th {\n",
       "        vertical-align: top;\n",
       "    }\n",
       "\n",
       "    .dataframe thead th {\n",
       "        text-align: right;\n",
       "    }\n",
       "</style>\n",
       "<table border=\"1\" class=\"dataframe\">\n",
       "  <thead>\n",
       "    <tr style=\"text-align: right;\">\n",
       "      <th></th>\n",
       "      <th>name</th>\n",
       "      <th>age</th>\n",
       "      <th>gpa</th>\n",
       "      <th>address</th>\n",
       "      <th>caste</th>\n",
       "      <th>semester</th>\n",
       "      <th>index</th>\n",
       "      <th>4</th>\n",
       "    </tr>\n",
       "  </thead>\n",
       "  <tbody>\n",
       "    <tr>\n",
       "      <th>S1</th>\n",
       "      <td>sami</td>\n",
       "      <td>32</td>\n",
       "      <td>2.23</td>\n",
       "      <td>Karachi</td>\n",
       "      <td>wadho</td>\n",
       "      <td>1</td>\n",
       "      <td>1</td>\n",
       "      <td>1</td>\n",
       "    </tr>\n",
       "    <tr>\n",
       "      <th>S2</th>\n",
       "      <td>kashi</td>\n",
       "      <td>43</td>\n",
       "      <td>3.23</td>\n",
       "      <td>Larkana</td>\n",
       "      <td>hakro</td>\n",
       "      <td>2</td>\n",
       "      <td>2</td>\n",
       "      <td>2</td>\n",
       "    </tr>\n",
       "    <tr>\n",
       "      <th>S3</th>\n",
       "      <td>ahmend</td>\n",
       "      <td>34</td>\n",
       "      <td>3.34</td>\n",
       "      <td>Kamber</td>\n",
       "      <td>khan</td>\n",
       "      <td>3</td>\n",
       "      <td>3</td>\n",
       "      <td>3</td>\n",
       "    </tr>\n",
       "  </tbody>\n",
       "</table>\n",
       "</div>"
      ],
      "text/plain": [
       "      name  age   gpa  address  caste  semester  index  4\n",
       "S1    sami   32  2.23  Karachi  wadho         1      1  1\n",
       "S2   kashi   43  3.23  Larkana  hakro         2      2  2\n",
       "S3  ahmend   34  3.34   Kamber   khan         3      3  3"
      ]
     },
     "execution_count": 66,
     "metadata": {},
     "output_type": "execute_result"
    }
   ],
   "source": [
    "student"
   ]
  },
  {
   "cell_type": "code",
   "execution_count": 67,
   "id": "cfdc94ae-a8cc-48da-8dc4-c4278cfcdd82",
   "metadata": {},
   "outputs": [
    {
     "data": {
      "text/html": [
       "<div>\n",
       "<style scoped>\n",
       "    .dataframe tbody tr th:only-of-type {\n",
       "        vertical-align: middle;\n",
       "    }\n",
       "\n",
       "    .dataframe tbody tr th {\n",
       "        vertical-align: top;\n",
       "    }\n",
       "\n",
       "    .dataframe thead th {\n",
       "        text-align: right;\n",
       "    }\n",
       "</style>\n",
       "<table border=\"1\" class=\"dataframe\">\n",
       "  <thead>\n",
       "    <tr style=\"text-align: right;\">\n",
       "      <th></th>\n",
       "      <th>name</th>\n",
       "      <th>age</th>\n",
       "      <th>gpa</th>\n",
       "      <th>address</th>\n",
       "      <th>caste</th>\n",
       "      <th>semester</th>\n",
       "      <th>index</th>\n",
       "    </tr>\n",
       "  </thead>\n",
       "  <tbody>\n",
       "    <tr>\n",
       "      <th>S1</th>\n",
       "      <td>sami</td>\n",
       "      <td>32</td>\n",
       "      <td>2.23</td>\n",
       "      <td>Karachi</td>\n",
       "      <td>wadho</td>\n",
       "      <td>1</td>\n",
       "      <td>1</td>\n",
       "    </tr>\n",
       "    <tr>\n",
       "      <th>S2</th>\n",
       "      <td>kashi</td>\n",
       "      <td>43</td>\n",
       "      <td>3.23</td>\n",
       "      <td>Larkana</td>\n",
       "      <td>hakro</td>\n",
       "      <td>2</td>\n",
       "      <td>2</td>\n",
       "    </tr>\n",
       "    <tr>\n",
       "      <th>S3</th>\n",
       "      <td>ahmend</td>\n",
       "      <td>34</td>\n",
       "      <td>3.34</td>\n",
       "      <td>Kamber</td>\n",
       "      <td>khan</td>\n",
       "      <td>3</td>\n",
       "      <td>3</td>\n",
       "    </tr>\n",
       "  </tbody>\n",
       "</table>\n",
       "</div>"
      ],
      "text/plain": [
       "      name  age   gpa  address  caste  semester  index\n",
       "S1    sami   32  2.23  Karachi  wadho         1      1\n",
       "S2   kashi   43  3.23  Larkana  hakro         2      2\n",
       "S3  ahmend   34  3.34   Kamber   khan         3      3"
      ]
     },
     "execution_count": 67,
     "metadata": {},
     "output_type": "execute_result"
    }
   ],
   "source": [
    "del student[4]\n",
    "student"
   ]
  },
  {
   "cell_type": "code",
   "execution_count": 68,
   "id": "4a150dc3-b1b7-4d3e-9915-b56775b33180",
   "metadata": {},
   "outputs": [
    {
     "data": {
      "text/html": [
       "<div>\n",
       "<style scoped>\n",
       "    .dataframe tbody tr th:only-of-type {\n",
       "        vertical-align: middle;\n",
       "    }\n",
       "\n",
       "    .dataframe tbody tr th {\n",
       "        vertical-align: top;\n",
       "    }\n",
       "\n",
       "    .dataframe thead th {\n",
       "        text-align: right;\n",
       "    }\n",
       "</style>\n",
       "<table border=\"1\" class=\"dataframe\">\n",
       "  <thead>\n",
       "    <tr style=\"text-align: right;\">\n",
       "      <th></th>\n",
       "      <th>name</th>\n",
       "      <th>age</th>\n",
       "      <th>gpa</th>\n",
       "      <th>address</th>\n",
       "      <th>caste</th>\n",
       "      <th>semester</th>\n",
       "    </tr>\n",
       "  </thead>\n",
       "  <tbody>\n",
       "    <tr>\n",
       "      <th>S1</th>\n",
       "      <td>sami</td>\n",
       "      <td>32</td>\n",
       "      <td>2.23</td>\n",
       "      <td>Karachi</td>\n",
       "      <td>wadho</td>\n",
       "      <td>1</td>\n",
       "    </tr>\n",
       "    <tr>\n",
       "      <th>S2</th>\n",
       "      <td>kashi</td>\n",
       "      <td>43</td>\n",
       "      <td>3.23</td>\n",
       "      <td>Larkana</td>\n",
       "      <td>hakro</td>\n",
       "      <td>2</td>\n",
       "    </tr>\n",
       "    <tr>\n",
       "      <th>S3</th>\n",
       "      <td>ahmend</td>\n",
       "      <td>34</td>\n",
       "      <td>3.34</td>\n",
       "      <td>Kamber</td>\n",
       "      <td>khan</td>\n",
       "      <td>3</td>\n",
       "    </tr>\n",
       "  </tbody>\n",
       "</table>\n",
       "</div>"
      ],
      "text/plain": [
       "      name  age   gpa  address  caste  semester\n",
       "S1    sami   32  2.23  Karachi  wadho         1\n",
       "S2   kashi   43  3.23  Larkana  hakro         2\n",
       "S3  ahmend   34  3.34   Kamber   khan         3"
      ]
     },
     "execution_count": 68,
     "metadata": {},
     "output_type": "execute_result"
    }
   ],
   "source": [
    "del student['index']\n",
    "student"
   ]
  },
  {
   "cell_type": "code",
   "execution_count": 69,
   "id": "91cce4d4-4e1c-4669-9f12-9f78d80a5f5c",
   "metadata": {},
   "outputs": [],
   "source": [
    "# agian add the column\n",
    "student['index']=[0,1,2]"
   ]
  },
  {
   "cell_type": "code",
   "execution_count": 70,
   "id": "fec32e7d-4a38-4f30-a5e5-6ce5627a1e22",
   "metadata": {},
   "outputs": [
    {
     "data": {
      "text/html": [
       "<div>\n",
       "<style scoped>\n",
       "    .dataframe tbody tr th:only-of-type {\n",
       "        vertical-align: middle;\n",
       "    }\n",
       "\n",
       "    .dataframe tbody tr th {\n",
       "        vertical-align: top;\n",
       "    }\n",
       "\n",
       "    .dataframe thead th {\n",
       "        text-align: right;\n",
       "    }\n",
       "</style>\n",
       "<table border=\"1\" class=\"dataframe\">\n",
       "  <thead>\n",
       "    <tr style=\"text-align: right;\">\n",
       "      <th></th>\n",
       "      <th>name</th>\n",
       "      <th>age</th>\n",
       "      <th>gpa</th>\n",
       "      <th>address</th>\n",
       "      <th>caste</th>\n",
       "      <th>semester</th>\n",
       "      <th>index</th>\n",
       "    </tr>\n",
       "  </thead>\n",
       "  <tbody>\n",
       "    <tr>\n",
       "      <th>S1</th>\n",
       "      <td>sami</td>\n",
       "      <td>32</td>\n",
       "      <td>2.23</td>\n",
       "      <td>Karachi</td>\n",
       "      <td>wadho</td>\n",
       "      <td>1</td>\n",
       "      <td>0</td>\n",
       "    </tr>\n",
       "    <tr>\n",
       "      <th>S2</th>\n",
       "      <td>kashi</td>\n",
       "      <td>43</td>\n",
       "      <td>3.23</td>\n",
       "      <td>Larkana</td>\n",
       "      <td>hakro</td>\n",
       "      <td>2</td>\n",
       "      <td>1</td>\n",
       "    </tr>\n",
       "    <tr>\n",
       "      <th>S3</th>\n",
       "      <td>ahmend</td>\n",
       "      <td>34</td>\n",
       "      <td>3.34</td>\n",
       "      <td>Kamber</td>\n",
       "      <td>khan</td>\n",
       "      <td>3</td>\n",
       "      <td>2</td>\n",
       "    </tr>\n",
       "  </tbody>\n",
       "</table>\n",
       "</div>"
      ],
      "text/plain": [
       "      name  age   gpa  address  caste  semester  index\n",
       "S1    sami   32  2.23  Karachi  wadho         1      0\n",
       "S2   kashi   43  3.23  Larkana  hakro         2      1\n",
       "S3  ahmend   34  3.34   Kamber   khan         3      2"
      ]
     },
     "execution_count": 70,
     "metadata": {},
     "output_type": "execute_result"
    }
   ],
   "source": [
    "student"
   ]
  },
  {
   "cell_type": "code",
   "execution_count": 71,
   "id": "a6d09c3d-20df-4f3c-83fa-37f6f17cccb9",
   "metadata": {},
   "outputs": [
    {
     "data": {
      "text/html": [
       "<div>\n",
       "<style scoped>\n",
       "    .dataframe tbody tr th:only-of-type {\n",
       "        vertical-align: middle;\n",
       "    }\n",
       "\n",
       "    .dataframe tbody tr th {\n",
       "        vertical-align: top;\n",
       "    }\n",
       "\n",
       "    .dataframe thead th {\n",
       "        text-align: right;\n",
       "    }\n",
       "</style>\n",
       "<table border=\"1\" class=\"dataframe\">\n",
       "  <thead>\n",
       "    <tr style=\"text-align: right;\">\n",
       "      <th></th>\n",
       "      <th>S1</th>\n",
       "      <th>S2</th>\n",
       "      <th>S3</th>\n",
       "    </tr>\n",
       "  </thead>\n",
       "  <tbody>\n",
       "    <tr>\n",
       "      <th>name</th>\n",
       "      <td>sami</td>\n",
       "      <td>kashi</td>\n",
       "      <td>ahmend</td>\n",
       "    </tr>\n",
       "    <tr>\n",
       "      <th>age</th>\n",
       "      <td>32</td>\n",
       "      <td>43</td>\n",
       "      <td>34</td>\n",
       "    </tr>\n",
       "    <tr>\n",
       "      <th>gpa</th>\n",
       "      <td>2.23</td>\n",
       "      <td>3.23</td>\n",
       "      <td>3.34</td>\n",
       "    </tr>\n",
       "    <tr>\n",
       "      <th>address</th>\n",
       "      <td>Karachi</td>\n",
       "      <td>Larkana</td>\n",
       "      <td>Kamber</td>\n",
       "    </tr>\n",
       "    <tr>\n",
       "      <th>caste</th>\n",
       "      <td>wadho</td>\n",
       "      <td>hakro</td>\n",
       "      <td>khan</td>\n",
       "    </tr>\n",
       "    <tr>\n",
       "      <th>semester</th>\n",
       "      <td>1</td>\n",
       "      <td>2</td>\n",
       "      <td>3</td>\n",
       "    </tr>\n",
       "    <tr>\n",
       "      <th>index</th>\n",
       "      <td>0</td>\n",
       "      <td>1</td>\n",
       "      <td>2</td>\n",
       "    </tr>\n",
       "  </tbody>\n",
       "</table>\n",
       "</div>"
      ],
      "text/plain": [
       "               S1       S2      S3\n",
       "name         sami    kashi  ahmend\n",
       "age            32       43      34\n",
       "gpa          2.23     3.23    3.34\n",
       "address   Karachi  Larkana  Kamber\n",
       "caste       wadho    hakro    khan\n",
       "semester        1        2       3\n",
       "index           0        1       2"
      ]
     },
     "execution_count": 71,
     "metadata": {},
     "output_type": "execute_result"
    }
   ],
   "source": [
    "student.T"
   ]
  },
  {
   "cell_type": "code",
   "execution_count": 72,
   "id": "1f46966e-8aa5-4602-b69b-11d721bc8c45",
   "metadata": {},
   "outputs": [
    {
     "data": {
      "text/html": [
       "<div>\n",
       "<style scoped>\n",
       "    .dataframe tbody tr th:only-of-type {\n",
       "        vertical-align: middle;\n",
       "    }\n",
       "\n",
       "    .dataframe tbody tr th {\n",
       "        vertical-align: top;\n",
       "    }\n",
       "\n",
       "    .dataframe thead th {\n",
       "        text-align: right;\n",
       "    }\n",
       "</style>\n",
       "<table border=\"1\" class=\"dataframe\">\n",
       "  <thead>\n",
       "    <tr style=\"text-align: right;\">\n",
       "      <th></th>\n",
       "      <th>S1</th>\n",
       "      <th>S2</th>\n",
       "      <th>S3</th>\n",
       "    </tr>\n",
       "  </thead>\n",
       "  <tbody>\n",
       "    <tr>\n",
       "      <th>name</th>\n",
       "      <td>sami</td>\n",
       "      <td>kashi</td>\n",
       "      <td>ahmend</td>\n",
       "    </tr>\n",
       "    <tr>\n",
       "      <th>age</th>\n",
       "      <td>32</td>\n",
       "      <td>43</td>\n",
       "      <td>34</td>\n",
       "    </tr>\n",
       "    <tr>\n",
       "      <th>gpa</th>\n",
       "      <td>2.23</td>\n",
       "      <td>3.23</td>\n",
       "      <td>3.34</td>\n",
       "    </tr>\n",
       "    <tr>\n",
       "      <th>address</th>\n",
       "      <td>Karachi</td>\n",
       "      <td>Larkana</td>\n",
       "      <td>Kamber</td>\n",
       "    </tr>\n",
       "    <tr>\n",
       "      <th>caste</th>\n",
       "      <td>wadho</td>\n",
       "      <td>hakro</td>\n",
       "      <td>khan</td>\n",
       "    </tr>\n",
       "    <tr>\n",
       "      <th>semester</th>\n",
       "      <td>1</td>\n",
       "      <td>2</td>\n",
       "      <td>3</td>\n",
       "    </tr>\n",
       "    <tr>\n",
       "      <th>index</th>\n",
       "      <td>0</td>\n",
       "      <td>1</td>\n",
       "      <td>2</td>\n",
       "    </tr>\n",
       "  </tbody>\n",
       "</table>\n",
       "</div>"
      ],
      "text/plain": [
       "               S1       S2      S3\n",
       "name         sami    kashi  ahmend\n",
       "age            32       43      34\n",
       "gpa          2.23     3.23    3.34\n",
       "address   Karachi  Larkana  Kamber\n",
       "caste       wadho    hakro    khan\n",
       "semester        1        2       3\n",
       "index           0        1       2"
      ]
     },
     "execution_count": 72,
     "metadata": {},
     "output_type": "execute_result"
    }
   ],
   "source": [
    "student.transpose()"
   ]
  },
  {
   "cell_type": "code",
   "execution_count": 73,
   "id": "6ba45a48-26c2-43aa-a0e1-f89d5704df73",
   "metadata": {},
   "outputs": [
    {
     "data": {
      "text/html": [
       "<div>\n",
       "<style scoped>\n",
       "    .dataframe tbody tr th:only-of-type {\n",
       "        vertical-align: middle;\n",
       "    }\n",
       "\n",
       "    .dataframe tbody tr th {\n",
       "        vertical-align: top;\n",
       "    }\n",
       "\n",
       "    .dataframe thead th {\n",
       "        text-align: right;\n",
       "    }\n",
       "</style>\n",
       "<table border=\"1\" class=\"dataframe\">\n",
       "  <thead>\n",
       "    <tr style=\"text-align: right;\">\n",
       "      <th></th>\n",
       "      <th>name</th>\n",
       "      <th>age</th>\n",
       "      <th>gpa</th>\n",
       "      <th>address</th>\n",
       "      <th>caste</th>\n",
       "      <th>semester</th>\n",
       "      <th>index</th>\n",
       "    </tr>\n",
       "  </thead>\n",
       "  <tbody>\n",
       "    <tr>\n",
       "      <th>S1</th>\n",
       "      <td>sami</td>\n",
       "      <td>32</td>\n",
       "      <td>2.23</td>\n",
       "      <td>Karachi</td>\n",
       "      <td>wadho</td>\n",
       "      <td>1</td>\n",
       "      <td>0</td>\n",
       "    </tr>\n",
       "    <tr>\n",
       "      <th>S2</th>\n",
       "      <td>kashi</td>\n",
       "      <td>43</td>\n",
       "      <td>3.23</td>\n",
       "      <td>Larkana</td>\n",
       "      <td>hakro</td>\n",
       "      <td>2</td>\n",
       "      <td>1</td>\n",
       "    </tr>\n",
       "    <tr>\n",
       "      <th>S3</th>\n",
       "      <td>ahmend</td>\n",
       "      <td>34</td>\n",
       "      <td>3.34</td>\n",
       "      <td>Kamber</td>\n",
       "      <td>khan</td>\n",
       "      <td>3</td>\n",
       "      <td>2</td>\n",
       "    </tr>\n",
       "  </tbody>\n",
       "</table>\n",
       "</div>"
      ],
      "text/plain": [
       "      name  age   gpa  address  caste  semester  index\n",
       "S1    sami   32  2.23  Karachi  wadho         1      0\n",
       "S2   kashi   43  3.23  Larkana  hakro         2      1\n",
       "S3  ahmend   34  3.34   Kamber   khan         3      2"
      ]
     },
     "execution_count": 73,
     "metadata": {},
     "output_type": "execute_result"
    }
   ],
   "source": [
    "student"
   ]
  },
  {
   "cell_type": "code",
   "execution_count": 74,
   "id": "ad6449aa-c6d8-4545-a0ad-557b4e35cb2d",
   "metadata": {},
   "outputs": [
    {
     "data": {
      "text/html": [
       "<div>\n",
       "<style scoped>\n",
       "    .dataframe tbody tr th:only-of-type {\n",
       "        vertical-align: middle;\n",
       "    }\n",
       "\n",
       "    .dataframe tbody tr th {\n",
       "        vertical-align: top;\n",
       "    }\n",
       "\n",
       "    .dataframe thead th {\n",
       "        text-align: right;\n",
       "    }\n",
       "</style>\n",
       "<table border=\"1\" class=\"dataframe\">\n",
       "  <thead>\n",
       "    <tr style=\"text-align: right;\">\n",
       "      <th></th>\n",
       "      <th>name</th>\n",
       "      <th>age</th>\n",
       "      <th>gpa</th>\n",
       "      <th>address</th>\n",
       "      <th>caste</th>\n",
       "      <th>semester</th>\n",
       "      <th>index</th>\n",
       "    </tr>\n",
       "  </thead>\n",
       "  <tbody>\n",
       "    <tr>\n",
       "      <th>S1</th>\n",
       "      <td>sami</td>\n",
       "      <td>32</td>\n",
       "      <td>2.23</td>\n",
       "      <td>Karachi</td>\n",
       "      <td>wadho</td>\n",
       "      <td>1</td>\n",
       "      <td>0</td>\n",
       "    </tr>\n",
       "    <tr>\n",
       "      <th>S3</th>\n",
       "      <td>ahmend</td>\n",
       "      <td>34</td>\n",
       "      <td>3.34</td>\n",
       "      <td>Kamber</td>\n",
       "      <td>khan</td>\n",
       "      <td>3</td>\n",
       "      <td>2</td>\n",
       "    </tr>\n",
       "  </tbody>\n",
       "</table>\n",
       "</div>"
      ],
      "text/plain": [
       "      name  age   gpa  address  caste  semester  index\n",
       "S1    sami   32  2.23  Karachi  wadho         1      0\n",
       "S3  ahmend   34  3.34   Kamber   khan         3      2"
      ]
     },
     "execution_count": 74,
     "metadata": {},
     "output_type": "execute_result"
    }
   ],
   "source": [
    "student.iloc[::2] #slicing in a dataframe if we want to find even row data"
   ]
  },
  {
   "cell_type": "code",
   "execution_count": 75,
   "id": "907b21f9-1688-41f2-b075-d0ea4823af70",
   "metadata": {},
   "outputs": [
    {
     "data": {
      "text/plain": [
       "name        ahmend\n",
       "age             34\n",
       "gpa           3.34\n",
       "address     Kamber\n",
       "caste         khan\n",
       "semester         3\n",
       "index            2\n",
       "Name: S3, dtype: object"
      ]
     },
     "execution_count": 75,
     "metadata": {},
     "output_type": "execute_result"
    }
   ],
   "source": [
    "student.iloc[-1]"
   ]
  },
  {
   "cell_type": "code",
   "execution_count": 76,
   "id": "ec04d930-a629-4f1d-aaee-5002d44eef4e",
   "metadata": {},
   "outputs": [
    {
     "data": {
      "text/plain": [
       "array([['sami', 32, 2.23, 'Karachi', 'wadho', 1, 0],\n",
       "       ['kashi', 43, 3.23, 'Larkana', 'hakro', 2, 1],\n",
       "       ['ahmend', 34, 3.34, 'Kamber', 'khan', 3, 2]], dtype=object)"
      ]
     },
     "execution_count": 76,
     "metadata": {},
     "output_type": "execute_result"
    }
   ],
   "source": [
    "student.values"
   ]
  },
  {
   "cell_type": "code",
   "execution_count": 77,
   "id": "5c43d36f-9e99-4fb1-929b-993bf21216d9",
   "metadata": {},
   "outputs": [
    {
     "data": {
      "text/html": [
       "<div>\n",
       "<style scoped>\n",
       "    .dataframe tbody tr th:only-of-type {\n",
       "        vertical-align: middle;\n",
       "    }\n",
       "\n",
       "    .dataframe tbody tr th {\n",
       "        vertical-align: top;\n",
       "    }\n",
       "\n",
       "    .dataframe thead th {\n",
       "        text-align: right;\n",
       "    }\n",
       "</style>\n",
       "<table border=\"1\" class=\"dataframe\">\n",
       "  <thead>\n",
       "    <tr style=\"text-align: right;\">\n",
       "      <th></th>\n",
       "      <th>name</th>\n",
       "      <th>age</th>\n",
       "      <th>gpa</th>\n",
       "      <th>address</th>\n",
       "      <th>caste</th>\n",
       "      <th>semester</th>\n",
       "      <th>index</th>\n",
       "    </tr>\n",
       "  </thead>\n",
       "  <tbody>\n",
       "    <tr>\n",
       "      <th>S1</th>\n",
       "      <td>sami</td>\n",
       "      <td>32</td>\n",
       "      <td>2.23</td>\n",
       "      <td>Karachi</td>\n",
       "      <td>wadho</td>\n",
       "      <td>1</td>\n",
       "      <td>0</td>\n",
       "    </tr>\n",
       "    <tr>\n",
       "      <th>S2</th>\n",
       "      <td>kashi</td>\n",
       "      <td>43</td>\n",
       "      <td>3.23</td>\n",
       "      <td>Larkana</td>\n",
       "      <td>hakro</td>\n",
       "      <td>2</td>\n",
       "      <td>1</td>\n",
       "    </tr>\n",
       "    <tr>\n",
       "      <th>S3</th>\n",
       "      <td>ahmend</td>\n",
       "      <td>34</td>\n",
       "      <td>3.34</td>\n",
       "      <td>Kamber</td>\n",
       "      <td>khan</td>\n",
       "      <td>3</td>\n",
       "      <td>2</td>\n",
       "    </tr>\n",
       "  </tbody>\n",
       "</table>\n",
       "</div>"
      ],
      "text/plain": [
       "      name  age   gpa  address  caste  semester  index\n",
       "S1    sami   32  2.23  Karachi  wadho         1      0\n",
       "S2   kashi   43  3.23  Larkana  hakro         2      1\n",
       "S3  ahmend   34  3.34   Kamber   khan         3      2"
      ]
     },
     "execution_count": 77,
     "metadata": {},
     "output_type": "execute_result"
    }
   ],
   "source": [
    "student"
   ]
  },
  {
   "cell_type": "code",
   "execution_count": 79,
   "id": "59a6fe17-165d-4f6c-a7b4-55ffc42a5a11",
   "metadata": {},
   "outputs": [
    {
     "data": {
      "text/html": [
       "<div>\n",
       "<style scoped>\n",
       "    .dataframe tbody tr th:only-of-type {\n",
       "        vertical-align: middle;\n",
       "    }\n",
       "\n",
       "    .dataframe tbody tr th {\n",
       "        vertical-align: top;\n",
       "    }\n",
       "\n",
       "    .dataframe thead th {\n",
       "        text-align: right;\n",
       "    }\n",
       "</style>\n",
       "<table border=\"1\" class=\"dataframe\">\n",
       "  <thead>\n",
       "    <tr style=\"text-align: right;\">\n",
       "      <th></th>\n",
       "      <th>name</th>\n",
       "      <th>age</th>\n",
       "      <th>gpa</th>\n",
       "      <th>address</th>\n",
       "      <th>caste</th>\n",
       "      <th>semester</th>\n",
       "      <th>index</th>\n",
       "    </tr>\n",
       "  </thead>\n",
       "  <tbody>\n",
       "    <tr>\n",
       "      <th>S1</th>\n",
       "      <td>sami</td>\n",
       "      <td>32</td>\n",
       "      <td>2.23</td>\n",
       "      <td>Karachi</td>\n",
       "      <td>wadho</td>\n",
       "      <td>1</td>\n",
       "      <td>0</td>\n",
       "    </tr>\n",
       "    <tr>\n",
       "      <th>S3</th>\n",
       "      <td>ahmend</td>\n",
       "      <td>34</td>\n",
       "      <td>3.34</td>\n",
       "      <td>Kamber</td>\n",
       "      <td>khan</td>\n",
       "      <td>3</td>\n",
       "      <td>2</td>\n",
       "    </tr>\n",
       "  </tbody>\n",
       "</table>\n",
       "</div>"
      ],
      "text/plain": [
       "      name  age   gpa  address  caste  semester  index\n",
       "S1    sami   32  2.23  Karachi  wadho         1      0\n",
       "S3  ahmend   34  3.34   Kamber   khan         3      2"
      ]
     },
     "execution_count": 79,
     "metadata": {},
     "output_type": "execute_result"
    }
   ],
   "source": [
    "student.drop(['S2'],axis=0) #removing specific rows from dataframe\n",
    "## Drop the row with index label 0"
   ]
  },
  {
   "cell_type": "markdown",
   "id": "13d17170-d676-40a7-bdd6-9a6dec90bf50",
   "metadata": {},
   "source": [
    "# Creating dataframe with different data structures"
   ]
  },
  {
   "cell_type": "code",
   "execution_count": 85,
   "id": "fc61fefc-554e-45e0-9c90-562094541f8c",
   "metadata": {},
   "outputs": [
    {
     "data": {
      "text/plain": [
       "(3, 5)"
      ]
     },
     "execution_count": 85,
     "metadata": {},
     "output_type": "execute_result"
    }
   ],
   "source": [
    "arr = np.array ([['sarah',50,2.4,'karachi',1],\n",
    "                 ['ali',23,3.2,'lahore',2],\n",
    "                 ['sami',12,3.23,'karachi',3]\n",
    "                \n",
    "                ])\n",
    "arr\n",
    "arr.shape"
   ]
  },
  {
   "cell_type": "code",
   "execution_count": 86,
   "id": "79d63d2b-e4a2-49a7-bf74-2b8825e584bf",
   "metadata": {},
   "outputs": [
    {
     "data": {
      "text/html": [
       "<div>\n",
       "<style scoped>\n",
       "    .dataframe tbody tr th:only-of-type {\n",
       "        vertical-align: middle;\n",
       "    }\n",
       "\n",
       "    .dataframe tbody tr th {\n",
       "        vertical-align: top;\n",
       "    }\n",
       "\n",
       "    .dataframe thead th {\n",
       "        text-align: right;\n",
       "    }\n",
       "</style>\n",
       "<table border=\"1\" class=\"dataframe\">\n",
       "  <thead>\n",
       "    <tr style=\"text-align: right;\">\n",
       "      <th></th>\n",
       "      <th>Name</th>\n",
       "      <th>age</th>\n",
       "      <th>gpa</th>\n",
       "      <th>address</th>\n",
       "      <th>semester</th>\n",
       "    </tr>\n",
       "  </thead>\n",
       "  <tbody>\n",
       "    <tr>\n",
       "      <th>0</th>\n",
       "      <td>sarah</td>\n",
       "      <td>50</td>\n",
       "      <td>2.4</td>\n",
       "      <td>karachi</td>\n",
       "      <td>1</td>\n",
       "    </tr>\n",
       "    <tr>\n",
       "      <th>1</th>\n",
       "      <td>ali</td>\n",
       "      <td>23</td>\n",
       "      <td>3.2</td>\n",
       "      <td>lahore</td>\n",
       "      <td>2</td>\n",
       "    </tr>\n",
       "    <tr>\n",
       "      <th>2</th>\n",
       "      <td>sami</td>\n",
       "      <td>12</td>\n",
       "      <td>3.23</td>\n",
       "      <td>karachi</td>\n",
       "      <td>3</td>\n",
       "    </tr>\n",
       "  </tbody>\n",
       "</table>\n",
       "</div>"
      ],
      "text/plain": [
       "    Name age   gpa  address semester\n",
       "0  sarah  50   2.4  karachi        1\n",
       "1    ali  23   3.2   lahore        2\n",
       "2   sami  12  3.23  karachi        3"
      ]
     },
     "execution_count": 86,
     "metadata": {},
     "output_type": "execute_result"
    }
   ],
   "source": [
    "df = pd.DataFrame(arr,columns=['Name','age','gpa','address','semester'])\n",
    "df"
   ]
  },
  {
   "cell_type": "code",
   "execution_count": 87,
   "id": "4a5e2398-6733-41b9-8eba-6a97588a4a50",
   "metadata": {},
   "outputs": [
    {
     "data": {
      "text/plain": [
       "[['Sarah', 50, 3.4, 'Karachi', 1],\n",
       " ['Ahmed', 60, 2.9, 'Lahore', 2],\n",
       " ['Ali', 70, 3.6, 'Islamabad', 3],\n",
       " ['Shoaib', 37, 2.9, 'Pindi', 4]]"
      ]
     },
     "execution_count": 87,
     "metadata": {},
     "output_type": "execute_result"
    }
   ],
   "source": [
    "lst = [\n",
    "    ['Sarah', 50, 3.4, 'Karachi', 1],\n",
    "       ['Ahmed', 60, 2.9, 'Lahore', 2],\n",
    "       ['Ali', 70, 3.6, 'Islamabad', 3],\n",
    "        ['Shoaib',37,2.9,'Pindi', 4]\n",
    "]\n",
    "lst"
   ]
  },
  {
   "cell_type": "code",
   "execution_count": 96,
   "id": "03ada8bb-74ad-40c2-a3e4-605bf8a30580",
   "metadata": {},
   "outputs": [],
   "source": [
    "frame = pd.DataFrame(lst,columns=['Name','age','gpa','address','semester'])"
   ]
  },
  {
   "cell_type": "code",
   "execution_count": 97,
   "id": "9dcdac8e-da3b-451a-988a-394a131ecef2",
   "metadata": {},
   "outputs": [
    {
     "data": {
      "text/html": [
       "<div>\n",
       "<style scoped>\n",
       "    .dataframe tbody tr th:only-of-type {\n",
       "        vertical-align: middle;\n",
       "    }\n",
       "\n",
       "    .dataframe tbody tr th {\n",
       "        vertical-align: top;\n",
       "    }\n",
       "\n",
       "    .dataframe thead th {\n",
       "        text-align: right;\n",
       "    }\n",
       "</style>\n",
       "<table border=\"1\" class=\"dataframe\">\n",
       "  <thead>\n",
       "    <tr style=\"text-align: right;\">\n",
       "      <th></th>\n",
       "      <th>Name</th>\n",
       "      <th>age</th>\n",
       "      <th>gpa</th>\n",
       "      <th>address</th>\n",
       "      <th>semester</th>\n",
       "    </tr>\n",
       "  </thead>\n",
       "  <tbody>\n",
       "    <tr>\n",
       "      <th>0</th>\n",
       "      <td>Sarah</td>\n",
       "      <td>50</td>\n",
       "      <td>3.4</td>\n",
       "      <td>Karachi</td>\n",
       "      <td>1</td>\n",
       "    </tr>\n",
       "    <tr>\n",
       "      <th>1</th>\n",
       "      <td>Ahmed</td>\n",
       "      <td>60</td>\n",
       "      <td>2.9</td>\n",
       "      <td>Lahore</td>\n",
       "      <td>2</td>\n",
       "    </tr>\n",
       "    <tr>\n",
       "      <th>2</th>\n",
       "      <td>Ali</td>\n",
       "      <td>70</td>\n",
       "      <td>3.6</td>\n",
       "      <td>Islamabad</td>\n",
       "      <td>3</td>\n",
       "    </tr>\n",
       "    <tr>\n",
       "      <th>3</th>\n",
       "      <td>Shoaib</td>\n",
       "      <td>37</td>\n",
       "      <td>2.9</td>\n",
       "      <td>Pindi</td>\n",
       "      <td>4</td>\n",
       "    </tr>\n",
       "  </tbody>\n",
       "</table>\n",
       "</div>"
      ],
      "text/plain": [
       "     Name  age  gpa    address  semester\n",
       "0   Sarah   50  3.4    Karachi         1\n",
       "1   Ahmed   60  2.9     Lahore         2\n",
       "2     Ali   70  3.6  Islamabad         3\n",
       "3  Shoaib   37  2.9      Pindi         4"
      ]
     },
     "execution_count": 97,
     "metadata": {},
     "output_type": "execute_result"
    }
   ],
   "source": [
    "frame"
   ]
  },
  {
   "cell_type": "code",
   "execution_count": 99,
   "id": "56190744-d9f5-47fa-825a-4dfbba36ea7a",
   "metadata": {},
   "outputs": [
    {
     "data": {
      "text/html": [
       "<div>\n",
       "<style scoped>\n",
       "    .dataframe tbody tr th:only-of-type {\n",
       "        vertical-align: middle;\n",
       "    }\n",
       "\n",
       "    .dataframe tbody tr th {\n",
       "        vertical-align: top;\n",
       "    }\n",
       "\n",
       "    .dataframe thead th {\n",
       "        text-align: right;\n",
       "    }\n",
       "</style>\n",
       "<table border=\"1\" class=\"dataframe\">\n",
       "  <thead>\n",
       "    <tr style=\"text-align: right;\">\n",
       "      <th></th>\n",
       "      <th>Name</th>\n",
       "      <th>gpa</th>\n",
       "      <th>address</th>\n",
       "    </tr>\n",
       "  </thead>\n",
       "  <tbody>\n",
       "    <tr>\n",
       "      <th>0</th>\n",
       "      <td>Sarah</td>\n",
       "      <td>3.4</td>\n",
       "      <td>Karachi</td>\n",
       "    </tr>\n",
       "    <tr>\n",
       "      <th>1</th>\n",
       "      <td>Ahmed</td>\n",
       "      <td>2.9</td>\n",
       "      <td>Lahore</td>\n",
       "    </tr>\n",
       "    <tr>\n",
       "      <th>2</th>\n",
       "      <td>Ali</td>\n",
       "      <td>3.6</td>\n",
       "      <td>Islamabad</td>\n",
       "    </tr>\n",
       "    <tr>\n",
       "      <th>3</th>\n",
       "      <td>Shoaib</td>\n",
       "      <td>2.9</td>\n",
       "      <td>Pindi</td>\n",
       "    </tr>\n",
       "  </tbody>\n",
       "</table>\n",
       "</div>"
      ],
      "text/plain": [
       "     Name  gpa    address\n",
       "0   Sarah  3.4    Karachi\n",
       "1   Ahmed  2.9     Lahore\n",
       "2     Ali  3.6  Islamabad\n",
       "3  Shoaib  2.9      Pindi"
      ]
     },
     "execution_count": 99,
     "metadata": {},
     "output_type": "execute_result"
    }
   ],
   "source": [
    "frame.drop(['age','semester'],axis = 1) #drop columns axis = 1 "
   ]
  },
  {
   "cell_type": "code",
   "execution_count": 100,
   "id": "9bafbdfc-243f-48f9-b7b0-c10cd195278e",
   "metadata": {},
   "outputs": [
    {
     "data": {
      "text/html": [
       "<div>\n",
       "<style scoped>\n",
       "    .dataframe tbody tr th:only-of-type {\n",
       "        vertical-align: middle;\n",
       "    }\n",
       "\n",
       "    .dataframe tbody tr th {\n",
       "        vertical-align: top;\n",
       "    }\n",
       "\n",
       "    .dataframe thead th {\n",
       "        text-align: right;\n",
       "    }\n",
       "</style>\n",
       "<table border=\"1\" class=\"dataframe\">\n",
       "  <thead>\n",
       "    <tr style=\"text-align: right;\">\n",
       "      <th></th>\n",
       "      <th>Name</th>\n",
       "      <th>age</th>\n",
       "      <th>gpa</th>\n",
       "      <th>address</th>\n",
       "      <th>semester</th>\n",
       "    </tr>\n",
       "  </thead>\n",
       "  <tbody>\n",
       "    <tr>\n",
       "      <th>2</th>\n",
       "      <td>Ali</td>\n",
       "      <td>70</td>\n",
       "      <td>3.6</td>\n",
       "      <td>Islamabad</td>\n",
       "      <td>3</td>\n",
       "    </tr>\n",
       "    <tr>\n",
       "      <th>3</th>\n",
       "      <td>Shoaib</td>\n",
       "      <td>37</td>\n",
       "      <td>2.9</td>\n",
       "      <td>Pindi</td>\n",
       "      <td>4</td>\n",
       "    </tr>\n",
       "  </tbody>\n",
       "</table>\n",
       "</div>"
      ],
      "text/plain": [
       "     Name  age  gpa    address  semester\n",
       "2     Ali   70  3.6  Islamabad         3\n",
       "3  Shoaib   37  2.9      Pindi         4"
      ]
     },
     "execution_count": 100,
     "metadata": {},
     "output_type": "execute_result"
    }
   ],
   "source": [
    "frame.drop([0,1],axis=0) #row-wise\n"
   ]
  },
  {
   "cell_type": "code",
   "execution_count": 101,
   "id": "899f41f1-6fd0-4819-a6b0-46958ce12be3",
   "metadata": {},
   "outputs": [
    {
     "data": {
      "text/html": [
       "<div>\n",
       "<style scoped>\n",
       "    .dataframe tbody tr th:only-of-type {\n",
       "        vertical-align: middle;\n",
       "    }\n",
       "\n",
       "    .dataframe tbody tr th {\n",
       "        vertical-align: top;\n",
       "    }\n",
       "\n",
       "    .dataframe thead th {\n",
       "        text-align: right;\n",
       "    }\n",
       "</style>\n",
       "<table border=\"1\" class=\"dataframe\">\n",
       "  <thead>\n",
       "    <tr style=\"text-align: right;\">\n",
       "      <th></th>\n",
       "      <th>Name</th>\n",
       "      <th>age</th>\n",
       "      <th>gpa</th>\n",
       "      <th>address</th>\n",
       "      <th>semester</th>\n",
       "    </tr>\n",
       "  </thead>\n",
       "  <tbody>\n",
       "    <tr>\n",
       "      <th>0</th>\n",
       "      <td>Sarah</td>\n",
       "      <td>50</td>\n",
       "      <td>3.4</td>\n",
       "      <td>Karachi</td>\n",
       "      <td>1</td>\n",
       "    </tr>\n",
       "    <tr>\n",
       "      <th>2</th>\n",
       "      <td>Ali</td>\n",
       "      <td>70</td>\n",
       "      <td>3.6</td>\n",
       "      <td>Islamabad</td>\n",
       "      <td>3</td>\n",
       "    </tr>\n",
       "  </tbody>\n",
       "</table>\n",
       "</div>"
      ],
      "text/plain": [
       "    Name  age  gpa    address  semester\n",
       "0  Sarah   50  3.4    Karachi         1\n",
       "2    Ali   70  3.6  Islamabad         3"
      ]
     },
     "execution_count": 101,
     "metadata": {},
     "output_type": "execute_result"
    }
   ],
   "source": [
    "#Slicing in dataframe\n",
    "frame.iloc[::2] #start,end,step"
   ]
  },
  {
   "cell_type": "code",
   "execution_count": 103,
   "id": "e9057c44-594e-4523-9417-f465d0839c3d",
   "metadata": {},
   "outputs": [
    {
     "data": {
      "text/html": [
       "<div>\n",
       "<style scoped>\n",
       "    .dataframe tbody tr th:only-of-type {\n",
       "        vertical-align: middle;\n",
       "    }\n",
       "\n",
       "    .dataframe tbody tr th {\n",
       "        vertical-align: top;\n",
       "    }\n",
       "\n",
       "    .dataframe thead th {\n",
       "        text-align: right;\n",
       "    }\n",
       "</style>\n",
       "<table border=\"1\" class=\"dataframe\">\n",
       "  <thead>\n",
       "    <tr style=\"text-align: right;\">\n",
       "      <th></th>\n",
       "      <th>Name</th>\n",
       "      <th>age</th>\n",
       "    </tr>\n",
       "  </thead>\n",
       "  <tbody>\n",
       "    <tr>\n",
       "      <th>0</th>\n",
       "      <td>Sarah</td>\n",
       "      <td>50</td>\n",
       "    </tr>\n",
       "    <tr>\n",
       "      <th>1</th>\n",
       "      <td>Ahmed</td>\n",
       "      <td>60</td>\n",
       "    </tr>\n",
       "    <tr>\n",
       "      <th>2</th>\n",
       "      <td>Ali</td>\n",
       "      <td>70</td>\n",
       "    </tr>\n",
       "    <tr>\n",
       "      <th>3</th>\n",
       "      <td>Shoaib</td>\n",
       "      <td>37</td>\n",
       "    </tr>\n",
       "  </tbody>\n",
       "</table>\n",
       "</div>"
      ],
      "text/plain": [
       "     Name  age\n",
       "0   Sarah   50\n",
       "1   Ahmed   60\n",
       "2     Ali   70\n",
       "3  Shoaib   37"
      ]
     },
     "execution_count": 103,
     "metadata": {},
     "output_type": "execute_result"
    }
   ],
   "source": [
    "frame.loc[:,'Name':'age']"
   ]
  },
  {
   "cell_type": "code",
   "execution_count": 104,
   "id": "e03c70c4-f4b3-4425-b50c-de9f1c89b315",
   "metadata": {},
   "outputs": [],
   "source": [
    "#Apply function\n",
    "frame.columns = ['Name','Age','CGPA','Address','Semester']"
   ]
  },
  {
   "cell_type": "code",
   "execution_count": 105,
   "id": "e04b0bfc-4498-4124-9fe5-c3664e4248f9",
   "metadata": {},
   "outputs": [
    {
     "data": {
      "text/html": [
       "<div>\n",
       "<style scoped>\n",
       "    .dataframe tbody tr th:only-of-type {\n",
       "        vertical-align: middle;\n",
       "    }\n",
       "\n",
       "    .dataframe tbody tr th {\n",
       "        vertical-align: top;\n",
       "    }\n",
       "\n",
       "    .dataframe thead th {\n",
       "        text-align: right;\n",
       "    }\n",
       "</style>\n",
       "<table border=\"1\" class=\"dataframe\">\n",
       "  <thead>\n",
       "    <tr style=\"text-align: right;\">\n",
       "      <th></th>\n",
       "      <th>Name</th>\n",
       "      <th>Age</th>\n",
       "      <th>CGPA</th>\n",
       "      <th>Address</th>\n",
       "      <th>Semester</th>\n",
       "      <th>status</th>\n",
       "    </tr>\n",
       "  </thead>\n",
       "  <tbody>\n",
       "    <tr>\n",
       "      <th>0</th>\n",
       "      <td>Sarah</td>\n",
       "      <td>50</td>\n",
       "      <td>3.4</td>\n",
       "      <td>Karachi</td>\n",
       "      <td>1</td>\n",
       "      <td>old</td>\n",
       "    </tr>\n",
       "    <tr>\n",
       "      <th>1</th>\n",
       "      <td>Ahmed</td>\n",
       "      <td>60</td>\n",
       "      <td>2.9</td>\n",
       "      <td>Lahore</td>\n",
       "      <td>2</td>\n",
       "      <td>old</td>\n",
       "    </tr>\n",
       "    <tr>\n",
       "      <th>2</th>\n",
       "      <td>Ali</td>\n",
       "      <td>70</td>\n",
       "      <td>3.6</td>\n",
       "      <td>Islamabad</td>\n",
       "      <td>3</td>\n",
       "      <td>old</td>\n",
       "    </tr>\n",
       "    <tr>\n",
       "      <th>3</th>\n",
       "      <td>Shoaib</td>\n",
       "      <td>37</td>\n",
       "      <td>2.9</td>\n",
       "      <td>Pindi</td>\n",
       "      <td>4</td>\n",
       "      <td>young</td>\n",
       "    </tr>\n",
       "  </tbody>\n",
       "</table>\n",
       "</div>"
      ],
      "text/plain": [
       "     Name  Age  CGPA    Address  Semester status\n",
       "0   Sarah   50   3.4    Karachi         1    old\n",
       "1   Ahmed   60   2.9     Lahore         2    old\n",
       "2     Ali   70   3.6  Islamabad         3    old\n",
       "3  Shoaib   37   2.9      Pindi         4  young"
      ]
     },
     "execution_count": 105,
     "metadata": {},
     "output_type": "execute_result"
    }
   ],
   "source": [
    "# create the funtion for \"apply function\"\n",
    "def old_young (age):\n",
    "    if age >40:\n",
    "        return 'old'\n",
    "    else:\n",
    "        return 'young'\n",
    "        \n",
    "# now create the new columns name \"status\" in frame and then use apply function \n",
    "frame['status']=frame['Age'].apply(old_young)\n",
    "#give old or young value and also adding new \n",
    "# column of status\n",
    "frame"
   ]
  },
  {
   "cell_type": "code",
   "execution_count": 106,
   "id": "1e175a2e-616c-43a0-ac5c-5e3ec3d6cefb",
   "metadata": {},
   "outputs": [
    {
     "data": {
      "text/html": [
       "<div>\n",
       "<style scoped>\n",
       "    .dataframe tbody tr th:only-of-type {\n",
       "        vertical-align: middle;\n",
       "    }\n",
       "\n",
       "    .dataframe tbody tr th {\n",
       "        vertical-align: top;\n",
       "    }\n",
       "\n",
       "    .dataframe thead th {\n",
       "        text-align: right;\n",
       "    }\n",
       "</style>\n",
       "<table border=\"1\" class=\"dataframe\">\n",
       "  <thead>\n",
       "    <tr style=\"text-align: right;\">\n",
       "      <th></th>\n",
       "      <th>Name</th>\n",
       "      <th>Age</th>\n",
       "      <th>CGPA</th>\n",
       "      <th>Address</th>\n",
       "      <th>Semester</th>\n",
       "      <th>status</th>\n",
       "    </tr>\n",
       "  </thead>\n",
       "  <tbody>\n",
       "    <tr>\n",
       "      <th>0</th>\n",
       "      <td>Sarah</td>\n",
       "      <td>50</td>\n",
       "      <td>3.4</td>\n",
       "      <td>Karachi</td>\n",
       "      <td>1</td>\n",
       "      <td>old</td>\n",
       "    </tr>\n",
       "    <tr>\n",
       "      <th>1</th>\n",
       "      <td>Ahmed</td>\n",
       "      <td>60</td>\n",
       "      <td>2.9</td>\n",
       "      <td>Lahore</td>\n",
       "      <td>2</td>\n",
       "      <td>old</td>\n",
       "    </tr>\n",
       "    <tr>\n",
       "      <th>2</th>\n",
       "      <td>Ali</td>\n",
       "      <td>70</td>\n",
       "      <td>3.6</td>\n",
       "      <td>Islamabad</td>\n",
       "      <td>3</td>\n",
       "      <td>old</td>\n",
       "    </tr>\n",
       "    <tr>\n",
       "      <th>3</th>\n",
       "      <td>Shoaib</td>\n",
       "      <td>37</td>\n",
       "      <td>2.9</td>\n",
       "      <td>Pindi</td>\n",
       "      <td>4</td>\n",
       "      <td>young</td>\n",
       "    </tr>\n",
       "  </tbody>\n",
       "</table>\n",
       "</div>"
      ],
      "text/plain": [
       "     Name  Age  CGPA    Address  Semester status\n",
       "0   Sarah   50   3.4    Karachi         1    old\n",
       "1   Ahmed   60   2.9     Lahore         2    old\n",
       "2     Ali   70   3.6  Islamabad         3    old\n",
       "3  Shoaib   37   2.9      Pindi         4  young"
      ]
     },
     "execution_count": 106,
     "metadata": {},
     "output_type": "execute_result"
    }
   ],
   "source": [
    "frame"
   ]
  },
  {
   "cell_type": "code",
   "execution_count": 107,
   "id": "8ebd4e66-0eeb-47f3-a766-a7d7b646d76c",
   "metadata": {},
   "outputs": [
    {
     "data": {
      "text/html": [
       "<div>\n",
       "<style scoped>\n",
       "    .dataframe tbody tr th:only-of-type {\n",
       "        vertical-align: middle;\n",
       "    }\n",
       "\n",
       "    .dataframe tbody tr th {\n",
       "        vertical-align: top;\n",
       "    }\n",
       "\n",
       "    .dataframe thead th {\n",
       "        text-align: right;\n",
       "    }\n",
       "</style>\n",
       "<table border=\"1\" class=\"dataframe\">\n",
       "  <thead>\n",
       "    <tr style=\"text-align: right;\">\n",
       "      <th></th>\n",
       "      <th>Name</th>\n",
       "      <th>Age</th>\n",
       "      <th>CGPA</th>\n",
       "      <th>Address</th>\n",
       "      <th>Semester</th>\n",
       "      <th>status</th>\n",
       "      <th>Status</th>\n",
       "    </tr>\n",
       "  </thead>\n",
       "  <tbody>\n",
       "    <tr>\n",
       "      <th>0</th>\n",
       "      <td>Sarah</td>\n",
       "      <td>50</td>\n",
       "      <td>3.4</td>\n",
       "      <td>Karachi</td>\n",
       "      <td>1</td>\n",
       "      <td>old</td>\n",
       "      <td>Old</td>\n",
       "    </tr>\n",
       "    <tr>\n",
       "      <th>1</th>\n",
       "      <td>Ahmed</td>\n",
       "      <td>60</td>\n",
       "      <td>2.9</td>\n",
       "      <td>Lahore</td>\n",
       "      <td>2</td>\n",
       "      <td>old</td>\n",
       "      <td>Old</td>\n",
       "    </tr>\n",
       "    <tr>\n",
       "      <th>2</th>\n",
       "      <td>Ali</td>\n",
       "      <td>70</td>\n",
       "      <td>3.6</td>\n",
       "      <td>Islamabad</td>\n",
       "      <td>3</td>\n",
       "      <td>old</td>\n",
       "      <td>Old</td>\n",
       "    </tr>\n",
       "    <tr>\n",
       "      <th>3</th>\n",
       "      <td>Shoaib</td>\n",
       "      <td>37</td>\n",
       "      <td>2.9</td>\n",
       "      <td>Pindi</td>\n",
       "      <td>4</td>\n",
       "      <td>young</td>\n",
       "      <td>Young</td>\n",
       "    </tr>\n",
       "  </tbody>\n",
       "</table>\n",
       "</div>"
      ],
      "text/plain": [
       "     Name  Age  CGPA    Address  Semester status Status\n",
       "0   Sarah   50   3.4    Karachi         1    old    Old\n",
       "1   Ahmed   60   2.9     Lahore         2    old    Old\n",
       "2     Ali   70   3.6  Islamabad         3    old    Old\n",
       "3  Shoaib   37   2.9      Pindi         4  young  Young"
      ]
     },
     "execution_count": 107,
     "metadata": {},
     "output_type": "execute_result"
    }
   ],
   "source": [
    "#we also can do same thing throught Lambda functions these are one line funtion\n",
    "# we us lambda for simple use like one line \n",
    "old_young = lambda age: \"Old\" if age>40 else \"Young\"\n",
    "frame['Status']=frame['Age'].apply(old_young)\n",
    "frame"
   ]
  },
  {
   "cell_type": "code",
   "execution_count": 108,
   "id": "c939613e-97e9-4ee4-8f1c-0519a884b09c",
   "metadata": {},
   "outputs": [
    {
     "data": {
      "text/html": [
       "<div>\n",
       "<style scoped>\n",
       "    .dataframe tbody tr th:only-of-type {\n",
       "        vertical-align: middle;\n",
       "    }\n",
       "\n",
       "    .dataframe tbody tr th {\n",
       "        vertical-align: top;\n",
       "    }\n",
       "\n",
       "    .dataframe thead th {\n",
       "        text-align: right;\n",
       "    }\n",
       "</style>\n",
       "<table border=\"1\" class=\"dataframe\">\n",
       "  <thead>\n",
       "    <tr style=\"text-align: right;\">\n",
       "      <th></th>\n",
       "      <th>salary</th>\n",
       "      <th>name</th>\n",
       "    </tr>\n",
       "  </thead>\n",
       "  <tbody>\n",
       "    <tr>\n",
       "      <th>0</th>\n",
       "      <td>1000</td>\n",
       "      <td>Mark</td>\n",
       "    </tr>\n",
       "    <tr>\n",
       "      <th>1</th>\n",
       "      <td>2000</td>\n",
       "      <td>Jordan</td>\n",
       "    </tr>\n",
       "    <tr>\n",
       "      <th>2</th>\n",
       "      <td>3000</td>\n",
       "      <td>Yuaan</td>\n",
       "    </tr>\n",
       "  </tbody>\n",
       "</table>\n",
       "</div>"
      ],
      "text/plain": [
       "   salary    name\n",
       "0    1000    Mark\n",
       "1    2000  Jordan\n",
       "2    3000   Yuaan"
      ]
     },
     "execution_count": 108,
     "metadata": {},
     "output_type": "execute_result"
    }
   ],
   "source": [
    "employee = pd.DataFrame(\n",
    "{\n",
    "    'salary':[1000,2000,3000],\n",
    "    'name':['Mark','Jordan','Yuaan']\n",
    "}\n",
    ")\n",
    "\n",
    "employee"
   ]
  },
  {
   "cell_type": "code",
   "execution_count": 109,
   "id": "18b3c8c2-0759-4e39-8bf7-1ebffe605690",
   "metadata": {},
   "outputs": [
    {
     "data": {
      "text/plain": [
       "0    50\n",
       "1    25\n",
       "2    25\n",
       "Name: salary, dtype: int64"
      ]
     },
     "execution_count": 109,
     "metadata": {},
     "output_type": "execute_result"
    }
   ],
   "source": [
    "employee['salary'].apply(lambda salary: 50 if salary<=1000 else 25)\n"
   ]
  },
  {
   "cell_type": "code",
   "execution_count": 110,
   "id": "3b03d3a0-1e36-4298-a303-460562643c51",
   "metadata": {},
   "outputs": [
    {
     "data": {
      "text/html": [
       "<div>\n",
       "<style scoped>\n",
       "    .dataframe tbody tr th:only-of-type {\n",
       "        vertical-align: middle;\n",
       "    }\n",
       "\n",
       "    .dataframe tbody tr th {\n",
       "        vertical-align: top;\n",
       "    }\n",
       "\n",
       "    .dataframe thead th {\n",
       "        text-align: right;\n",
       "    }\n",
       "</style>\n",
       "<table border=\"1\" class=\"dataframe\">\n",
       "  <thead>\n",
       "    <tr style=\"text-align: right;\">\n",
       "      <th></th>\n",
       "      <th>salary</th>\n",
       "      <th>name</th>\n",
       "      <th>Increment</th>\n",
       "    </tr>\n",
       "  </thead>\n",
       "  <tbody>\n",
       "    <tr>\n",
       "      <th>0</th>\n",
       "      <td>1000</td>\n",
       "      <td>Mark</td>\n",
       "      <td>50</td>\n",
       "    </tr>\n",
       "    <tr>\n",
       "      <th>1</th>\n",
       "      <td>2000</td>\n",
       "      <td>Jordan</td>\n",
       "      <td>25</td>\n",
       "    </tr>\n",
       "    <tr>\n",
       "      <th>2</th>\n",
       "      <td>3000</td>\n",
       "      <td>Yuaan</td>\n",
       "      <td>25</td>\n",
       "    </tr>\n",
       "  </tbody>\n",
       "</table>\n",
       "</div>"
      ],
      "text/plain": [
       "   salary    name  Increment\n",
       "0    1000    Mark         50\n",
       "1    2000  Jordan         25\n",
       "2    3000   Yuaan         25"
      ]
     },
     "execution_count": 110,
     "metadata": {},
     "output_type": "execute_result"
    }
   ],
   "source": [
    "employee['Increment']=\\\n",
    "        employee['salary'].apply(lambda salary: 50 if salary<=1000 else 25)\n",
    "\n",
    "employee"
   ]
  },
  {
   "cell_type": "code",
   "execution_count": 111,
   "id": "6254c130-8580-4e70-bc34-b2602388a337",
   "metadata": {},
   "outputs": [
    {
     "data": {
      "text/html": [
       "<div>\n",
       "<style scoped>\n",
       "    .dataframe tbody tr th:only-of-type {\n",
       "        vertical-align: middle;\n",
       "    }\n",
       "\n",
       "    .dataframe tbody tr th {\n",
       "        vertical-align: top;\n",
       "    }\n",
       "\n",
       "    .dataframe thead th {\n",
       "        text-align: right;\n",
       "    }\n",
       "</style>\n",
       "<table border=\"1\" class=\"dataframe\">\n",
       "  <thead>\n",
       "    <tr style=\"text-align: right;\">\n",
       "      <th></th>\n",
       "      <th>salary</th>\n",
       "      <th>name</th>\n",
       "      <th>Increment</th>\n",
       "    </tr>\n",
       "  </thead>\n",
       "  <tbody>\n",
       "    <tr>\n",
       "      <th>0</th>\n",
       "      <td>1000</td>\n",
       "      <td>Mark</td>\n",
       "      <td>50</td>\n",
       "    </tr>\n",
       "    <tr>\n",
       "      <th>1</th>\n",
       "      <td>2000</td>\n",
       "      <td>Jordan</td>\n",
       "      <td>25</td>\n",
       "    </tr>\n",
       "    <tr>\n",
       "      <th>2</th>\n",
       "      <td>3000</td>\n",
       "      <td>Yuaan</td>\n",
       "      <td>25</td>\n",
       "    </tr>\n",
       "  </tbody>\n",
       "</table>\n",
       "</div>"
      ],
      "text/plain": [
       "   salary    name  Increment\n",
       "0    1000    Mark         50\n",
       "1    2000  Jordan         25\n",
       "2    3000   Yuaan         25"
      ]
     },
     "execution_count": 111,
     "metadata": {},
     "output_type": "execute_result"
    }
   ],
   "source": [
    "employee['Increment']=\\\n",
    "        employee['salary'].apply(lambda salary: 50 if salary<=1000 else 25)\n",
    "\n",
    "employee"
   ]
  },
  {
   "cell_type": "code",
   "execution_count": 112,
   "id": "df3990e2-ca39-42e2-ae1e-824582dfbfd0",
   "metadata": {},
   "outputs": [
    {
     "data": {
      "text/plain": [
       "0    50\n",
       "1    25\n",
       "2    25\n",
       "Name: Increment, dtype: int64"
      ]
     },
     "execution_count": 112,
     "metadata": {},
     "output_type": "execute_result"
    }
   ],
   "source": [
    "np.abs(employee['Increment'])\n"
   ]
  },
  {
   "cell_type": "markdown",
   "id": "2679020d-45b4-47e4-9e81-d1c015b10f43",
   "metadata": {},
   "source": [
    "# #Apply numpy functions over dataframe\n"
   ]
  },
  {
   "cell_type": "markdown",
   "id": "69750c04-44fc-4c6e-bccb-4effdcc16952",
   "metadata": {},
   "source": [
    "# below is Assgniment\n",
    "### Try creating dataframe from different types of datastructures Slide-16\n",
    "### Drop rows/columns"
   ]
  },
  {
   "cell_type": "code",
   "execution_count": 113,
   "id": "267b87ad-1cbd-4ab2-8681-12bc398dc185",
   "metadata": {},
   "outputs": [
    {
     "data": {
      "text/html": [
       "<div>\n",
       "<style scoped>\n",
       "    .dataframe tbody tr th:only-of-type {\n",
       "        vertical-align: middle;\n",
       "    }\n",
       "\n",
       "    .dataframe tbody tr th {\n",
       "        vertical-align: top;\n",
       "    }\n",
       "\n",
       "    .dataframe thead th {\n",
       "        text-align: right;\n",
       "    }\n",
       "</style>\n",
       "<table border=\"1\" class=\"dataframe\">\n",
       "  <thead>\n",
       "    <tr style=\"text-align: right;\">\n",
       "      <th></th>\n",
       "      <th>Name</th>\n",
       "      <th>Age</th>\n",
       "    </tr>\n",
       "  </thead>\n",
       "  <tbody>\n",
       "    <tr>\n",
       "      <th>0</th>\n",
       "      <td>Alice</td>\n",
       "      <td>25</td>\n",
       "    </tr>\n",
       "    <tr>\n",
       "      <th>1</th>\n",
       "      <td>Bob</td>\n",
       "      <td>30</td>\n",
       "    </tr>\n",
       "    <tr>\n",
       "      <th>2</th>\n",
       "      <td>Charlie</td>\n",
       "      <td>35</td>\n",
       "    </tr>\n",
       "  </tbody>\n",
       "</table>\n",
       "</div>"
      ],
      "text/plain": [
       "      Name  Age\n",
       "0    Alice   25\n",
       "1      Bob   30\n",
       "2  Charlie   35"
      ]
     },
     "execution_count": 113,
     "metadata": {},
     "output_type": "execute_result"
    }
   ],
   "source": [
    "# From a List of Lists:\n",
    "import pandas as pd\n",
    "\n",
    "data = [['Alice', 25], ['Bob', 30], ['Charlie', 35]]\n",
    "df = pd.DataFrame(data, columns=['Name', 'Age'])\n",
    "\n",
    "df"
   ]
  },
  {
   "cell_type": "code",
   "execution_count": 114,
   "id": "65d3c742-b546-4682-85c1-397417c9781f",
   "metadata": {},
   "outputs": [
    {
     "data": {
      "text/html": [
       "<div>\n",
       "<style scoped>\n",
       "    .dataframe tbody tr th:only-of-type {\n",
       "        vertical-align: middle;\n",
       "    }\n",
       "\n",
       "    .dataframe tbody tr th {\n",
       "        vertical-align: top;\n",
       "    }\n",
       "\n",
       "    .dataframe thead th {\n",
       "        text-align: right;\n",
       "    }\n",
       "</style>\n",
       "<table border=\"1\" class=\"dataframe\">\n",
       "  <thead>\n",
       "    <tr style=\"text-align: right;\">\n",
       "      <th></th>\n",
       "      <th>Name</th>\n",
       "      <th>Age</th>\n",
       "    </tr>\n",
       "  </thead>\n",
       "  <tbody>\n",
       "    <tr>\n",
       "      <th>0</th>\n",
       "      <td>Alice</td>\n",
       "      <td>25</td>\n",
       "    </tr>\n",
       "    <tr>\n",
       "      <th>1</th>\n",
       "      <td>Bob</td>\n",
       "      <td>30</td>\n",
       "    </tr>\n",
       "    <tr>\n",
       "      <th>2</th>\n",
       "      <td>Charlie</td>\n",
       "      <td>35</td>\n",
       "    </tr>\n",
       "  </tbody>\n",
       "</table>\n",
       "</div>"
      ],
      "text/plain": [
       "      Name  Age\n",
       "0    Alice   25\n",
       "1      Bob   30\n",
       "2  Charlie   35"
      ]
     },
     "execution_count": 114,
     "metadata": {},
     "output_type": "execute_result"
    }
   ],
   "source": [
    "# From a Dictionary of Lists:\n",
    "\n",
    "\n",
    "import pandas as pd\n",
    "\n",
    "data = {'Name': ['Alice', 'Bob', 'Charlie'], 'Age': [25, 30, 35]}\n",
    "df = pd.DataFrame(data)\n",
    "df"
   ]
  },
  {
   "cell_type": "code",
   "execution_count": 115,
   "id": "df25ba57-54f0-4a13-8126-a636224f4d7c",
   "metadata": {},
   "outputs": [
    {
     "data": {
      "text/html": [
       "<div>\n",
       "<style scoped>\n",
       "    .dataframe tbody tr th:only-of-type {\n",
       "        vertical-align: middle;\n",
       "    }\n",
       "\n",
       "    .dataframe tbody tr th {\n",
       "        vertical-align: top;\n",
       "    }\n",
       "\n",
       "    .dataframe thead th {\n",
       "        text-align: right;\n",
       "    }\n",
       "</style>\n",
       "<table border=\"1\" class=\"dataframe\">\n",
       "  <thead>\n",
       "    <tr style=\"text-align: right;\">\n",
       "      <th></th>\n",
       "      <th>Name</th>\n",
       "      <th>Age</th>\n",
       "    </tr>\n",
       "  </thead>\n",
       "  <tbody>\n",
       "    <tr>\n",
       "      <th>0</th>\n",
       "      <td>Alice</td>\n",
       "      <td>25</td>\n",
       "    </tr>\n",
       "    <tr>\n",
       "      <th>1</th>\n",
       "      <td>Bob</td>\n",
       "      <td>30</td>\n",
       "    </tr>\n",
       "    <tr>\n",
       "      <th>2</th>\n",
       "      <td>Charlie</td>\n",
       "      <td>35</td>\n",
       "    </tr>\n",
       "  </tbody>\n",
       "</table>\n",
       "</div>"
      ],
      "text/plain": [
       "      Name  Age\n",
       "0    Alice   25\n",
       "1      Bob   30\n",
       "2  Charlie   35"
      ]
     },
     "execution_count": 115,
     "metadata": {},
     "output_type": "execute_result"
    }
   ],
   "source": [
    "#From a List of Dictionaries:\n",
    "import pandas as pd\n",
    "\n",
    "data = [{'Name': 'Alice', 'Age': 25}, {'Name': 'Bob', 'Age': 30}, {'Name': 'Charlie', 'Age': 35}]\n",
    "df = pd.DataFrame(data)\n",
    "df"
   ]
  },
  {
   "cell_type": "code",
   "execution_count": 116,
   "id": "cd90e871-6ecb-4526-9fb8-5ad522b3f8fc",
   "metadata": {},
   "outputs": [
    {
     "data": {
      "text/html": [
       "<div>\n",
       "<style scoped>\n",
       "    .dataframe tbody tr th:only-of-type {\n",
       "        vertical-align: middle;\n",
       "    }\n",
       "\n",
       "    .dataframe tbody tr th {\n",
       "        vertical-align: top;\n",
       "    }\n",
       "\n",
       "    .dataframe thead th {\n",
       "        text-align: right;\n",
       "    }\n",
       "</style>\n",
       "<table border=\"1\" class=\"dataframe\">\n",
       "  <thead>\n",
       "    <tr style=\"text-align: right;\">\n",
       "      <th></th>\n",
       "      <th>Column1</th>\n",
       "      <th>Column2</th>\n",
       "      <th>Column3</th>\n",
       "    </tr>\n",
       "  </thead>\n",
       "  <tbody>\n",
       "    <tr>\n",
       "      <th>0</th>\n",
       "      <td>1</td>\n",
       "      <td>2</td>\n",
       "      <td>3</td>\n",
       "    </tr>\n",
       "    <tr>\n",
       "      <th>1</th>\n",
       "      <td>4</td>\n",
       "      <td>5</td>\n",
       "      <td>6</td>\n",
       "    </tr>\n",
       "  </tbody>\n",
       "</table>\n",
       "</div>"
      ],
      "text/plain": [
       "   Column1  Column2  Column3\n",
       "0        1        2        3\n",
       "1        4        5        6"
      ]
     },
     "execution_count": 116,
     "metadata": {},
     "output_type": "execute_result"
    }
   ],
   "source": [
    "#From a NumPy Array:\n",
    "\n",
    "\n",
    "import pandas as pd\n",
    "import numpy as np\n",
    "\n",
    "data = np.array([[1, 2, 3], [4, 5, 6]])\n",
    "df = pd.DataFrame(data, columns=['Column1', 'Column2', 'Column3'])\n",
    "df"
   ]
  },
  {
   "cell_type": "code",
   "execution_count": 117,
   "id": "73bca323-3bc4-40d8-b6d2-8963b57300dc",
   "metadata": {},
   "outputs": [
    {
     "data": {
      "text/html": [
       "<div>\n",
       "<style scoped>\n",
       "    .dataframe tbody tr th:only-of-type {\n",
       "        vertical-align: middle;\n",
       "    }\n",
       "\n",
       "    .dataframe tbody tr th {\n",
       "        vertical-align: top;\n",
       "    }\n",
       "\n",
       "    .dataframe thead th {\n",
       "        text-align: right;\n",
       "    }\n",
       "</style>\n",
       "<table border=\"1\" class=\"dataframe\">\n",
       "  <thead>\n",
       "    <tr style=\"text-align: right;\">\n",
       "      <th></th>\n",
       "      <th>Name</th>\n",
       "      <th>Age</th>\n",
       "    </tr>\n",
       "  </thead>\n",
       "  <tbody>\n",
       "    <tr>\n",
       "      <th>0</th>\n",
       "      <td>Alice</td>\n",
       "      <td>25</td>\n",
       "    </tr>\n",
       "    <tr>\n",
       "      <th>1</th>\n",
       "      <td>Bob</td>\n",
       "      <td>30</td>\n",
       "    </tr>\n",
       "    <tr>\n",
       "      <th>2</th>\n",
       "      <td>Charlie</td>\n",
       "      <td>35</td>\n",
       "    </tr>\n",
       "  </tbody>\n",
       "</table>\n",
       "</div>"
      ],
      "text/plain": [
       "      Name  Age\n",
       "0    Alice   25\n",
       "1      Bob   30\n",
       "2  Charlie   35"
      ]
     },
     "execution_count": 117,
     "metadata": {},
     "output_type": "execute_result"
    }
   ],
   "source": [
    "#From a List of Tuples:\n",
    "import pandas as pd\n",
    "\n",
    "data = [('Alice', 25), ('Bob', 30), ('Charlie', 35)]\n",
    "df = pd.DataFrame(data, columns=['Name', 'Age'])\n",
    "df"
   ]
  },
  {
   "cell_type": "code",
   "execution_count": null,
   "id": "e735e7d0-e1c3-4122-b34e-f8a8407e93ad",
   "metadata": {},
   "outputs": [],
   "source": []
  }
 ],
 "metadata": {
  "kernelspec": {
   "display_name": "Python 3 (ipykernel)",
   "language": "python",
   "name": "python3"
  },
  "language_info": {
   "codemirror_mode": {
    "name": "ipython",
    "version": 3
   },
   "file_extension": ".py",
   "mimetype": "text/x-python",
   "name": "python",
   "nbconvert_exporter": "python",
   "pygments_lexer": "ipython3",
   "version": "3.11.7"
  }
 },
 "nbformat": 4,
 "nbformat_minor": 5
}
