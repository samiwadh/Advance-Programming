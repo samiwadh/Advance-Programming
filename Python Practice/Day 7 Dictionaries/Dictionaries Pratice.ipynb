{
 "cells": [
  {
   "cell_type": "code",
   "execution_count": 2,
   "id": "f61c3988-035c-44ab-8918-4718d701ced1",
   "metadata": {},
   "outputs": [],
   "source": [
    "emp_dict = {\n",
    "    \n",
    "}"
   ]
  },
  {
   "cell_type": "code",
   "execution_count": 3,
   "id": "3f25b5bf-185c-474a-a48a-3f6f4f7d9d31",
   "metadata": {},
   "outputs": [
    {
     "data": {
      "text/plain": [
       "{}"
      ]
     },
     "execution_count": 3,
     "metadata": {},
     "output_type": "execute_result"
    }
   ],
   "source": [
    "emp_dict"
   ]
  },
  {
   "cell_type": "code",
   "execution_count": 4,
   "id": "ba9098a8-2295-4dab-a91a-23f34d3cd696",
   "metadata": {},
   "outputs": [],
   "source": [
    "infor = {\n",
    "    'Name '   : 'Abdul Sami',\n",
    "    'Surname' : 'Wadho',\n",
    "    'age'     : 13,\n",
    "    'Country' : 'Pakistan'\n",
    "}"
   ]
  },
  {
   "cell_type": "code",
   "execution_count": 5,
   "id": "be692079-0ea5-4776-a065-150c5e6221ba",
   "metadata": {},
   "outputs": [
    {
     "data": {
      "text/plain": [
       "{'Name ': 'Abdul Sami', 'Surname': 'Wadho', 'age': 13, 'Country': 'Pakistan'}"
      ]
     },
     "execution_count": 5,
     "metadata": {},
     "output_type": "execute_result"
    }
   ],
   "source": [
    "infor"
   ]
  },
  {
   "cell_type": "code",
   "execution_count": 6,
   "id": "e3309a44-ce34-466e-a630-c27b9fd11e48",
   "metadata": {},
   "outputs": [
    {
     "data": {
      "text/plain": [
       "4"
      ]
     },
     "execution_count": 6,
     "metadata": {},
     "output_type": "execute_result"
    }
   ],
   "source": [
    "len(infor)"
   ]
  },
  {
   "cell_type": "code",
   "execution_count": 8,
   "id": "35517f2c-ce79-4ed8-98b7-df21216c70d2",
   "metadata": {},
   "outputs": [],
   "source": [
    "infor = {\n",
    "    'Name '   : 'Abdul Sami',\n",
    "    'Surname' : 'Wadho',\n",
    "    'age'     : 13,\n",
    "    'Country' : 'Pakistan',\n",
    "    'Skill'   : ['CSS','HTML','JAVASCRIPT','PYTHON'],\n",
    "    'Address' :{\n",
    "        'city':'kamber',\n",
    "        'area':'Wadha Muhalla'\n",
    "    }\n",
    "}"
   ]
  },
  {
   "cell_type": "code",
   "execution_count": 10,
   "id": "b2268642-3686-452c-8a94-b2c2d8ff83d6",
   "metadata": {},
   "outputs": [
    {
     "data": {
      "text/plain": [
       "{'Name ': 'Abdul Sami',\n",
       " 'Surname': 'Wadho',\n",
       " 'age': 13,\n",
       " 'Country': 'Pakistan',\n",
       " 'Skill': ['CSS', 'HTML', 'JAVASCRIPT', 'PYTHON'],\n",
       " 'Address': {'city': 'kamber', 'area': 'Wadha Muhalla'}}"
      ]
     },
     "execution_count": 10,
     "metadata": {},
     "output_type": "execute_result"
    }
   ],
   "source": [
    "infor"
   ]
  },
  {
   "cell_type": "code",
   "execution_count": 12,
   "id": "7748d05b-4b43-481e-8214-ed7f9419bae0",
   "metadata": {},
   "outputs": [],
   "source": [
    "person = {\n",
    "    'first_name':'Asabeneh',\n",
    "    'last_name':'Yetayeh',\n",
    "    'age':250,\n",
    "    'country':'Finland',\n",
    "    'is_marred':True,\n",
    "    'skills':['JavaScript', 'React', 'Node', 'MongoDB', 'Python'],\n",
    "    'address':{\n",
    "        'street':'Space street',\n",
    "        'zipcode':'02210'\n",
    "    }\n",
    "    }"
   ]
  },
  {
   "cell_type": "code",
   "execution_count": 15,
   "id": "3f8145ca-82d8-40a2-878c-0f2de634ddb2",
   "metadata": {},
   "outputs": [
    {
     "name": "stdout",
     "output_type": "stream",
     "text": [
      "Asabeneh\n",
      "Yetayeh\n"
     ]
    }
   ],
   "source": [
    "print(person['first_name'])\n",
    "print(person['last_name'])"
   ]
  },
  {
   "cell_type": "code",
   "execution_count": 16,
   "id": "60b5b120-2c3b-40ed-a8c7-f1b4e0cf46b4",
   "metadata": {},
   "outputs": [
    {
     "ename": "KeyError",
     "evalue": "'city'",
     "output_type": "error",
     "traceback": [
      "\u001b[0;31m---------------------------------------------------------------------------\u001b[0m",
      "\u001b[0;31mKeyError\u001b[0m                                  Traceback (most recent call last)",
      "Cell \u001b[0;32mIn[16], line 1\u001b[0m\n\u001b[0;32m----> 1\u001b[0m \u001b[38;5;28mprint\u001b[39m(person[\u001b[38;5;124m'\u001b[39m\u001b[38;5;124mcity\u001b[39m\u001b[38;5;124m'\u001b[39m])\n",
      "\u001b[0;31mKeyError\u001b[0m: 'city'"
     ]
    }
   ],
   "source": [
    "print(person['city'])"
   ]
  },
  {
   "cell_type": "code",
   "execution_count": 19,
   "id": "145e1ad9-e753-49d4-b398-81d1efe890ab",
   "metadata": {},
   "outputs": [
    {
     "name": "stdout",
     "output_type": "stream",
     "text": [
      "None\n",
      "Asabeneh\n",
      "Yetayeh\n"
     ]
    }
   ],
   "source": [
    "print(person.get('city'))\n",
    "print(person.get('first_name'))\n",
    "print(person.get('last_name'))"
   ]
  },
  {
   "cell_type": "code",
   "execution_count": 21,
   "id": "094119b6-0b76-408b-a9bb-63a95c29f22f",
   "metadata": {},
   "outputs": [],
   "source": [
    "infor['Name']='Abdullah'\n"
   ]
  },
  {
   "cell_type": "code",
   "execution_count": 22,
   "id": "db87c00b-de07-4a79-9e8d-2b8e0d877442",
   "metadata": {},
   "outputs": [
    {
     "data": {
      "text/plain": [
       "{'Name ': 'Abdul Sami',\n",
       " 'Surname': 'Wadho',\n",
       " 'age': 13,\n",
       " 'Country': 'Pakistan',\n",
       " 'Skill': ['CSS', 'HTML', 'JAVASCRIPT', 'PYTHON'],\n",
       " 'Address': {'city': 'kamber', 'area': 'Wadha Muhalla'},\n",
       " 'Name': 'Abdullah'}"
      ]
     },
     "execution_count": 22,
     "metadata": {},
     "output_type": "execute_result"
    }
   ],
   "source": [
    "infor"
   ]
  },
  {
   "cell_type": "code",
   "execution_count": 24,
   "id": "610033cc-11cb-41c4-8998-87c63b0bdf15",
   "metadata": {},
   "outputs": [],
   "source": [
    "person = {\n",
    "    'first_name':'Asabeneh',\n",
    "    'last_name':'Yetayeh',\n",
    "    'age':250,\n",
    "    'country':'Finland',\n",
    "    'is_marred':True,\n",
    "    'skills':['JavaScript', 'React', 'Node', 'MongoDB', 'Python'],\n",
    "    'address':{\n",
    "        'street':'Space street',\n",
    "        'zipcode':'02210'\n",
    "    }\n",
    "    }\n",
    "\n",
    "person['first_name'] = 'Abdul Sami'"
   ]
  },
  {
   "cell_type": "code",
   "execution_count": 28,
   "id": "4ff75130-f851-41da-8d1c-fee15d47f33b",
   "metadata": {},
   "outputs": [
    {
     "data": {
      "text/plain": [
       "{'first_name': 'Abdul Sami',\n",
       " 'last_name': 'Wadho',\n",
       " 'age': 250,\n",
       " 'country': 'Finland',\n",
       " 'is_marred': True,\n",
       " 'skills': ['JavaScript', 'React', 'Node', 'MongoDB', 'Python'],\n",
       " 'address': {'street': 'Space street', 'zipcode': '02210'},\n",
       " 'Age': '22'}"
      ]
     },
     "execution_count": 28,
     "metadata": {},
     "output_type": "execute_result"
    }
   ],
   "source": [
    "person['last_name'] = 'Wadho'\n",
    "person"
   ]
  },
  {
   "cell_type": "code",
   "execution_count": 36,
   "id": "acd6b63b-2a62-4c67-8e5d-66b38eb8dfc1",
   "metadata": {},
   "outputs": [
    {
     "data": {
      "text/plain": [
       "{'first_name': 'Abdul Sami',\n",
       " 'last_name': 'Wadho',\n",
       " 'age': '22',\n",
       " 'country': 'Finland',\n",
       " 'is_marred': True,\n",
       " 'skills': ['JavaScript', 'React', 'Node', 'MongoDB', 'Python'],\n",
       " 'address': {'street': 'Space street', 'zipcode': '02210'}}"
      ]
     },
     "execution_count": 36,
     "metadata": {},
     "output_type": "execute_result"
    }
   ],
   "source": [
    "person['age'] = '22'\n",
    "person"
   ]
  },
  {
   "cell_type": "code",
   "execution_count": 40,
   "id": "cbc18fe2-8ba2-4f49-85c3-c66bb1043ae5",
   "metadata": {},
   "outputs": [
    {
     "data": {
      "text/plain": [
       "{'first_name': 'Abdul Sami',\n",
       " 'last_name': 'Wadho',\n",
       " 'age': '22',\n",
       " 'country': 'Finland',\n",
       " 'is_marred': True,\n",
       " 'skills': ['JavaScript', 'React', 'Node', 'MongoDB', 'Python', 'HTML'],\n",
       " 'address': {'street': 'Space street', 'zipcode': '02210'}}"
      ]
     },
     "execution_count": 40,
     "metadata": {},
     "output_type": "execute_result"
    }
   ],
   "source": [
    "person['skills'].append('HTML')\n",
    "person"
   ]
  },
  {
   "cell_type": "code",
   "execution_count": 46,
   "id": "02cda666-6e85-4b6e-8929-6898515edbb5",
   "metadata": {},
   "outputs": [
    {
     "name": "stdout",
     "output_type": "stream",
     "text": [
      "False\n"
     ]
    }
   ],
   "source": [
    "print('agse' in person)"
   ]
  },
  {
   "cell_type": "code",
   "execution_count": 47,
   "id": "6df28a84-3ef9-4046-9dcb-4f8944dbe2d3",
   "metadata": {},
   "outputs": [
    {
     "data": {
      "text/plain": [
       "dict"
      ]
     },
     "execution_count": 47,
     "metadata": {},
     "output_type": "execute_result"
    }
   ],
   "source": [
    "type(person)"
   ]
  },
  {
   "cell_type": "code",
   "execution_count": 49,
   "id": "bbe3f739-e43d-433a-8081-4b375a877b84",
   "metadata": {},
   "outputs": [],
   "source": [
    "lists = list(person)"
   ]
  },
  {
   "cell_type": "code",
   "execution_count": 59,
   "id": "13155dc3-4cbe-4f57-98e0-8bc2c2ba734e",
   "metadata": {},
   "outputs": [
    {
     "data": {
      "text/plain": [
       "list"
      ]
     },
     "execution_count": 59,
     "metadata": {},
     "output_type": "execute_result"
    }
   ],
   "source": [
    "type(lists)"
   ]
  },
  {
   "cell_type": "code",
   "execution_count": 57,
   "id": "0f614c10-5fd7-4f4c-9b18-de3028a680a2",
   "metadata": {},
   "outputs": [
    {
     "data": {
      "text/plain": [
       "dict_keys(['first_name', 'last_name', 'age', 'country', 'is_marred', 'skills', 'address'])"
      ]
     },
     "execution_count": 57,
     "metadata": {},
     "output_type": "execute_result"
    }
   ],
   "source": [
    "keys =person.keys()\n",
    "keys"
   ]
  },
  {
   "cell_type": "code",
   "execution_count": 58,
   "id": "d55b866a-62a1-4268-a4c3-904065d88330",
   "metadata": {},
   "outputs": [
    {
     "data": {
      "text/plain": [
       "dict_values(['Abdul Sami', 'Wadho', '22', 'Finland', True, ['JavaScript', 'React', 'Node', 'MongoDB', 'Python', 'HTML'], {'street': 'Space street', 'zipcode': '02210'}])"
      ]
     },
     "execution_count": 58,
     "metadata": {},
     "output_type": "execute_result"
    }
   ],
   "source": [
    "values =person.values()\n",
    "values"
   ]
  },
  {
   "cell_type": "code",
   "execution_count": null,
   "id": "cc252fd1-a77d-4627-90c8-8019deff3516",
   "metadata": {},
   "outputs": [],
   "source": []
  }
 ],
 "metadata": {
  "kernelspec": {
   "display_name": "Python 3 (ipykernel)",
   "language": "python",
   "name": "python3"
  },
  "language_info": {
   "codemirror_mode": {
    "name": "ipython",
    "version": 3
   },
   "file_extension": ".py",
   "mimetype": "text/x-python",
   "name": "python",
   "nbconvert_exporter": "python",
   "pygments_lexer": "ipython3",
   "version": "3.11.7"
  }
 },
 "nbformat": 4,
 "nbformat_minor": 5
}
