{
 "cells": [
  {
   "cell_type": "raw",
   "id": "39524f94-33f6-4f7c-b86e-11055269210d",
   "metadata": {},
   "source": [
    "                                        Exercises: Day 8\n",
    "Create an empty dictionary called dog\n",
    "Add name, color, breed, legs, age to the dog dictionary\n",
    "Create a student dictionary and add first_name, last_name, gender, age, marital status, skills, country, city and address as keys for the dictionary\n",
    "Get the length of the student dictionary"
   ]
  },
  {
   "cell_type": "code",
   "execution_count": 60,
   "id": "21659b60-67f9-46e0-8f26-9c83c4adef03",
   "metadata": {},
   "outputs": [
    {
     "data": {
      "text/plain": [
       "{}"
      ]
     },
     "execution_count": 60,
     "metadata": {},
     "output_type": "execute_result"
    }
   ],
   "source": [
    "#                                         Exercises: Day 8\n",
    "# 1. Create an empty dictionary called dog\n",
    "dog = {\n",
    "\n",
    "\n",
    "}\n",
    "dog\n"
   ]
  },
  {
   "cell_type": "code",
   "execution_count": 61,
   "id": "5de03914-bc52-43ee-b75f-a05be37443c1",
   "metadata": {},
   "outputs": [],
   "source": [
    "# 2. Add name, color, breed, legs, age to the dog dictionary\n",
    "\n",
    "\n",
    "dog['name'] = 'BASHA'\n",
    "dog['breed'] = 'BA'\n",
    "dog['leg'] = 4\n",
    "dog['age'] = 12\n"
   ]
  },
  {
   "cell_type": "code",
   "execution_count": 62,
   "id": "df421768-376a-4e2e-ad73-13ad15d5c73c",
   "metadata": {},
   "outputs": [
    {
     "data": {
      "text/plain": [
       "{'name': 'BASHA', 'breed': 'BA', 'leg': 4, 'age': 12}"
      ]
     },
     "execution_count": 62,
     "metadata": {},
     "output_type": "execute_result"
    }
   ],
   "source": [
    "dog"
   ]
  },
  {
   "cell_type": "code",
   "execution_count": 22,
   "id": "b50fbc94-69e0-46db-8b18-b4033104fb8c",
   "metadata": {},
   "outputs": [
    {
     "data": {
      "text/plain": [
       "{'first_name': 'Abdul Sami',\n",
       " 'last_name': ' Wadho',\n",
       " 'gender': ' Male',\n",
       " 'age': 32,\n",
       " 'marital_status': 'single',\n",
       " 'skills': ['html', 'python', 'CSS'],\n",
       " 'country': 'Pakistan',\n",
       " 'city': 'Karachi',\n",
       " 'address': 'Johar'}"
      ]
     },
     "execution_count": 22,
     "metadata": {},
     "output_type": "execute_result"
    }
   ],
   "source": [
    "# 3. Create a student dictionary and add first_name, last_name, gender, age, marital status, skills, country, city and address as keys for the dictionary\n",
    "student = {\n",
    "    'first_name':  'Abdul Sami',\n",
    "    'last_name' : ' Wadho',\n",
    "    'gender':  ' Male',\n",
    "    'age' : 32,\n",
    "    'marital_status' : 'single',\n",
    "    'skills':['html','python','CSS'],\n",
    "    'country' :'Pakistan',\n",
    "    'city' : 'Karachi',\n",
    "    'address': 'Johar'\n",
    "}\n",
    "student"
   ]
  },
  {
   "cell_type": "code",
   "execution_count": 23,
   "id": "b6b2c31f-ff37-42b7-a06c-08c0c5ed19d7",
   "metadata": {},
   "outputs": [
    {
     "data": {
      "text/plain": [
       "9"
      ]
     },
     "execution_count": 23,
     "metadata": {},
     "output_type": "execute_result"
    }
   ],
   "source": [
    "# 4. Get the length of the student dictionary\n",
    "\n",
    "len(student)\n",
    "\n"
   ]
  },
  {
   "cell_type": "code",
   "execution_count": 25,
   "id": "1a922349-92fb-4516-9cda-2552e4416e28",
   "metadata": {},
   "outputs": [
    {
     "name": "stdout",
     "output_type": "stream",
     "text": [
      "<class 'list'>\n"
     ]
    }
   ],
   "source": [
    "# 5. Get the value of skills and check the data type, it should be a list\n",
    "print(type(student['skills']))"
   ]
  },
  {
   "cell_type": "code",
   "execution_count": 29,
   "id": "1a13aae9-ab61-4520-a261-92fb490f3bf3",
   "metadata": {},
   "outputs": [],
   "source": [
    "# 6. Modify the skills values by adding one or two skills\n",
    "student['skills'].extend(['git','typescript'])"
   ]
  },
  {
   "cell_type": "code",
   "execution_count": 30,
   "id": "a6eb7242-9b2f-4a9c-814f-c660b4d15d8d",
   "metadata": {},
   "outputs": [
    {
     "data": {
      "text/plain": [
       "{'first_name': 'Abdul Sami',\n",
       " 'last_name': ' Wadho',\n",
       " 'gender': ' Male',\n",
       " 'age': 32,\n",
       " 'marital_status': 'single',\n",
       " 'skills': ['html', 'python', 'CSS', 'git', 'typescript'],\n",
       " 'country': 'Pakistan',\n",
       " 'city': 'Karachi',\n",
       " 'address': 'Johar'}"
      ]
     },
     "execution_count": 30,
     "metadata": {},
     "output_type": "execute_result"
    }
   ],
   "source": [
    "student"
   ]
  },
  {
   "cell_type": "code",
   "execution_count": 42,
   "id": "4b4f7b3f-2c33-4f32-b6be-31be65d2351e",
   "metadata": {},
   "outputs": [
    {
     "data": {
      "text/plain": [
       "['first_name',\n",
       " 'last_name',\n",
       " 'gender',\n",
       " 'age',\n",
       " 'marital_status',\n",
       " 'skills',\n",
       " 'country',\n",
       " 'city',\n",
       " 'address']"
      ]
     },
     "execution_count": 42,
     "metadata": {},
     "output_type": "execute_result"
    }
   ],
   "source": [
    "# 7. Get the dictionary keys as a list\n",
    "keys = list(student)\n",
    "keys"
   ]
  },
  {
   "cell_type": "code",
   "execution_count": 43,
   "id": "f1783d34-8375-4c2c-8897-2fa270542827",
   "metadata": {},
   "outputs": [
    {
     "data": {
      "text/plain": [
       "list"
      ]
     },
     "execution_count": 43,
     "metadata": {},
     "output_type": "execute_result"
    }
   ],
   "source": [
    "type(keys)"
   ]
  },
  {
   "cell_type": "code",
   "execution_count": 47,
   "id": "45443fc4-79a9-4697-a969-07c817b23f02",
   "metadata": {},
   "outputs": [],
   "source": [
    "# 8. Get the dictionary values as a list\n",
    "values = list(student.values())"
   ]
  },
  {
   "cell_type": "code",
   "execution_count": 48,
   "id": "60fb9243-ebb4-406e-8459-14eed2561e25",
   "metadata": {},
   "outputs": [
    {
     "data": {
      "text/plain": [
       "['Abdul Sami',\n",
       " ' Wadho',\n",
       " ' Male',\n",
       " 32,\n",
       " 'single',\n",
       " ['html', 'python', 'CSS', 'git', 'typescript'],\n",
       " 'Pakistan',\n",
       " 'Karachi',\n",
       " 'Johar']"
      ]
     },
     "execution_count": 48,
     "metadata": {},
     "output_type": "execute_result"
    }
   ],
   "source": [
    "values"
   ]
  },
  {
   "cell_type": "code",
   "execution_count": 49,
   "id": "6fd88c91-5995-483c-8706-0733c8e203f4",
   "metadata": {},
   "outputs": [
    {
     "data": {
      "text/plain": [
       "list"
      ]
     },
     "execution_count": 49,
     "metadata": {},
     "output_type": "execute_result"
    }
   ],
   "source": [
    "type(values)"
   ]
  },
  {
   "cell_type": "code",
   "execution_count": 51,
   "id": "1beef3f3-9fc2-4f1b-a03d-7a69dcf54679",
   "metadata": {},
   "outputs": [
    {
     "name": "stdout",
     "output_type": "stream",
     "text": [
      "dict_items([('first_name', 'Abdul Sami'), ('last_name', ' Wadho'), ('gender', ' Male'), ('age', 32), ('marital_status', 'single'), ('skills', ['html', 'python', 'CSS', 'git', 'typescript']), ('country', 'Pakistan'), ('city', 'Karachi'), ('address', 'Johar')])\n"
     ]
    }
   ],
   "source": [
    "print(student.items())"
   ]
  },
  {
   "cell_type": "code",
   "execution_count": 54,
   "id": "7ff84401-b301-4a42-ac94-612139e26a62",
   "metadata": {},
   "outputs": [],
   "source": [
    "# 9. Delete one of the items in the dictionary\n",
    "del student['last_name']"
   ]
  },
  {
   "cell_type": "code",
   "execution_count": 55,
   "id": "27302611-a56f-47ff-935d-c6d3b62e94c0",
   "metadata": {},
   "outputs": [
    {
     "data": {
      "text/plain": [
       "{'first_name': 'Abdul Sami',\n",
       " 'gender': ' Male',\n",
       " 'age': 32,\n",
       " 'marital_status': 'single',\n",
       " 'skills': ['html', 'python', 'CSS', 'git', 'typescript'],\n",
       " 'country': 'Pakistan',\n",
       " 'city': 'Karachi',\n",
       " 'address': 'Johar'}"
      ]
     },
     "execution_count": 55,
     "metadata": {},
     "output_type": "execute_result"
    }
   ],
   "source": [
    "student"
   ]
  },
  {
   "cell_type": "code",
   "execution_count": 56,
   "id": "2ee577f8-f7ec-4d64-ab6d-2713e1e4143b",
   "metadata": {},
   "outputs": [],
   "source": [
    "del student['skills']"
   ]
  },
  {
   "cell_type": "code",
   "execution_count": 57,
   "id": "40b09a26-734e-4a56-9846-b6de7e254a9c",
   "metadata": {},
   "outputs": [
    {
     "data": {
      "text/plain": [
       "{'first_name': 'Abdul Sami',\n",
       " 'gender': ' Male',\n",
       " 'age': 32,\n",
       " 'marital_status': 'single',\n",
       " 'country': 'Pakistan',\n",
       " 'city': 'Karachi',\n",
       " 'address': 'Johar'}"
      ]
     },
     "execution_count": 57,
     "metadata": {},
     "output_type": "execute_result"
    }
   ],
   "source": [
    "student"
   ]
  },
  {
   "cell_type": "code",
   "execution_count": 63,
   "id": "8d22ed0c-7566-4182-acdc-5ccb677f22f0",
   "metadata": {},
   "outputs": [
    {
     "data": {
      "text/plain": [
       "{'name': 'BASHA', 'breed': 'BA', 'leg': 4, 'age': 12}"
      ]
     },
     "execution_count": 63,
     "metadata": {},
     "output_type": "execute_result"
    }
   ],
   "source": [
    "dog"
   ]
  },
  {
   "cell_type": "code",
   "execution_count": 64,
   "id": "22dd2d2d-e00a-4610-9e48-df5cd6652a32",
   "metadata": {},
   "outputs": [],
   "source": [
    "# 10. Delete one of the dictionaries\n",
    "\n",
    "del dog"
   ]
  },
  {
   "cell_type": "code",
   "execution_count": 65,
   "id": "b43ef394-0ddc-4fb8-864c-6e4b933cc255",
   "metadata": {},
   "outputs": [
    {
     "ename": "NameError",
     "evalue": "name 'dog' is not defined",
     "output_type": "error",
     "traceback": [
      "\u001b[0;31m---------------------------------------------------------------------------\u001b[0m",
      "\u001b[0;31mNameError\u001b[0m                                 Traceback (most recent call last)",
      "Cell \u001b[0;32mIn[65], line 1\u001b[0m\n\u001b[0;32m----> 1\u001b[0m dog\n",
      "\u001b[0;31mNameError\u001b[0m: name 'dog' is not defined"
     ]
    }
   ],
   "source": [
    "dog"
   ]
  },
  {
   "cell_type": "code",
   "execution_count": null,
   "id": "816dbda0-89dc-4cd5-976f-f50238407b65",
   "metadata": {},
   "outputs": [],
   "source": []
  }
 ],
 "metadata": {
  "kernelspec": {
   "display_name": "Python 3 (ipykernel)",
   "language": "python",
   "name": "python3"
  },
  "language_info": {
   "codemirror_mode": {
    "name": "ipython",
    "version": 3
   },
   "file_extension": ".py",
   "mimetype": "text/x-python",
   "name": "python",
   "nbconvert_exporter": "python",
   "pygments_lexer": "ipython3",
   "version": "3.11.7"
  }
 },
 "nbformat": 4,
 "nbformat_minor": 5
}
