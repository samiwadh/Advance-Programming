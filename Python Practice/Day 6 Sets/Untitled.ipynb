{
 "cells": [
  {
   "cell_type": "code",
   "execution_count": 4,
   "id": "d1fa0776-f1c0-4365-9a66-e33ea15b7395",
   "metadata": {},
   "outputs": [
    {
     "data": {
      "text/plain": [
       "4"
      ]
     },
     "execution_count": 4,
     "metadata": {},
     "output_type": "execute_result"
    }
   ],
   "source": [
    "\n",
    "# syntax We use len() method to find the length of a set.\n",
    "\n",
    "set = {'item1', 'item2', 'item3', 'item4'}\n",
    "len(set)"
   ]
  },
  {
   "cell_type": "code",
   "execution_count": 20,
   "id": "8f4b5616-2bda-4b5c-b333-96f1f910a35b",
   "metadata": {},
   "outputs": [
    {
     "name": "stdout",
     "output_type": "stream",
     "text": [
      "True\n"
     ]
    }
   ],
   "source": [
    "fruits = {'banana', 'orange', 'mango', 'lemon'}\n",
    "print('mango' in fruits ) # True"
   ]
  },
  {
   "cell_type": "raw",
   "id": "16c3f64d-fb7d-4e9b-bcc4-5b6b441a2ab7",
   "metadata": {},
   "source": [
    "Adding Items to a Set\n",
    "Once a set is created we cannot change any items and we can also add additional items.\n",
    "\n",
    "Add one item using add()\n",
    "# syntax\n",
    "st = {'item1', 'item2', 'item3', 'item4'}\n",
    "st.add('item5')\n",
    "Example:\n",
    "\n",
    "fruits = {'banana', 'orange', 'mango', 'lemon'}\n",
    "fruits.add('lime')\n",
    "Add multiple items using update() The update() allows to add multiple items to a set. The update() takes a list argument.\n",
    "# syntax\n",
    "st = {'item1', 'item2', 'item3', 'item4'}\n",
    "st.update(['item5','item6','item7'])\n",
    "Example:\n",
    "\n",
    "fruits = {'banana', 'orange', 'mango', 'lemon'}\n",
    "vegetables = ('tomato', 'potato', 'cabbage','onion', 'carrot')\n",
    "fruits.update(vegetables)"
   ]
  },
  {
   "cell_type": "code",
   "execution_count": 9,
   "id": "2b51ff93-6aff-4e73-8bc6-19116113e4a5",
   "metadata": {},
   "outputs": [
    {
     "data": {
      "text/plain": [
       "{'apple', 'banana', 'orange'}"
      ]
     },
     "execution_count": 9,
     "metadata": {},
     "output_type": "execute_result"
    }
   ],
   "source": [
    "fruits ={'apple','banana'}\n",
    "fruits.add('orange')\n",
    "fruits"
   ]
  },
  {
   "cell_type": "code",
   "execution_count": 11,
   "id": "052506d0-f9b6-4454-9077-64da0b176150",
   "metadata": {},
   "outputs": [],
   "source": [
    "fruits.update(['mango'])"
   ]
  },
  {
   "cell_type": "code",
   "execution_count": 12,
   "id": "7e2c80fe-f192-41c0-9bc6-f95188700fea",
   "metadata": {},
   "outputs": [
    {
     "data": {
      "text/plain": [
       "{'apple', 'banana', 'mango', 'orange'}"
      ]
     },
     "execution_count": 12,
     "metadata": {},
     "output_type": "execute_result"
    }
   ],
   "source": [
    "fruits"
   ]
  },
  {
   "cell_type": "code",
   "execution_count": 14,
   "id": "027d25da-a29b-4f70-8ebd-90880a165988",
   "metadata": {},
   "outputs": [],
   "source": [
    "fruits.remove('apple')"
   ]
  },
  {
   "cell_type": "code",
   "execution_count": 15,
   "id": "a0d9b95b-d029-4998-9b47-b3d62e13a2e9",
   "metadata": {},
   "outputs": [
    {
     "data": {
      "text/plain": [
       "{'banana', 'mango', 'orange'}"
      ]
     },
     "execution_count": 15,
     "metadata": {},
     "output_type": "execute_result"
    }
   ],
   "source": [
    "fruits"
   ]
  },
  {
   "cell_type": "code",
   "execution_count": 17,
   "id": "e30583fd-1914-4830-803d-8101f744052b",
   "metadata": {},
   "outputs": [
    {
     "data": {
      "text/plain": [
       "'orange'"
      ]
     },
     "execution_count": 17,
     "metadata": {},
     "output_type": "execute_result"
    }
   ],
   "source": [
    "fruits.pop() # remove rendum items "
   ]
  },
  {
   "cell_type": "code",
   "execution_count": 19,
   "id": "3bce1dfd-31f0-4e0d-875b-1f59ae835435",
   "metadata": {},
   "outputs": [
    {
     "data": {
      "text/plain": [
       "{'banana'}"
      ]
     },
     "execution_count": 19,
     "metadata": {},
     "output_type": "execute_result"
    }
   ],
   "source": [
    "fruits"
   ]
  },
  {
   "cell_type": "code",
   "execution_count": 21,
   "id": "97c82644-5ddc-4758-bbf3-b3326ce0802c",
   "metadata": {},
   "outputs": [
    {
     "name": "stdout",
     "output_type": "stream",
     "text": [
      "set()\n"
     ]
    }
   ],
   "source": [
    "fruits = {'banana', 'orange', 'mango', 'lemon'}\n",
    "fruits.clear()\n",
    "print(fruits) # set()"
   ]
  },
  {
   "cell_type": "code",
   "execution_count": 22,
   "id": "bb2e1b1a-ec5e-44c8-8db0-8db07ff21626",
   "metadata": {},
   "outputs": [],
   "source": [
    "del(fruits)"
   ]
  },
  {
   "cell_type": "code",
   "execution_count": 1,
   "id": "2cbc73a4-15ca-40d9-88d0-8eea4ef56160",
   "metadata": {},
   "outputs": [
    {
     "ename": "NameError",
     "evalue": "name 'fruits' is not defined",
     "output_type": "error",
     "traceback": [
      "\u001b[0;31m---------------------------------------------------------------------------\u001b[0m",
      "\u001b[0;31mNameError\u001b[0m                                 Traceback (most recent call last)",
      "Cell \u001b[0;32mIn[1], line 1\u001b[0m\n\u001b[0;32m----> 1\u001b[0m fruits\n",
      "\u001b[0;31mNameError\u001b[0m: name 'fruits' is not defined"
     ]
    }
   ],
   "source": [
    "fruits"
   ]
  },
  {
   "cell_type": "code",
   "execution_count": 2,
   "id": "06619b88-10b3-4530-8172-3b7330c6d35d",
   "metadata": {},
   "outputs": [
    {
     "name": "stdout",
     "output_type": "stream",
     "text": [
      "{'banana', 'orange', 'lemon', 'mango'}\n"
     ]
    }
   ],
   "source": [
    "# Ensure 'set' is not assigned to anything else previously\n",
    "fruits = ['banana', 'orange', 'mango', 'lemon', 'orange', 'banana']\n",
    "fruits_set = set(fruits)  # Convert the list to a set\n",
    "print(fruits_set)  # Output: {'mango', 'lemon', 'banana', 'orange'}\n"
   ]
  },
  {
   "cell_type": "code",
   "execution_count": 5,
   "id": "f6f24068-e178-4da0-bd5e-01db8cc35b18",
   "metadata": {},
   "outputs": [
    {
     "data": {
      "text/plain": [
       "{'banana', 'lemon', 'mango', 'orange'}"
      ]
     },
     "execution_count": 5,
     "metadata": {},
     "output_type": "execute_result"
    }
   ],
   "source": [
    "fruits_set"
   ]
  },
  {
   "cell_type": "code",
   "execution_count": null,
   "id": "a9efc3bd-5948-466b-941c-83f20ef8ac4f",
   "metadata": {},
   "outputs": [],
   "source": []
  }
 ],
 "metadata": {
  "kernelspec": {
   "display_name": "Python 3 (ipykernel)",
   "language": "python",
   "name": "python3"
  },
  "language_info": {
   "codemirror_mode": {
    "name": "ipython",
    "version": 3
   },
   "file_extension": ".py",
   "mimetype": "text/x-python",
   "name": "python",
   "nbconvert_exporter": "python",
   "pygments_lexer": "ipython3",
   "version": "3.11.7"
  }
 },
 "nbformat": 4,
 "nbformat_minor": 5
}
