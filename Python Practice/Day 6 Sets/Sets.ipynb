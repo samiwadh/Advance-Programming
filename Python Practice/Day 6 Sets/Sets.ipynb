{
 "cells": [
  {
   "cell_type": "code",
   "execution_count": 1,
   "id": "319e7983-3b50-45f0-8ee9-108d677df189",
   "metadata": {},
   "outputs": [],
   "source": [
    "# sets\n",
    "it_companies = {'Facebook', 'Google', 'Microsoft', 'Apple', 'IBM', 'Oracle', 'Amazon'}\n",
    "A = {19, 22, 24, 20, 25, 26}\n",
    "B = {19, 22, 20, 25, 26, 24, 28, 27}\n",
    "age = [22, 19, 24, 25, 26, 24, 25, 24]"
   ]
  },
  {
   "cell_type": "raw",
   "id": "508b70ad-bc5e-4c2b-8116-8fbff20e98eb",
   "metadata": {},
   "source": [
    "                                        Exercises: Level 1\n",
    "Find the length of the set it_companies\n",
    "Add 'Twitter' to it_companies\n",
    "Insert multiple IT companies at once to the set it_companies\n",
    "Remove one of the companies from the set it_companies\n",
    "What is the difference between remove and discard"
   ]
  },
  {
   "cell_type": "code",
   "execution_count": 2,
   "id": "53a18437-e289-479f-8043-c4eb8c932a87",
   "metadata": {},
   "outputs": [
    {
     "data": {
      "text/plain": [
       "7"
      ]
     },
     "execution_count": 2,
     "metadata": {},
     "output_type": "execute_result"
    }
   ],
   "source": [
    "                                #Exercises: Level 1\n",
    "#1. Find the length of the set it_companies\n",
    "len(it_companies)"
   ]
  },
  {
   "cell_type": "code",
   "execution_count": 4,
   "id": "decfab9a-9de6-4b15-be1f-b8ebfc8fdec0",
   "metadata": {},
   "outputs": [
    {
     "data": {
      "text/plain": [
       "{'Amazon',\n",
       " 'Apple',\n",
       " 'Facebook',\n",
       " 'Google',\n",
       " 'IBM',\n",
       " 'Microsoft',\n",
       " 'Oracle',\n",
       " 'Twitter'}"
      ]
     },
     "execution_count": 4,
     "metadata": {},
     "output_type": "execute_result"
    }
   ],
   "source": [
    "#2. Add 'Twitter' to it_companies\n",
    "it_companies.add('Twitter')\n",
    "it_companies"
   ]
  },
  {
   "cell_type": "code",
   "execution_count": 5,
   "id": "2fa4ef13-a9ad-4a8f-9018-a3a2143df04a",
   "metadata": {},
   "outputs": [
    {
     "data": {
      "text/plain": [
       "{'Amazon',\n",
       " 'Apple',\n",
       " 'Facebook',\n",
       " 'Google',\n",
       " 'IBM',\n",
       " 'Mac',\n",
       " 'Microsoft',\n",
       " 'Netflix',\n",
       " 'Oracle',\n",
       " 'Twitter',\n",
       " 'Wechat'}"
      ]
     },
     "execution_count": 5,
     "metadata": {},
     "output_type": "execute_result"
    }
   ],
   "source": [
    "# 3. Insert multiple IT companies at once to the set it_companies\n",
    "it_companies.update(['Mac','Netflix','Wechat'])\n",
    "it_companies"
   ]
  },
  {
   "cell_type": "code",
   "execution_count": 6,
   "id": "51036249-9db8-4010-b780-ad0f626a5126",
   "metadata": {},
   "outputs": [
    {
     "data": {
      "text/plain": [
       "'Microsoft'"
      ]
     },
     "execution_count": 6,
     "metadata": {},
     "output_type": "execute_result"
    }
   ],
   "source": [
    "#4. Remove one of the companies from the set it_companies\n",
    "it_companies.pop()"
   ]
  },
  {
   "cell_type": "code",
   "execution_count": 7,
   "id": "dda3be63-898f-4a74-9b9d-9bf09b3250bc",
   "metadata": {},
   "outputs": [
    {
     "data": {
      "text/plain": [
       "{'Amazon',\n",
       " 'Apple',\n",
       " 'Facebook',\n",
       " 'Google',\n",
       " 'IBM',\n",
       " 'Mac',\n",
       " 'Netflix',\n",
       " 'Oracle',\n",
       " 'Twitter',\n",
       " 'Wechat'}"
      ]
     },
     "execution_count": 7,
     "metadata": {},
     "output_type": "execute_result"
    }
   ],
   "source": [
    "it_companies"
   ]
  },
  {
   "cell_type": "code",
   "execution_count": 8,
   "id": "f5f11025-631e-49cf-926b-1c96c2199508",
   "metadata": {},
   "outputs": [],
   "source": [
    "#5. What is the difference between remove and discard\n",
    "\n",
    "# remove will occure if the set don't have a value and then still i used the Remove if we use discard it don't show me any error either set has \n",
    "# value or not it discard"
   ]
  },
  {
   "cell_type": "raw",
   "id": "ebae542b-0907-43f9-82cd-a3b643f03471",
   "metadata": {},
   "source": [
    "                                        Exercises: Level 2\n",
    "Join A and B\n",
    "Find A intersection B\n",
    "Is A subset of B\n",
    "Are A and B disjoint sets\n",
    "Join A with B and B with A\n",
    "What is the symmetric difference between A and B\n",
    "Delete the sets completely"
   ]
  },
  {
   "cell_type": "code",
   "execution_count": 16,
   "id": "67e05c77-06d0-42ae-9f62-6fdc40094a54",
   "metadata": {},
   "outputs": [
    {
     "data": {
      "text/plain": [
       "{19, 20, 22, 24, 25, 26, 27, 28}"
      ]
     },
     "execution_count": 16,
     "metadata": {},
     "output_type": "execute_result"
    }
   ],
   "source": [
    "#                                         Exercises: Level 2\n",
    "# Join A and B\n",
    "\n",
    "C = A.union(B)\n",
    "C"
   ]
  },
  {
   "cell_type": "code",
   "execution_count": 17,
   "id": "c9048588-0042-48a0-8434-0daccea90b25",
   "metadata": {},
   "outputs": [],
   "source": [
    "join = A.update(B)\n",
    "join"
   ]
  },
  {
   "cell_type": "code",
   "execution_count": 18,
   "id": "2e727fe7-f7d9-4525-88de-462ffc9ae857",
   "metadata": {},
   "outputs": [
    {
     "name": "stdout",
     "output_type": "stream",
     "text": [
      "None\n"
     ]
    }
   ],
   "source": [
    "print(join)"
   ]
  },
  {
   "cell_type": "code",
   "execution_count": null,
   "id": "71ce6bfe-ae8f-4c08-a100-f545af18f581",
   "metadata": {},
   "outputs": [],
   "source": []
  }
 ],
 "metadata": {
  "kernelspec": {
   "display_name": "Python 3 (ipykernel)",
   "language": "python",
   "name": "python3"
  },
  "language_info": {
   "codemirror_mode": {
    "name": "ipython",
    "version": 3
   },
   "file_extension": ".py",
   "mimetype": "text/x-python",
   "name": "python",
   "nbconvert_exporter": "python",
   "pygments_lexer": "ipython3",
   "version": "3.11.7"
  }
 },
 "nbformat": 4,
 "nbformat_minor": 5
}
