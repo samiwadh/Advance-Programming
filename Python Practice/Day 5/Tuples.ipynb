{
 "cells": [
  {
   "cell_type": "raw",
   "id": "c27fee57-bf11-4d4b-bb4f-a00bab762f6e",
   "metadata": {},
   "source": [
    "Exercises: Level 1\n",
    "Create a tuple containing names of your sisters and your brothers (imaginary siblings are fine)\n",
    "Join brothers and sisters tuples and assign it to siblings\n",
    "How many siblings do you have?\n",
    "Modify the siblings tuple and add the name of your father and mother and assign it to family_members"
   ]
  },
  {
   "cell_type": "code",
   "execution_count": 3,
   "id": "d7743ad6-4f93-46a9-ad7b-b31dc5ec8e40",
   "metadata": {},
   "outputs": [
    {
     "data": {
      "text/plain": [
       "()"
      ]
     },
     "execution_count": 3,
     "metadata": {},
     "output_type": "execute_result"
    }
   ],
   "source": [
    "# 1 Create an empty tuple\n",
    "city = ( )\n",
    "city"
   ]
  },
  {
   "cell_type": "code",
   "execution_count": 4,
   "id": "501d344f-b361-40ae-a9d7-50124c4c129f",
   "metadata": {},
   "outputs": [
    {
     "data": {
      "text/plain": [
       "tuple"
      ]
     },
     "execution_count": 4,
     "metadata": {},
     "output_type": "execute_result"
    }
   ],
   "source": [
    "type(city)"
   ]
  },
  {
   "cell_type": "code",
   "execution_count": 31,
   "id": "f004ef70-7dda-4bb5-a012-523d8a5234b6",
   "metadata": {},
   "outputs": [],
   "source": [
    "# 2 Create a tuple containing names of your sisters and your brothers (imaginary siblings are fine)\n",
    "\n",
    "Brothers = ('Ali', 'Ahmed','Asif')\n",
    "Sisters = ('hamna','Asia','Isha')\n"
   ]
  },
  {
   "cell_type": "code",
   "execution_count": 32,
   "id": "f7e85ced-3cad-49ba-965b-e02874065e88",
   "metadata": {},
   "outputs": [
    {
     "name": "stdout",
     "output_type": "stream",
     "text": [
      "Sibling = ('Ali', 'Ahmed', 'Asif', 'hamna', 'Asia', 'Isha')\n"
     ]
    }
   ],
   "source": [
    "# 3 Join brothers and sisters tuples and assign it to siblings\n",
    "\n",
    "sibling = Brothers + Sisters\n",
    "print('Sibling =',sibling)"
   ]
  },
  {
   "cell_type": "code",
   "execution_count": 33,
   "id": "1652230b-08a4-4430-898f-3493d7c81823",
   "metadata": {},
   "outputs": [
    {
     "data": {
      "text/plain": [
       "6"
      ]
     },
     "execution_count": 33,
     "metadata": {},
     "output_type": "execute_result"
    }
   ],
   "source": [
    "# 4 How many siblings do you have?\n",
    "\n",
    "len(sibling)"
   ]
  },
  {
   "cell_type": "code",
   "execution_count": 36,
   "id": "b3dc4aea-c7a9-4061-8a22-87798f6e988c",
   "metadata": {},
   "outputs": [
    {
     "ename": "TypeError",
     "evalue": "list.append() takes exactly one argument (2 given)",
     "output_type": "error",
     "traceback": [
      "\u001b[0;31m---------------------------------------------------------------------------\u001b[0m",
      "\u001b[0;31mTypeError\u001b[0m                                 Traceback (most recent call last)",
      "Cell \u001b[0;32mIn[36], line 8\u001b[0m\n\u001b[1;32m      4\u001b[0m sibling \u001b[38;5;241m=\u001b[39m \u001b[38;5;28mlist\u001b[39m(sibling)\n\u001b[1;32m      6\u001b[0m \u001b[38;5;66;03m# now we can add father name and monther name\u001b[39;00m\n\u001b[0;32m----> 8\u001b[0m sibling\u001b[38;5;241m.\u001b[39mappend(\u001b[38;5;124m'\u001b[39m\u001b[38;5;124mAbdullah\u001b[39m\u001b[38;5;124m'\u001b[39m,\u001b[38;5;124m'\u001b[39m\u001b[38;5;124mRukyet\u001b[39m\u001b[38;5;124m'\u001b[39m)\n",
      "\u001b[0;31mTypeError\u001b[0m: list.append() takes exactly one argument (2 given)"
     ]
    }
   ],
   "source": [
    "# 5 Modify the siblings tuple and add the name of your father and mother and assign it to family_members\n",
    "\n",
    "# first we convert the tuple in to list because we know tuple can't be add or inset , remove therefore we have to convert in list fromv tuple \n",
    "sibling = list(sibling)\n",
    "\n",
    "# now we can add father name and monther name\n",
    "\n",
    "sibling.append(['Abdullah','Rukyet'])\n",
    "\n",
    "\n"
   ]
  },
  {
   "cell_type": "code",
   "execution_count": 29,
   "id": "f67cc7e7-f998-4cd7-8b34-98f47c2bb50b",
   "metadata": {},
   "outputs": [
    {
     "data": {
      "text/plain": [
       "list"
      ]
     },
     "execution_count": 29,
     "metadata": {},
     "output_type": "execute_result"
    }
   ],
   "source": [
    "type(sibling)"
   ]
  },
  {
   "cell_type": "code",
   "execution_count": 35,
   "id": "48f2ab3c-04da-4020-bfcb-f6f885144c45",
   "metadata": {},
   "outputs": [
    {
     "data": {
      "text/plain": [
       "['Ali', 'Ahmed', 'Asif', 'hamna', 'Asia', 'Isha', ['Abdullah', 'Rukyet']]"
      ]
     },
     "execution_count": 35,
     "metadata": {},
     "output_type": "execute_result"
    }
   ],
   "source": [
    "sibling"
   ]
  },
  {
   "cell_type": "code",
   "execution_count": null,
   "id": "e5f674e7-22c4-46cb-b801-e5c35c7beaf1",
   "metadata": {},
   "outputs": [],
   "source": []
  }
 ],
 "metadata": {
  "kernelspec": {
   "display_name": "Python 3 (ipykernel)",
   "language": "python",
   "name": "python3"
  },
  "language_info": {
   "codemirror_mode": {
    "name": "ipython",
    "version": 3
   },
   "file_extension": ".py",
   "mimetype": "text/x-python",
   "name": "python",
   "nbconvert_exporter": "python",
   "pygments_lexer": "ipython3",
   "version": "3.11.7"
  }
 },
 "nbformat": 4,
 "nbformat_minor": 5
}
