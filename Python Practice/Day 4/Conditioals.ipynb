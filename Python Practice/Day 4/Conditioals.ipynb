{
 "cells": [
  {
   "cell_type": "raw",
   "id": "7c2b84e9-0b94-4d06-84d1-ad31018d9d65",
   "metadata": {},
   "source": [
    "                                    Exercises: Level 1\n",
    "1. Get user input using inplocalhost:8888/lab/workspaces/auto-W/tree/Navttc/Day%203/Untitut(“Enter your age: ”). If user is 18 or older, give feedback: You are old enough to drive. If below 18 give feedback to wait for the missing amount of years. Output:\n",
    "\n",
    "Enter your age: 30\n",
    "You are old enough to learn to drive.\n",
    "Output:\n",
    "Enter your age: 15\n",
    "You need 3 more years to learn to drive."
   ]
  },
  {
   "cell_type": "code",
   "execution_count": 2,
   "id": "c5429a68-0fda-446f-b0be-14ef3d6c459b",
   "metadata": {},
   "outputs": [
    {
     "name": "stdin",
     "output_type": "stream",
     "text": [
      "Enter the age 19\n"
     ]
    },
    {
     "name": "stdout",
     "output_type": "stream",
     "text": [
      "You are old enough to drive\n"
     ]
    }
   ],
   "source": [
    "age = int(input('Enter the age'))\n",
    "if age >= 18:\n",
    "    print('You are old enough to drive')\n",
    "else:\n",
    "    years_to_wait = 18 - age\n",
    "    print('wait for the missing amount of years',years_to_wait)"
   ]
  },
  {
   "cell_type": "raw",
   "id": "d5ad7c08-1367-4265-9694-f848853ea07b",
   "metadata": {},
   "source": [
    "2. Compare the values of my_age and your_age using if … else. Who is older (me or you)? Use input(“Enter your age: ”) to get the age as input. You can use a nested condition to print 'year' for 1 year difference in age, 'years' for bigger differences, and a custom text if my_age = your_age. Output:\n",
    "\n",
    "Enter your age: 30\n",
    "You are 5 years older than me."
   ]
  },
  {
   "cell_type": "code",
   "execution_count": 22,
   "id": "1cf11c08-8e92-463b-a96f-95fd6a89c168",
   "metadata": {},
   "outputs": [
    {
     "name": "stdin",
     "output_type": "stream",
     "text": [
      "enter your age 29\n"
     ]
    },
    {
     "name": "stdout",
     "output_type": "stream",
     "text": [
      "I am  6  years older than me\n"
     ]
    }
   ],
   "source": [
    "your_age = int(input('enter your age'))\n",
    "my_age =23\n",
    "if your_age > my_age:\n",
    "    your_age = your_age- my_age \n",
    "    print(\"I am \",your_age,\" years older than me\")\n",
    "elif my_age < your_age:\n",
    "    age_difference = your_age - my_age\n",
    "    print(\"You are \",your_age,\" years older than me\")\n",
    "else:\n",
    "    print(\"We are the same age!\")\n"
   ]
  },
  {
   "cell_type": "raw",
   "id": "2d2b8c03-ab0c-4fd6-8227-15f6dd0a8c59",
   "metadata": {},
   "source": [
    "3. Get two numbers from the user using input prompt. If a is greater than b return a is greater than b, if a is less b return a is smaller than b, else a is equal to b. Output:\n",
    "Enter number one: 4\n",
    "Enter number two: 3\n",
    "4 is greater than 3"
   ]
  },
  {
   "cell_type": "code",
   "execution_count": 5,
   "id": "d1fa7c2f-df43-4309-a728-b6749c9e6bd2",
   "metadata": {},
   "outputs": [
    {
     "name": "stdin",
     "output_type": "stream",
     "text": [
      "Enter the number a = 2\n",
      "Enter the number b = 6\n"
     ]
    },
    {
     "name": "stdout",
     "output_type": "stream",
     "text": [
      "2 is smaller than : 6\n"
     ]
    }
   ],
   "source": [
    "a = int(input('Enter the number a ='))\n",
    "b = int (input('Enter the number b ='))\n",
    "if a >= b :\n",
    "    print(a,'is greater than :',b)\n",
    "elif b >=a :\n",
    "    print(a,'is smaller than :',b)\n",
    "else :\n",
    "    print(a,' is equal to ',b)\n",
    "    "
   ]
  },
  {
   "cell_type": "raw",
   "id": "0c1affcb-1536-4f42-9554-a144ad7a4b54",
   "metadata": {},
   "source": [
    "                                Exercises: Level 2"
   ]
  },
  {
   "cell_type": "raw",
   "id": "0a83133e-4f35-44fd-80fa-b187005630b6",
   "metadata": {},
   "source": [
    "1. Write a code which gives grade to students according to theirs scores:\n",
    "80-100, A\n",
    "70-89, B\n",
    "60-69, C\n",
    "50-59, D\n",
    "0-49, F\n"
   ]
  },
  {
   "cell_type": "code",
   "execution_count": 18,
   "id": "bdaf8c42-a21c-4901-b388-80d3cfe13b9b",
   "metadata": {},
   "outputs": [
    {
     "name": "stdin",
     "output_type": "stream",
     "text": [
      "Enter the Score 90\n"
     ]
    },
    {
     "name": "stdout",
     "output_type": "stream",
     "text": [
      "A\n"
     ]
    }
   ],
   "source": [
    "score = int(input ('Enter the Score'))\n",
    "if ( score < 100 and score >80 ):\n",
    "    Grade = 'A'\n",
    "    print(Grade)\n",
    "elif (score < 89 and score > 70):\n",
    "    Grade = 'B'\n",
    "    print(Grade)\n",
    "elif (score < 69 and score > 60):\n",
    "    Grade = 'C'\n",
    "    print(Grade)\n",
    "elif (score < 59 and score > 50):\n",
    "    Grade = 'D'\n",
    "    print(Grade)\n",
    "else:\n",
    "    Grade = 'F'\n",
    "    print(Grade)\n"
   ]
  },
  {
   "cell_type": "raw",
   "id": "73bd50d1-a1c8-4ff3-abc9-3edfa236efb4",
   "metadata": {},
   "source": [
    "2. Check if the season is Autumn, Winter, Spring or Summer. If the user input is: September, October or November, the season is Autumn. December, January or February, the season is Winter. March, April or May, the season is Spring June, July or August, the season is Summer\n"
   ]
  },
  {
   "cell_type": "code",
   "execution_count": 35,
   "id": "667eabf2-0351-4d9e-abbe-0baa61c5ccdb",
   "metadata": {},
   "outputs": [
    {
     "name": "stdin",
     "output_type": "stream",
     "text": [
      "Enter the month =  sa\n"
     ]
    },
    {
     "name": "stdout",
     "output_type": "stream",
     "text": [
      "Invalid\n"
     ]
    }
   ],
   "source": [
    "season = input('Enter the month = ')\n",
    "if season in [\"september\", \"october\", \"november\"] :\n",
    "    print('Autumn')\n",
    "elif season in [\" December\", \"January\", \"February\"]:\n",
    "    print('Winter')\n",
    "elif season in [ \"March\", \"April\", \"May\"]:\n",
    "    print('Spring')\n",
    "elif season in [ \"June\", \"July\",\"August\"]:\n",
    "    print('Summer')\n",
    "else:\n",
    "    print('Invalid')"
   ]
  },
  {
   "cell_type": "raw",
   "id": "772701b0-85f8-40a9-b674-8b3b49ae911e",
   "metadata": {},
   "source": [
    "The following list contains some fruits:\n",
    "fruits = ['banana', 'orange', 'mango', 'lemon']\n",
    "If a fruit doesn't exist in the list add the fruit to the list and print the modified list. If the fruit exists print('That fruit already exist in the list')"
   ]
  },
  {
   "cell_type": "code",
   "execution_count": 37,
   "id": "1168550b-44ad-4752-9d78-0b5c36e166bc",
   "metadata": {},
   "outputs": [
    {
     "name": "stdin",
     "output_type": "stream",
     "text": [
      "Enter a fruit:  lemon\n"
     ]
    },
    {
     "name": "stdout",
     "output_type": "stream",
     "text": [
      "That fruit (lemon) already exists in the list.\n",
      "Modified list of fruits: ['banana', 'orange', 'mango', 'lemon']\n"
     ]
    }
   ],
   "source": [
    "# List of fruits\n",
    "fruits = ['banana', 'orange', 'mango', 'lemon']\n",
    "\n",
    "# Get user input for a fruit\n",
    "new_fruit = input(\"Enter a fruit: \")\n",
    "\n",
    "# Convert input to lowercase for case-insensitive comparison\n",
    "new_fruit_lower = new_fruit.lower()\n",
    "\n",
    "# Check if the fruit exists in the list\n",
    "if new_fruit_lower in fruits:\n",
    "    print(f'That fruit ({new_fruit}) already exists in the list.')\n",
    "else:\n",
    "    # Add the new fruit to the list\n",
    "    fruits.append(new_fruit_lower)\n",
    "    print(f'The fruit ({new_fruit}) has been added to the list.')\n",
    "\n",
    "# Print the modified list\n",
    "print('Modified list of fruits:', fruits)\n"
   ]
  },
  {
   "cell_type": "raw",
   "id": "736f5620-3d40-4fa4-ac8a-2d46466ea6b1",
   "metadata": {},
   "source": [
    "Exercises: Level 3\n",
    "Here we have a person dictionary. Feel free to modify it!\n",
    "        person={\n",
    "    'first_name': 'Asabeneh',\n",
    "    'last_name': 'Yetayeh',\n",
    "    'age': 250,\n",
    "    'country': 'Finland',\n",
    "    'is_marred': True,\n",
    "    'skills': ['JavaScript', 'React', 'Node', 'MongoDB', 'Python'],\n",
    "    'address': {\n",
    "        'street': 'Space street',\n",
    "        'zipcode': '02210'\n",
    "    }\n",
    "    }"
   ]
  },
  {
   "cell_type": "code",
   "execution_count": 38,
   "id": "200bbff1-2736-4a5e-88aa-b862ba359224",
   "metadata": {},
   "outputs": [
    {
     "name": "stdout",
     "output_type": "stream",
     "text": [
      "Middle skill in the skills list: Node\n",
      "The person has 'Python' skill.\n",
      "Unknown title\n",
      "\n",
      "Information about Asabeneh Yetayeh:\n",
      "Age: 250\n",
      "Marital status: Married\n",
      "Country: Finland\n",
      "Address: Space street, 02210\n"
     ]
    }
   ],
   "source": [
    "# Person dictionary\n",
    "person = {\n",
    "    'first_name': 'Asabeneh',\n",
    "    'last_name': 'Yetayeh',\n",
    "    'age': 250,\n",
    "    'country': 'Finland',\n",
    "    'is_married': True,\n",
    "    'skills': ['JavaScript', 'React', 'Node', 'MongoDB', 'Python'],\n",
    "    'address': {\n",
    "        'street': 'Space street',\n",
    "        'zipcode': '02210'\n",
    "    }\n",
    "}\n",
    "\n",
    "# Check if the person dictionary has 'skills' key\n",
    "if 'skills' in person:\n",
    "    # Print out the middle skill in the skills list\n",
    "    if len(person['skills']) >= 3:\n",
    "        middle_skill = person['skills'][len(person['skills']) // 2]\n",
    "        print(f\"Middle skill in the skills list: {middle_skill}\")\n",
    "\n",
    "    # Check if the person has 'Python' skill\n",
    "    if 'Python' in person['skills']:\n",
    "        print(\"The person has 'Python' skill.\")\n",
    "    else:\n",
    "        print(\"The person does not have 'Python' skill.\")\n",
    "\n",
    "    # Check the person's role based on skills\n",
    "    if set(person['skills']) == {'JavaScript', 'React'}:\n",
    "        print(\"He is a front end developer\")\n",
    "    elif set(person['skills']) == {'Node', 'Python', 'MongoDB'}:\n",
    "        print(\"He is a backend developer\")\n",
    "    elif set(person['skills']) == {'React', 'Node', 'MongoDB'}:\n",
    "        print(\"He is a fullstack developer\")\n",
    "    else:\n",
    "        print(\"Unknown title\")\n",
    "\n",
    "    # Check if the person is married and lives in Finland\n",
    "    if person.get('is_married') and person.get('country') == 'Finland':\n",
    "        print(f\"\\nInformation about {person['first_name']} {person['last_name']}:\")\n",
    "        print(f\"Age: {person['age']}\")\n",
    "        print(\"Marital status: Married\")\n",
    "        print(f\"Country: {person['country']}\")\n",
    "        print(f\"Address: {person['address']['street']}, {person['address']['zipcode']}\")\n",
    "else:\n",
    "    print(\"The person dictionary does not have 'skills' key.\")\n"
   ]
  },
  {
   "cell_type": "code",
   "execution_count": null,
   "id": "e46a061a-891a-4dba-993c-bc4887611a7f",
   "metadata": {},
   "outputs": [],
   "source": []
  }
 ],
 "metadata": {
  "kernelspec": {
   "display_name": "Python 3 (ipykernel)",
   "language": "python",
   "name": "python3"
  },
  "language_info": {
   "codemirror_mode": {
    "name": "ipython",
    "version": 3
   },
   "file_extension": ".py",
   "mimetype": "text/x-python",
   "name": "python",
   "nbconvert_exporter": "python",
   "pygments_lexer": "ipython3",
   "version": "3.11.7"
  }
 },
 "nbformat": 4,
 "nbformat_minor": 5
}
