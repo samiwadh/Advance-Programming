{
 "cells": [
  {
   "cell_type": "raw",
   "id": "4970d561-24c3-4a52-8cd8-5919ce1d78f6",
   "metadata": {},
   "source": [
    "                                        Exercises: Day 4\n"
   ]
  },
  {
   "cell_type": "code",
   "execution_count": 3,
   "id": "2f6f9af4-b4b9-41df-bf62-dd3d4c86a86e",
   "metadata": {},
   "outputs": [
    {
     "name": "stdout",
     "output_type": "stream",
     "text": [
      "temp =  []\n"
     ]
    }
   ],
   "source": [
    "#1  Declare an empty list\n",
    "temp = []\n",
    "print('temp = ',temp)"
   ]
  },
  {
   "cell_type": "code",
   "execution_count": 4,
   "id": "991a37b6-e8ae-4afe-98c5-0bc088727533",
   "metadata": {},
   "outputs": [
    {
     "name": "stdout",
     "output_type": "stream",
     "text": [
      "temp =  [23, 24, 25, 26, 27, 28]\n"
     ]
    }
   ],
   "source": [
    "# 2 Declare a list with more than 5 items\n",
    "temp = [ 23,24,25,26,27,28]\n",
    "print('temp = ',temp)"
   ]
  },
  {
   "cell_type": "code",
   "execution_count": 7,
   "id": "ed200d69-a0b6-4cac-94b1-ec732f713318",
   "metadata": {},
   "outputs": [
    {
     "name": "stdout",
     "output_type": "stream",
     "text": [
      "temp lenght =  6\n"
     ]
    }
   ],
   "source": [
    "# 3 Find the length of your list\n",
    "print('temp lenght = ',len(temp)) "
   ]
  },
  {
   "cell_type": "code",
   "execution_count": 12,
   "id": "c3ab6356-b907-4b49-8a60-ba7dc6913847",
   "metadata": {},
   "outputs": [
    {
     "name": "stdout",
     "output_type": "stream",
     "text": [
      "23\n",
      "25\n",
      "28\n"
     ]
    }
   ],
   "source": [
    "# 4 Get the first item, the middle item and the last item of the list\n",
    "print(temp[0])\n",
    "print(temp[2])\n",
    "print(temp[5])"
   ]
  },
  {
   "cell_type": "code",
   "execution_count": 15,
   "id": "e5137537-d64c-420f-b939-9ae49c5c04cc",
   "metadata": {},
   "outputs": [
    {
     "name": "stdout",
     "output_type": "stream",
     "text": [
      "mixed_data_types = ['name ', 'age ', 'height', 'martial status', 'address']\n"
     ]
    }
   ],
   "source": [
    "# 5 Declare a list called mixed_data_types, put your(name, age, height, marital status, address)\n",
    "mixed_data_types = ['name ', 'age ', 'height','martial status','address']\n",
    "mixed_data_types"
   ]
  },
  {
   "cell_type": "code",
   "execution_count": 56,
   "id": "d1f7f0d3-f2da-4255-a989-193c6c5b3ee4",
   "metadata": {},
   "outputs": [
    {
     "data": {
      "text/plain": [
       "['Facebook', 'Google', ' Microsoft', 'Apple', 'IBM', 'Oracle', 'Amazon']"
      ]
     },
     "execution_count": 56,
     "metadata": {},
     "output_type": "execute_result"
    }
   ],
   "source": [
    "# 6 Declare a list variable named it_companies and assign initial values Facebook, Google, Microsoft, Apple, IBM, Oracle and Amazon.\n",
    "\n",
    "it_companies = ['Facebook', 'Google',' Microsoft', 'Apple', 'IBM', 'Oracle','Amazon']\n",
    "it_companies"
   ]
  },
  {
   "cell_type": "code",
   "execution_count": 57,
   "id": "a4dc9e26-c0c5-46c9-a404-3ef6ab7f845e",
   "metadata": {},
   "outputs": [
    {
     "name": "stdout",
     "output_type": "stream",
     "text": [
      "it_companies = ['Facebook', 'Google', ' Microsoft', 'Apple', 'IBM', 'Oracle', 'Amazon']\n"
     ]
    }
   ],
   "source": [
    "# 7 Print the list using print()\n",
    "print('it_companies =',it_companies)"
   ]
  },
  {
   "cell_type": "code",
   "execution_count": 58,
   "id": "62fb7268-9466-4163-87ac-056e257f766e",
   "metadata": {},
   "outputs": [
    {
     "name": "stdout",
     "output_type": "stream",
     "text": [
      "7\n"
     ]
    }
   ],
   "source": [
    "# 8 Print the number of companies in the list\n",
    "number = len(it_companies)\n",
    "print(number)"
   ]
  },
  {
   "cell_type": "code",
   "execution_count": 59,
   "id": "eb883163-17b5-4f9c-a783-b0ce68f27fd8",
   "metadata": {},
   "outputs": [
    {
     "name": "stdout",
     "output_type": "stream",
     "text": [
      "First = Facebook\n",
      "Middle =  Microsoft\n",
      "Last = Oracle\n"
     ]
    }
   ],
   "source": [
    "# 9 Print the first, middle and last company\n",
    "print(\"First =\",it_companies[0])\n",
    "print(\"Middle =\",it_companies[2])\n",
    "print(\"Last =\",it_companies[5])"
   ]
  },
  {
   "cell_type": "code",
   "execution_count": 60,
   "id": "dcb04e08-a02f-49fc-98dc-5cb8c0c8fef3",
   "metadata": {},
   "outputs": [
    {
     "name": "stdout",
     "output_type": "stream",
     "text": [
      "['Facebook', 'Google', ' Microsoft', 'Apple', 'IBM', 'Oracle', 'Amazon from UsA']\n"
     ]
    }
   ],
   "source": [
    "# 10 Print the list after modifying one of the companies\n",
    "it_companies = ['Facebook', 'Google',' Microsoft', 'Apple', 'IBM', 'Oracle','Amazon from UsA']\n",
    "print(it_companies)"
   ]
  },
  {
   "cell_type": "code",
   "execution_count": 61,
   "id": "61d4b0d8-52b3-4609-a39a-111565916853",
   "metadata": {},
   "outputs": [
    {
     "data": {
      "text/plain": [
       "['Facebook',\n",
       " 'Google',\n",
       " ' Microsoft',\n",
       " 'Apple',\n",
       " 'IBM',\n",
       " 'Oracle',\n",
       " 'Amazon from UsA',\n",
       " 'Nivida']"
      ]
     },
     "execution_count": 61,
     "metadata": {},
     "output_type": "execute_result"
    }
   ],
   "source": [
    "# 11 Add an IT company to it_companies\n",
    "it_companies.append('Nivida')\n",
    "it_companies"
   ]
  },
  {
   "cell_type": "code",
   "execution_count": 62,
   "id": "eeeeec4c-18ac-45b3-8893-aeea2649639a",
   "metadata": {},
   "outputs": [],
   "source": [
    "# 12 Insert an IT company in the middle of the companies list\n",
    "it_companies.insert(3,'TikTok')"
   ]
  },
  {
   "cell_type": "code",
   "execution_count": 63,
   "id": "e2a0ae79-7c23-452c-8594-fa00da681896",
   "metadata": {},
   "outputs": [
    {
     "name": "stdout",
     "output_type": "stream",
     "text": [
      "['Facebook', 'Google', ' Microsoft', 'TikTok', 'Apple', 'IBM', 'Oracle', 'Amazon from UsA', 'Nivida']\n"
     ]
    }
   ],
   "source": [
    "print(it_companies)"
   ]
  },
  {
   "cell_type": "code",
   "execution_count": 64,
   "id": "11e1df65-fe05-4b33-bca7-2997b97803d5",
   "metadata": {},
   "outputs": [],
   "source": [
    "# 13 Change one of the it_companies names to uppercase (IBM excluded!)\n",
    "it_companies.remove('IBM')"
   ]
  },
  {
   "cell_type": "code",
   "execution_count": 65,
   "id": "cea7522d-c96f-4a78-8692-a32474d305b9",
   "metadata": {},
   "outputs": [
    {
     "name": "stdout",
     "output_type": "stream",
     "text": [
      "it_companies = ['Facebook', 'Google', ' Microsoft', 'TikTok', 'Apple', 'Oracle', 'Amazon from UsA', 'Nivida']\n"
     ]
    }
   ],
   "source": [
    "print('it_companies =',it_companies)"
   ]
  },
  {
   "cell_type": "code",
   "execution_count": 66,
   "id": "731bad76-2159-48cb-8e21-e96564ba64a7",
   "metadata": {},
   "outputs": [
    {
     "name": "stdout",
     "output_type": "stream",
     "text": [
      "Facebook#; Google#;  Microsoft#; TikTok#; Apple#; Oracle#; Amazon from UsA#; Nivida\n"
     ]
    }
   ],
   "source": [
    "# 14 Join the it_companies with a string '#;  ' \n",
    "joined_companies = '#; '.join(it_companies)\n",
    "print(joined_companies)"
   ]
  },
  {
   "cell_type": "code",
   "execution_count": 67,
   "id": "11223bdd-82ce-4d3d-9a38-5b0544155a61",
   "metadata": {},
   "outputs": [
    {
     "data": {
      "text/plain": [
       "4"
      ]
     },
     "execution_count": 67,
     "metadata": {},
     "output_type": "execute_result"
    }
   ],
   "source": [
    "# 15 Check if a certain company exists in the it_companies list.\n",
    "it_companies.index('Apple') # indexing for finding particular data\n"
   ]
  },
  {
   "cell_type": "code",
   "execution_count": 68,
   "id": "85cb4022-34f1-46b8-9f0e-1c16f3f8efc7",
   "metadata": {},
   "outputs": [
    {
     "name": "stdout",
     "output_type": "stream",
     "text": [
      "Sorted list: [' Microsoft', 'Amazon from UsA', 'Apple', 'Facebook', 'Google', 'Nivida', 'Oracle', 'TikTok']\n"
     ]
    }
   ],
   "source": [
    "# 16 Sort the list using sort() method\n",
    "it_companies.sort()\n",
    "print(\"Sorted list:\", it_companies)"
   ]
  },
  {
   "cell_type": "code",
   "execution_count": 69,
   "id": "99a29410-94b3-494c-91a9-5c15b1b041e9",
   "metadata": {},
   "outputs": [
    {
     "name": "stdout",
     "output_type": "stream",
     "text": [
      "Sorted list: ['TikTok', 'Oracle', 'Nivida', 'Google', 'Facebook', 'Apple', 'Amazon from UsA', ' Microsoft']\n"
     ]
    }
   ],
   "source": [
    "# 17 Reverse the list in descending order using reverse() method\n",
    "\n",
    "it_companies.reverse()\n",
    "print(\"Sorted list:\", it_companies)"
   ]
  },
  {
   "cell_type": "code",
   "execution_count": 74,
   "id": "8e81be00-909f-4b24-8339-b7c625eda00c",
   "metadata": {},
   "outputs": [],
   "source": [
    "del it_companies[-1]"
   ]
  },
  {
   "cell_type": "code",
   "execution_count": 75,
   "id": "84245907-6301-470a-b66c-04d02ad932c9",
   "metadata": {},
   "outputs": [
    {
     "data": {
      "text/plain": [
       "['TikTok',\n",
       " 'Oracle',\n",
       " 'Nivida',\n",
       " 'Google',\n",
       " 'Facebook',\n",
       " 'Apple',\n",
       " 'Amazon from UsA']"
      ]
     },
     "execution_count": 75,
     "metadata": {},
     "output_type": "execute_result"
    }
   ],
   "source": [
    "it_companies"
   ]
  },
  {
   "cell_type": "code",
   "execution_count": 76,
   "id": "034b9665-eabb-476e-b816-972ea46795fe",
   "metadata": {},
   "outputs": [
    {
     "name": "stdout",
     "output_type": "stream",
     "text": [
      "First three companies: ['TikTok', 'Oracle', 'Nivida']\n"
     ]
    }
   ],
   "source": [
    "# 18 Slice out the first 3 companies from the list\n",
    "first_three = it_companies[:3]\n",
    "print(\"First three companies:\", first_three)\n"
   ]
  },
  {
   "cell_type": "code",
   "execution_count": 86,
   "id": "133fe9e5-229f-4a95-8926-0a7d80c2d5ea",
   "metadata": {},
   "outputs": [
    {
     "name": "stdout",
     "output_type": "stream",
     "text": [
      "Last three companies: ['Facebook', 'Apple', 'Amazon from UsA']\n"
     ]
    }
   ],
   "source": [
    "# 19 Slice out the last 3 companies from the list\n",
    "last_three = it_companies[4:7]\n",
    "print(\"Last three companies:\", last_three)\n",
    "\n",
    "#   OR\n",
    "\n",
    "#last_three = it_companies[-3:]\n",
    "#print(\"Last three companies:\", last_three)\n"
   ]
  },
  {
   "cell_type": "code",
   "execution_count": 88,
   "id": "6930764b-be9d-4694-b3cb-795e8d5d33aa",
   "metadata": {},
   "outputs": [
    {
     "name": "stdout",
     "output_type": "stream",
     "text": [
      "Middle three companies: ['Nivida', 'Google', 'Facebook']\n"
     ]
    }
   ],
   "source": [
    "# 20 Slice out the last 3 companies from the list\n",
    "middle_three = it_companies[2:5]\n",
    "print(\"Middle three companies:\", middle_three)"
   ]
  },
  {
   "cell_type": "code",
   "execution_count": 90,
   "id": "d9a890ef-c323-4df4-ace4-264a00a4bbfc",
   "metadata": {},
   "outputs": [
    {
     "data": {
      "text/plain": [
       "'TikTok'"
      ]
     },
     "execution_count": 90,
     "metadata": {},
     "output_type": "execute_result"
    }
   ],
   "source": [
    "# 21 Remove the first IT company from the list\n",
    "it_companies.pop(0)"
   ]
  },
  {
   "cell_type": "code",
   "execution_count": 91,
   "id": "9af54be8-ee76-466d-93b1-f4ec6c52b568",
   "metadata": {},
   "outputs": [
    {
     "data": {
      "text/plain": [
       "['Oracle', 'Nivida', 'Google', 'Facebook', 'Apple', 'Amazon from UsA']"
      ]
     },
     "execution_count": 91,
     "metadata": {},
     "output_type": "execute_result"
    }
   ],
   "source": [
    "it_companies"
   ]
  },
  {
   "cell_type": "code",
   "execution_count": 92,
   "id": "836a91c3-763e-4c2f-8e8b-113aca087f64",
   "metadata": {},
   "outputs": [
    {
     "data": {
      "text/plain": [
       "['Oracle', 'Nivida', 'Google', 'Facebook', 'Amazon from UsA']"
      ]
     },
     "execution_count": 92,
     "metadata": {},
     "output_type": "execute_result"
    }
   ],
   "source": [
    "# 22 Remove the middle IT company or companies from the list\n",
    "it_companies.pop(4)\n",
    "it_companies"
   ]
  },
  {
   "cell_type": "code",
   "execution_count": 93,
   "id": "74963f2b-74ac-4a91-920a-f758cfa07d19",
   "metadata": {},
   "outputs": [
    {
     "data": {
      "text/plain": [
       "['Oracle', 'Nivida', 'Google', 'Facebook']"
      ]
     },
     "execution_count": 93,
     "metadata": {},
     "output_type": "execute_result"
    }
   ],
   "source": [
    "# 23 Remove the last IT company from the list\n",
    "it_companies.pop(-1)\n",
    "it_companies"
   ]
  },
  {
   "cell_type": "code",
   "execution_count": 99,
   "id": "36ade556-e97c-48af-b657-832f9dcbf77c",
   "metadata": {},
   "outputs": [
    {
     "data": {
      "text/plain": [
       "[]"
      ]
     },
     "execution_count": 99,
     "metadata": {},
     "output_type": "execute_result"
    }
   ],
   "source": [
    "# 26 Remove all IT companies from the list\n",
    "it_companies.clear()\n",
    "it_companies"
   ]
  },
  {
   "cell_type": "code",
   "execution_count": 105,
   "id": "3ab1d295-2cdb-4770-b3b6-56f56f8d53a5",
   "metadata": {},
   "outputs": [
    {
     "ename": "NameError",
     "evalue": "name 'it_companies' is not defined",
     "output_type": "error",
     "traceback": [
      "\u001b[0;31m---------------------------------------------------------------------------\u001b[0m",
      "\u001b[0;31mNameError\u001b[0m                                 Traceback (most recent call last)",
      "Cell \u001b[0;32mIn[105], line 2\u001b[0m\n\u001b[1;32m      1\u001b[0m \u001b[38;5;66;03m# 25 Destroy the IT companies list\u001b[39;00m\n\u001b[0;32m----> 2\u001b[0m \u001b[38;5;28;01mdel\u001b[39;00m it_companies\n",
      "\u001b[0;31mNameError\u001b[0m: name 'it_companies' is not defined"
     ]
    }
   ],
   "source": [
    "# 25 Destroy the IT companies list\n",
    "del it_companies\n"
   ]
  },
  {
   "cell_type": "raw",
   "id": "74dc0160-40a7-477c-a0f7-229ae4250110",
   "metadata": {},
   "source": [
    "# 26 Join the following lists:\n",
    "front_end = ['HTML', 'CSS', 'JS', 'React', 'Redux']\n",
    "back_end = ['Node','Express', 'MongoDB']\n",
    "\n",
    "developer = front_end + back_end\n",
    "print('developer =',developer)"
   ]
  },
  {
   "cell_type": "code",
   "execution_count": 110,
   "id": "d69bcfc4-2b34-4a25-a99f-188c903e80dd",
   "metadata": {},
   "outputs": [],
   "source": [
    "# 27 After joining the lists in question 26. Copy the joined list and assign it to a variable full_stack. Then insert Python and SQL after Redux.\n",
    "full_stack = developer.copy()"
   ]
  },
  {
   "cell_type": "code",
   "execution_count": 117,
   "id": "f7ac5e8e-67e3-4b85-9581-a1ecc40876a2",
   "metadata": {},
   "outputs": [],
   "source": [
    "full_stack.insert(-1,'python')\n",
    "full_stack.insert(-2,'Sql')"
   ]
  },
  {
   "cell_type": "code",
   "execution_count": 118,
   "id": "bccda342-fc98-423f-9afc-47a2a9e01c87",
   "metadata": {},
   "outputs": [
    {
     "data": {
      "text/plain": [
       "['HTML',\n",
       " 'CSS',\n",
       " 'JS',\n",
       " 'React',\n",
       " 'Redux',\n",
       " 'Node',\n",
       " 'Express',\n",
       " 'Sql',\n",
       " 'python',\n",
       " 'MongoDB']"
      ]
     },
     "execution_count": 118,
     "metadata": {},
     "output_type": "execute_result"
    }
   ],
   "source": [
    "full_stack"
   ]
  },
  {
   "cell_type": "raw",
   "id": "db326d10-6f54-4776-b99f-dc185e82c615",
   "metadata": {},
   "source": [
    "                                            Exercises: Level 2"
   ]
  },
  {
   "cell_type": "code",
   "execution_count": 1,
   "id": "5392b259-ee3a-48bb-aec5-95ecee5a3912",
   "metadata": {},
   "outputs": [],
   "source": [
    "#1 The following is a list of 10 students ages:\n",
    "ages = [19, 22, 19, 24, 20, 25, 26, 24, 25, 24]"
   ]
  },
  {
   "cell_type": "code",
   "execution_count": 15,
   "id": "d015dbde-71ae-47b6-a2d8-90805d74ce57",
   "metadata": {},
   "outputs": [
    {
     "name": "stdout",
     "output_type": "stream",
     "text": [
      "Sort_ages = [19, 19, 20, 22, 24, 24, 24, 25, 25, 26]\n",
      "min_Age = 19\n",
      "min_Age = 26\n",
      "19\n",
      "26\n"
     ]
    }
   ],
   "source": [
    "#2 Sort the list and find the min and max age\n",
    "ages.sort()\n",
    "print('Sort_ages =' ,ages)\n",
    "print('min_Age =',ages[0])\n",
    "print('min_Age =',ages[-1])\n",
    "\n",
    "\n",
    "####     OR\n",
    "\n",
    "min_age = ages[0]\n",
    "max_age = ages[-1]\n",
    "\n",
    "print(min_age)\n",
    "print(max_age)\n"
   ]
  },
  {
   "cell_type": "code",
   "execution_count": 16,
   "id": "1127edf9-0ee3-44a8-b612-71bd4ab4b118",
   "metadata": {},
   "outputs": [
    {
     "data": {
      "text/plain": [
       "45"
      ]
     },
     "execution_count": 16,
     "metadata": {},
     "output_type": "execute_result"
    }
   ],
   "source": [
    "# 3 Add the min age and the max age again to the list\n",
    "list  = ages[0]+ages[-1]\n",
    "\n",
    "list\n",
    "\n"
   ]
  },
  {
   "cell_type": "code",
   "execution_count": 22,
   "id": "a9535ae3-dc02-4f44-af9e-8bd8b45707ee",
   "metadata": {},
   "outputs": [
    {
     "data": {
      "text/plain": [
       "24"
      ]
     },
     "execution_count": 22,
     "metadata": {},
     "output_type": "execute_result"
    }
   ],
   "source": [
    "# 4 Find the median age (one middle item or two middle items divided by two)\n",
    "list =len(ages)\n",
    "middle_index = list//2\n",
    "median_age = ages[middle_index] if list % 2 != 0 else (ages[middle_index - 1] + ages[middle_index]) / 2\n",
    "int(median_age)"
   ]
  },
  {
   "cell_type": "code",
   "execution_count": 29,
   "id": "7b44f43a-6d7e-4b9d-9946-f84a8591852c",
   "metadata": {},
   "outputs": [
    {
     "data": {
      "text/plain": [
       "22.8"
      ]
     },
     "execution_count": 29,
     "metadata": {},
     "output_type": "execute_result"
    }
   ],
   "source": [
    "# 5 Find the average age (sum of all items divided by their number )\n",
    "average_age = sum(ages)/list # formula of average and here list is in len look above list = len(ages)\n",
    "average_age"
   ]
  },
  {
   "cell_type": "code",
   "execution_count": 27,
   "id": "0af2713b-712e-4469-be74-5b754c07a44e",
   "metadata": {},
   "outputs": [
    {
     "data": {
      "text/plain": [
       "7"
      ]
     },
     "execution_count": 27,
     "metadata": {},
     "output_type": "execute_result"
    }
   ],
   "source": [
    "# 6 find the range of ages (max minus min)\n",
    "range_of_age = max_age -min_age\n",
    "range_of_age"
   ]
  },
  {
   "cell_type": "code",
   "execution_count": 32,
   "id": "b477cd29-5bb3-4201-9637-8397000c45d2",
   "metadata": {},
   "outputs": [
    {
     "name": "stdout",
     "output_type": "stream",
     "text": [
      "3.8000000000000007\n",
      "3.1999999999999993\n"
     ]
    }
   ],
   "source": [
    "# 7 Compare the value of (min - average) and (max - average), use abs() method\n",
    "min_average_diff = abs(min_age - average_age)\n",
    "max_average_diff = abs(max_age - average_age)\n",
    "print(min_average_diff)\n",
    "print(max_average_diff)"
   ]
  },
  {
   "cell_type": "code",
   "execution_count": 54,
   "id": "0b2a2a77-7128-4e7a-954c-1a4b95b97d2f",
   "metadata": {},
   "outputs": [
    {
     "name": "stdout",
     "output_type": "stream",
     "text": [
      "Middle country(ies): Lesotho and the number of middle counties 96\n"
     ]
    }
   ],
   "source": [
    "countries = [\n",
    "  'Afghanistan',\n",
    "  'Albania',\n",
    "  'Algeria',\n",
    "  'Andorra',\n",
    "  'Angola',\n",
    "  'Antigua and Barbuda',\n",
    "  'Argentina',\n",
    "  'Armenia',\n",
    "  'Australia',\n",
    "  'Austria',\n",
    "  'Azerbaijan',\n",
    "  'Bahamas',\n",
    "  'Bahrain',\n",
    "  'Bangladesh',\n",
    "  'Barbados',\n",
    "  'Belarus',\n",
    "  'Belgium',\n",
    "  'Belize',\n",
    "  'Benin',\n",
    "  'Bhutan',\n",
    "  'Bolivia',\n",
    "  'Bosnia and Herzegovina',\n",
    "  'Botswana',\n",
    "  'Brazil',\n",
    "  'Brunei',\n",
    "  'Bulgaria',\n",
    "  'Burkina Faso',\n",
    "  'Burundi',\n",
    "  'Cambodia',\n",
    "  'Cameroon',\n",
    "  'Canada',\n",
    "  'Cape Verde',\n",
    "  'Central African Republic',\n",
    "  'Chad',\n",
    "  'Chile',\n",
    "  'China',\n",
    "  'Colombi',\n",
    "  'Comoros',\n",
    "  'Congo (Brazzaville)',\n",
    "  'Congo',\n",
    "  'Costa Rica',\n",
    "  \"Cote d'Ivoire\",\n",
    "  'Croatia',\n",
    "  'Cuba',\n",
    "  'Cyprus',\n",
    "  'Czech Republic',\n",
    "  'Denmark',\n",
    "  'Djibouti',\n",
    "  'Dominica',\n",
    "  'Dominican Republic',\n",
    "  'East Timor (Timor Timur)',\n",
    "  'Ecuador',\n",
    "  'Egypt',\n",
    "  'El Salvador',\n",
    "  'Equatorial Guinea',\n",
    "  'Eritrea',\n",
    "  'Estonia',\n",
    "  'Ethiopia',\n",
    "  'Fiji',\n",
    "  'Finland',\n",
    "  'France',\n",
    "  'Gabon',\n",
    "  'Gambia, The',\n",
    "  'Georgia',\n",
    "  'Germany',\n",
    "  'Ghana',\n",
    "  'Greece',\n",
    "  'Grenada',\n",
    "  'Guatemala',\n",
    "  'Guinea',\n",
    "  'Guinea-Bissau',\n",
    "  'Guyana',\n",
    "  'Haiti',\n",
    "  'Honduras',\n",
    "  'Hungary',\n",
    "  'Iceland',\n",
    "  'India',\n",
    "  'Indonesia',\n",
    "  'Iran',\n",
    "  'Iraq',\n",
    "  'Ireland',\n",
    "  'Israel',\n",
    "  'Italy',\n",
    "  'Jamaica',\n",
    "  'Japan',\n",
    "  'Jordan',\n",
    "  'Kazakhstan',\n",
    "  'Kenya',\n",
    "  'Kiribati',\n",
    "  'Korea, North',\n",
    "  'Korea, South',\n",
    "  'Kuwait',\n",
    "  'Kyrgyzstan',\n",
    "  'Laos',\n",
    "  'Latvia',\n",
    "  'Lebanon',\n",
    "  'Lesotho',\n",
    "  'Liberia',\n",
    "  'Libya',\n",
    "  'Liechtenstein',\n",
    "  'Lithuania',\n",
    "  'Luxembourg',\n",
    "  'Macedonia',\n",
    "  'Madagascar',\n",
    "  'Malawi',\n",
    "  'Malaysia',\n",
    "  'Maldives',\n",
    "  'Mali',\n",
    "  'Malta',\n",
    "  'Marshall Islands',\n",
    "  'Mauritania',\n",
    "  'Mauritius',\n",
    "  'Mexico',\n",
    "  'Micronesia',\n",
    "  'Moldova',\n",
    "  'Monaco',\n",
    "  'Mongolia',\n",
    "  'Morocco',\n",
    "  'Mozambique',\n",
    "  'Myanmar',\n",
    "  'Namibia',\n",
    "  'Nauru',\n",
    "  'Nepal',\n",
    "  'Netherlands',\n",
    "  'New Zealand',\n",
    "  'Nicaragua',\n",
    "  'Niger',\n",
    "  'Nigeria',\n",
    "  'Norway',\n",
    "  'Oman',\n",
    "  'Pakistan',\n",
    "  'Palau',\n",
    "  'Panama',\n",
    "  'Papua New Guinea',\n",
    "  'Paraguay',\n",
    "  'Peru',\n",
    "  'Philippines',\n",
    "  'Poland',\n",
    "  'Portugal',\n",
    "  'Qatar',\n",
    "  'Romania',\n",
    "  'Russia',\n",
    "  'Rwanda',\n",
    "  'Saint Kitts and Nevis',\n",
    "  'Saint Lucia',\n",
    "  'Saint Vincent',\n",
    "  'Samoa',\n",
    "  'San Marino',\n",
    "  'Sao Tome and Principe',\n",
    "  'Saudi Arabia',\n",
    "  'Senegal',\n",
    "  'Serbia and Montenegro',\n",
    "  'Seychelles',\n",
    "  'Sierra Leone',\n",
    "  'Singapore',\n",
    "  'Slovakia',\n",
    "  'Slovenia',\n",
    "  'Solomon Islands',\n",
    "  'Somalia',\n",
    "  'South Africa',\n",
    "  'Spain',\n",
    "  'Sri Lanka',\n",
    "  'Sudan',\n",
    "  'Suriname',\n",
    "  'Swaziland',\n",
    "  'Sweden',\n",
    "  'Switzerland',\n",
    "  'Syria',\n",
    "  'Taiwan',\n",
    "  'Tajikistan',\n",
    "  'Tanzania',\n",
    "  'Thailand',\n",
    "  'Togo',\n",
    "  'Tonga',\n",
    "  'Trinidad and Tobago',\n",
    "  'Tunisia',\n",
    "  'Turkey',\n",
    "  'Turkmenistan',\n",
    "  'Tuvalu',\n",
    "  'Uganda',\n",
    "  'Ukraine',\n",
    "  'United Arab Emirates',\n",
    "  'United Kingdom',\n",
    "  'United States',\n",
    "  'Uruguay',\n",
    "  'Uzbekistan',\n",
    "  'Vanuatu',\n",
    "  'Vatican City',\n",
    "  'Venezuela',\n",
    "  'Vietnam',\n",
    "  'Yemen',\n",
    "  'Zambia',\n",
    "  'Zimbabwe',\n",
    "]\n",
    "\n",
    "\n",
    "num_countries = len(countries)\n",
    "middle_index = num_countries // 2\n",
    "\n",
    "\n",
    "print(\"Middle country(ies):\", middle_countries,\"and the number of middle counties\",middle_index)\n"
   ]
  },
  {
   "cell_type": "code",
   "execution_count": 66,
   "id": "32fe5d72-dc56-41bf-94af-18d2778b9aac",
   "metadata": {},
   "outputs": [
    {
     "name": "stdout",
     "output_type": "stream",
     "text": [
      "First half of countries: 48.0\n",
      "Second half of countries: 48.0\n"
     ]
    }
   ],
   "source": [
    "# Divide the countries list into two equal lists if it is even if not one more country for the first half.\n",
    "total = len(countries)\n",
    "list_1 = len(countries)/2\n",
    "list_2 = len(countries)/2\n",
    "if total % 2 != 0:\n",
    "    list_1.append(list_2.pop(0))\n",
    "print(\"First half of countries:\", list_1)\n",
    "print(\"Second half of countries:\", list_2)\n"
   ]
  },
  {
   "cell_type": "code",
   "execution_count": 67,
   "id": "86568ad3-f344-4fdf-b188-3df04da4ded5",
   "metadata": {},
   "outputs": [
    {
     "name": "stdout",
     "output_type": "stream",
     "text": [
      "First half of countries: ['Afghanistan', 'Albania', 'Algeria', 'Andorra', 'Angola', 'Antigua and Barbuda', 'Argentina', 'Armenia', 'Australia', 'Austria', 'Azerbaijan', 'Bahamas', 'Bahrain', 'Bangladesh', 'Barbados', 'Belarus', 'Belgium', 'Belize', 'Benin', 'Bhutan', 'Bolivia', 'Bosnia and Herzegovina', 'Botswana', 'Brazil', 'Brunei', 'Bulgaria', 'Burkina Faso', 'Burundi', 'Cambodia', 'Cameroon', 'Canada', 'Cape Verde', 'Central African Republic', 'Chad', 'Chile', 'China', 'Colombi', 'Comoros', 'Congo (Brazzaville)', 'Congo', 'Costa Rica', \"Cote d'Ivoire\", 'Croatia', 'Cuba', 'Cyprus', 'Czech Republic', 'Denmark', 'Djibouti']\n",
      "Second half of countries: ['Dominica', 'Dominican Republic', 'East Timor (Timor Timur)', 'Ecuador', 'Egypt', 'El Salvador', 'Equatorial Guinea', 'Eritrea', 'Estonia', 'Ethiopia', 'Fiji', 'Finland', 'France', 'Gabon', 'Gambia, The', 'Georgia', 'Germany', 'Ghana', 'Greece', 'Grenada', 'Guatemala', 'Guinea', 'Guinea-Bissau', 'Guyana', 'Haiti', 'Honduras', 'Hungary', 'Iceland', 'India', 'Indonesia', 'Iran', 'Iraq', 'Ireland', 'Israel', 'Italy', 'Jamaica', 'Japan', 'Jordan', 'Kazakhstan', 'Kenya', 'Kiribati', 'Korea, North', 'Korea, South', 'Kuwait', 'Kyrgyzstan', 'Laos', 'Latvia', 'Lebanon']\n"
     ]
    }
   ],
   "source": [
    "                            # this is chatgpt Work\n",
    "                    \n",
    "# Calculate the length of the countries list\n",
    "num_countries = len(countries)\n",
    "\n",
    "# Calculate the index to split the list\n",
    "split_index = num_countries // 2\n",
    "\n",
    "# Divide the list into two equal parts\n",
    "first_half = countries[:split_index]\n",
    "second_half = countries[split_index:]\n",
    "\n",
    "# If the number of countries is odd, add one more country to the first half\n",
    "if num_countries % 2 != 0:\n",
    "    first_half.append(second_half.pop(0))\n",
    "\n",
    "# Output the results\n",
    "print(\"First half of countries:\", first_half)\n",
    "print(\"Second half of countries:\", second_half)"
   ]
  },
  {
   "cell_type": "code",
   "execution_count": 68,
   "id": "75635dcd-011c-4541-b6e5-c2a8984ed8e5",
   "metadata": {},
   "outputs": [
    {
     "name": "stdout",
     "output_type": "stream",
     "text": [
      "First three countries: China Russia USA\n",
      "Scandic countries: ['Finland', 'Sweden', 'Norway', 'Denmark']\n"
     ]
    }
   ],
   "source": [
    "# ['China', 'Russia', 'USA', 'Finland', 'Sweden', 'Norway', 'Denmark']. Unpack the first three countries and the rest as scandic countries.\n",
    "\n",
    "# Define the list of countries\n",
    "countries = ['China', 'Russia', 'USA', 'Finland', 'Sweden', 'Norway', 'Denmark']\n",
    "\n",
    "# Unpack the first three countries\n",
    "country1, country2, country3, *scandic_countries = countries\n",
    "\n",
    "# Output the results\n",
    "print(\"First three countries:\", country1, country2, country3)\n",
    "print(\"Scandic countries:\", scandic_countries)"
   ]
  },
  {
   "cell_type": "code",
   "execution_count": null,
   "id": "78644d92-650b-405c-add5-d916c10efb57",
   "metadata": {},
   "outputs": [],
   "source": []
  }
 ],
 "metadata": {
  "kernelspec": {
   "display_name": "Python 3 (ipykernel)",
   "language": "python",
   "name": "python3"
  },
  "language_info": {
   "codemirror_mode": {
    "name": "ipython",
    "version": 3
   },
   "file_extension": ".py",
   "mimetype": "text/x-python",
   "name": "python",
   "nbconvert_exporter": "python",
   "pygments_lexer": "ipython3",
   "version": "3.11.7"
  }
 },
 "nbformat": 4,
 "nbformat_minor": 5
}
