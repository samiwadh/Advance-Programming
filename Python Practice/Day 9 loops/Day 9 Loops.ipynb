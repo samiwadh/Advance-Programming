{
 "cells": [
  {
   "cell_type": "code",
   "execution_count": 3,
   "id": "5f78d775-8ee8-4769-9707-1f4d6d9c39be",
   "metadata": {},
   "outputs": [
    {
     "name": "stdout",
     "output_type": "stream",
     "text": [
      "0\n",
      "1\n",
      "2\n",
      "3\n",
      "4\n",
      "5\n",
      "6\n",
      "7\n",
      "8\n",
      "9\n",
      "10\n"
     ]
    }
   ],
   "source": [
    "number = 0\n",
    "while number < 11 :\n",
    "    print(number)\n",
    "    number = number +1"
   ]
  },
  {
   "cell_type": "code",
   "execution_count": 5,
   "id": "b5d52a5d-5296-4ead-bebf-949f9ebc7a8b",
   "metadata": {},
   "outputs": [
    {
     "name": "stdout",
     "output_type": "stream",
     "text": [
      "0\n",
      "1\n",
      "2\n",
      "3\n",
      "4\n",
      "5\n",
      "6\n",
      "7\n",
      "8\n",
      "9\n",
      "10\n"
     ]
    }
   ],
   "source": [
    "for i in range(11):\n",
    "    print(i)"
   ]
  },
  {
   "cell_type": "code",
   "execution_count": 1,
   "id": "b4ac55cb-88d0-4e1a-8f04-64f9bc6723f0",
   "metadata": {},
   "outputs": [
    {
     "name": "stdout",
     "output_type": "stream",
     "text": [
      "10\n",
      "9\n",
      "8\n",
      "7\n",
      "6\n",
      "5\n",
      "4\n",
      "3\n",
      "2\n",
      "1\n",
      "0\n"
     ]
    }
   ],
   "source": [
    "number = 10\n",
    "while number >= 0 :\n",
    "    print(number)\n",
    "    number = number - 1  "
   ]
  },
  {
   "cell_type": "code",
   "execution_count": 4,
   "id": "db348667-0ffd-419c-ae6f-e2938f70f672",
   "metadata": {},
   "outputs": [
    {
     "name": "stdout",
     "output_type": "stream",
     "text": [
      "10\n",
      "9\n",
      "8\n",
      "7\n",
      "6\n",
      "5\n",
      "4\n",
      "3\n",
      "2\n",
      "1\n",
      "0\n"
     ]
    }
   ],
   "source": [
    "for number in range(10,-1,-1):\n",
    "    print(number)"
   ]
  },
  {
   "cell_type": "code",
   "execution_count": 9,
   "id": "3091a92c-d066-4cdc-a318-2a67827b0594",
   "metadata": {},
   "outputs": [
    {
     "name": "stdout",
     "output_type": "stream",
     "text": [
      "*\n",
      "**\n",
      "***\n",
      "****\n",
      "*****\n",
      "******\n",
      "*******\n"
     ]
    }
   ],
   "source": [
    "for i in range(1,8):\n",
    "    print('*'*i)"
   ]
  },
  {
   "cell_type": "code",
   "execution_count": 17,
   "id": "68148611-3b23-49d0-a663-ba5384d60d63",
   "metadata": {},
   "outputs": [
    {
     "name": "stdout",
     "output_type": "stream",
     "text": [
      "\t*\n",
      "\t*\t*\n",
      "\t*\t*\t*\n",
      "\t*\t*\t*\t*\n",
      "\t*\t*\t*\t*\t*\n",
      "\t*\t*\t*\t*\t*\t*\n",
      "\t*\t*\t*\t*\t*\t*\t*\n"
     ]
    }
   ],
   "source": [
    "for i in range (1,8):\n",
    "        print('\\t*'*i)\n",
    "    "
   ]
  },
  {
   "cell_type": "code",
   "execution_count": 18,
   "id": "3a80bdc2-b849-45bb-8eb4-4e303480b500",
   "metadata": {},
   "outputs": [
    {
     "name": "stdout",
     "output_type": "stream",
     "text": [
      "      #\n",
      "     ##\n",
      "    ###\n",
      "   ####\n",
      "  #####\n",
      " ######\n",
      "#######\n"
     ]
    }
   ],
   "source": [
    "for i in range(1, 8):\n",
    "    spaces = \" \" * (7 - i)\n",
    "    hashes = \"#\" * i\n",
    "    print(spaces + hashes)\n"
   ]
  },
  {
   "cell_type": "code",
   "execution_count": 21,
   "id": "d86109ff-3aa1-4594-aa55-20970716e1a3",
   "metadata": {},
   "outputs": [
    {
     "name": "stdout",
     "output_type": "stream",
     "text": [
      " *\n",
      " * *\n",
      " * * *\n",
      " * * * *\n",
      " * * * * *\n",
      " * * * * * *\n",
      " * * * * * * *\n"
     ]
    }
   ],
   "source": [
    "for i in range(1, 8):\n",
    "    spaces = \" \" * (7 - i)\n",
    "    hashes = \"#\" * (2 * i - 1)\n",
    "    print(spaces + hashes + spaces)\n"
   ]
  },
  {
   "cell_type": "code",
   "execution_count": 22,
   "id": "63a6bb27-9805-4300-8f57-00512d2e1040",
   "metadata": {},
   "outputs": [
    {
     "name": "stdout",
     "output_type": "stream",
     "text": [
      "0 X 0 = 0\n",
      "1 X 1 = 1\n",
      "2 X 2 = 4\n",
      "3 X 3 = 9\n",
      "4 X 4 = 16\n",
      "5 X 5 = 25\n",
      "6 X 6 = 36\n",
      "7 X 7 = 49\n",
      "8 X 8 = 64\n",
      "9 X 9 = 81\n",
      "10 X 10 = 100\n"
     ]
    }
   ],
   "source": [
    "for i in range(0,11):\n",
    "    print(i,\"X\",i,\"=\",i*i)"
   ]
  },
  {
   "cell_type": "code",
   "execution_count": 24,
   "id": "856884fd-57da-4f08-8e0f-51c747674a89",
   "metadata": {},
   "outputs": [
    {
     "name": "stdin",
     "output_type": "stream",
     "text": [
      "enter the number 4\n"
     ]
    },
    {
     "name": "stdout",
     "output_type": "stream",
     "text": [
      "0\n",
      "4\n",
      "8\n",
      "12\n",
      "16\n",
      "20\n",
      "24\n",
      "28\n",
      "32\n",
      "36\n",
      "40\n"
     ]
    }
   ],
   "source": [
    "number =int(input(\"enter the number\"))\n",
    "for i in range(11):\n",
    "    print(i*number)"
   ]
  },
  {
   "cell_type": "code",
   "execution_count": 25,
   "id": "47235e4e-d1f4-48db-b720-46182f41c653",
   "metadata": {},
   "outputs": [
    {
     "name": "stdout",
     "output_type": "stream",
     "text": [
      "Python\n",
      "Numpy\n",
      "Pandas\n",
      "Django\n",
      "Flask\n"
     ]
    }
   ],
   "source": [
    "# Iterate through the list, ['Python', 'Numpy','Pandas','Django', 'Flask'] using a for loop and print out the items.\n",
    "skill =  ['Python', 'Numpy','Pandas','Django', 'Flask'] \n",
    "for i in skill :\n",
    "    print(i)"
   ]
  },
  {
   "cell_type": "code",
   "execution_count": 26,
   "id": "99a05abc-653a-4e56-a8b8-d6713221d0d5",
   "metadata": {},
   "outputs": [
    {
     "name": "stdout",
     "output_type": "stream",
     "text": [
      "0\n",
      "2\n",
      "4\n",
      "6\n",
      "8\n",
      "10\n",
      "12\n",
      "14\n",
      "16\n",
      "18\n",
      "20\n",
      "22\n",
      "24\n",
      "26\n",
      "28\n",
      "30\n",
      "32\n",
      "34\n",
      "36\n",
      "38\n",
      "40\n",
      "42\n",
      "44\n",
      "46\n",
      "48\n",
      "50\n",
      "52\n",
      "54\n",
      "56\n",
      "58\n",
      "60\n",
      "62\n",
      "64\n",
      "66\n",
      "68\n",
      "70\n",
      "72\n",
      "74\n",
      "76\n",
      "78\n",
      "80\n",
      "82\n",
      "84\n",
      "86\n",
      "88\n",
      "90\n",
      "92\n",
      "94\n",
      "96\n",
      "98\n",
      "100\n"
     ]
    }
   ],
   "source": [
    "# Use for loop to iterate from 0 to 100 and print only even numbers\n",
    "for i in range(0,101,2):\n",
    "    print(i)"
   ]
  },
  {
   "cell_type": "code",
   "execution_count": 35,
   "id": "dcc25734-3776-445a-9d6a-ca79018dc453",
   "metadata": {},
   "outputs": [
    {
     "name": "stdout",
     "output_type": "stream",
     "text": [
      "1\n",
      "3\n",
      "5\n",
      "7\n",
      "9\n",
      "11\n",
      "13\n",
      "15\n",
      "17\n",
      "19\n",
      "21\n",
      "23\n",
      "25\n",
      "27\n",
      "29\n",
      "31\n",
      "33\n",
      "35\n",
      "37\n",
      "39\n",
      "41\n",
      "43\n",
      "45\n",
      "47\n",
      "49\n",
      "51\n",
      "53\n",
      "55\n",
      "57\n",
      "59\n",
      "61\n",
      "63\n",
      "65\n",
      "67\n",
      "69\n",
      "71\n",
      "73\n",
      "75\n",
      "77\n",
      "79\n",
      "81\n",
      "83\n",
      "85\n",
      "87\n",
      "89\n",
      "91\n",
      "93\n",
      "95\n",
      "97\n",
      "99\n"
     ]
    }
   ],
   "source": [
    "# Use for loop to iterate from 0 to 100 and print only odd numbers\n",
    "for i in range(1,101,2):\n",
    "    print(i)"
   ]
  },
  {
   "cell_type": "code",
   "execution_count": 38,
   "id": "156f1836-2a43-494c-81d2-dd9c34a6b97c",
   "metadata": {},
   "outputs": [
    {
     "name": "stdout",
     "output_type": "stream",
     "text": [
      "[1, 3, 5, 7, 9, 11, 13, 15, 17, 19, 21, 23, 25, 27, 29, 31, 33, 35, 37, 39, 41, 43, 45, 47, 49, 51, 53, 55, 57, 59, 61, 63, 65, 67, 69, 71, 73, 75, 77, 79, 81, 83, 85, 87, 89, 91, 93, 95, 97, 99]\n"
     ]
    }
   ],
   "source": [
    "# convert in list\n",
    "lists = [number for number in range(1,101,2)]\n",
    "print(lists)"
   ]
  },
  {
   "cell_type": "code",
   "execution_count": 48,
   "id": "066eecf8-d404-4537-82e2-ead0910f7aa7",
   "metadata": {},
   "outputs": [
    {
     "name": "stdout",
     "output_type": "stream",
     "text": [
      "The sum of all numbers is 5050\n"
     ]
    }
   ],
   "source": [
    "sum_all = 0\n",
    "for number in range(101):\n",
    "    sum_all += number\n",
    "print(\"The sum of all numbers is\", sum_all)"
   ]
  },
  {
   "cell_type": "code",
   "execution_count": 49,
   "id": "7a5412cb-effb-438d-8b27-16504acbf7bb",
   "metadata": {},
   "outputs": [
    {
     "name": "stdout",
     "output_type": "stream",
     "text": [
      "The sum of all evens is 2550 And the sum of all odds is 2500\n"
     ]
    }
   ],
   "source": [
    "sum_even = 0\n",
    "sum_odd = 0\n",
    "for number in range(101):\n",
    "    if number % 2 == 0:\n",
    "        sum_even += number\n",
    "    else:\n",
    "        sum_odd += number\n",
    "print(\"The sum of all evens is\", sum_even, \"And the sum of all odds is\", sum_odd)"
   ]
  },
  {
   "cell_type": "code",
   "execution_count": 54,
   "id": "fad29013-284c-491c-8484-1682eb388e0d",
   "metadata": {},
   "outputs": [
    {
     "name": "stdout",
     "output_type": "stream",
     "text": [
      "['Finland', 'Iceland', 'Ireland', 'Marshall Islands', 'Netherlands', 'New Zealand', 'Poland', 'Solomon Islands', 'Swaziland', 'Switzerland', 'Thailand']\n"
     ]
    }
   ],
   "source": [
    "countries = [\n",
    "  'Afghanistan',\n",
    "  'Albania',\n",
    "  'Algeria',\n",
    "  'Andorra',\n",
    "  'Angola',\n",
    "  'Antigua and Barbuda',\n",
    "  'Argentina',\n",
    "  'Armenia',\n",
    "  'Australia',\n",
    "  'Austria',\n",
    "  'Azerbaijan',\n",
    "  'Bahamas',\n",
    "  'Bahrain',\n",
    "  'Bangladesh',\n",
    "  'Barbados',\n",
    "  'Belarus',\n",
    "  'Belgium',\n",
    "  'Belize',\n",
    "  'Benin',\n",
    "  'Bhutan',\n",
    "  'Bolivia',\n",
    "  'Bosnia and Herzegovina',\n",
    "  'Botswana',\n",
    "  'Brazil',\n",
    "  'Brunei',\n",
    "  'Bulgaria',\n",
    "  'Burkina Faso',\n",
    "  'Burundi',\n",
    "  'Cambodia',\n",
    "  'Cameroon',\n",
    "  'Canada',\n",
    "  'Cape Verde',\n",
    "  'Central African Republic',\n",
    "  'Chad',\n",
    "  'Chile',\n",
    "  'China',\n",
    "  'Colombi',\n",
    "  'Comoros',\n",
    "  'Congo (Brazzaville)',\n",
    "  'Congo',\n",
    "  'Costa Rica',\n",
    "  \"Cote d'Ivoire\",\n",
    "  'Croatia',\n",
    "  'Cuba',\n",
    "  'Cyprus',\n",
    "  'Czech Republic',\n",
    "  'Denmark',\n",
    "  'Djibouti',\n",
    "  'Dominica',\n",
    "  'Dominican Republic',\n",
    "  'East Timor (Timor Timur)',\n",
    "  'Ecuador',\n",
    "  'Egypt',\n",
    "  'El Salvador',\n",
    "  'Equatorial Guinea',\n",
    "  'Eritrea',\n",
    "  'Estonia',\n",
    "  'Ethiopia',\n",
    "  'Fiji',\n",
    "  'Finland',\n",
    "  'France',\n",
    "  'Gabon',\n",
    "  'Gambia, The',\n",
    "  'Georgia',\n",
    "  'Germany',\n",
    "  'Ghana',\n",
    "  'Greece',\n",
    "  'Grenada',\n",
    "  'Guatemala',\n",
    "  'Guinea',\n",
    "  'Guinea-Bissau',\n",
    "  'Guyana',\n",
    "  'Haiti',\n",
    "  'Honduras',\n",
    "  'Hungary',\n",
    "  'Iceland',\n",
    "  'India',\n",
    "  'Indonesia',\n",
    "  'Iran',\n",
    "  'Iraq',\n",
    "  'Ireland',\n",
    "  'Israel',\n",
    "  'Italy',\n",
    "  'Jamaica',\n",
    "  'Japan',\n",
    "  'Jordan',\n",
    "  'Kazakhstan',\n",
    "  'Kenya',\n",
    "  'Kiribati',\n",
    "  'Korea, North',\n",
    "  'Korea, South',\n",
    "  'Kuwait',\n",
    "  'Kyrgyzstan',\n",
    "  'Laos',\n",
    "  'Latvia',\n",
    "  'Lebanon',\n",
    "  'Lesotho',\n",
    "  'Liberia',\n",
    "  'Libya',\n",
    "  'Liechtenstein',\n",
    "  'Lithuania',\n",
    "  'Luxembourg',\n",
    "  'Macedonia',\n",
    "  'Madagascar',\n",
    "  'Malawi',\n",
    "  'Malaysia',\n",
    "  'Maldives',\n",
    "  'Mali',\n",
    "  'Malta',\n",
    "  'Marshall Islands',\n",
    "  'Mauritania',\n",
    "  'Mauritius',\n",
    "  'Mexico',\n",
    "  'Micronesia',\n",
    "  'Moldova',\n",
    "  'Monaco',\n",
    "  'Mongolia',\n",
    "  'Morocco',\n",
    "  'Mozambique',\n",
    "  'Myanmar',\n",
    "  'Namibia',\n",
    "  'Nauru',\n",
    "  'Nepal',\n",
    "  'Netherlands',\n",
    "  'New Zealand',\n",
    "  'Nicaragua',\n",
    "  'Niger',\n",
    "  'Nigeria',\n",
    "  'Norway',\n",
    "  'Oman',\n",
    "  'Pakistan',\n",
    "  'Palau',\n",
    "  'Panama',\n",
    "  'Papua New Guinea',\n",
    "  'Paraguay',\n",
    "  'Peru',\n",
    "  'Philippines',\n",
    "  'Poland',\n",
    "  'Portugal',\n",
    "  'Qatar',\n",
    "  'Romania',\n",
    "  'Russia',\n",
    "  'Rwanda',\n",
    "  'Saint Kitts and Nevis',\n",
    "  'Saint Lucia',\n",
    "  'Saint Vincent',\n",
    "  'Samoa',\n",
    "  'San Marino',\n",
    "  'Sao Tome and Principe',\n",
    "  'Saudi Arabia',\n",
    "  'Senegal',\n",
    "  'Serbia and Montenegro',\n",
    "  'Seychelles',\n",
    "  'Sierra Leone',\n",
    "  'Singapore',\n",
    "  'Slovakia',\n",
    "  'Slovenia',\n",
    "  'Solomon Islands',\n",
    "  'Somalia',\n",
    "  'South Africa',\n",
    "  'Spain',\n",
    "  'Sri Lanka',\n",
    "  'Sudan',\n",
    "  'Suriname',\n",
    "  'Swaziland',\n",
    "  'Sweden',\n",
    "  'Switzerland',\n",
    "  'Syria',\n",
    "  'Taiwan',\n",
    "  'Tajikistan',\n",
    "  'Tanzania',\n",
    "  'Thailand',\n",
    "  'Togo',\n",
    "  'Tonga',\n",
    "  'Trinidad and Tobago',\n",
    "  'Tunisia',\n",
    "  'Turkey',\n",
    "  'Turkmenistan',\n",
    "  'Tuvalu',\n",
    "  'Uganda',\n",
    "  'Ukraine',\n",
    "  'United Arab Emirates',\n",
    "  'United Kingdom',\n",
    "  'United States',\n",
    "  'Uruguay',\n",
    "  'Uzbekistan',\n",
    "  'Vanuatu',\n",
    "  'Vatican City',\n",
    "  'Venezuela',\n",
    "  'Vietnam',\n",
    "  'Yemen',\n",
    "  'Zambia',\n",
    "  'Zimbabwe',\n",
    "]\n",
    "\n",
    "lists = [ country for country in countries if 'land' in country.lower()]\n",
    "print(lists)"
   ]
  },
  {
   "cell_type": "code",
   "execution_count": 53,
   "id": "bcc281b5-c610-4580-bc0e-ffa4f6699772",
   "metadata": {},
   "outputs": [
    {
     "name": "stdout",
     "output_type": "stream",
     "text": [
      "['Finland', 'Iceland', 'Ireland', 'Marshall Islands', 'Netherlands', 'New Zealand', 'Poland', 'Solomon Islands', 'Swaziland', 'Switzerland', 'Thailand']\n"
     ]
    }
   ],
   "source": [
    "countries_with_land = [country for country in countries if 'land' in country.lower()]\n",
    "print(countries_with_land)\n"
   ]
  },
  {
   "cell_type": "code",
   "execution_count": 55,
   "id": "ea9323d1-cf30-4e46-9e71-2fe927356b2c",
   "metadata": {},
   "outputs": [
    {
     "name": "stdout",
     "output_type": "stream",
     "text": [
      "lemon\n",
      "mango\n",
      "orange\n",
      "banana\n"
     ]
    }
   ],
   "source": [
    "# This is a fruit list, ['banana', 'orange', 'mango', 'lemon'] reverse the order using loop.\n",
    "fruits = ['banana', 'orange', 'mango', 'lemon']\n",
    "\n",
    "for i in range(len(fruits) - 1, -1, -1):\n",
    "    print(fruits[i])\n"
   ]
  },
  {
   "cell_type": "code",
   "execution_count": 2,
   "id": "927ddf70-b1c9-47d0-b3c3-7abc72b57565",
   "metadata": {},
   "outputs": [],
   "source": [
    "day =[\n",
    "    {\n",
    "        \"name\": \"Afghanistan\",\n",
    "        \"capital\": \"Kabul\",\n",
    "        \"languages\": [\n",
    "            \"Pashto\",\n",
    "            \"Uzbek\",\n",
    "            \"Turkmen\"\n",
    "        ],\n",
    "        \"population\": 27657145,\n",
    "        \"flag\": \"https://restcountries.eu/data/afg.svg\",\n",
    "        \"currency\": \"Afghan afghani\"\n",
    "    },\n",
    "    {\n",
    "        \"name\": \"Åland Islands\",\n",
    "        \"capital\": \"Mariehamn\",\n",
    "        \"languages\": [\n",
    "            \"Swedish\"\n",
    "        ],\n",
    "        \"population\": 28875,\n",
    "        \"flag\": \"https://restcountries.eu/data/ala.svg\",\n",
    "        \"currency\": \"Euro\"\n",
    "    },\n",
    "    {\n",
    "        \"name\": \"Albania\",\n",
    "        \"capital\": \"Tirana\",\n",
    "        \"languages\": [\n",
    "            \"Albanian\"\n",
    "        ],\n",
    "        \"population\": 2886026,\n",
    "        \"flag\": \"https://restcountries.eu/data/alb.svg\",\n",
    "        \"currency\": \"Albanian lek\"\n",
    "    },\n",
    "    {\n",
    "        \"name\": \"Algeria\",\n",
    "        \"capital\": \"Algiers\",\n",
    "        \"languages\": [\n",
    "            \"Arabic\"\n",
    "        ],\n",
    "        \"population\": 40400000,\n",
    "        \"flag\": \"https://restcountries.eu/data/dza.svg\",\n",
    "        \"currency\": \"Algerian dinar\"\n",
    "    },\n",
    "    {\n",
    "        \"name\": \"American Samoa\",\n",
    "        \"capital\": \"Pago Pago\",\n",
    "        \"languages\": [\n",
    "            \"English\",\n",
    "            \"Samoan\"\n",
    "        ],\n",
    "        \"population\": 57100,\n",
    "        \"flag\": \"https://restcountries.eu/data/asm.svg\",\n",
    "        \"currency\": \"United State Dollar\"\n",
    "    },\n",
    "    {\n",
    "        \"name\": \"Andorra\",\n",
    "        \"capital\": \"Andorra la Vella\",\n",
    "        \"languages\": [\n",
    "            \"Catalan\"\n",
    "        ],\n",
    "        \"population\": 78014,\n",
    "        \"flag\": \"https://restcountries.eu/data/and.svg\",\n",
    "        \"currency\": \"Euro\"\n",
    "    },\n",
    "    {\n",
    "        \"name\": \"Angola\",\n",
    "        \"capital\": \"Luanda\",\n",
    "        \"languages\": [\n",
    "            \"Portuguese\"\n",
    "        ],\n",
    "        \"population\": 25868000,\n",
    "        \"flag\": \"https://restcountries.eu/data/ago.svg\",\n",
    "        \"currency\": \"Angolan kwanza\"\n",
    "    },\n",
    "    {\n",
    "        \"name\": \"Anguilla\",\n",
    "        \"capital\": \"The Valley\",\n",
    "        \"languages\": [\n",
    "            \"English\"\n",
    "        ],\n",
    "        \"population\": 13452,\n",
    "        \"flag\": \"https://restcountries.eu/data/aia.svg\",\n",
    "        \"currency\": \"East Caribbean dollar\"\n",
    "    },\n",
    "    {\n",
    "        \"name\": \"Antarctica\",\n",
    "        \"capital\": \"\",\n",
    "        \"languages\": [\n",
    "            \"English\",\n",
    "            \"Russian\"\n",
    "        ],\n",
    "        \"population\": 1000,\n",
    "        \"flag\": \"https://restcountries.eu/data/ata.svg\",\n",
    "        \"currency\": \"Australian dollar\"\n",
    "    },\n",
    "    {\n",
    "        \"name\": \"Antigua and Barbuda\",\n",
    "        \"capital\": \"Saint John's\",\n",
    "        \"languages\": [\n",
    "            \"English\"\n",
    "        ],\n",
    "        \"population\": 86295,\n",
    "        \"flag\": \"https://restcountries.eu/data/atg.svg\",\n",
    "        \"currency\": \"East Caribbean dollar\"\n",
    "    },\n",
    "    {\n",
    "        \"name\": \"Argentina\",\n",
    "        \"capital\": \"Buenos Aires\",\n",
    "        \"languages\": [\n",
    "            \"Spanish\",\n",
    "            \"Guaraní\"\n",
    "        ],\n",
    "        \"population\": 43590400,\n",
    "        \"flag\": \"https://restcountries.eu/data/arg.svg\",\n",
    "        \"currency\": \"Argentine peso\"\n",
    "    }\n",
    "]\n",
    "\n"
   ]
  },
  {
   "cell_type": "code",
   "execution_count": 6,
   "id": "4c8b60a3-b706-41cb-b52c-d36d0051da8e",
   "metadata": {},
   "outputs": [
    {
     "name": "stdout",
     "output_type": "stream",
     "text": [
      "Total number of languages in the data: 13\n",
      "Ten most spoken languages:\n",
      "English - 4\n",
      "Pashto - 1\n",
      "Uzbek - 1\n",
      "Turkmen - 1\n",
      "Swedish - 1\n",
      "Albanian - 1\n",
      "Arabic - 1\n",
      "Samoan - 1\n",
      "Catalan - 1\n",
      "Portuguese - 1\n",
      "\n",
      "Ten most populated countries:\n",
      "Argentina - 43590400\n",
      "Algeria - 40400000\n",
      "Afghanistan - 27657145\n",
      "Angola - 25868000\n",
      "Albania - 2886026\n",
      "Antigua and Barbuda - 86295\n",
      "Andorra - 78014\n",
      "American Samoa - 57100\n",
      "Åland Islands - 28875\n",
      "Anguilla - 13452\n"
     ]
    }
   ],
   "source": [
    "# What are the total number of languages in the data\n",
    "#Find the ten most spoken languages from the data\n",
    "#Find the 10 most populated countries in the worldxtracting all languages from the data\n",
    "\n",
    "\n",
    "all_languages = []\n",
    "for country in day:\n",
    "    all_languages.extend(country['languages'])\n",
    "\n",
    "# Total number of languages in the data\n",
    "total_languages = len(set(all_languages))\n",
    "print(\"Total number of languages in the data:\", total_languages)\n",
    "\n",
    "# Counting the occurrences of each language\n",
    "language_counts = {}\n",
    "for language in all_languages:\n",
    "    language_counts[language] = language_counts.get(language, 0) + 1\n",
    "\n",
    "# Finding the ten most spoken languages\n",
    "most_spoken_languages = sorted(language_counts.items(), key=lambda x: x[1], reverse=True)[:10]\n",
    "print(\"Ten most spoken languages:\")\n",
    "for language, count in most_spoken_languages:\n",
    "    print(language, \"-\", count)\n",
    "\n",
    "# Finding the 10 most populated countries\n",
    "most_populated_countries = sorted(day, key=lambda x: x['population'], reverse=True)[:10]\n",
    "print(\"\\nTen most populated countries:\")\n",
    "for country in most_populated_countries:\n",
    "    print(country['name'], \"-\", country['population'])\n"
   ]
  },
  {
   "cell_type": "code",
   "execution_count": null,
   "id": "8bbf12e3-32d3-47bf-878c-5fa8d7b03c25",
   "metadata": {},
   "outputs": [],
   "source": []
  }
 ],
 "metadata": {
  "kernelspec": {
   "display_name": "Python 3 (ipykernel)",
   "language": "python",
   "name": "python3"
  },
  "language_info": {
   "codemirror_mode": {
    "name": "ipython",
    "version": 3
   },
   "file_extension": ".py",
   "mimetype": "text/x-python",
   "name": "python",
   "nbconvert_exporter": "python",
   "pygments_lexer": "ipython3",
   "version": "3.11.7"
  }
 },
 "nbformat": 4,
 "nbformat_minor": 5
}
