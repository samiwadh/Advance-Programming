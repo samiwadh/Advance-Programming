{
 "cells": [
  {
   "cell_type": "raw",
   "id": "cd7d8d9b-6552-4cfc-ab52-30e32f924432",
   "metadata": {},
   "source": [
    "                                Exercises: Day 9\n",
    "Exercises: Level 1\n",
    "Get user input using input(“Enter your age: ”). If user is 18 or older, give feedback: You are old enough to drive. If below 18 give feedback to wait for the missing amount of years. Output:\n",
    "                                                                                                                                                     \n",
    "Enter your age: 30\n",
    "You are old enough to learn to drive.\n",
    "Output:\n",
    "Enter your age: 15\n",
    "You need 3 more years to learn to drive."
   ]
  },
  {
   "cell_type": "code",
   "execution_count": 1,
   "id": "9ffce8b8-b5ff-4cdf-bb00-aa9340087ba6",
   "metadata": {},
   "outputs": [],
   "source": [
    "                                        # Exercises: Level 1"
   ]
  },
  {
   "cell_type": "code",
   "execution_count": null,
   "id": "2e1b3918-daaa-478d-a014-1e048ec06d6f",
   "metadata": {},
   "outputs": [],
   "source": [
    "# 1. Get user input using input(“Enter your age: ”). If user is 18 or older, give feedback: You are old enough to drive. If below 18 give feedback to wait for the missing amount of years.\n",
    "\n",
    "age = int(input('Enter the age'))\n",
    "remaining = 18 - age\n",
    "if age > 18 :\n",
    "    print('You are old enough to drive')\n",
    "elif age < 18:\n",
    "    print('wait for the ',remaining,' of years')"
   ]
  },
  {
   "cell_type": "raw",
   "id": "f5fdc816-9e01-49fe-8977-f4039352704a",
   "metadata": {},
   "source": [
    "Compare the values of my_age and your_age using if … else. Who is older (me or you)? Use input(“Enter your age: ”) to get the age as input. You can use a nested condition to print 'year' for 1 year difference in age, 'years' for bigger differences, and a custom text if my_age = your_age. Output:\n",
    "Enter your age: 30\n",
    "You are 5 years older than me."
   ]
  },
  {
   "cell_type": "code",
   "execution_count": 28,
   "id": "2f29ce99-66b2-416e-962a-cc7969881229",
   "metadata": {},
   "outputs": [
    {
     "ename": "IndentationError",
     "evalue": "unindent does not match any outer indentation level (<tokenize>, line 9)",
     "output_type": "error",
     "traceback": [
      "\u001b[0;36m  File \u001b[0;32m<tokenize>:9\u001b[0;36m\u001b[0m\n\u001b[0;31m    else:\u001b[0m\n\u001b[0m    ^\u001b[0m\n\u001b[0;31mIndentationError\u001b[0m\u001b[0;31m:\u001b[0m unindent does not match any outer indentation level\n"
     ]
    }
   ],
   "source": [
    "#2 . Compare the values of my_age and your_age using if … else. Who is older (me or you)? Use input(“Enter your age: ”) to get the age as input. You can use a nested condition to print 'year' for 1 year difference in age, 'years' for bigger differences, and a custom text if my_age = your_age. \n",
    "my_age = 22\n",
    "your_age = int(input('Enter your age = '))\n",
    "age_difference = my_age - your_age\n",
    "\n",
    "if my_age < your_age:\n",
    "    if age_difference == 1:\n",
    "        print(\"You are 1 year older than me \")\n",
    "    else:\n",
    "        print(\"You are\", age_difference, \"years older than me.\")\n",
    "        \n",
    "elif my_age> your_age:\n",
    "    if age_difference == 1:\n",
    "        print('I am 1 year older than you')\n",
    "    else :\n",
    "        print(\"I am\", age_difference, \"years older than you.\")\n",
    "else:\n",
    "    print(\"We are of the same age!\")"
   ]
  },
  {
   "cell_type": "raw",
   "id": "ef90dde8-6537-456d-9b7f-12fdf93e279d",
   "metadata": {},
   "source": [
    "Get two numbers from the user using input prompt. If a is greater than b return a is greater than b, if a is less b return a is smaller than b, else a is equal to b. Output:\n",
    "Enter number one: 4\n",
    "Enter number two: 3\n",
    "4 is greater than 3"
   ]
  },
  {
   "cell_type": "code",
   "execution_count": 31,
   "id": "8af328ba-42ad-45fc-821a-c4a29787d2ab",
   "metadata": {},
   "outputs": [
    {
     "name": "stdin",
     "output_type": "stream",
     "text": [
      "Enter number =  1\n",
      "Enter number =  1\n"
     ]
    },
    {
     "name": "stdout",
     "output_type": "stream",
     "text": [
      "a is equal b\n"
     ]
    }
   ],
   "source": [
    "# 3. Get two numbers from the user using input prompt. If a is greater than b return a is greater than b, if a is less b return a is smaller than b, else a is equal to b. \n",
    "a = int(input('Enter number = '))\n",
    "b = int(input('Enter number = '))\n",
    "\n",
    "if a > b:\n",
    "    print('a is greater than b')\n",
    "elif b > a :\n",
    "    print('a is smaller than b')\n",
    "else :\n",
    "    print('a is equal b')"
   ]
  },
  {
   "cell_type": "code",
   "execution_count": null,
   "id": "77ce90a6-c29f-40ad-866d-4211dc8d555e",
   "metadata": {},
   "outputs": [],
   "source": [
    "                                                                # Exercises: Level 2\n"
   ]
  },
  {
   "cell_type": "raw",
   "id": "24b7b412-7f9f-4e23-b553-851ecef5b24b",
   "metadata": {},
   "source": [
    "Write a code which gives grade to students according to theirs scores:\n",
    "\n",
    "80-100, A\n",
    "70-89, B\n",
    "60-69, C\n",
    "50-59, D\n",
    "0-49, F"
   ]
  },
  {
   "cell_type": "code",
   "execution_count": 6,
   "id": "315b1420-5082-4aeb-bcf3-28ec0232bc5a",
   "metadata": {},
   "outputs": [
    {
     "name": "stdin",
     "output_type": "stream",
     "text": [
      "Enter number =  47\n"
     ]
    },
    {
     "name": "stdout",
     "output_type": "stream",
     "text": [
      "Grade F\n"
     ]
    }
   ],
   "source": [
    "# 1  Write a code which gives grade to students according to theirs scores\n",
    "score = int(input('Enter number = '))\n",
    "if ( score >= 80 and score <= 100 ):\n",
    "    print('Grade = A')\n",
    "elif (score >= 70 and score <= 79):\n",
    "    print('Grade B')\n",
    "elif (score >= 60 and score <= 69):\n",
    "    print('Grade C')\n",
    "elif (score >= 50 and score <= 59):\n",
    "    print('Grade D')\n",
    "elif (score >= 0 and score <= 49):\n",
    "    print('Grade F')"
   ]
  },
  {
   "cell_type": "code",
   "execution_count": 14,
   "id": "dcdfcf4b-12ca-4daa-b9ca-fec6587ec6d1",
   "metadata": {},
   "outputs": [
    {
     "name": "stdin",
     "output_type": "stream",
     "text": [
      "enter the month =  d\n"
     ]
    },
    {
     "name": "stdout",
     "output_type": "stream",
     "text": [
      "the season Invalid input\n"
     ]
    }
   ],
   "source": [
    "# 2. Check if the season is Autumn, Winter, Spring or Summer. If the user input is: September, October or November, the season is Autumn. December, January or February, the season is Winter. March, April or May, the season is Spring June, July or August, the season is Summer\n",
    "month = input('enter the month = ')\n",
    "if month in ['september', 'october', 'november']:\n",
    "    season = 'Autumn'\n",
    "elif month in ['december', 'january', 'february']:\n",
    "    season = 'Winter'\n",
    "elif month in ['march', 'april', 'may']:\n",
    "    season = 'Spring'\n",
    "elif month in ['june', 'july', 'august']:\n",
    "    season = 'Summer'\n",
    "else:\n",
    "    season = 'Invalid input'\n",
    "    \n",
    "print('the season',season)"
   ]
  },
  {
   "cell_type": "raw",
   "id": "ec701623-0bd2-45b5-a69a-243435b9ecb9",
   "metadata": {},
   "source": [
    "The following list contains some fruits:\n",
    "\n",
    "fruits = ['banana', 'orange', 'mango', 'lemon']\n",
    "If a fruit doesn't exist in the list add the fruit to the list and print the modified list. If the fruit exists print('That fruit already exist in the list')"
   ]
  },
  {
   "cell_type": "code",
   "execution_count": 18,
   "id": "a119bd5f-2b26-4844-be26-895f8da4cec8",
   "metadata": {},
   "outputs": [
    {
     "name": "stdin",
     "output_type": "stream",
     "text": [
      "enter the fruit apple\n"
     ]
    },
    {
     "name": "stdout",
     "output_type": "stream",
     "text": [
      "Modified list: ['banana', 'orange', 'mango', 'lemon', 'apple']\n"
     ]
    }
   ],
   "source": [
    "# 3. The following list contains some fruits:\n",
    "find_fruits = input('enter the fruit')\n",
    "\n",
    "fruits = ['banana', 'orange', 'mango', 'lemon']\n",
    "if find_fruits not in fruits:\n",
    "    fruits.append(find_fruits)\n",
    "    print(\"Modified list:\", fruits)\n",
    "else : \n",
    "    print('does exist')"
   ]
  },
  {
   "cell_type": "raw",
   "id": "0f6e4979-0a4c-4a64-983a-5f18b2c350e6",
   "metadata": {},
   "source": [
    "Exercises: Level 3\n",
    "Here we have a person dictionary. Feel free to modify it!\n",
    "\n",
    "        person={\n",
    "    'first_name': 'Asabeneh',\n",
    "    'last_name': 'Yetayeh',\n",
    "    'age': 250,\n",
    "    'country': 'Finland',\n",
    "    'is_marred': True,\n",
    "    'skills': ['JavaScript', 'React', 'Node', 'MongoDB', 'Python'],\n",
    "    'address': {\n",
    "        'street': 'Space street',\n",
    "        'zipcode': '02210'\n",
    "    }\n",
    "    }\n",
    " * Check if the person dictionary has skills key, if so print out the middle skill in the skills list.\n",
    " * Check if the person dictionary has skills key, if so check if the person has 'Python' skill and print out the result.\n",
    " * If a person skills has only JavaScript and React, print('He is a front end developer'), if the person skills has Node, Python, MongoDB, print('He is a backend developer'), if the person skills has React, Node and MongoDB, Print('He is a fullstack developer'), else print('unknown title') - for more accurate results more conditions can be nested!\n",
    " * If the person is married and if he lives in Finland, print the information in the following format:"
   ]
  },
  {
   "cell_type": "code",
   "execution_count": 19,
   "id": "d09ca259-9f31-471d-a604-99f9323221b5",
   "metadata": {},
   "outputs": [],
   "source": [
    "                                                    #    Exercises: Level 3"
   ]
  },
  {
   "cell_type": "code",
   "execution_count": 2,
   "id": "4840d998-799f-4f84-a198-1c14ed153214",
   "metadata": {},
   "outputs": [
    {
     "name": "stdout",
     "output_type": "stream",
     "text": [
      "Middle skill: Node\n"
     ]
    }
   ],
   "source": [
    "#1 Check if the person dictionary has skills key, if so print out the middle skill in the skills list.\n",
    "person={\n",
    "    'first_name': 'Asabeneh',\n",
    "    'last_name': 'Yetayeh',\n",
    "    'age': 250,\n",
    "    'country': 'Finland',\n",
    "    'is_marred': True,\n",
    "    'skills': ['JavaScript', 'React', 'Node', 'MongoDB', 'Python'],\n",
    "    'address': {\n",
    "        'street': 'Space street',\n",
    "        'zipcode': '02210'\n",
    "    }\n",
    "    }\n",
    "if 'skills' in person:\n",
    "    skills_list = person['skills']\n",
    "    middle_index = len(skills_list) // 2\n",
    "    print(\"Middle skill:\", skills_list[middle_index])\n",
    "else:\n",
    "    print(\"The person dictionary does not have a 'skills' key\")"
   ]
  },
  {
   "cell_type": "code",
   "execution_count": 3,
   "id": "46f209b2-92b0-4444-87e2-2ad3baf4898f",
   "metadata": {},
   "outputs": [
    {
     "name": "stdout",
     "output_type": "stream",
     "text": [
      "True Python\n"
     ]
    }
   ],
   "source": [
    "#2 Check if the person dictionary has skills key, if so check if the person has 'Python' skill and print out the result.\n",
    "if 'skills' in person:\n",
    "    s ='Python' in person['skills']\n",
    "    print(s,'Python')\n",
    "else:\n",
    "    print('Fas=lses,')"
   ]
  },
  {
   "cell_type": "code",
   "execution_count": 4,
   "id": "07132ee9-65c0-446e-98b8-e01945b232ff",
   "metadata": {},
   "outputs": [
    {
     "name": "stdout",
     "output_type": "stream",
     "text": [
      "The person has the 'Python' skill.\n"
     ]
    }
   ],
   "source": [
    "if 'skills' in person:\n",
    "    # Check if 'Python' exists in the skills list\n",
    "    if 'Python' in person['skills']:\n",
    "        print(\"The person has the 'Python' skill.\")\n",
    "    else:\n",
    "        print(\"The person does not have the 'Python' skill.\")\n",
    "else:\n",
    "    print(\"The person dictionary does not have a 'skills' key.\")"
   ]
  },
  {
   "cell_type": "code",
   "execution_count": 5,
   "id": "c02d7224-b931-426e-991a-9247d1366de9",
   "metadata": {},
   "outputs": [
    {
     "ename": "KeyError",
     "evalue": "'is_married'",
     "output_type": "error",
     "traceback": [
      "\u001b[0;31m---------------------------------------------------------------------------\u001b[0m",
      "\u001b[0;31mKeyError\u001b[0m                                  Traceback (most recent call last)",
      "Cell \u001b[0;32mIn[5], line 2\u001b[0m\n\u001b[1;32m      1\u001b[0m \u001b[38;5;66;03m# Check if the person is married and lives in Finland\u001b[39;00m\n\u001b[0;32m----> 2\u001b[0m \u001b[38;5;28;01mif\u001b[39;00m person[\u001b[38;5;124m'\u001b[39m\u001b[38;5;124mis_married\u001b[39m\u001b[38;5;124m'\u001b[39m] \u001b[38;5;129;01mand\u001b[39;00m person[\u001b[38;5;124m'\u001b[39m\u001b[38;5;124mcountry\u001b[39m\u001b[38;5;124m'\u001b[39m] \u001b[38;5;241m==\u001b[39m \u001b[38;5;124m'\u001b[39m\u001b[38;5;124mFinland\u001b[39m\u001b[38;5;124m'\u001b[39m:\n\u001b[1;32m      3\u001b[0m     \u001b[38;5;66;03m# Print the information in the specified format\u001b[39;00m\n\u001b[1;32m      4\u001b[0m     \u001b[38;5;28mprint\u001b[39m(\u001b[38;5;124mf\u001b[39m\u001b[38;5;124m\"\u001b[39m\u001b[38;5;132;01m{\u001b[39;00mperson[\u001b[38;5;124m'\u001b[39m\u001b[38;5;124mfirst_name\u001b[39m\u001b[38;5;124m'\u001b[39m]\u001b[38;5;132;01m}\u001b[39;00m\u001b[38;5;124m \u001b[39m\u001b[38;5;132;01m{\u001b[39;00mperson[\u001b[38;5;124m'\u001b[39m\u001b[38;5;124mlast_name\u001b[39m\u001b[38;5;124m'\u001b[39m]\u001b[38;5;132;01m}\u001b[39;00m\u001b[38;5;124m lives in \u001b[39m\u001b[38;5;132;01m{\u001b[39;00mperson[\u001b[38;5;124m'\u001b[39m\u001b[38;5;124mcountry\u001b[39m\u001b[38;5;124m'\u001b[39m]\u001b[38;5;132;01m}\u001b[39;00m\u001b[38;5;124m. He is married.\u001b[39m\u001b[38;5;124m\"\u001b[39m)\n\u001b[1;32m      5\u001b[0m     \u001b[38;5;66;03m# Check the person's skills and print the corresponding title\u001b[39;00m\n",
      "\u001b[0;31mKeyError\u001b[0m: 'is_married'"
     ]
    }
   ],
   "source": [
    "# Check if the person is married and lives in Finland\n",
    "if person['is_married'] and person['country'] == 'Finland':\n",
    "    # Print the information in the specified format\n",
    "    print(f\"{person['first_name']} {person['last_name']} lives in {person['country']}. He is married.\")\n",
    "    # Check the person's skills and print the corresponding title\n",
    "    if set(person['skills']) == {'JavaScript', 'React'}:\n",
    "        print(\"He is a front end developer\")\n",
    "    elif set(person['skills']) == {'Node', 'Python', 'MongoDB'}:\n",
    "        print(\"He is a backend developer\")\n",
    "    elif set(person['skills']) == {'React', 'Node', 'MongoDB'}:\n",
    "        print(\"He is a fullstack developer\")\n",
    "    else:\n",
    "        print(\"Unknown title\")\n",
    "else:\n",
    "    print(\"The person is not married and/or does not live in Finland\")"
   ]
  },
  {
   "cell_type": "code",
   "execution_count": null,
   "id": "39017563-a5f3-4fc6-bc41-33116e42c368",
   "metadata": {},
   "outputs": [],
   "source": []
  }
 ],
 "metadata": {
  "kernelspec": {
   "display_name": "Python 3 (ipykernel)",
   "language": "python",
   "name": "python3"
  },
  "language_info": {
   "codemirror_mode": {
    "name": "ipython",
    "version": 3
   },
   "file_extension": ".py",
   "mimetype": "text/x-python",
   "name": "python",
   "nbconvert_exporter": "python",
   "pygments_lexer": "ipython3",
   "version": "3.11.7"
  }
 },
 "nbformat": 4,
 "nbformat_minor": 5
}
