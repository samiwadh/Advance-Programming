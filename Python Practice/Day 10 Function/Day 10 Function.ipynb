{
 "cells": [
  {
   "cell_type": "code",
   "execution_count": 2,
   "id": "594349df-f7ea-4131-ae9f-a075ba18e1ae",
   "metadata": {},
   "outputs": [
    {
     "name": "stdout",
     "output_type": "stream",
     "text": [
      "sum = 25\n"
     ]
    }
   ],
   "source": [
    "# Declare a function add_two_numbers. It takes two parameters and it returns a sum.\n",
    "def add_two_number(num1,num2):\n",
    "    sum = num1 + num2\n",
    "    return sum\n",
    "print('sum =',add_two_number(23,2))"
   ]
  },
  {
   "cell_type": "code",
   "execution_count": 9,
   "id": "95b835db-5cd4-4723-a07f-40e4d3dea0b5",
   "metadata": {},
   "outputs": [
    {
     "name": "stdout",
     "output_type": "stream",
     "text": [
      "25\n"
     ]
    }
   ],
   "source": [
    "# Area of a circle is calculated as follows: area = π x r x r. Write a function that calculates area_of_circle.\n",
    "def area_of_circle(pi,r):\n",
    "    area = pi * r**2\n",
    "    return area\n",
    "print(area_of_circle(1,5))"
   ]
  },
  {
   "cell_type": "code",
   "execution_count": 10,
   "id": "68ce2f42-7ef7-4a26-94b1-815b2d2c63a6",
   "metadata": {},
   "outputs": [
    {
     "name": "stdout",
     "output_type": "stream",
     "text": [
      "15\n",
      "Error: All list items should be numbers\n"
     ]
    }
   ],
   "source": [
    "# Write a function called add_all_nums which takes arbitrary number of arguments and sums all the arguments. Check if all the list items are number types. If not do give a reasonable feedback.\n",
    "def add_all_nums(*args):\n",
    "    total = 0\n",
    "    for arg in args:\n",
    "        if isinstance(arg, (int, float)):\n",
    "            total += arg\n",
    "        else:\n",
    "            return \"Error: All list items should be numbers\"\n",
    "    return total\n",
    "\n",
    "# Example usage\n",
    "print(add_all_nums(1, 2, 3, 4, 5))  # Output: 15\n",
    "print(add_all_nums(1, 2, 'a', 4, 5))  # Output: Error: All list items should be numbers\n"
   ]
  },
  {
   "cell_type": "code",
   "execution_count": 11,
   "id": "502631b6-f37c-41a8-89d7-2d5f9144680c",
   "metadata": {},
   "outputs": [
    {
     "name": "stdout",
     "output_type": "stream",
     "text": [
      "30°C is equal to 86.0°F\n"
     ]
    }
   ],
   "source": [
    "#Temperature in °C can be converted to °F using this formula: °F = (°C x 9/5) + 32. Write a function which converts °C to °F, convert_celsius_to-fahrenheit.\n",
    "def convert_celsius_to_fahrenheit(celsius):\n",
    "    fahrenheit = (celsius * 9/5) + 32\n",
    "    return fahrenheit\n",
    "\n",
    "# Example usage\n",
    "celsius_temperature = 30\n",
    "fahrenheit_temperature = convert_celsius_to_fahrenheit(celsius_temperature)\n",
    "print(f\"{celsius_temperature}°C is equal to {fahrenheit_temperature}°F\")\n"
   ]
  },
  {
   "cell_type": "code",
   "execution_count": null,
   "id": "259b5ca6-0dd5-4517-8b1d-821621ff7cea",
   "metadata": {},
   "outputs": [],
   "source": []
  }
 ],
 "metadata": {
  "kernelspec": {
   "display_name": "Python 3 (ipykernel)",
   "language": "python",
   "name": "python3"
  },
  "language_info": {
   "codemirror_mode": {
    "name": "ipython",
    "version": 3
   },
   "file_extension": ".py",
   "mimetype": "text/x-python",
   "name": "python",
   "nbconvert_exporter": "python",
   "pygments_lexer": "ipython3",
   "version": "3.11.7"
  }
 },
 "nbformat": 4,
 "nbformat_minor": 5
}
